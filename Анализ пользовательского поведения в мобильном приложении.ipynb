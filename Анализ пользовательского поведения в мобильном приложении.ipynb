{
 "cells": [
  {
   "cell_type": "markdown",
   "metadata": {},
   "source": [
    "**Описание проекта**\n",
    "\n",
    "Вы работаете в стартапе, который продаёт продукты питания. Нужно разобраться, как ведут себя пользователи вашего мобильного приложения.\n",
    "\n",
    "Изучите воронку продаж. Узнайте, как пользователи доходят до покупки. Сколько пользователей доходит до покупки, а сколько — «застревает» на предыдущих шагах? На каких именно?\n",
    "\n",
    "После этого исследуйте результаты A/A/B-эксперимента. Дизайнеры захотели поменять шрифты во всём приложении, а менеджеры испугались, что пользователям будет непривычно. Договорились принять решение по результатам A/A/B-теста. Пользователей разбили на 3 группы: 2 контрольные со старыми шрифтами и одну экспериментальную — с новыми. Выясните, какой шрифт лучше.\n",
    "\n",
    "Создание двух групп A вместо одной имеет определённые преимущества. Если две контрольные группы окажутся равны, вы можете быть уверены в точности проведенного тестирования. Если же между значениями A и A будут существенные различия, это поможет обнаружить факторы, которые привели к искажению результатов. Сравнение контрольных групп также помогает понять, сколько времени и данных потребуется для дальнейших тестов."
   ]
  },
  {
   "cell_type": "markdown",
   "metadata": {},
   "source": [
    "**Описание данных**\n",
    "\n",
    "Каждая запись в логе — это действие пользователя, или событие.\n",
    "- `EventName` — название события;\n",
    "- `DeviceIDHash` — уникальный идентификатор пользователя;\n",
    "- `EventTimestamp` — время события;\n",
    "- `ExpId` — номер эксперимента: 246 и 247 — контрольные группы, а 248 — экспериментальная."
   ]
  },
  {
   "cell_type": "markdown",
   "metadata": {},
   "source": [
    "## Подготовка к анализу данных"
   ]
  },
  {
   "cell_type": "code",
   "execution_count": 49,
   "metadata": {},
   "outputs": [],
   "source": [
    "import pandas as pd\n",
    "import datetime as dt\n",
    "import matplotlib.pyplot as plt\n",
    "import plotly.express as px\n",
    "import plotly.graph_objects as go\n",
    "import scipy.stats as st\n",
    "from matplotlib.pyplot import figure"
   ]
  },
  {
   "cell_type": "code",
   "execution_count": 50,
   "metadata": {
    "scrolled": true
   },
   "outputs": [
    {
     "name": "stdout",
     "output_type": "stream",
     "text": [
      "<class 'pandas.core.frame.DataFrame'>\n",
      "RangeIndex: 244126 entries, 0 to 244125\n",
      "Data columns (total 4 columns):\n",
      " #   Column          Non-Null Count   Dtype \n",
      "---  ------          --------------   ----- \n",
      " 0   EventName       244126 non-null  object\n",
      " 1   DeviceIDHash    244126 non-null  int64 \n",
      " 2   EventTimestamp  244126 non-null  int64 \n",
      " 3   ExpId           244126 non-null  int64 \n",
      "dtypes: int64(3), object(1)\n",
      "memory usage: 7.5+ MB\n"
     ]
    },
    {
     "data": {
      "text/html": [
       "<div>\n",
       "<style scoped>\n",
       "    .dataframe tbody tr th:only-of-type {\n",
       "        vertical-align: middle;\n",
       "    }\n",
       "\n",
       "    .dataframe tbody tr th {\n",
       "        vertical-align: top;\n",
       "    }\n",
       "\n",
       "    .dataframe thead th {\n",
       "        text-align: right;\n",
       "    }\n",
       "</style>\n",
       "<table border=\"1\" class=\"dataframe\">\n",
       "  <thead>\n",
       "    <tr style=\"text-align: right;\">\n",
       "      <th></th>\n",
       "      <th>EventName</th>\n",
       "      <th>DeviceIDHash</th>\n",
       "      <th>EventTimestamp</th>\n",
       "      <th>ExpId</th>\n",
       "    </tr>\n",
       "  </thead>\n",
       "  <tbody>\n",
       "    <tr>\n",
       "      <th>0</th>\n",
       "      <td>MainScreenAppear</td>\n",
       "      <td>4575588528974610257</td>\n",
       "      <td>1564029816</td>\n",
       "      <td>246</td>\n",
       "    </tr>\n",
       "    <tr>\n",
       "      <th>1</th>\n",
       "      <td>MainScreenAppear</td>\n",
       "      <td>7416695313311560658</td>\n",
       "      <td>1564053102</td>\n",
       "      <td>246</td>\n",
       "    </tr>\n",
       "    <tr>\n",
       "      <th>2</th>\n",
       "      <td>PaymentScreenSuccessful</td>\n",
       "      <td>3518123091307005509</td>\n",
       "      <td>1564054127</td>\n",
       "      <td>248</td>\n",
       "    </tr>\n",
       "    <tr>\n",
       "      <th>3</th>\n",
       "      <td>CartScreenAppear</td>\n",
       "      <td>3518123091307005509</td>\n",
       "      <td>1564054127</td>\n",
       "      <td>248</td>\n",
       "    </tr>\n",
       "    <tr>\n",
       "      <th>4</th>\n",
       "      <td>PaymentScreenSuccessful</td>\n",
       "      <td>6217807653094995999</td>\n",
       "      <td>1564055322</td>\n",
       "      <td>248</td>\n",
       "    </tr>\n",
       "  </tbody>\n",
       "</table>\n",
       "</div>"
      ],
      "text/plain": [
       "                 EventName         DeviceIDHash  EventTimestamp  ExpId\n",
       "0         MainScreenAppear  4575588528974610257      1564029816    246\n",
       "1         MainScreenAppear  7416695313311560658      1564053102    246\n",
       "2  PaymentScreenSuccessful  3518123091307005509      1564054127    248\n",
       "3         CartScreenAppear  3518123091307005509      1564054127    248\n",
       "4  PaymentScreenSuccessful  6217807653094995999      1564055322    248"
      ]
     },
     "execution_count": 50,
     "metadata": {},
     "output_type": "execute_result"
    }
   ],
   "source": [
    "df = pd.read_csv(r'C:\\Users\\564\\Downloads\\logs_exp.csv', sep='\\t')\n",
    "\n",
    "df.info()\n",
    "df.head()"
   ]
  },
  {
   "cell_type": "code",
   "execution_count": 51,
   "metadata": {},
   "outputs": [
    {
     "data": {
      "text/plain": [
       "413"
      ]
     },
     "execution_count": 51,
     "metadata": {},
     "output_type": "execute_result"
    }
   ],
   "source": [
    "# поиск явных дубликатов\n",
    "df.duplicated().sum()"
   ]
  },
  {
   "cell_type": "code",
   "execution_count": 52,
   "metadata": {},
   "outputs": [
    {
     "data": {
      "text/plain": [
       "0"
      ]
     },
     "execution_count": 52,
     "metadata": {},
     "output_type": "execute_result"
    }
   ],
   "source": [
    "# удаление явных дубликатов\n",
    "df = df.drop_duplicates().reset_index(drop=True)\n",
    "df.duplicated().sum()"
   ]
  },
  {
   "cell_type": "code",
   "execution_count": 53,
   "metadata": {},
   "outputs": [],
   "source": [
    "# меняем названия столбцов\n",
    "df.columns = ['event', 'user_id', 'timestamp', 'exp_id']"
   ]
  },
  {
   "cell_type": "code",
   "execution_count": 54,
   "metadata": {},
   "outputs": [],
   "source": [
    "# меняем тип данных столбца timestamp на datetime\n",
    "df['timestamp'] = pd.to_datetime(df['timestamp'], unit='s')\n",
    "\n",
    "# добавляем столбец с датами\n",
    "df['date'] = df['timestamp'].apply(lambda x:x.date())"
   ]
  },
  {
   "cell_type": "code",
   "execution_count": 55,
   "metadata": {
    "scrolled": true
   },
   "outputs": [
    {
     "data": {
      "text/html": [
       "<div>\n",
       "<style scoped>\n",
       "    .dataframe tbody tr th:only-of-type {\n",
       "        vertical-align: middle;\n",
       "    }\n",
       "\n",
       "    .dataframe tbody tr th {\n",
       "        vertical-align: top;\n",
       "    }\n",
       "\n",
       "    .dataframe thead th {\n",
       "        text-align: right;\n",
       "    }\n",
       "</style>\n",
       "<table border=\"1\" class=\"dataframe\">\n",
       "  <thead>\n",
       "    <tr style=\"text-align: right;\">\n",
       "      <th></th>\n",
       "      <th>event</th>\n",
       "      <th>user_id</th>\n",
       "      <th>timestamp</th>\n",
       "      <th>exp_id</th>\n",
       "      <th>date</th>\n",
       "    </tr>\n",
       "  </thead>\n",
       "  <tbody>\n",
       "    <tr>\n",
       "      <th>0</th>\n",
       "      <td>MainScreenAppear</td>\n",
       "      <td>4575588528974610257</td>\n",
       "      <td>2019-07-25 04:43:36</td>\n",
       "      <td>246</td>\n",
       "      <td>2019-07-25</td>\n",
       "    </tr>\n",
       "    <tr>\n",
       "      <th>1</th>\n",
       "      <td>MainScreenAppear</td>\n",
       "      <td>7416695313311560658</td>\n",
       "      <td>2019-07-25 11:11:42</td>\n",
       "      <td>246</td>\n",
       "      <td>2019-07-25</td>\n",
       "    </tr>\n",
       "    <tr>\n",
       "      <th>2</th>\n",
       "      <td>PaymentScreenSuccessful</td>\n",
       "      <td>3518123091307005509</td>\n",
       "      <td>2019-07-25 11:28:47</td>\n",
       "      <td>248</td>\n",
       "      <td>2019-07-25</td>\n",
       "    </tr>\n",
       "    <tr>\n",
       "      <th>3</th>\n",
       "      <td>CartScreenAppear</td>\n",
       "      <td>3518123091307005509</td>\n",
       "      <td>2019-07-25 11:28:47</td>\n",
       "      <td>248</td>\n",
       "      <td>2019-07-25</td>\n",
       "    </tr>\n",
       "    <tr>\n",
       "      <th>4</th>\n",
       "      <td>PaymentScreenSuccessful</td>\n",
       "      <td>6217807653094995999</td>\n",
       "      <td>2019-07-25 11:48:42</td>\n",
       "      <td>248</td>\n",
       "      <td>2019-07-25</td>\n",
       "    </tr>\n",
       "  </tbody>\n",
       "</table>\n",
       "</div>"
      ],
      "text/plain": [
       "                     event              user_id           timestamp  exp_id  \\\n",
       "0         MainScreenAppear  4575588528974610257 2019-07-25 04:43:36     246   \n",
       "1         MainScreenAppear  7416695313311560658 2019-07-25 11:11:42     246   \n",
       "2  PaymentScreenSuccessful  3518123091307005509 2019-07-25 11:28:47     248   \n",
       "3         CartScreenAppear  3518123091307005509 2019-07-25 11:28:47     248   \n",
       "4  PaymentScreenSuccessful  6217807653094995999 2019-07-25 11:48:42     248   \n",
       "\n",
       "         date  \n",
       "0  2019-07-25  \n",
       "1  2019-07-25  \n",
       "2  2019-07-25  \n",
       "3  2019-07-25  \n",
       "4  2019-07-25  "
      ]
     },
     "execution_count": 55,
     "metadata": {},
     "output_type": "execute_result"
    }
   ],
   "source": [
    "df.head()"
   ]
  },
  {
   "cell_type": "markdown",
   "metadata": {},
   "source": [
    "**Вывод:**\n",
    "\n",
    "Пропусков в данных не обнаружено, дубликаты удалены, тип данных столбца timestamp скорректирован"
   ]
  },
  {
   "cell_type": "markdown",
   "metadata": {},
   "source": [
    "## Изучение и проверка данных"
   ]
  },
  {
   "cell_type": "markdown",
   "metadata": {},
   "source": [
    "### Количество событий в логе"
   ]
  },
  {
   "cell_type": "code",
   "execution_count": 56,
   "metadata": {},
   "outputs": [
    {
     "name": "stdout",
     "output_type": "stream",
     "text": [
      "событий в логе: 243713\n"
     ]
    }
   ],
   "source": [
    "number_of_events = df['event'].count()\n",
    "print('событий в логе:', number_of_events)"
   ]
  },
  {
   "cell_type": "markdown",
   "metadata": {},
   "source": [
    "### Количество пользователей в логе"
   ]
  },
  {
   "cell_type": "code",
   "execution_count": 57,
   "metadata": {},
   "outputs": [
    {
     "name": "stdout",
     "output_type": "stream",
     "text": [
      "пользователей в логе: 7551\n"
     ]
    }
   ],
   "source": [
    "number_of_users = df['user_id'].nunique()\n",
    "print('пользователей в логе:', number_of_users)"
   ]
  },
  {
   "cell_type": "markdown",
   "metadata": {},
   "source": [
    "### Количество событий на пользователя"
   ]
  },
  {
   "cell_type": "code",
   "execution_count": 58,
   "metadata": {},
   "outputs": [
    {
     "name": "stdout",
     "output_type": "stream",
     "text": [
      "событий на пользователя: 32.27559263673685\n"
     ]
    }
   ],
   "source": [
    "print('событий на пользователя:', df['event'].count()/df['user_id'].nunique())"
   ]
  },
  {
   "cell_type": "code",
   "execution_count": 59,
   "metadata": {},
   "outputs": [
    {
     "data": {
      "image/png": "[encoded data removed]",
      "text/plain": [
       "<Figure size 432x288 with 1 Axes>"
      ]
     },
     "metadata": {
      "needs_background": "light"
     },
     "output_type": "display_data"
    }
   ],
   "source": [
    "histogram = df.groupby('user_id')['event'].count().hist(bins=250)\n",
    "histogram.set_xlim([0, 250])\n",
    "plt.title('Количество событий на пользователя', fontsize=13)\n",
    "plt.show()"
   ]
  },
  {
   "cell_type": "markdown",
   "metadata": {},
   "source": [
    "### Изучим временной период"
   ]
  },
  {
   "cell_type": "code",
   "execution_count": 60,
   "metadata": {
    "scrolled": false
   },
   "outputs": [
    {
     "name": "stdout",
     "output_type": "stream",
     "text": [
      "минимальная дата: 2019-07-25\n",
      "максимальная дата: 2019-08-07\n"
     ]
    }
   ],
   "source": [
    "print('минимальная дата:', df['date'].min())\n",
    "print('максимальная дата:', df['date'].max())"
   ]
  },
  {
   "cell_type": "code",
   "execution_count": 61,
   "metadata": {
    "scrolled": false
   },
   "outputs": [
    {
     "data": {
      "image/png": "[encoded data removed]",
      "text/plain": [
       "<Figure size 864x288 with 1 Axes>"
      ]
     },
     "metadata": {
      "needs_background": "light"
     },
     "output_type": "display_data"
    }
   ],
   "source": [
    "df['timestamp'].hist(bins=336, figsize=(12,4))\n",
    "plt.title('Распределение по часам')\n",
    "plt.xticks(rotation=45)\n",
    "plt.show()"
   ]
  },
  {
   "cell_type": "markdown",
   "metadata": {},
   "source": [
    "Полные данные появляются только с 2019-07-31 17:00:00, данные за более ранние даты придется отбросить"
   ]
  },
  {
   "cell_type": "code",
   "execution_count": 62,
   "metadata": {
    "scrolled": true
   },
   "outputs": [
    {
     "data": {
      "text/plain": [
       "8"
      ]
     },
     "execution_count": 62,
     "metadata": {},
     "output_type": "execute_result"
    }
   ],
   "source": [
    "df = df[df['timestamp'] >= '2019-07-31 17:00:00']\n",
    "df['date'].nunique()"
   ]
  },
  {
   "cell_type": "markdown",
   "metadata": {},
   "source": [
    "**Вывод:**\n",
    "\n",
    "Располагаем данными за 7 с половиной дней"
   ]
  },
  {
   "cell_type": "markdown",
   "metadata": {},
   "source": [
    "### Количество отброшенных событий и пользователей"
   ]
  },
  {
   "cell_type": "code",
   "execution_count": 63,
   "metadata": {},
   "outputs": [
    {
     "name": "stdout",
     "output_type": "stream",
     "text": [
      "потеряно событий: 0.7%\n"
     ]
    }
   ],
   "source": [
    "print('потеряно событий:', '{:.1%}'.format((number_of_events - df['event'].count()) / df['event'].count()))"
   ]
  },
  {
   "cell_type": "code",
   "execution_count": 64,
   "metadata": {},
   "outputs": [
    {
     "name": "stdout",
     "output_type": "stream",
     "text": [
      "потеряно пользователей: 0.1%\n"
     ]
    }
   ],
   "source": [
    "print('потеряно пользователей:',\n",
    "'{:.1%}'.format((number_of_users - df['user_id'].nunique()) / df['user_id'].nunique()))"
   ]
  },
  {
   "cell_type": "markdown",
   "metadata": {},
   "source": [
    "### Проверим наличие пользователей из всех трёх экспериментальных групп"
   ]
  },
  {
   "cell_type": "code",
   "execution_count": 65,
   "metadata": {},
   "outputs": [
    {
     "data": {
      "text/plain": [
       "exp_id\n",
       "246    2485\n",
       "247    2517\n",
       "248    2539\n",
       "Name: user_id, dtype: int64"
      ]
     },
     "execution_count": 65,
     "metadata": {},
     "output_type": "execute_result"
    }
   ],
   "source": [
    "df.groupby('exp_id')['user_id'].nunique()"
   ]
  },
  {
   "cell_type": "markdown",
   "metadata": {},
   "source": [
    "246 и 247 — контрольные группы, а 248 — экспериментальная"
   ]
  },
  {
   "cell_type": "markdown",
   "metadata": {},
   "source": [
    "## Изучим воронку событий"
   ]
  },
  {
   "cell_type": "markdown",
   "metadata": {},
   "source": [
    "### Посмотрим, какие события есть в логах и как часто они встречаются"
   ]
  },
  {
   "cell_type": "code",
   "execution_count": 66,
   "metadata": {},
   "outputs": [
    {
     "data": {
      "text/plain": [
       "event\n",
       "MainScreenAppear           118064\n",
       "OffersScreenAppear          46590\n",
       "CartScreenAppear            42410\n",
       "PaymentScreenSuccessful     33990\n",
       "Tutorial                     1010\n",
       "Name: event, dtype: int64"
      ]
     },
     "execution_count": 66,
     "metadata": {},
     "output_type": "execute_result"
    }
   ],
   "source": [
    "df.groupby('event')['event'].count().sort_values(ascending=False)"
   ]
  },
  {
   "cell_type": "markdown",
   "metadata": {},
   "source": [
    "### Посчитаем долю пользователей, которые хоть раз совершали определенное действие"
   ]
  },
  {
   "cell_type": "code",
   "execution_count": 67,
   "metadata": {
    "scrolled": true
   },
   "outputs": [
    {
     "data": {
      "text/plain": [
       "event\n",
       "MainScreenAppear           98.5%\n",
       "OffersScreenAppear         61.0%\n",
       "CartScreenAppear           49.6%\n",
       "PaymentScreenSuccessful    46.9%\n",
       "Tutorial                   11.2%\n",
       "Name: user_id, dtype: object"
      ]
     },
     "execution_count": 67,
     "metadata": {},
     "output_type": "execute_result"
    }
   ],
   "source": [
    "(df.groupby('event')['user_id'].nunique().sort_values(ascending=False)\n",
    "/ df['user_id'].nunique()*100).round(1).astype(str) + '%'"
   ]
  },
  {
   "cell_type": "markdown",
   "metadata": {},
   "source": [
    "Можно предположить, что в большинстве случаев события происходят последовательно, начиная с просмотра главной страницы и заканчивая оплатой товара. Событие Tutorial, судя по количеству, не обязательно для совершения покупки или других действий на сайте. Возможно, на сайте есть способ совершать покупки минуя и другие этапы."
   ]
  },
  {
   "cell_type": "markdown",
   "metadata": {},
   "source": [
    "### Построим воронку событий и посчитаем, какая доля пользователей проходит на следующий шаг воронки (от числа пользователей на предыдущем)"
   ]
  },
  {
   "cell_type": "code",
   "execution_count": 68,
   "metadata": {},
   "outputs": [
    {
     "data": {
      "application/vnd.plotly.v1+json": {
       "config": {
        "plotlyServerURL": "https://plot.ly"
       },
       "data": [
        {
         "textinfo": "value+percent previous",
         "textposition": "inside",
         "type": "funnel",
         "x": [
          7426,
          4601,
          3737,
          3540
         ],
         "y": [
          "MainScreenAppear",
          "OffersScreenAppear",
          "CartScreenAppear",
          "PaymentScreenSuccessful"
         ]
        }
       ],
       "layout": {
        "template": {
         "data": {
          "bar": [
           {
            "error_x": {
             "color": "#2a3f5f"
            },
            "error_y": {
             "color": "#2a3f5f"
            },
            "marker": {
             "line": {
              "color": "#E5ECF6",
              "width": 0.5
             },
             "pattern": {
              "fillmode": "overlay",
              "size": 10,
              "solidity": 0.2
             }
            },
            "type": "bar"
           }
          ],
          "barpolar": [
           {
            "marker": {
             "line": {
              "color": "#E5ECF6",
              "width": 0.5
             },
             "pattern": {
              "fillmode": "overlay",
              "size": 10,
              "solidity": 0.2
             }
            },
            "type": "barpolar"
           }
          ],
          "carpet": [
           {
            "aaxis": {
             "endlinecolor": "#2a3f5f",
             "gridcolor": "white",
             "linecolor": "white",
             "minorgridcolor": "white",
             "startlinecolor": "#2a3f5f"
            },
            "baxis": {
             "endlinecolor": "#2a3f5f",
             "gridcolor": "white",
             "linecolor": "white",
             "minorgridcolor": "white",
             "startlinecolor": "#2a3f5f"
            },
            "type": "carpet"
           }
          ],
          "choropleth": [
           {
            "colorbar": {
             "outlinewidth": 0,
             "ticks": ""
            },
            "type": "choropleth"
           }
          ],
          "contour": [
           {
            "colorbar": {
             "outlinewidth": 0,
             "ticks": ""
            },
            "colorscale": [
             [
              0,
              "#0d0887"
             ],
             [
              0.1111111111111111,
              "#46039f"
             ],
             [
              0.2222222222222222,
              "#7201a8"
             ],
             [
              0.3333333333333333,
              "#9c179e"
             ],
             [
              0.4444444444444444,
              "#bd3786"
             ],
             [
              0.5555555555555556,
              "#d8576b"
             ],
             [
              0.6666666666666666,
              "#ed7953"
             ],
             [
              0.7777777777777778,
              "#fb9f3a"
             ],
             [
              0.8888888888888888,
              "#fdca26"
             ],
             [
              1,
              "#f0f921"
             ]
            ],
            "type": "contour"
           }
          ],
          "contourcarpet": [
           {
            "colorbar": {
             "outlinewidth": 0,
             "ticks": ""
            },
            "type": "contourcarpet"
           }
          ],
          "heatmap": [
           {
            "colorbar": {
             "outlinewidth": 0,
             "ticks": ""
            },
            "colorscale": [
             [
              0,
              "#0d0887"
             ],
             [
              0.1111111111111111,
              "#46039f"
             ],
             [
              0.2222222222222222,
              "#7201a8"
             ],
             [
              0.3333333333333333,
              "#9c179e"
             ],
             [
              0.4444444444444444,
              "#bd3786"
             ],
             [
              0.5555555555555556,
              "#d8576b"
             ],
             [
              0.6666666666666666,
              "#ed7953"
             ],
             [
              0.7777777777777778,
              "#fb9f3a"
             ],
             [
              0.8888888888888888,
              "#fdca26"
             ],
             [
              1,
              "#f0f921"
             ]
            ],
            "type": "heatmap"
           }
          ],
          "heatmapgl": [
           {
            "colorbar": {
             "outlinewidth": 0,
             "ticks": ""
            },
            "colorscale": [
             [
              0,
              "#0d0887"
             ],
             [
              0.1111111111111111,
              "#46039f"
             ],
             [
              0.2222222222222222,
              "#7201a8"
             ],
             [
              0.3333333333333333,
              "#9c179e"
             ],
             [
              0.4444444444444444,
              "#bd3786"
             ],
             [
              0.5555555555555556,
              "#d8576b"
             ],
             [
              0.6666666666666666,
              "#ed7953"
             ],
             [
              0.7777777777777778,
              "#fb9f3a"
             ],
             [
              0.8888888888888888,
              "#fdca26"
             ],
             [
              1,
              "#f0f921"
             ]
            ],
            "type": "heatmapgl"
           }
          ],
          "histogram": [
           {
            "marker": {
             "pattern": {
              "fillmode": "overlay",
              "size": 10,
              "solidity": 0.2
             }
            },
            "type": "histogram"
           }
          ],
          "histogram2d": [
           {
            "colorbar": {
             "outlinewidth": 0,
             "ticks": ""
            },
            "colorscale": [
             [
              0,
              "#0d0887"
             ],
             [
              0.1111111111111111,
              "#46039f"
             ],
             [
              0.2222222222222222,
              "#7201a8"
             ],
             [
              0.3333333333333333,
              "#9c179e"
             ],
             [
              0.4444444444444444,
              "#bd3786"
             ],
             [
              0.5555555555555556,
              "#d8576b"
             ],
             [
              0.6666666666666666,
              "#ed7953"
             ],
             [
              0.7777777777777778,
              "#fb9f3a"
             ],
             [
              0.8888888888888888,
              "#fdca26"
             ],
             [
              1,
              "#f0f921"
             ]
            ],
            "type": "histogram2d"
           }
          ],
          "histogram2dcontour": [
           {
            "colorbar": {
             "outlinewidth": 0,
             "ticks": ""
            },
            "colorscale": [
             [
              0,
              "#0d0887"
             ],
             [
              0.1111111111111111,
              "#46039f"
             ],
             [
              0.2222222222222222,
              "#7201a8"
             ],
             [
              0.3333333333333333,
              "#9c179e"
             ],
             [
              0.4444444444444444,
              "#bd3786"
             ],
             [
              0.5555555555555556,
              "#d8576b"
             ],
             [
              0.6666666666666666,
              "#ed7953"
             ],
             [
              0.7777777777777778,
              "#fb9f3a"
             ],
             [
              0.8888888888888888,
              "#fdca26"
             ],
             [
              1,
              "#f0f921"
             ]
            ],
            "type": "histogram2dcontour"
           }
          ],
          "mesh3d": [
           {
            "colorbar": {
             "outlinewidth": 0,
             "ticks": ""
            },
            "type": "mesh3d"
           }
          ],
          "parcoords": [
           {
            "line": {
             "colorbar": {
              "outlinewidth": 0,
              "ticks": ""
             }
            },
            "type": "parcoords"
           }
          ],
          "pie": [
           {
            "automargin": true,
            "type": "pie"
           }
          ],
          "scatter": [
           {
            "marker": {
             "colorbar": {
              "outlinewidth": 0,
              "ticks": ""
             }
            },
            "type": "scatter"
           }
          ],
          "scatter3d": [
           {
            "line": {
             "colorbar": {
              "outlinewidth": 0,
              "ticks": ""
             }
            },
            "marker": {
             "colorbar": {
              "outlinewidth": 0,
              "ticks": ""
             }
            },
            "type": "scatter3d"
           }
          ],
          "scattercarpet": [
           {
            "marker": {
             "colorbar": {
              "outlinewidth": 0,
              "ticks": ""
             }
            },
            "type": "scattercarpet"
           }
          ],
          "scattergeo": [
           {
            "marker": {
             "colorbar": {
              "outlinewidth": 0,
              "ticks": ""
             }
            },
            "type": "scattergeo"
           }
          ],
          "scattergl": [
           {
            "marker": {
             "colorbar": {
              "outlinewidth": 0,
              "ticks": ""
             }
            },
            "type": "scattergl"
           }
          ],
          "scattermapbox": [
           {
            "marker": {
             "colorbar": {
              "outlinewidth": 0,
              "ticks": ""
             }
            },
            "type": "scattermapbox"
           }
          ],
          "scatterpolar": [
           {
            "marker": {
             "colorbar": {
              "outlinewidth": 0,
              "ticks": ""
             }
            },
            "type": "scatterpolar"
           }
          ],
          "scatterpolargl": [
           {
            "marker": {
             "colorbar": {
              "outlinewidth": 0,
              "ticks": ""
             }
            },
            "type": "scatterpolargl"
           }
          ],
          "scatterternary": [
           {
            "marker": {
             "colorbar": {
              "outlinewidth": 0,
              "ticks": ""
             }
            },
            "type": "scatterternary"
           }
          ],
          "surface": [
           {
            "colorbar": {
             "outlinewidth": 0,
             "ticks": ""
            },
            "colorscale": [
             [
              0,
              "#0d0887"
             ],
             [
              0.1111111111111111,
              "#46039f"
             ],
             [
              0.2222222222222222,
              "#7201a8"
             ],
             [
              0.3333333333333333,
              "#9c179e"
             ],
             [
              0.4444444444444444,
              "#bd3786"
             ],
             [
              0.5555555555555556,
              "#d8576b"
             ],
             [
              0.6666666666666666,
              "#ed7953"
             ],
             [
              0.7777777777777778,
              "#fb9f3a"
             ],
             [
              0.8888888888888888,
              "#fdca26"
             ],
             [
              1,
              "#f0f921"
             ]
            ],
            "type": "surface"
           }
          ],
          "table": [
           {
            "cells": {
             "fill": {
              "color": "#EBF0F8"
             },
             "line": {
              "color": "white"
             }
            },
            "header": {
             "fill": {
              "color": "#C8D4E3"
             },
             "line": {
              "color": "white"
             }
            },
            "type": "table"
           }
          ]
         },
         "layout": {
          "annotationdefaults": {
           "arrowcolor": "#2a3f5f",
           "arrowhead": 0,
           "arrowwidth": 1
          },
          "autotypenumbers": "strict",
          "coloraxis": {
           "colorbar": {
            "outlinewidth": 0,
            "ticks": ""
           }
          },
          "colorscale": {
           "diverging": [
            [
             0,
             "#8e0152"
            ],
            [
             0.1,
             "#c51b7d"
            ],
            [
             0.2,
             "#de77ae"
            ],
            [
             0.3,
             "#f1b6da"
            ],
            [
             0.4,
             "#fde0ef"
            ],
            [
             0.5,
             "#f7f7f7"
            ],
            [
             0.6,
             "#e6f5d0"
            ],
            [
             0.7,
             "#b8e186"
            ],
            [
             0.8,
             "#7fbc41"
            ],
            [
             0.9,
             "#4d9221"
            ],
            [
             1,
             "#276419"
            ]
           ],
           "sequential": [
            [
             0,
             "#0d0887"
            ],
            [
             0.1111111111111111,
             "#46039f"
            ],
            [
             0.2222222222222222,
             "#7201a8"
            ],
            [
             0.3333333333333333,
             "#9c179e"
            ],
            [
             0.4444444444444444,
             "#bd3786"
            ],
            [
             0.5555555555555556,
             "#d8576b"
            ],
            [
             0.6666666666666666,
             "#ed7953"
            ],
            [
             0.7777777777777778,
             "#fb9f3a"
            ],
            [
             0.8888888888888888,
             "#fdca26"
            ],
            [
             1,
             "#f0f921"
            ]
           ],
           "sequentialminus": [
            [
             0,
             "#0d0887"
            ],
            [
             0.1111111111111111,
             "#46039f"
            ],
            [
             0.2222222222222222,
             "#7201a8"
            ],
            [
             0.3333333333333333,
             "#9c179e"
            ],
            [
             0.4444444444444444,
             "#bd3786"
            ],
            [
             0.5555555555555556,
             "#d8576b"
            ],
            [
             0.6666666666666666,
             "#ed7953"
            ],
            [
             0.7777777777777778,
             "#fb9f3a"
            ],
            [
             0.8888888888888888,
             "#fdca26"
            ],
            [
             1,
             "#f0f921"
            ]
           ]
          },
          "colorway": [
           "#636efa",
           "#EF553B",
           "#00cc96",
           "#ab63fa",
           "#FFA15A",
           "#19d3f3",
           "#FF6692",
           "#B6E880",
           "#FF97FF",
           "#FECB52"
          ],
          "font": {
           "color": "#2a3f5f"
          },
          "geo": {
           "bgcolor": "white",
           "lakecolor": "white",
           "landcolor": "#E5ECF6",
           "showlakes": true,
           "showland": true,
           "subunitcolor": "white"
          },
          "hoverlabel": {
           "align": "left"
          },
          "hovermode": "closest",
          "mapbox": {
           "style": "light"
          },
          "paper_bgcolor": "white",
          "plot_bgcolor": "#E5ECF6",
          "polar": {
           "angularaxis": {
            "gridcolor": "white",
            "linecolor": "white",
            "ticks": ""
           },
           "bgcolor": "#E5ECF6",
           "radialaxis": {
            "gridcolor": "white",
            "linecolor": "white",
            "ticks": ""
           }
          },
          "scene": {
           "xaxis": {
            "backgroundcolor": "#E5ECF6",
            "gridcolor": "white",
            "gridwidth": 2,
            "linecolor": "white",
            "showbackground": true,
            "ticks": "",
            "zerolinecolor": "white"
           },
           "yaxis": {
            "backgroundcolor": "#E5ECF6",
            "gridcolor": "white",
            "gridwidth": 2,
            "linecolor": "white",
            "showbackground": true,
            "ticks": "",
            "zerolinecolor": "white"
           },
           "zaxis": {
            "backgroundcolor": "#E5ECF6",
            "gridcolor": "white",
            "gridwidth": 2,
            "linecolor": "white",
            "showbackground": true,
            "ticks": "",
            "zerolinecolor": "white"
           }
          },
          "shapedefaults": {
           "line": {
            "color": "#2a3f5f"
           }
          },
          "ternary": {
           "aaxis": {
            "gridcolor": "white",
            "linecolor": "white",
            "ticks": ""
           },
           "baxis": {
            "gridcolor": "white",
            "linecolor": "white",
            "ticks": ""
           },
           "bgcolor": "#E5ECF6",
           "caxis": {
            "gridcolor": "white",
            "linecolor": "white",
            "ticks": ""
           }
          },
          "title": {
           "x": 0.05
          },
          "xaxis": {
           "automargin": true,
           "gridcolor": "white",
           "linecolor": "white",
           "ticks": "",
           "title": {
            "standoff": 15
           },
           "zerolinecolor": "white",
           "zerolinewidth": 2
          },
          "yaxis": {
           "automargin": true,
           "gridcolor": "white",
           "linecolor": "white",
           "ticks": "",
           "title": {
            "standoff": 15
           },
           "zerolinecolor": "white",
           "zerolinewidth": 2
          }
         }
        }
       }
      },
      "text/html": [
       "<div>                            <div id=\"ade6473e-29e6-4589-bb50-15c0608c3a2b\" class=\"plotly-graph-div\" style=\"height:525px; width:100%;\"></div>            <script type=\"text/javascript\">                require([\"plotly\"], function(Plotly) {                    window.PLOTLYENV=window.PLOTLYENV || {};                                    if (document.getElementById(\"ade6473e-29e6-4589-bb50-15c0608c3a2b\")) {                    Plotly.newPlot(                        \"ade6473e-29e6-4589-bb50-15c0608c3a2b\",                        [{\"textinfo\":\"value+percent previous\",\"textposition\":\"inside\",\"x\":[7426,4601,3737,3540],\"y\":[\"MainScreenAppear\",\"OffersScreenAppear\",\"CartScreenAppear\",\"PaymentScreenSuccessful\"],\"type\":\"funnel\"}],                        {\"template\":{\"data\":{\"bar\":[{\"error_x\":{\"color\":\"#2a3f5f\"},\"error_y\":{\"color\":\"#2a3f5f\"},\"marker\":{\"line\":{\"color\":\"#E5ECF6\",\"width\":0.5},\"pattern\":{\"fillmode\":\"overlay\",\"size\":10,\"solidity\":0.2}},\"type\":\"bar\"}],\"barpolar\":[{\"marker\":{\"line\":{\"color\":\"#E5ECF6\",\"width\":0.5},\"pattern\":{\"fillmode\":\"overlay\",\"size\":10,\"solidity\":0.2}},\"type\":\"barpolar\"}],\"carpet\":[{\"aaxis\":{\"endlinecolor\":\"#2a3f5f\",\"gridcolor\":\"white\",\"linecolor\":\"white\",\"minorgridcolor\":\"white\",\"startlinecolor\":\"#2a3f5f\"},\"baxis\":{\"endlinecolor\":\"#2a3f5f\",\"gridcolor\":\"white\",\"linecolor\":\"white\",\"minorgridcolor\":\"white\",\"startlinecolor\":\"#2a3f5f\"},\"type\":\"carpet\"}],\"choropleth\":[{\"colorbar\":{\"outlinewidth\":0,\"ticks\":\"\"},\"type\":\"choropleth\"}],\"contour\":[{\"colorbar\":{\"outlinewidth\":0,\"ticks\":\"\"},\"colorscale\":[[0.0,\"#0d0887\"],[0.1111111111111111,\"#46039f\"],[0.2222222222222222,\"#7201a8\"],[0.3333333333333333,\"#9c179e\"],[0.4444444444444444,\"#bd3786\"],[0.5555555555555556,\"#d8576b\"],[0.6666666666666666,\"#ed7953\"],[0.7777777777777778,\"#fb9f3a\"],[0.8888888888888888,\"#fdca26\"],[1.0,\"#f0f921\"]],\"type\":\"contour\"}],\"contourcarpet\":[{\"colorbar\":{\"outlinewidth\":0,\"ticks\":\"\"},\"type\":\"contourcarpet\"}],\"heatmap\":[{\"colorbar\":{\"outlinewidth\":0,\"ticks\":\"\"},\"colorscale\":[[0.0,\"#0d0887\"],[0.1111111111111111,\"#46039f\"],[0.2222222222222222,\"#7201a8\"],[0.3333333333333333,\"#9c179e\"],[0.4444444444444444,\"#bd3786\"],[0.5555555555555556,\"#d8576b\"],[0.6666666666666666,\"#ed7953\"],[0.7777777777777778,\"#fb9f3a\"],[0.8888888888888888,\"#fdca26\"],[1.0,\"#f0f921\"]],\"type\":\"heatmap\"}],\"heatmapgl\":[{\"colorbar\":{\"outlinewidth\":0,\"ticks\":\"\"},\"colorscale\":[[0.0,\"#0d0887\"],[0.1111111111111111,\"#46039f\"],[0.2222222222222222,\"#7201a8\"],[0.3333333333333333,\"#9c179e\"],[0.4444444444444444,\"#bd3786\"],[0.5555555555555556,\"#d8576b\"],[0.6666666666666666,\"#ed7953\"],[0.7777777777777778,\"#fb9f3a\"],[0.8888888888888888,\"#fdca26\"],[1.0,\"#f0f921\"]],\"type\":\"heatmapgl\"}],\"histogram\":[{\"marker\":{\"pattern\":{\"fillmode\":\"overlay\",\"size\":10,\"solidity\":0.2}},\"type\":\"histogram\"}],\"histogram2d\":[{\"colorbar\":{\"outlinewidth\":0,\"ticks\":\"\"},\"colorscale\":[[0.0,\"#0d0887\"],[0.1111111111111111,\"#46039f\"],[0.2222222222222222,\"#7201a8\"],[0.3333333333333333,\"#9c179e\"],[0.4444444444444444,\"#bd3786\"],[0.5555555555555556,\"#d8576b\"],[0.6666666666666666,\"#ed7953\"],[0.7777777777777778,\"#fb9f3a\"],[0.8888888888888888,\"#fdca26\"],[1.0,\"#f0f921\"]],\"type\":\"histogram2d\"}],\"histogram2dcontour\":[{\"colorbar\":{\"outlinewidth\":0,\"ticks\":\"\"},\"colorscale\":[[0.0,\"#0d0887\"],[0.1111111111111111,\"#46039f\"],[0.2222222222222222,\"#7201a8\"],[0.3333333333333333,\"#9c179e\"],[0.4444444444444444,\"#bd3786\"],[0.5555555555555556,\"#d8576b\"],[0.6666666666666666,\"#ed7953\"],[0.7777777777777778,\"#fb9f3a\"],[0.8888888888888888,\"#fdca26\"],[1.0,\"#f0f921\"]],\"type\":\"histogram2dcontour\"}],\"mesh3d\":[{\"colorbar\":{\"outlinewidth\":0,\"ticks\":\"\"},\"type\":\"mesh3d\"}],\"parcoords\":[{\"line\":{\"colorbar\":{\"outlinewidth\":0,\"ticks\":\"\"}},\"type\":\"parcoords\"}],\"pie\":[{\"automargin\":true,\"type\":\"pie\"}],\"scatter\":[{\"marker\":{\"colorbar\":{\"outlinewidth\":0,\"ticks\":\"\"}},\"type\":\"scatter\"}],\"scatter3d\":[{\"line\":{\"colorbar\":{\"outlinewidth\":0,\"ticks\":\"\"}},\"marker\":{\"colorbar\":{\"outlinewidth\":0,\"ticks\":\"\"}},\"type\":\"scatter3d\"}],\"scattercarpet\":[{\"marker\":{\"colorbar\":{\"outlinewidth\":0,\"ticks\":\"\"}},\"type\":\"scattercarpet\"}],\"scattergeo\":[{\"marker\":{\"colorbar\":{\"outlinewidth\":0,\"ticks\":\"\"}},\"type\":\"scattergeo\"}],\"scattergl\":[{\"marker\":{\"colorbar\":{\"outlinewidth\":0,\"ticks\":\"\"}},\"type\":\"scattergl\"}],\"scattermapbox\":[{\"marker\":{\"colorbar\":{\"outlinewidth\":0,\"ticks\":\"\"}},\"type\":\"scattermapbox\"}],\"scatterpolar\":[{\"marker\":{\"colorbar\":{\"outlinewidth\":0,\"ticks\":\"\"}},\"type\":\"scatterpolar\"}],\"scatterpolargl\":[{\"marker\":{\"colorbar\":{\"outlinewidth\":0,\"ticks\":\"\"}},\"type\":\"scatterpolargl\"}],\"scatterternary\":[{\"marker\":{\"colorbar\":{\"outlinewidth\":0,\"ticks\":\"\"}},\"type\":\"scatterternary\"}],\"surface\":[{\"colorbar\":{\"outlinewidth\":0,\"ticks\":\"\"},\"colorscale\":[[0.0,\"#0d0887\"],[0.1111111111111111,\"#46039f\"],[0.2222222222222222,\"#7201a8\"],[0.3333333333333333,\"#9c179e\"],[0.4444444444444444,\"#bd3786\"],[0.5555555555555556,\"#d8576b\"],[0.6666666666666666,\"#ed7953\"],[0.7777777777777778,\"#fb9f3a\"],[0.8888888888888888,\"#fdca26\"],[1.0,\"#f0f921\"]],\"type\":\"surface\"}],\"table\":[{\"cells\":{\"fill\":{\"color\":\"#EBF0F8\"},\"line\":{\"color\":\"white\"}},\"header\":{\"fill\":{\"color\":\"#C8D4E3\"},\"line\":{\"color\":\"white\"}},\"type\":\"table\"}]},\"layout\":{\"annotationdefaults\":{\"arrowcolor\":\"#2a3f5f\",\"arrowhead\":0,\"arrowwidth\":1},\"autotypenumbers\":\"strict\",\"coloraxis\":{\"colorbar\":{\"outlinewidth\":0,\"ticks\":\"\"}},\"colorscale\":{\"diverging\":[[0,\"#8e0152\"],[0.1,\"#c51b7d\"],[0.2,\"#de77ae\"],[0.3,\"#f1b6da\"],[0.4,\"#fde0ef\"],[0.5,\"#f7f7f7\"],[0.6,\"#e6f5d0\"],[0.7,\"#b8e186\"],[0.8,\"#7fbc41\"],[0.9,\"#4d9221\"],[1,\"#276419\"]],\"sequential\":[[0.0,\"#0d0887\"],[0.1111111111111111,\"#46039f\"],[0.2222222222222222,\"#7201a8\"],[0.3333333333333333,\"#9c179e\"],[0.4444444444444444,\"#bd3786\"],[0.5555555555555556,\"#d8576b\"],[0.6666666666666666,\"#ed7953\"],[0.7777777777777778,\"#fb9f3a\"],[0.8888888888888888,\"#fdca26\"],[1.0,\"#f0f921\"]],\"sequentialminus\":[[0.0,\"#0d0887\"],[0.1111111111111111,\"#46039f\"],[0.2222222222222222,\"#7201a8\"],[0.3333333333333333,\"#9c179e\"],[0.4444444444444444,\"#bd3786\"],[0.5555555555555556,\"#d8576b\"],[0.6666666666666666,\"#ed7953\"],[0.7777777777777778,\"#fb9f3a\"],[0.8888888888888888,\"#fdca26\"],[1.0,\"#f0f921\"]]},\"colorway\":[\"#636efa\",\"#EF553B\",\"#00cc96\",\"#ab63fa\",\"#FFA15A\",\"#19d3f3\",\"#FF6692\",\"#B6E880\",\"#FF97FF\",\"#FECB52\"],\"font\":{\"color\":\"#2a3f5f\"},\"geo\":{\"bgcolor\":\"white\",\"lakecolor\":\"white\",\"landcolor\":\"#E5ECF6\",\"showlakes\":true,\"showland\":true,\"subunitcolor\":\"white\"},\"hoverlabel\":{\"align\":\"left\"},\"hovermode\":\"closest\",\"mapbox\":{\"style\":\"light\"},\"paper_bgcolor\":\"white\",\"plot_bgcolor\":\"#E5ECF6\",\"polar\":{\"angularaxis\":{\"gridcolor\":\"white\",\"linecolor\":\"white\",\"ticks\":\"\"},\"bgcolor\":\"#E5ECF6\",\"radialaxis\":{\"gridcolor\":\"white\",\"linecolor\":\"white\",\"ticks\":\"\"}},\"scene\":{\"xaxis\":{\"backgroundcolor\":\"#E5ECF6\",\"gridcolor\":\"white\",\"gridwidth\":2,\"linecolor\":\"white\",\"showbackground\":true,\"ticks\":\"\",\"zerolinecolor\":\"white\"},\"yaxis\":{\"backgroundcolor\":\"#E5ECF6\",\"gridcolor\":\"white\",\"gridwidth\":2,\"linecolor\":\"white\",\"showbackground\":true,\"ticks\":\"\",\"zerolinecolor\":\"white\"},\"zaxis\":{\"backgroundcolor\":\"#E5ECF6\",\"gridcolor\":\"white\",\"gridwidth\":2,\"linecolor\":\"white\",\"showbackground\":true,\"ticks\":\"\",\"zerolinecolor\":\"white\"}},\"shapedefaults\":{\"line\":{\"color\":\"#2a3f5f\"}},\"ternary\":{\"aaxis\":{\"gridcolor\":\"white\",\"linecolor\":\"white\",\"ticks\":\"\"},\"baxis\":{\"gridcolor\":\"white\",\"linecolor\":\"white\",\"ticks\":\"\"},\"bgcolor\":\"#E5ECF6\",\"caxis\":{\"gridcolor\":\"white\",\"linecolor\":\"white\",\"ticks\":\"\"}},\"title\":{\"x\":0.05},\"xaxis\":{\"automargin\":true,\"gridcolor\":\"white\",\"linecolor\":\"white\",\"ticks\":\"\",\"title\":{\"standoff\":15},\"zerolinecolor\":\"white\",\"zerolinewidth\":2},\"yaxis\":{\"automargin\":true,\"gridcolor\":\"white\",\"linecolor\":\"white\",\"ticks\":\"\",\"title\":{\"standoff\":15},\"zerolinecolor\":\"white\",\"zerolinewidth\":2}}}},                        {\"responsive\": true}                    ).then(function(){\n",
       "                            \n",
       "var gd = document.getElementById('ade6473e-29e6-4589-bb50-15c0608c3a2b');\n",
       "var x = new MutationObserver(function (mutations, observer) {{\n",
       "        var display = window.getComputedStyle(gd).display;\n",
       "        if (!display || display === 'none') {{\n",
       "            console.log([gd, 'removed!']);\n",
       "            Plotly.purge(gd);\n",
       "            observer.disconnect();\n",
       "        }}\n",
       "}});\n",
       "\n",
       "// Listen for the removal of the full notebook cells\n",
       "var notebookContainer = gd.closest('#notebook-container');\n",
       "if (notebookContainer) {{\n",
       "    x.observe(notebookContainer, {childList: true});\n",
       "}}\n",
       "\n",
       "// Listen for the clearing of the current output cell\n",
       "var outputEl = gd.closest('.output');\n",
       "if (outputEl) {{\n",
       "    x.observe(outputEl, {childList: true});\n",
       "}}\n",
       "\n",
       "                        })                };                });            </script>        </div>"
      ]
     },
     "metadata": {},
     "output_type": "display_data"
    }
   ],
   "source": [
    "funnel = df.query('event != \"Tutorial\"').groupby('event').agg({'event': 'first', 'user_id': 'nunique'}).sort_values('user_id', ascending=False).reset_index(drop=True)\n",
    "\n",
    "fig = go.Figure(go.Funnel(\n",
    "    y = funnel['event'],\n",
    "    x = funnel['user_id'],\n",
    "    textposition = \"inside\",\n",
    "    textinfo = \"value+percent previous\"))\n",
    "fig.show()"
   ]
  },
  {
   "cell_type": "markdown",
   "metadata": {},
   "source": [
    "**Выводы:**\n",
    "\n",
    "- Судя по воронке событий, больше всего пользователей уходят с сайта после просмотра главной страницы\n",
    "- От просмотра главной страницы до оплаты доходят 47.7% пользователей"
   ]
  },
  {
   "cell_type": "markdown",
   "metadata": {},
   "source": [
    "## Изучим результаты эксперимента"
   ]
  },
  {
   "cell_type": "markdown",
   "metadata": {},
   "source": [
    "### Количество пользователей в контрольных и экспериментальной группах"
   ]
  },
  {
   "cell_type": "code",
   "execution_count": 69,
   "metadata": {
    "scrolled": true
   },
   "outputs": [
    {
     "data": {
      "text/html": [
       "<div>\n",
       "<style scoped>\n",
       "    .dataframe tbody tr th:only-of-type {\n",
       "        vertical-align: middle;\n",
       "    }\n",
       "\n",
       "    .dataframe tbody tr th {\n",
       "        vertical-align: top;\n",
       "    }\n",
       "\n",
       "    .dataframe thead th {\n",
       "        text-align: right;\n",
       "    }\n",
       "</style>\n",
       "<table border=\"1\" class=\"dataframe\">\n",
       "  <thead>\n",
       "    <tr style=\"text-align: right;\">\n",
       "      <th></th>\n",
       "      <th>user_id</th>\n",
       "    </tr>\n",
       "    <tr>\n",
       "      <th>exp_id</th>\n",
       "      <th></th>\n",
       "    </tr>\n",
       "  </thead>\n",
       "  <tbody>\n",
       "    <tr>\n",
       "      <th>246</th>\n",
       "      <td>2485</td>\n",
       "    </tr>\n",
       "    <tr>\n",
       "      <th>247</th>\n",
       "      <td>2517</td>\n",
       "    </tr>\n",
       "    <tr>\n",
       "      <th>248</th>\n",
       "      <td>2539</td>\n",
       "    </tr>\n",
       "  </tbody>\n",
       "</table>\n",
       "</div>"
      ],
      "text/plain": [
       "        user_id\n",
       "exp_id         \n",
       "246        2485\n",
       "247        2517\n",
       "248        2539"
      ]
     },
     "execution_count": 69,
     "metadata": {},
     "output_type": "execute_result"
    }
   ],
   "source": [
    "df.groupby('exp_id').agg({'user_id': 'nunique'})"
   ]
  },
  {
   "cell_type": "markdown",
   "metadata": {},
   "source": [
    "Сравним количество пользователей в контрольных группах (246 и 247)"
   ]
  },
  {
   "cell_type": "code",
   "execution_count": 70,
   "metadata": {
    "scrolled": true
   },
   "outputs": [
    {
     "name": "stdout",
     "output_type": "stream",
     "text": [
      "1.3%\n"
     ]
    }
   ],
   "source": [
    "print('{:.1%}'.format(1 - df[df['exp_id'] == 246]['user_id'].nunique() \n",
    "                      / df[df['exp_id'] == 247]['user_id'].nunique()))"
   ]
  },
  {
   "cell_type": "markdown",
   "metadata": {},
   "source": [
    "Сравним количество пользователей в группах 246 и 248"
   ]
  },
  {
   "cell_type": "code",
   "execution_count": 71,
   "metadata": {},
   "outputs": [
    {
     "name": "stdout",
     "output_type": "stream",
     "text": [
      "2.1%\n"
     ]
    }
   ],
   "source": [
    "print('{:.1%}'.format(1 - df[df['exp_id'] == 246]['user_id'].nunique() \n",
    "                      / df[df['exp_id'] == 248]['user_id'].nunique()))"
   ]
  },
  {
   "cell_type": "markdown",
   "metadata": {},
   "source": [
    "Сравним количество пользователей в группах 247 и 248"
   ]
  },
  {
   "cell_type": "code",
   "execution_count": 72,
   "metadata": {
    "scrolled": true
   },
   "outputs": [
    {
     "name": "stdout",
     "output_type": "stream",
     "text": [
      "0.9%\n"
     ]
    }
   ],
   "source": [
    "print('{:.1%}'.format(1 - df[df['exp_id'] == 247]['user_id'].nunique() \n",
    "                      / df[df['exp_id'] == 248]['user_id'].nunique()))"
   ]
  },
  {
   "cell_type": "markdown",
   "metadata": {},
   "source": [
    "**Вывод:**\n",
    "\n",
    "Группы набирались не совсем оптимально, но это не помешает провести проверку гипотез"
   ]
  },
  {
   "cell_type": "markdown",
   "metadata": {},
   "source": [
    "### Проверим группы на наличие общих пользователей (пересечений)"
   ]
  },
  {
   "cell_type": "code",
   "execution_count": 73,
   "metadata": {
    "scrolled": true
   },
   "outputs": [
    {
     "data": {
      "text/plain": [
       "0"
      ]
     },
     "execution_count": 73,
     "metadata": {},
     "output_type": "execute_result"
    }
   ],
   "source": [
    "A1 = list(df.query('exp_id == 246')['user_id'].unique())\n",
    "A2 = list(df.query('exp_id == 247')['user_id'].unique())\n",
    "\n",
    "df.query('exp_id == 246').query('user_id in @A2')['user_id'].count()"
   ]
  },
  {
   "cell_type": "code",
   "execution_count": 74,
   "metadata": {},
   "outputs": [
    {
     "data": {
      "text/plain": [
       "0"
      ]
     },
     "execution_count": 74,
     "metadata": {},
     "output_type": "execute_result"
    }
   ],
   "source": [
    "df.query('exp_id == 248').query('user_id in @A1')['user_id'].count()"
   ]
  },
  {
   "cell_type": "code",
   "execution_count": 75,
   "metadata": {
    "scrolled": false
   },
   "outputs": [
    {
     "data": {
      "text/plain": [
       "0"
      ]
     },
     "execution_count": 75,
     "metadata": {},
     "output_type": "execute_result"
    }
   ],
   "source": [
    "df.query('exp_id == 248').query('user_id in @A2')['user_id'].count()"
   ]
  },
  {
   "cell_type": "markdown",
   "metadata": {},
   "source": [
    "**Вывод:**\n",
    "\n",
    "Пересечений пользователей в группах не найдено"
   ]
  },
  {
   "cell_type": "markdown",
   "metadata": {},
   "source": [
    "### Проверим, является ли отличие между контрольными группами (по каждому событию) статистически достоверным"
   ]
  },
  {
   "cell_type": "code",
   "execution_count": 76,
   "metadata": {
    "scrolled": true
   },
   "outputs": [],
   "source": [
    "data_1 = df.query('exp_id == 246')\n",
    "data_2 = df.query('exp_id == 247')\n",
    "data_3 = df.query('exp_id == 248')\n",
    "\n",
    "alpha = 0.05\n",
    "\n",
    "# Создадим функцию для проверки контрольных групп на наличие статистически значимой разницы\n",
    "def stat_difference(data_1, data_2, event):\n",
    "    trials_1 = data_1['user_id'].nunique()\n",
    "    trials_2 = data_2['user_id'].nunique()\n",
    "    successes_1 = data_1.query('event == @event')['user_id'].nunique()\n",
    "    successes_2 = data_2.query('event == @event')['user_id'].nunique()\n",
    "\n",
    "    # пропорция успехов в первой группе:\n",
    "    p1 = successes_1/trials_1\n",
    "    # пропорция успехов во второй группе:\n",
    "    p2 = successes_2/trials_2\n",
    "    # пропорция успехов в комбинированном датасете:\n",
    "    p_combined = (successes_1 + successes_2) / (trials_1 + trials_2)\n",
    "    # разница пропорций в датасетах\n",
    "    difference = p1 - p2\n",
    "    # считаем статистику в ст.отклонениях стандартного нормального распределения\n",
    "    z_value = difference / (p_combined * (1 - p_combined) * (1/trials_1 + 1/trials_2))**0.5\n",
    "    # задаем стандартное нормальное распределение (среднее 0, ст.отклонение 1)\n",
    "    distr = st.norm(0, 1)\n",
    "    \n",
    "    p_value = (1 - distr.cdf(abs(z_value))) * 2\n",
    "    return p_value.round(3), event"
   ]
  },
  {
   "cell_type": "code",
   "execution_count": 77,
   "metadata": {},
   "outputs": [
    {
     "data": {
      "text/plain": [
       "['MainScreenAppear',\n",
       " 'OffersScreenAppear',\n",
       " 'CartScreenAppear',\n",
       " 'PaymentScreenSuccessful',\n",
       " 'Tutorial']"
      ]
     },
     "execution_count": 77,
     "metadata": {},
     "output_type": "execute_result"
    }
   ],
   "source": [
    "# Создадим список со всеми событиями\n",
    "events = list(df['event'].unique())\n",
    "events"
   ]
  },
  {
   "cell_type": "markdown",
   "metadata": {},
   "source": [
    "Чтобы рассчитать статистическую значимость различий между группами, передадим функции stat_difference данные контрольных групп и названия событий.\n",
    "\n",
    "Проверим двустороннюю гипотезу. Если уровень значимости (p-value) окажется меньше критического уровеня в 0.05, гипотеза о равенстве долей пользователей, совершивших определенное событие, для двух генеральных совокупностей ($H_0$) будет отвегрнута\n",
    "\n",
    "$H_0$ - Отсутствует статистически значимое различие между группами 246 и 247\n",
    "\n",
    "$H_1$ - Различие между группами статистически значимо"
   ]
  },
  {
   "cell_type": "code",
   "execution_count": 78,
   "metadata": {},
   "outputs": [
    {
     "name": "stdout",
     "output_type": "stream",
     "text": [
      "Событие: MainScreenAppear\n",
      "p-value: 0.674\n",
      "Не получилось отвергнуть нулевую гипотезу, нет оснований считать доли разными\n",
      "\n",
      "Событие: OffersScreenAppear\n",
      "p-value: 0.301\n",
      "Не получилось отвергнуть нулевую гипотезу, нет оснований считать доли разными\n",
      "\n",
      "Событие: CartScreenAppear\n",
      "p-value: 0.224\n",
      "Не получилось отвергнуть нулевую гипотезу, нет оснований считать доли разными\n",
      "\n",
      "Событие: PaymentScreenSuccessful\n",
      "p-value: 0.106\n",
      "Не получилось отвергнуть нулевую гипотезу, нет оснований считать доли разными\n",
      "\n",
      "Событие: Tutorial\n",
      "p-value: 0.914\n",
      "Не получилось отвергнуть нулевую гипотезу, нет оснований считать доли разными\n",
      "\n"
     ]
    }
   ],
   "source": [
    "# Применим функцию stat_difference\n",
    "\n",
    "for e in events:\n",
    "    value, event = stat_difference(data_1, data_2, e)\n",
    "    print(f'Событие: {event}\\np-value: {value}')\n",
    "    if value < alpha:\n",
    "        print('Отвергаем нулевую гипотезу: между долями есть значимая разница\\n')\n",
    "    else:\n",
    "        print('Не получилось отвергнуть нулевую гипотезу, нет оснований считать доли разными\\n')"
   ]
  },
  {
   "cell_type": "markdown",
   "metadata": {},
   "source": [
    "**Вывод:**\n",
    "\n",
    "Статистически значимой разницы между выборками 246 и 247 не обнаружено. Разбиение на группы работает корректно"
   ]
  },
  {
   "cell_type": "markdown",
   "metadata": {},
   "source": [
    "### Аналогично сравним каждую из контрольных групп в отдельности по каждому событию. Сравним результаты с объединённой контрольной группой"
   ]
  },
  {
   "cell_type": "markdown",
   "metadata": {},
   "source": [
    "Сравним результаты экспериментальной группы с контрольной группой 246\n",
    "\n",
    "Если уровень значимости (p-value) окажется меньше критического уровеня в 0.05, гипотеза о равенстве долей пользователей, совершивших определенное событие, для двух генеральных совокупностей ($H_0$) будет отвегрнута\n",
    "\n",
    "$H_0$ - Отсутствует статистически значимое различие между группами\n",
    "\n",
    "$H_1$ - Различие между группами статистически значимо"
   ]
  },
  {
   "cell_type": "code",
   "execution_count": 79,
   "metadata": {},
   "outputs": [
    {
     "name": "stdout",
     "output_type": "stream",
     "text": [
      "Событие: MainScreenAppear\n",
      "p-value: 0.348\n",
      "Не получилось отвергнуть нулевую гипотезу, нет оснований считать доли разными\n",
      "\n",
      "Событие: OffersScreenAppear\n",
      "p-value: 0.223\n",
      "Не получилось отвергнуть нулевую гипотезу, нет оснований считать доли разными\n",
      "\n",
      "Событие: CartScreenAppear\n",
      "p-value: 0.086\n",
      "Не получилось отвергнуть нулевую гипотезу, нет оснований считать доли разными\n",
      "\n",
      "Событие: PaymentScreenSuccessful\n",
      "p-value: 0.218\n",
      "Не получилось отвергнуть нулевую гипотезу, нет оснований считать доли разными\n",
      "\n",
      "Событие: Tutorial\n",
      "p-value: 0.893\n",
      "Не получилось отвергнуть нулевую гипотезу, нет оснований считать доли разными\n",
      "\n"
     ]
    }
   ],
   "source": [
    "for e in events:\n",
    "    value, event = stat_difference_2(data_1, data_3, e)\n",
    "    print(f'Событие: {event}\\np-value: {value}')\n",
    "    if value < alpha:\n",
    "        print('Отвергаем нулевую гипотезу: между долями есть значимая разница\\n')\n",
    "    else:\n",
    "        print('Не получилось отвергнуть нулевую гипотезу, нет оснований считать доли разными\\n')"
   ]
  },
  {
   "cell_type": "markdown",
   "metadata": {},
   "source": [
    "Сравним результаты экспериментальной группы с контрольной группой 247"
   ]
  },
  {
   "cell_type": "code",
   "execution_count": 80,
   "metadata": {},
   "outputs": [
    {
     "name": "stdout",
     "output_type": "stream",
     "text": [
      "Событие: MainScreenAppear\n",
      "p-value: 0.603\n",
      "Не получилось отвергнуть нулевую гипотезу, нет оснований считать доли разными\n",
      "\n",
      "Событие: OffersScreenAppear\n",
      "p-value: 0.856\n",
      "Не получилось отвергнуть нулевую гипотезу, нет оснований считать доли разными\n",
      "\n",
      "Событие: CartScreenAppear\n",
      "p-value: 0.617\n",
      "Не получилось отвергнуть нулевую гипотезу, нет оснований считать доли разными\n",
      "\n",
      "Событие: PaymentScreenSuccessful\n",
      "p-value: 0.697\n",
      "Не получилось отвергнуть нулевую гипотезу, нет оснований считать доли разными\n",
      "\n",
      "Событие: Tutorial\n",
      "p-value: 0.807\n",
      "Не получилось отвергнуть нулевую гипотезу, нет оснований считать доли разными\n",
      "\n"
     ]
    }
   ],
   "source": [
    "for e in events:\n",
    "    value, event = stat_difference_2(data_2, data_3, e)\n",
    "    print(f'Событие: {event}\\np-value: {value}')\n",
    "    if value < alpha:\n",
    "        print('Отвергаем нулевую гипотезу: между долями есть значимая разница\\n')\n",
    "    else:\n",
    "        print('Не получилось отвергнуть нулевую гипотезу, нет оснований считать доли разными\\n')"
   ]
  },
  {
   "cell_type": "markdown",
   "metadata": {},
   "source": [
    "Сравним результаты экспериментальной группы с объединённой контрольной группой"
   ]
  },
  {
   "cell_type": "code",
   "execution_count": 81,
   "metadata": {},
   "outputs": [
    {
     "name": "stdout",
     "output_type": "stream",
     "text": [
      "Событие: MainScreenAppear\n",
      "p-value: 0.395\n",
      "Не получилось отвергнуть нулевую гипотезу, нет оснований считать доли разными\n",
      "\n",
      "Событие: OffersScreenAppear\n",
      "p-value: 0.42\n",
      "Не получилось отвергнуть нулевую гипотезу, нет оснований считать доли разными\n",
      "\n",
      "Событие: CartScreenAppear\n",
      "p-value: 0.201\n",
      "Не получилось отвергнуть нулевую гипотезу, нет оснований считать доли разными\n",
      "\n",
      "Событие: PaymentScreenSuccessful\n",
      "p-value: 0.629\n",
      "Не получилось отвергнуть нулевую гипотезу, нет оснований считать доли разными\n",
      "\n",
      "Событие: Tutorial\n",
      "p-value: 0.827\n",
      "Не получилось отвергнуть нулевую гипотезу, нет оснований считать доли разными\n",
      "\n"
     ]
    }
   ],
   "source": [
    "data_4 = df.query('exp_id != 248')\n",
    "\n",
    "for e in events:\n",
    "    value, event = stat_difference_2(data_4, data_3, e)\n",
    "    print(f'Событие: {event}\\np-value: {value}')\n",
    "    if value < alpha:\n",
    "        print('Отвергаем нулевую гипотезу: между долями есть значимая разница\\n')\n",
    "    else:\n",
    "        print('Не получилось отвергнуть нулевую гипотезу, нет оснований считать доли разными\\n')"
   ]
  },
  {
   "cell_type": "markdown",
   "metadata": {},
   "source": [
    "**Вывод:**\n",
    "\n",
    "Эксперимент выявил отсутствие значимых различий в поведении пользователей при смене шрифтов в приложении"
   ]
  },
  {
   "cell_type": "markdown",
   "metadata": {},
   "source": [
    "В качестве уровня статистической значимости был выбран 0.05\n",
    "\n",
    "Проводилось по 5 проверок статистических гипотез\n",
    "\n",
    "При проведении нескольких сравнений, проводимых на одних и тех же данных, вероятность ошибки\n",
    "первого рода (когда отвергнута верная нулевая гипотеза) увеличивается с каждой новой проверкой гипотезы. Т.к. у нас ни разу не получилось отвергнуть нулевую гипотезу, ошибок первого рода быть не могло и изменение уровня alpha не скажется на результате проверок"
   ]
  },
  {
   "cell_type": "markdown",
   "metadata": {},
   "source": [
    "## Общие выводы"
   ]
  },
  {
   "cell_type": "markdown",
   "metadata": {},
   "source": [
    "- Обнаружена аномально низкая конверсия пользователей при переходе с главной страницы сайта на страницу товара\n",
    "- A/A/B-эксперимент выявил отсутствие значимых различий в поведении пользователей при смене шрифтов в приложении, но мы не можем быть уверены в точности результатов т.к. количество пользователей в сравниваемых группах отличается более, чем на 1%\n",
    "\n",
    "Рекомендую продолжить сбор данных для эксперимента и провести повторную проверку гипотез когда различие в количестве пользователей в сравниваемых группах будет менее 1%"
   ]
  }
 ],
 "metadata": {
  "ExecuteTimeLog": [
   {
    "duration": 1356,
    "start_time": "2022-02-17T12:39:39.032Z"
   },
   {
    "duration": 19,
    "start_time": "2022-02-17T12:40:14.927Z"
   },
   {
    "duration": 619,
    "start_time": "2022-02-17T12:40:22.119Z"
   },
   {
    "duration": 843,
    "start_time": "2022-02-17T12:40:26.383Z"
   },
   {
    "duration": 324,
    "start_time": "2022-02-17T12:40:46.120Z"
   },
   {
    "duration": 26365,
    "start_time": "2022-02-17T12:40:52.280Z"
   },
   {
    "duration": 444,
    "start_time": "2022-02-17T12:41:22.927Z"
   },
   {
    "duration": 1421,
    "start_time": "2022-02-17T12:41:31.872Z"
   },
   {
    "duration": 182,
    "start_time": "2022-02-17T12:42:16.777Z"
   },
   {
    "duration": 10,
    "start_time": "2022-02-17T12:42:21.362Z"
   },
   {
    "duration": 253,
    "start_time": "2022-02-17T12:42:34.754Z"
   },
   {
    "duration": 186,
    "start_time": "2022-02-17T12:42:42.458Z"
   },
   {
    "duration": 67,
    "start_time": "2022-02-17T12:45:07.694Z"
   },
   {
    "duration": 73,
    "start_time": "2022-02-17T12:45:32.470Z"
   },
   {
    "duration": 93,
    "start_time": "2022-02-17T12:46:03.527Z"
   },
   {
    "duration": 106,
    "start_time": "2022-02-17T12:46:07.743Z"
   },
   {
    "duration": 91,
    "start_time": "2022-02-17T12:46:11.551Z"
   },
   {
    "duration": 87,
    "start_time": "2022-02-17T12:49:07.787Z"
   },
   {
    "duration": 171,
    "start_time": "2022-02-17T12:49:24.532Z"
   },
   {
    "duration": 176,
    "start_time": "2022-02-17T12:49:26.525Z"
   },
   {
    "duration": 149,
    "start_time": "2022-02-17T12:49:51.837Z"
   },
   {
    "duration": 142,
    "start_time": "2022-02-17T12:50:09.462Z"
   },
   {
    "duration": 354,
    "start_time": "2022-02-17T12:55:09.637Z"
   },
   {
    "duration": 4,
    "start_time": "2022-02-17T12:55:16.469Z"
   },
   {
    "duration": 11,
    "start_time": "2022-02-17T12:55:26.797Z"
   },
   {
    "duration": 167,
    "start_time": "2022-02-17T13:02:07.168Z"
   },
   {
    "duration": 315,
    "start_time": "2022-02-17T13:14:35.337Z"
   },
   {
    "duration": 10515,
    "start_time": "2022-02-17T13:14:47.034Z"
   },
   {
    "duration": 8488,
    "start_time": "2022-02-17T13:15:45.499Z"
   },
   {
    "duration": 11,
    "start_time": "2022-02-17T13:16:05.675Z"
   },
   {
    "duration": 10,
    "start_time": "2022-02-17T13:16:10.371Z"
   },
   {
    "duration": 3,
    "start_time": "2022-02-17T13:16:16.587Z"
   },
   {
    "duration": 11,
    "start_time": "2022-02-17T13:16:21.728Z"
   },
   {
    "duration": 12,
    "start_time": "2022-02-17T13:16:42.356Z"
   },
   {
    "duration": 10,
    "start_time": "2022-02-17T13:16:47.244Z"
   },
   {
    "duration": 10,
    "start_time": "2022-02-17T13:16:52.124Z"
   },
   {
    "duration": 11,
    "start_time": "2022-02-17T13:17:03.188Z"
   },
   {
    "duration": 11,
    "start_time": "2022-02-17T13:17:09.276Z"
   },
   {
    "duration": 21,
    "start_time": "2022-02-17T13:17:32.404Z"
   },
   {
    "duration": 33,
    "start_time": "2022-02-17T13:26:50.539Z"
   },
   {
    "duration": 13,
    "start_time": "2022-02-17T13:26:53.396Z"
   },
   {
    "duration": 365,
    "start_time": "2022-02-17T13:30:39.992Z"
   },
   {
    "duration": 337,
    "start_time": "2022-02-17T13:30:49.544Z"
   },
   {
    "duration": 330,
    "start_time": "2022-02-17T13:31:01.441Z"
   },
   {
    "duration": 1466,
    "start_time": "2022-02-17T13:32:03.491Z"
   },
   {
    "duration": 15,
    "start_time": "2022-02-17T13:32:07.227Z"
   },
   {
    "duration": 1255,
    "start_time": "2022-02-17T13:33:57.717Z"
   },
   {
    "duration": 13,
    "start_time": "2022-02-17T13:34:00.570Z"
   },
   {
    "duration": 16,
    "start_time": "2022-02-17T13:34:02.534Z"
   },
   {
    "duration": 185,
    "start_time": "2022-02-17T13:36:46.661Z"
   },
   {
    "duration": 95,
    "start_time": "2022-02-17T13:36:46.848Z"
   },
   {
    "duration": 157,
    "start_time": "2022-02-17T13:36:46.946Z"
   },
   {
    "duration": 5,
    "start_time": "2022-02-17T13:36:47.109Z"
   },
   {
    "duration": 1486,
    "start_time": "2022-02-17T13:36:47.117Z"
   },
   {
    "duration": 18,
    "start_time": "2022-02-17T13:36:48.610Z"
   },
   {
    "duration": 661,
    "start_time": "2022-02-21T18:17:33.780Z"
   },
   {
    "duration": 56,
    "start_time": "2022-02-21T18:17:34.443Z"
   },
   {
    "duration": 130,
    "start_time": "2022-02-21T18:17:34.501Z"
   },
   {
    "duration": 3,
    "start_time": "2022-02-21T18:17:34.633Z"
   },
   {
    "duration": 805,
    "start_time": "2022-02-21T18:17:34.638Z"
   },
   {
    "duration": 9,
    "start_time": "2022-02-21T18:17:35.444Z"
   },
   {
    "duration": 6,
    "start_time": "2022-02-21T18:17:48.502Z"
   },
   {
    "duration": 12,
    "start_time": "2022-02-21T18:17:53.446Z"
   },
   {
    "duration": 38,
    "start_time": "2022-02-21T18:18:19.191Z"
   },
   {
    "duration": 11,
    "start_time": "2022-02-21T18:18:52.505Z"
   },
   {
    "duration": 6,
    "start_time": "2022-02-21T18:20:15.715Z"
   },
   {
    "duration": 16,
    "start_time": "2022-02-21T18:21:10.829Z"
   },
   {
    "duration": 14,
    "start_time": "2022-02-21T18:22:05.836Z"
   },
   {
    "duration": 14,
    "start_time": "2022-02-21T18:22:15.517Z"
   },
   {
    "duration": 18,
    "start_time": "2022-02-21T18:24:18.536Z"
   },
   {
    "duration": 36,
    "start_time": "2022-02-21T18:24:48.177Z"
   },
   {
    "duration": 17,
    "start_time": "2022-02-21T18:24:55.345Z"
   },
   {
    "duration": 322,
    "start_time": "2022-02-21T18:25:27.313Z"
   },
   {
    "duration": 23,
    "start_time": "2022-02-21T18:28:52.495Z"
   },
   {
    "duration": 21,
    "start_time": "2022-02-21T18:28:54.832Z"
   },
   {
    "duration": 42,
    "start_time": "2022-02-21T18:29:00.855Z"
   },
   {
    "duration": 19,
    "start_time": "2022-02-21T18:29:04.103Z"
   },
   {
    "duration": 32,
    "start_time": "2022-02-21T18:34:00.511Z"
   },
   {
    "duration": 34,
    "start_time": "2022-02-21T18:34:14.422Z"
   },
   {
    "duration": 18,
    "start_time": "2022-02-21T18:34:33.718Z"
   },
   {
    "duration": 17,
    "start_time": "2022-02-21T18:34:36.182Z"
   },
   {
    "duration": 35,
    "start_time": "2022-02-21T18:34:38.710Z"
   },
   {
    "duration": 19,
    "start_time": "2022-02-21T18:34:58.046Z"
   },
   {
    "duration": 31,
    "start_time": "2022-02-21T18:35:53.033Z"
   },
   {
    "duration": 32,
    "start_time": "2022-02-21T18:35:56.180Z"
   },
   {
    "duration": 212,
    "start_time": "2022-02-21T18:37:07.202Z"
   },
   {
    "duration": 13,
    "start_time": "2022-02-21T18:37:48.763Z"
   },
   {
    "duration": 195,
    "start_time": "2022-02-21T18:37:53.235Z"
   },
   {
    "duration": 207,
    "start_time": "2022-02-21T18:42:19.247Z"
   },
   {
    "duration": 483,
    "start_time": "2022-02-21T18:46:01.616Z"
   },
   {
    "duration": 183,
    "start_time": "2022-02-21T18:46:43.930Z"
   },
   {
    "duration": 3208,
    "start_time": "2022-02-21T18:46:49.520Z"
   },
   {
    "duration": 125,
    "start_time": "2022-02-21T18:47:17.668Z"
   },
   {
    "duration": 51,
    "start_time": "2022-02-21T18:47:17.795Z"
   },
   {
    "duration": 95,
    "start_time": "2022-02-21T18:47:17.849Z"
   },
   {
    "duration": 3,
    "start_time": "2022-02-21T18:47:17.946Z"
   },
   {
    "duration": 873,
    "start_time": "2022-02-21T18:47:17.950Z"
   },
   {
    "duration": 11,
    "start_time": "2022-02-21T18:47:18.825Z"
   },
   {
    "duration": 34,
    "start_time": "2022-02-21T18:47:18.838Z"
   },
   {
    "duration": 12,
    "start_time": "2022-02-21T18:47:18.875Z"
   },
   {
    "duration": 7,
    "start_time": "2022-02-21T18:47:18.889Z"
   },
   {
    "duration": 41,
    "start_time": "2022-02-21T18:47:18.898Z"
   },
   {
    "duration": 31,
    "start_time": "2022-02-21T18:47:18.941Z"
   },
   {
    "duration": 227,
    "start_time": "2022-02-21T18:47:18.974Z"
   },
   {
    "duration": 244,
    "start_time": "2022-02-21T18:48:27.267Z"
   },
   {
    "duration": 142,
    "start_time": "2022-02-21T18:48:39.211Z"
   },
   {
    "duration": 47,
    "start_time": "2022-02-21T18:48:39.355Z"
   },
   {
    "duration": 119,
    "start_time": "2022-02-21T18:48:39.404Z"
   },
   {
    "duration": 5,
    "start_time": "2022-02-21T18:48:39.525Z"
   },
   {
    "duration": 883,
    "start_time": "2022-02-21T18:48:39.531Z"
   },
   {
    "duration": 18,
    "start_time": "2022-02-21T18:48:40.416Z"
   },
   {
    "duration": 40,
    "start_time": "2022-02-21T18:48:40.436Z"
   },
   {
    "duration": 12,
    "start_time": "2022-02-21T18:48:40.479Z"
   },
   {
    "duration": 12,
    "start_time": "2022-02-21T18:48:40.492Z"
   },
   {
    "duration": 31,
    "start_time": "2022-02-21T18:48:40.506Z"
   },
   {
    "duration": 35,
    "start_time": "2022-02-21T18:48:40.539Z"
   },
   {
    "duration": 281,
    "start_time": "2022-02-21T18:48:40.575Z"
   },
   {
    "duration": 48,
    "start_time": "2022-02-21T18:49:21.357Z"
   },
   {
    "duration": 13,
    "start_time": "2022-02-21T18:49:24.123Z"
   },
   {
    "duration": 123,
    "start_time": "2022-02-21T18:49:53.556Z"
   },
   {
    "duration": 128,
    "start_time": "2022-02-21T18:50:26.909Z"
   },
   {
    "duration": 38,
    "start_time": "2022-02-21T18:50:43.134Z"
   },
   {
    "duration": 29,
    "start_time": "2022-02-21T18:51:00.367Z"
   },
   {
    "duration": 44,
    "start_time": "2022-02-21T18:56:53.921Z"
   },
   {
    "duration": 479,
    "start_time": "2022-02-21T18:57:02.519Z"
   },
   {
    "duration": 40,
    "start_time": "2022-02-21T18:57:08.912Z"
   },
   {
    "duration": 656,
    "start_time": "2022-02-21T18:59:12.643Z"
   },
   {
    "duration": 546,
    "start_time": "2022-02-21T18:59:50.740Z"
   },
   {
    "duration": 25,
    "start_time": "2022-02-21T19:01:45.494Z"
   },
   {
    "duration": 14,
    "start_time": "2022-02-21T19:02:05.727Z"
   },
   {
    "duration": 31,
    "start_time": "2022-02-21T19:02:08.991Z"
   },
   {
    "duration": 39,
    "start_time": "2022-02-21T19:02:43.752Z"
   },
   {
    "duration": 22,
    "start_time": "2022-02-21T19:02:46.319Z"
   },
   {
    "duration": 20,
    "start_time": "2022-02-21T19:02:53.200Z"
   },
   {
    "duration": 14,
    "start_time": "2022-02-21T19:03:19.857Z"
   },
   {
    "duration": 20,
    "start_time": "2022-02-21T19:03:24.145Z"
   },
   {
    "duration": 21,
    "start_time": "2022-02-21T19:03:30.000Z"
   },
   {
    "duration": 24,
    "start_time": "2022-02-21T19:03:47.705Z"
   },
   {
    "duration": 17,
    "start_time": "2022-02-21T19:03:54.433Z"
   },
   {
    "duration": 15,
    "start_time": "2022-02-21T19:04:17.378Z"
   },
   {
    "duration": 18,
    "start_time": "2022-02-21T19:04:22.762Z"
   },
   {
    "duration": 24,
    "start_time": "2022-02-21T19:06:55.430Z"
   },
   {
    "duration": 24,
    "start_time": "2022-02-21T19:07:57.335Z"
   },
   {
    "duration": 42,
    "start_time": "2022-02-21T19:08:29.704Z"
   },
   {
    "duration": 11,
    "start_time": "2022-02-21T19:16:15.795Z"
   },
   {
    "duration": 5,
    "start_time": "2022-02-21T19:17:17.333Z"
   },
   {
    "duration": 12,
    "start_time": "2022-02-21T19:19:37.712Z"
   },
   {
    "duration": 11,
    "start_time": "2022-02-21T19:19:55.312Z"
   },
   {
    "duration": 20,
    "start_time": "2022-02-21T19:19:59.241Z"
   },
   {
    "duration": 12,
    "start_time": "2022-02-21T19:20:19.458Z"
   },
   {
    "duration": 12,
    "start_time": "2022-02-21T19:20:23.057Z"
   },
   {
    "duration": 13,
    "start_time": "2022-02-21T19:20:25.537Z"
   },
   {
    "duration": 20,
    "start_time": "2022-02-21T19:20:37.698Z"
   },
   {
    "duration": 20,
    "start_time": "2022-02-21T19:21:05.162Z"
   },
   {
    "duration": 12,
    "start_time": "2022-02-21T19:21:18.555Z"
   },
   {
    "duration": 13,
    "start_time": "2022-02-21T19:22:05.164Z"
   },
   {
    "duration": 20,
    "start_time": "2022-02-21T19:22:29.964Z"
   },
   {
    "duration": 20,
    "start_time": "2022-02-21T19:24:26.183Z"
   },
   {
    "duration": 7,
    "start_time": "2022-02-21T19:26:30.978Z"
   },
   {
    "duration": 8,
    "start_time": "2022-02-21T19:26:44.187Z"
   },
   {
    "duration": 7,
    "start_time": "2022-02-21T19:27:39.516Z"
   },
   {
    "duration": 22,
    "start_time": "2022-02-21T19:27:41.742Z"
   },
   {
    "duration": 27,
    "start_time": "2022-02-21T19:29:07.246Z"
   },
   {
    "duration": 9,
    "start_time": "2022-02-21T19:29:46.751Z"
   },
   {
    "duration": 41,
    "start_time": "2022-02-21T19:30:34.200Z"
   },
   {
    "duration": 756,
    "start_time": "2022-02-23T10:47:35.101Z"
   },
   {
    "duration": 55,
    "start_time": "2022-02-23T10:47:35.858Z"
   },
   {
    "duration": 131,
    "start_time": "2022-02-23T10:47:35.915Z"
   },
   {
    "duration": 3,
    "start_time": "2022-02-23T10:47:36.047Z"
   },
   {
    "duration": 859,
    "start_time": "2022-02-23T10:47:36.052Z"
   },
   {
    "duration": 8,
    "start_time": "2022-02-23T10:47:36.913Z"
   },
   {
    "duration": 11,
    "start_time": "2022-02-23T10:47:36.930Z"
   },
   {
    "duration": 15,
    "start_time": "2022-02-23T10:47:36.942Z"
   },
   {
    "duration": 13,
    "start_time": "2022-02-23T10:47:36.959Z"
   },
   {
    "duration": 32,
    "start_time": "2022-02-23T10:47:36.974Z"
   },
   {
    "duration": 287,
    "start_time": "2022-02-23T10:47:37.008Z"
   },
   {
    "duration": 44,
    "start_time": "2022-02-23T10:47:37.296Z"
   },
   {
    "duration": 24,
    "start_time": "2022-02-23T10:47:37.342Z"
   },
   {
    "duration": 19,
    "start_time": "2022-02-23T10:47:37.368Z"
   },
   {
    "duration": 7,
    "start_time": "2022-02-23T10:47:37.388Z"
   },
   {
    "duration": 38,
    "start_time": "2022-02-23T10:47:37.396Z"
   },
   {
    "duration": 9,
    "start_time": "2022-02-23T10:48:02.102Z"
   },
   {
    "duration": 28,
    "start_time": "2022-02-23T10:48:31.377Z"
   },
   {
    "duration": 27,
    "start_time": "2022-02-23T10:48:58.745Z"
   },
   {
    "duration": 28,
    "start_time": "2022-02-23T10:49:10.481Z"
   },
   {
    "duration": 45,
    "start_time": "2022-02-23T10:53:51.287Z"
   },
   {
    "duration": 45,
    "start_time": "2022-02-23T10:53:59.704Z"
   },
   {
    "duration": 6,
    "start_time": "2022-02-23T10:58:37.671Z"
   },
   {
    "duration": 49,
    "start_time": "2022-02-23T10:59:25.977Z"
   },
   {
    "duration": 68,
    "start_time": "2022-02-23T11:00:21.505Z"
   },
   {
    "duration": 244,
    "start_time": "2022-02-23T11:00:48.634Z"
   },
   {
    "duration": 52,
    "start_time": "2022-02-23T11:00:53.181Z"
   },
   {
    "duration": 375,
    "start_time": "2022-02-23T11:00:56.587Z"
   },
   {
    "duration": 51,
    "start_time": "2022-02-23T11:01:18.556Z"
   },
   {
    "duration": 49,
    "start_time": "2022-02-23T11:01:30.801Z"
   },
   {
    "duration": 47,
    "start_time": "2022-02-23T11:05:53.227Z"
   },
   {
    "duration": 48,
    "start_time": "2022-02-23T11:05:58.937Z"
   },
   {
    "duration": 47,
    "start_time": "2022-02-23T11:06:12.035Z"
   },
   {
    "duration": 40,
    "start_time": "2022-02-23T11:06:40.660Z"
   },
   {
    "duration": 47,
    "start_time": "2022-02-23T11:06:45.843Z"
   },
   {
    "duration": 181,
    "start_time": "2022-02-23T11:07:13.964Z"
   },
   {
    "duration": 172,
    "start_time": "2022-02-23T11:07:27.171Z"
   },
   {
    "duration": 47,
    "start_time": "2022-02-23T11:08:36.982Z"
   },
   {
    "duration": 47,
    "start_time": "2022-02-23T11:12:28.322Z"
   },
   {
    "duration": 74,
    "start_time": "2022-02-23T11:12:36.954Z"
   },
   {
    "duration": 60,
    "start_time": "2022-02-23T11:12:46.002Z"
   },
   {
    "duration": 48,
    "start_time": "2022-02-23T11:12:56.850Z"
   },
   {
    "duration": 47,
    "start_time": "2022-02-23T11:13:05.786Z"
   },
   {
    "duration": 46,
    "start_time": "2022-02-23T11:13:21.674Z"
   },
   {
    "duration": 49,
    "start_time": "2022-02-23T11:13:30.971Z"
   },
   {
    "duration": 47,
    "start_time": "2022-02-23T11:13:39.747Z"
   },
   {
    "duration": 48,
    "start_time": "2022-02-23T11:14:03.076Z"
   },
   {
    "duration": 146,
    "start_time": "2022-02-23T11:22:44.279Z"
   },
   {
    "duration": 163,
    "start_time": "2022-02-23T11:23:12.672Z"
   },
   {
    "duration": 23,
    "start_time": "2022-02-23T11:23:25.673Z"
   },
   {
    "duration": 14,
    "start_time": "2022-02-23T11:23:39.778Z"
   },
   {
    "duration": 3,
    "start_time": "2022-02-23T11:23:52.360Z"
   },
   {
    "duration": 4,
    "start_time": "2022-02-23T11:23:56.816Z"
   },
   {
    "duration": 20,
    "start_time": "2022-02-23T11:24:17.393Z"
   },
   {
    "duration": 125,
    "start_time": "2022-02-23T11:24:27.489Z"
   },
   {
    "duration": 22,
    "start_time": "2022-02-23T11:24:32.882Z"
   },
   {
    "duration": 27,
    "start_time": "2022-02-23T11:25:32.235Z"
   },
   {
    "duration": 29,
    "start_time": "2022-02-23T11:26:16.220Z"
   },
   {
    "duration": 46,
    "start_time": "2022-02-23T11:27:03.925Z"
   },
   {
    "duration": 174,
    "start_time": "2022-02-23T11:27:36.542Z"
   },
   {
    "duration": 163,
    "start_time": "2022-02-23T11:27:47.007Z"
   },
   {
    "duration": 50,
    "start_time": "2022-02-23T11:28:01.895Z"
   },
   {
    "duration": 50,
    "start_time": "2022-02-23T11:29:38.985Z"
   },
   {
    "duration": 46,
    "start_time": "2022-02-23T11:29:55.787Z"
   },
   {
    "duration": 158,
    "start_time": "2022-02-23T11:30:18.474Z"
   },
   {
    "duration": 46,
    "start_time": "2022-02-23T11:30:24.406Z"
   },
   {
    "duration": 44,
    "start_time": "2022-02-23T11:30:35.266Z"
   },
   {
    "duration": 40,
    "start_time": "2022-02-23T11:30:37.362Z"
   },
   {
    "duration": 41,
    "start_time": "2022-02-23T11:30:49.274Z"
   },
   {
    "duration": 44,
    "start_time": "2022-02-23T11:30:54.891Z"
   },
   {
    "duration": 42,
    "start_time": "2022-02-23T11:31:13.082Z"
   },
   {
    "duration": 42,
    "start_time": "2022-02-23T11:32:04.868Z"
   },
   {
    "duration": 40,
    "start_time": "2022-02-23T11:32:56.349Z"
   },
   {
    "duration": 42,
    "start_time": "2022-02-23T11:33:02.613Z"
   },
   {
    "duration": 40,
    "start_time": "2022-02-23T11:33:13.677Z"
   },
   {
    "duration": 366,
    "start_time": "2022-02-23T11:39:30.190Z"
   },
   {
    "duration": 165,
    "start_time": "2022-02-23T11:42:38.803Z"
   },
   {
    "duration": 227,
    "start_time": "2022-02-23T11:43:15.219Z"
   },
   {
    "duration": 131,
    "start_time": "2022-02-23T11:43:21.334Z"
   },
   {
    "duration": 167,
    "start_time": "2022-02-23T11:43:23.300Z"
   },
   {
    "duration": 130,
    "start_time": "2022-02-23T11:43:49.949Z"
   },
   {
    "duration": 8,
    "start_time": "2022-02-23T11:44:10.053Z"
   },
   {
    "duration": 132,
    "start_time": "2022-02-23T11:44:42.304Z"
   },
   {
    "duration": 44,
    "start_time": "2022-02-23T11:44:42.438Z"
   },
   {
    "duration": 105,
    "start_time": "2022-02-23T11:44:42.484Z"
   },
   {
    "duration": 2,
    "start_time": "2022-02-23T11:44:42.591Z"
   },
   {
    "duration": 915,
    "start_time": "2022-02-23T11:44:42.595Z"
   },
   {
    "duration": 9,
    "start_time": "2022-02-23T11:44:43.512Z"
   },
   {
    "duration": 11,
    "start_time": "2022-02-23T11:44:43.530Z"
   },
   {
    "duration": 8,
    "start_time": "2022-02-23T11:44:43.543Z"
   },
   {
    "duration": 15,
    "start_time": "2022-02-23T11:44:43.553Z"
   },
   {
    "duration": 32,
    "start_time": "2022-02-23T11:44:43.570Z"
   },
   {
    "duration": 279,
    "start_time": "2022-02-23T11:44:43.604Z"
   },
   {
    "duration": 35,
    "start_time": "2022-02-23T11:44:43.885Z"
   },
   {
    "duration": 25,
    "start_time": "2022-02-23T11:44:43.931Z"
   },
   {
    "duration": 19,
    "start_time": "2022-02-23T11:44:43.958Z"
   },
   {
    "duration": 7,
    "start_time": "2022-02-23T11:44:43.979Z"
   },
   {
    "duration": 7,
    "start_time": "2022-02-23T11:44:43.988Z"
   },
   {
    "duration": 55,
    "start_time": "2022-02-23T11:44:43.996Z"
   },
   {
    "duration": 49,
    "start_time": "2022-02-23T11:44:44.053Z"
   },
   {
    "duration": 51,
    "start_time": "2022-02-23T11:44:44.103Z"
   },
   {
    "duration": 235,
    "start_time": "2022-02-23T11:44:44.156Z"
   },
   {
    "duration": 385,
    "start_time": "2022-02-23T11:44:44.008Z"
   },
   {
    "duration": 159,
    "start_time": "2022-02-23T11:44:57.159Z"
   },
   {
    "duration": 261,
    "start_time": "2022-02-23T11:45:10.519Z"
   },
   {
    "duration": 41,
    "start_time": "2022-02-23T11:45:16.710Z"
   },
   {
    "duration": 36,
    "start_time": "2022-02-23T11:45:19.063Z"
   },
   {
    "duration": 39,
    "start_time": "2022-02-23T11:45:24.822Z"
   },
   {
    "duration": 41,
    "start_time": "2022-02-23T11:45:52.271Z"
   },
   {
    "duration": 187,
    "start_time": "2022-02-23T11:46:37.761Z"
   },
   {
    "duration": 43,
    "start_time": "2022-02-23T11:46:48.961Z"
   },
   {
    "duration": 130,
    "start_time": "2022-02-23T11:47:08.555Z"
   },
   {
    "duration": 3,
    "start_time": "2022-02-23T11:57:05.864Z"
   },
   {
    "duration": 50,
    "start_time": "2022-02-23T11:57:15.304Z"
   },
   {
    "duration": 73,
    "start_time": "2022-02-23T11:57:28.825Z"
   },
   {
    "duration": 44,
    "start_time": "2022-02-23T12:03:23.625Z"
   },
   {
    "duration": 52,
    "start_time": "2022-02-23T12:03:26.002Z"
   },
   {
    "duration": 48,
    "start_time": "2022-02-23T12:04:06.449Z"
   },
   {
    "duration": 44,
    "start_time": "2022-02-23T12:04:18.339Z"
   },
   {
    "duration": 44,
    "start_time": "2022-02-23T12:05:43.357Z"
   },
   {
    "duration": 43,
    "start_time": "2022-02-23T12:06:16.342Z"
   },
   {
    "duration": 395,
    "start_time": "2022-02-23T12:06:25.095Z"
   },
   {
    "duration": 230,
    "start_time": "2022-02-23T12:06:35.814Z"
   },
   {
    "duration": 224,
    "start_time": "2022-02-23T12:06:52.975Z"
   },
   {
    "duration": 362,
    "start_time": "2022-02-23T12:09:01.291Z"
   },
   {
    "duration": 230,
    "start_time": "2022-02-23T12:09:10.611Z"
   },
   {
    "duration": 232,
    "start_time": "2022-02-23T12:09:43.244Z"
   },
   {
    "duration": 355,
    "start_time": "2022-02-23T12:09:49.538Z"
   },
   {
    "duration": 224,
    "start_time": "2022-02-23T12:09:54.644Z"
   },
   {
    "duration": 238,
    "start_time": "2022-02-23T12:10:00.171Z"
   },
   {
    "duration": 45,
    "start_time": "2022-02-23T12:11:22.821Z"
   },
   {
    "duration": 69,
    "start_time": "2022-02-23T12:11:39.830Z"
   },
   {
    "duration": 138,
    "start_time": "2022-02-23T12:12:32.479Z"
   },
   {
    "duration": 56,
    "start_time": "2022-02-23T12:13:06.584Z"
   },
   {
    "duration": 218,
    "start_time": "2022-02-23T12:13:11.888Z"
   },
   {
    "duration": 212,
    "start_time": "2022-02-23T12:13:38.889Z"
   },
   {
    "duration": 56,
    "start_time": "2022-02-23T12:13:49.905Z"
   },
   {
    "duration": 85,
    "start_time": "2022-02-23T12:14:07.107Z"
   },
   {
    "duration": 61,
    "start_time": "2022-02-23T12:14:36.514Z"
   },
   {
    "duration": 41,
    "start_time": "2022-02-23T12:16:42.365Z"
   },
   {
    "duration": 3496,
    "start_time": "2022-02-23T12:16:51.501Z"
   },
   {
    "duration": 25,
    "start_time": "2022-02-23T12:17:03.984Z"
   },
   {
    "duration": 20,
    "start_time": "2022-02-23T12:17:28.790Z"
   },
   {
    "duration": 20,
    "start_time": "2022-02-23T12:17:37.510Z"
   },
   {
    "duration": 26,
    "start_time": "2022-02-23T12:17:59.006Z"
   },
   {
    "duration": 20,
    "start_time": "2022-02-23T12:18:11.392Z"
   },
   {
    "duration": 17,
    "start_time": "2022-02-23T12:18:34.944Z"
   },
   {
    "duration": 159,
    "start_time": "2022-02-23T12:19:13.577Z"
   },
   {
    "duration": 25,
    "start_time": "2022-02-23T12:19:43.603Z"
   },
   {
    "duration": 18,
    "start_time": "2022-02-23T12:20:50.956Z"
   },
   {
    "duration": 31,
    "start_time": "2022-02-23T12:20:59.067Z"
   },
   {
    "duration": 18,
    "start_time": "2022-02-23T12:21:43.556Z"
   },
   {
    "duration": 18,
    "start_time": "2022-02-23T12:21:45.661Z"
   },
   {
    "duration": 188,
    "start_time": "2022-02-23T12:21:50.726Z"
   },
   {
    "duration": 18,
    "start_time": "2022-02-23T12:22:07.053Z"
   },
   {
    "duration": 17,
    "start_time": "2022-02-23T12:22:10.717Z"
   },
   {
    "duration": 31,
    "start_time": "2022-02-23T12:22:16.910Z"
   },
   {
    "duration": 148,
    "start_time": "2022-02-23T12:22:37.005Z"
   },
   {
    "duration": 184,
    "start_time": "2022-02-23T12:22:59.029Z"
   },
   {
    "duration": 31,
    "start_time": "2022-02-23T12:23:06.110Z"
   },
   {
    "duration": 21,
    "start_time": "2022-02-23T12:23:29.302Z"
   },
   {
    "duration": 336,
    "start_time": "2022-02-23T12:23:39.151Z"
   },
   {
    "duration": 53,
    "start_time": "2022-02-23T12:23:49.063Z"
   },
   {
    "duration": 18,
    "start_time": "2022-02-23T12:24:14.616Z"
   },
   {
    "duration": 32,
    "start_time": "2022-02-23T12:24:18.023Z"
   },
   {
    "duration": 31,
    "start_time": "2022-02-23T12:24:25.664Z"
   },
   {
    "duration": 19,
    "start_time": "2022-02-23T12:25:28.505Z"
   },
   {
    "duration": 8,
    "start_time": "2022-02-23T12:25:52.801Z"
   },
   {
    "duration": 31,
    "start_time": "2022-02-23T12:28:55.510Z"
   },
   {
    "duration": 56,
    "start_time": "2022-02-23T12:29:28.320Z"
   },
   {
    "duration": 52,
    "start_time": "2022-02-23T12:31:54.315Z"
   },
   {
    "duration": 47,
    "start_time": "2022-02-23T12:32:15.596Z"
   },
   {
    "duration": 42,
    "start_time": "2022-02-23T12:33:34.382Z"
   },
   {
    "duration": 46,
    "start_time": "2022-02-23T12:33:45.070Z"
   },
   {
    "duration": 45,
    "start_time": "2022-02-23T12:34:07.494Z"
   },
   {
    "duration": 52,
    "start_time": "2022-02-23T12:34:30.015Z"
   },
   {
    "duration": 172,
    "start_time": "2022-02-23T12:36:36.018Z"
   },
   {
    "duration": 53,
    "start_time": "2022-02-23T12:36:41.506Z"
   },
   {
    "duration": 55,
    "start_time": "2022-02-23T12:37:18.091Z"
   },
   {
    "duration": 13,
    "start_time": "2022-02-23T12:44:59.949Z"
   },
   {
    "duration": 29,
    "start_time": "2022-02-23T13:00:23.380Z"
   },
   {
    "duration": 25,
    "start_time": "2022-02-23T13:01:15.696Z"
   },
   {
    "duration": 46,
    "start_time": "2022-02-23T13:01:26.078Z"
   },
   {
    "duration": 33,
    "start_time": "2022-02-23T13:02:47.865Z"
   },
   {
    "duration": 38,
    "start_time": "2022-02-23T13:03:07.472Z"
   },
   {
    "duration": 46,
    "start_time": "2022-02-23T13:03:36.586Z"
   },
   {
    "duration": 9,
    "start_time": "2022-02-23T13:05:05.323Z"
   },
   {
    "duration": 3488,
    "start_time": "2022-02-24T19:12:02.674Z"
   },
   {
    "duration": 367,
    "start_time": "2022-02-24T19:12:05.798Z"
   },
   {
    "duration": 363,
    "start_time": "2022-02-24T19:12:05.803Z"
   },
   {
    "duration": 360,
    "start_time": "2022-02-24T19:12:05.807Z"
   },
   {
    "duration": 356,
    "start_time": "2022-02-24T19:12:05.812Z"
   },
   {
    "duration": 352,
    "start_time": "2022-02-24T19:12:05.817Z"
   },
   {
    "duration": 349,
    "start_time": "2022-02-24T19:12:05.821Z"
   },
   {
    "duration": 347,
    "start_time": "2022-02-24T19:12:05.824Z"
   },
   {
    "duration": 343,
    "start_time": "2022-02-24T19:12:05.829Z"
   },
   {
    "duration": 339,
    "start_time": "2022-02-24T19:12:05.833Z"
   },
   {
    "duration": 336,
    "start_time": "2022-02-24T19:12:05.837Z"
   },
   {
    "duration": 335,
    "start_time": "2022-02-24T19:12:05.839Z"
   },
   {
    "duration": 334,
    "start_time": "2022-02-24T19:12:05.841Z"
   },
   {
    "duration": 333,
    "start_time": "2022-02-24T19:12:05.843Z"
   },
   {
    "duration": 331,
    "start_time": "2022-02-24T19:12:05.846Z"
   },
   {
    "duration": 330,
    "start_time": "2022-02-24T19:12:05.848Z"
   },
   {
    "duration": 328,
    "start_time": "2022-02-24T19:12:05.851Z"
   },
   {
    "duration": 326,
    "start_time": "2022-02-24T19:12:05.854Z"
   },
   {
    "duration": 316,
    "start_time": "2022-02-24T19:12:05.865Z"
   },
   {
    "duration": 314,
    "start_time": "2022-02-24T19:12:05.868Z"
   },
   {
    "duration": 312,
    "start_time": "2022-02-24T19:12:05.871Z"
   },
   {
    "duration": 311,
    "start_time": "2022-02-24T19:12:05.873Z"
   },
   {
    "duration": 310,
    "start_time": "2022-02-24T19:12:05.875Z"
   },
   {
    "duration": 309,
    "start_time": "2022-02-24T19:12:05.878Z"
   },
   {
    "duration": 307,
    "start_time": "2022-02-24T19:12:05.881Z"
   },
   {
    "duration": 303,
    "start_time": "2022-02-24T19:12:05.885Z"
   },
   {
    "duration": 302,
    "start_time": "2022-02-24T19:12:05.887Z"
   },
   {
    "duration": 301,
    "start_time": "2022-02-24T19:12:05.889Z"
   },
   {
    "duration": 300,
    "start_time": "2022-02-24T19:12:05.891Z"
   },
   {
    "duration": 299,
    "start_time": "2022-02-24T19:12:05.893Z"
   },
   {
    "duration": 297,
    "start_time": "2022-02-24T19:12:05.896Z"
   },
   {
    "duration": 1226,
    "start_time": "2022-02-24T19:12:53.651Z"
   },
   {
    "duration": 119,
    "start_time": "2022-02-24T19:13:09.053Z"
   },
   {
    "duration": 58,
    "start_time": "2022-02-24T19:13:09.174Z"
   },
   {
    "duration": 99,
    "start_time": "2022-02-24T19:13:09.235Z"
   },
   {
    "duration": 2,
    "start_time": "2022-02-24T19:13:09.336Z"
   },
   {
    "duration": 786,
    "start_time": "2022-02-24T19:13:09.339Z"
   },
   {
    "duration": 10,
    "start_time": "2022-02-24T19:13:10.127Z"
   },
   {
    "duration": 19,
    "start_time": "2022-02-24T19:13:10.139Z"
   },
   {
    "duration": 13,
    "start_time": "2022-02-24T19:13:10.160Z"
   },
   {
    "duration": 23,
    "start_time": "2022-02-24T19:13:10.175Z"
   },
   {
    "duration": 42,
    "start_time": "2022-02-24T19:13:10.200Z"
   },
   {
    "duration": 244,
    "start_time": "2022-02-24T19:13:10.243Z"
   },
   {
    "duration": 48,
    "start_time": "2022-02-24T19:13:10.489Z"
   },
   {
    "duration": 24,
    "start_time": "2022-02-24T19:13:10.539Z"
   },
   {
    "duration": 20,
    "start_time": "2022-02-24T19:13:10.564Z"
   },
   {
    "duration": 8,
    "start_time": "2022-02-24T19:13:10.585Z"
   },
   {
    "duration": 37,
    "start_time": "2022-02-24T19:13:10.594Z"
   },
   {
    "duration": 34,
    "start_time": "2022-02-24T19:13:10.633Z"
   },
   {
    "duration": 52,
    "start_time": "2022-02-24T19:13:10.669Z"
   },
   {
    "duration": 602,
    "start_time": "2022-02-24T19:13:10.722Z"
   },
   {
    "duration": 35,
    "start_time": "2022-02-24T19:13:11.326Z"
   },
   {
    "duration": 87,
    "start_time": "2022-02-24T19:13:11.363Z"
   },
   {
    "duration": 17,
    "start_time": "2022-02-24T19:13:11.451Z"
   },
   {
    "duration": 64,
    "start_time": "2022-02-24T19:13:11.471Z"
   },
   {
    "duration": 14,
    "start_time": "2022-02-24T19:13:11.536Z"
   },
   {
    "duration": 12,
    "start_time": "2022-02-24T19:13:11.551Z"
   },
   {
    "duration": 10,
    "start_time": "2022-02-24T19:13:11.565Z"
   },
   {
    "duration": 13,
    "start_time": "2022-02-24T19:13:11.576Z"
   },
   {
    "duration": 41,
    "start_time": "2022-02-24T19:13:11.591Z"
   },
   {
    "duration": 60,
    "start_time": "2022-02-24T19:13:11.634Z"
   },
   {
    "duration": 73,
    "start_time": "2022-02-24T19:13:11.696Z"
   },
   {
    "duration": 92,
    "start_time": "2022-02-24T19:13:11.771Z"
   },
   {
    "duration": 136,
    "start_time": "2022-02-24T19:14:53.456Z"
   },
   {
    "duration": 50,
    "start_time": "2022-02-24T19:14:53.594Z"
   },
   {
    "duration": 90,
    "start_time": "2022-02-24T19:14:53.646Z"
   },
   {
    "duration": 3,
    "start_time": "2022-02-24T19:14:53.738Z"
   },
   {
    "duration": 956,
    "start_time": "2022-02-24T19:14:53.743Z"
   },
   {
    "duration": 8,
    "start_time": "2022-02-24T19:14:54.701Z"
   },
   {
    "duration": 23,
    "start_time": "2022-02-24T19:14:54.710Z"
   },
   {
    "duration": 5,
    "start_time": "2022-02-24T19:14:54.735Z"
   },
   {
    "duration": 13,
    "start_time": "2022-02-24T19:14:54.742Z"
   },
   {
    "duration": 30,
    "start_time": "2022-02-24T19:14:54.756Z"
   },
   {
    "duration": 262,
    "start_time": "2022-02-24T19:14:54.787Z"
   },
   {
    "duration": 33,
    "start_time": "2022-02-24T19:14:55.050Z"
   },
   {
    "duration": 23,
    "start_time": "2022-02-24T19:14:55.085Z"
   },
   {
    "duration": 35,
    "start_time": "2022-02-24T19:14:55.109Z"
   },
   {
    "duration": 7,
    "start_time": "2022-02-24T19:14:55.145Z"
   },
   {
    "duration": 8,
    "start_time": "2022-02-24T19:14:55.153Z"
   },
   {
    "duration": 24,
    "start_time": "2022-02-24T19:14:55.162Z"
   },
   {
    "duration": 76,
    "start_time": "2022-02-24T19:14:55.188Z"
   },
   {
    "duration": 262,
    "start_time": "2022-02-24T19:14:55.265Z"
   },
   {
    "duration": 27,
    "start_time": "2022-02-24T19:14:55.532Z"
   },
   {
    "duration": 28,
    "start_time": "2022-02-24T19:14:55.561Z"
   },
   {
    "duration": 16,
    "start_time": "2022-02-24T19:14:55.590Z"
   },
   {
    "duration": 36,
    "start_time": "2022-02-24T19:14:55.609Z"
   },
   {
    "duration": 16,
    "start_time": "2022-02-24T19:14:55.647Z"
   },
   {
    "duration": 14,
    "start_time": "2022-02-24T19:14:55.664Z"
   },
   {
    "duration": 11,
    "start_time": "2022-02-24T19:14:55.680Z"
   },
   {
    "duration": 42,
    "start_time": "2022-02-24T19:14:55.692Z"
   },
   {
    "duration": 4,
    "start_time": "2022-02-24T19:14:55.735Z"
   },
   {
    "duration": 58,
    "start_time": "2022-02-24T19:14:55.740Z"
   },
   {
    "duration": 72,
    "start_time": "2022-02-24T19:14:55.799Z"
   },
   {
    "duration": 89,
    "start_time": "2022-02-24T19:14:55.873Z"
   },
   {
    "duration": 85,
    "start_time": "2022-02-25T10:26:44.789Z"
   },
   {
    "duration": 3622,
    "start_time": "2022-02-26T13:36:18.115Z"
   },
   {
    "duration": 90,
    "start_time": "2022-02-26T13:36:21.740Z"
   },
   {
    "duration": 155,
    "start_time": "2022-02-26T13:36:21.833Z"
   },
   {
    "duration": 3,
    "start_time": "2022-02-26T13:36:21.991Z"
   },
   {
    "duration": 1338,
    "start_time": "2022-02-26T13:36:21.996Z"
   },
   {
    "duration": 12,
    "start_time": "2022-02-26T13:36:23.337Z"
   },
   {
    "duration": 16,
    "start_time": "2022-02-26T13:36:23.351Z"
   },
   {
    "duration": 9,
    "start_time": "2022-02-26T13:36:23.389Z"
   },
   {
    "duration": 19,
    "start_time": "2022-02-26T13:36:23.401Z"
   },
   {
    "duration": 76,
    "start_time": "2022-02-26T13:36:23.422Z"
   },
   {
    "duration": 433,
    "start_time": "2022-02-26T13:36:23.500Z"
   },
   {
    "duration": 62,
    "start_time": "2022-02-26T13:36:23.935Z"
   },
   {
    "duration": 37,
    "start_time": "2022-02-26T13:36:23.999Z"
   },
   {
    "duration": 25,
    "start_time": "2022-02-26T13:36:24.038Z"
   },
   {
    "duration": 9,
    "start_time": "2022-02-26T13:36:24.087Z"
   },
   {
    "duration": 11,
    "start_time": "2022-02-26T13:36:24.098Z"
   },
   {
    "duration": 39,
    "start_time": "2022-02-26T13:36:24.111Z"
   },
   {
    "duration": 94,
    "start_time": "2022-02-26T13:36:24.153Z"
   },
   {
    "duration": 3117,
    "start_time": "2022-02-26T13:36:24.249Z"
   },
   {
    "duration": 52,
    "start_time": "2022-02-26T13:36:27.369Z"
   },
   {
    "duration": 86,
    "start_time": "2022-02-26T13:36:27.423Z"
   },
   {
    "duration": 79,
    "start_time": "2022-02-26T13:36:27.511Z"
   },
   {
    "duration": 21,
    "start_time": "2022-02-26T13:36:27.594Z"
   },
   {
    "duration": 21,
    "start_time": "2022-02-26T13:36:27.618Z"
   },
   {
    "duration": 25,
    "start_time": "2022-02-26T13:36:27.686Z"
   },
   {
    "duration": 18,
    "start_time": "2022-02-26T13:36:27.713Z"
   },
   {
    "duration": 56,
    "start_time": "2022-02-26T13:36:27.734Z"
   },
   {
    "duration": 7,
    "start_time": "2022-02-26T13:36:27.793Z"
   },
   {
    "duration": 116,
    "start_time": "2022-02-26T13:36:27.803Z"
   },
   {
    "duration": 91,
    "start_time": "2022-02-26T13:36:27.921Z"
   },
   {
    "duration": 134,
    "start_time": "2022-02-26T13:36:28.014Z"
   },
   {
    "duration": 4,
    "start_time": "2022-02-26T13:43:01.719Z"
   },
   {
    "duration": 38,
    "start_time": "2022-02-26T13:47:20.918Z"
   },
   {
    "duration": 524,
    "start_time": "2022-02-26T13:47:38.719Z"
   },
   {
    "duration": 37,
    "start_time": "2022-02-26T13:47:51.631Z"
   },
   {
    "duration": 321,
    "start_time": "2022-02-26T13:48:07.166Z"
   },
   {
    "duration": 413,
    "start_time": "2022-02-26T13:48:33.535Z"
   },
   {
    "duration": 350,
    "start_time": "2022-02-26T13:48:38.567Z"
   },
   {
    "duration": 1061,
    "start_time": "2022-02-26T13:50:02.254Z"
   },
   {
    "duration": 355,
    "start_time": "2022-02-26T13:50:17.282Z"
   },
   {
    "duration": 364,
    "start_time": "2022-02-26T13:50:23.010Z"
   },
   {
    "duration": 372,
    "start_time": "2022-02-26T13:50:32.098Z"
   },
   {
    "duration": 520,
    "start_time": "2022-02-26T13:53:41.191Z"
   },
   {
    "duration": 395,
    "start_time": "2022-02-26T13:54:00.245Z"
   },
   {
    "duration": 365,
    "start_time": "2022-02-26T13:54:06.888Z"
   },
   {
    "duration": 391,
    "start_time": "2022-02-26T13:54:10.600Z"
   },
   {
    "duration": 378,
    "start_time": "2022-02-26T13:54:15.488Z"
   },
   {
    "duration": 388,
    "start_time": "2022-02-26T13:54:24.416Z"
   },
   {
    "duration": 383,
    "start_time": "2022-02-26T13:54:27.427Z"
   },
   {
    "duration": 401,
    "start_time": "2022-02-26T13:54:30.529Z"
   },
   {
    "duration": 386,
    "start_time": "2022-02-26T13:54:40.257Z"
   },
   {
    "duration": 390,
    "start_time": "2022-02-26T13:54:43.553Z"
   },
   {
    "duration": 358,
    "start_time": "2022-02-26T13:55:01.331Z"
   },
   {
    "duration": 382,
    "start_time": "2022-02-26T13:55:07.026Z"
   },
   {
    "duration": 421,
    "start_time": "2022-02-26T13:55:11.850Z"
   },
   {
    "duration": 1682,
    "start_time": "2022-02-26T13:55:16.978Z"
   },
   {
    "duration": 1075,
    "start_time": "2022-02-26T13:55:39.915Z"
   },
   {
    "duration": 1129,
    "start_time": "2022-02-26T13:55:59.147Z"
   },
   {
    "duration": 1181,
    "start_time": "2022-02-26T13:59:01.585Z"
   },
   {
    "duration": 1234,
    "start_time": "2022-02-26T13:59:06.235Z"
   },
   {
    "duration": 915,
    "start_time": "2022-02-26T13:59:36.394Z"
   },
   {
    "duration": 5,
    "start_time": "2022-02-26T14:08:13.130Z"
   },
   {
    "duration": 175,
    "start_time": "2022-02-26T14:08:13.137Z"
   },
   {
    "duration": 79,
    "start_time": "2022-02-26T14:08:13.315Z"
   },
   {
    "duration": 156,
    "start_time": "2022-02-26T14:08:13.397Z"
   },
   {
    "duration": 4,
    "start_time": "2022-02-26T14:08:13.555Z"
   },
   {
    "duration": 1565,
    "start_time": "2022-02-26T14:08:13.561Z"
   },
   {
    "duration": 12,
    "start_time": "2022-02-26T14:08:15.129Z"
   },
   {
    "duration": 15,
    "start_time": "2022-02-26T14:08:15.145Z"
   },
   {
    "duration": 31,
    "start_time": "2022-02-26T14:08:15.162Z"
   },
   {
    "duration": 17,
    "start_time": "2022-02-26T14:08:15.195Z"
   },
   {
    "duration": 921,
    "start_time": "2022-02-26T14:08:15.214Z"
   },
   {
    "duration": 53,
    "start_time": "2022-02-26T14:08:16.137Z"
   },
   {
    "duration": 418,
    "start_time": "2022-02-26T14:08:16.193Z"
   },
   {
    "duration": 1177,
    "start_time": "2022-02-26T14:08:16.614Z"
   },
   {
    "duration": 1405,
    "start_time": "2022-02-26T14:09:54.728Z"
   },
   {
    "duration": 1322,
    "start_time": "2022-02-26T14:10:10.576Z"
   },
   {
    "duration": 1246,
    "start_time": "2022-02-26T14:10:20.064Z"
   },
   {
    "duration": 1401,
    "start_time": "2022-02-26T14:10:27.240Z"
   },
   {
    "duration": 1419,
    "start_time": "2022-02-26T14:10:52.730Z"
   },
   {
    "duration": 4,
    "start_time": "2022-02-26T14:11:59.667Z"
   },
   {
    "duration": 1394,
    "start_time": "2022-02-26T14:12:12.011Z"
   },
   {
    "duration": 1551,
    "start_time": "2022-02-26T14:12:19.659Z"
   },
   {
    "duration": 1153,
    "start_time": "2022-02-26T14:12:27.547Z"
   },
   {
    "duration": 82,
    "start_time": "2022-02-26T14:13:15.197Z"
   },
   {
    "duration": 84,
    "start_time": "2022-02-26T14:13:27.901Z"
   },
   {
    "duration": 79,
    "start_time": "2022-02-26T14:13:31.917Z"
   },
   {
    "duration": 1529,
    "start_time": "2022-02-26T14:13:46.621Z"
   },
   {
    "duration": 1345,
    "start_time": "2022-02-26T14:15:03.929Z"
   },
   {
    "duration": 1181,
    "start_time": "2022-02-26T14:15:11.743Z"
   },
   {
    "duration": 783,
    "start_time": "2022-02-26T14:18:35.012Z"
   },
   {
    "duration": 1387,
    "start_time": "2022-02-26T14:19:41.037Z"
   },
   {
    "duration": 30,
    "start_time": "2022-02-26T14:21:50.495Z"
   },
   {
    "duration": 347,
    "start_time": "2022-02-26T14:22:17.053Z"
   },
   {
    "duration": 18,
    "start_time": "2022-02-26T14:22:27.280Z"
   },
   {
    "duration": 359,
    "start_time": "2022-02-26T14:22:53.689Z"
   },
   {
    "duration": 14,
    "start_time": "2022-02-26T14:23:19.618Z"
   },
   {
    "duration": 4,
    "start_time": "2022-02-26T14:23:46.460Z"
   },
   {
    "duration": 203,
    "start_time": "2022-02-26T14:23:46.467Z"
   },
   {
    "duration": 83,
    "start_time": "2022-02-26T14:23:46.673Z"
   },
   {
    "duration": 168,
    "start_time": "2022-02-26T14:23:46.759Z"
   },
   {
    "duration": 3,
    "start_time": "2022-02-26T14:23:46.930Z"
   },
   {
    "duration": 1430,
    "start_time": "2022-02-26T14:23:46.935Z"
   },
   {
    "duration": 23,
    "start_time": "2022-02-26T14:23:48.368Z"
   },
   {
    "duration": 15,
    "start_time": "2022-02-26T14:23:48.395Z"
   },
   {
    "duration": 9,
    "start_time": "2022-02-26T14:23:48.413Z"
   },
   {
    "duration": 18,
    "start_time": "2022-02-26T14:23:48.424Z"
   },
   {
    "duration": 949,
    "start_time": "2022-02-26T14:23:48.444Z"
   },
   {
    "duration": 44,
    "start_time": "2022-02-26T14:23:49.395Z"
   },
   {
    "duration": 432,
    "start_time": "2022-02-26T14:23:49.441Z"
   },
   {
    "duration": 1381,
    "start_time": "2022-02-26T14:23:49.875Z"
   },
   {
    "duration": 364,
    "start_time": "2022-02-26T14:23:51.259Z"
   },
   {
    "duration": 15,
    "start_time": "2022-02-26T14:23:51.625Z"
   },
   {
    "duration": 58,
    "start_time": "2022-02-26T14:23:51.643Z"
   },
   {
    "duration": 35,
    "start_time": "2022-02-26T14:23:51.703Z"
   },
   {
    "duration": 49,
    "start_time": "2022-02-26T14:23:51.740Z"
   },
   {
    "duration": 9,
    "start_time": "2022-02-26T14:23:51.791Z"
   },
   {
    "duration": 15,
    "start_time": "2022-02-26T14:23:51.802Z"
   },
   {
    "duration": 36,
    "start_time": "2022-02-26T14:23:51.820Z"
   },
   {
    "duration": 63,
    "start_time": "2022-02-26T14:23:51.888Z"
   },
   {
    "duration": 291,
    "start_time": "2022-02-26T14:23:51.953Z"
   },
   {
    "duration": 51,
    "start_time": "2022-02-26T14:23:52.246Z"
   },
   {
    "duration": 41,
    "start_time": "2022-02-26T14:23:52.299Z"
   },
   {
    "duration": 45,
    "start_time": "2022-02-26T14:23:52.342Z"
   },
   {
    "duration": 20,
    "start_time": "2022-02-26T14:23:52.389Z"
   },
   {
    "duration": 20,
    "start_time": "2022-02-26T14:23:52.412Z"
   },
   {
    "duration": 21,
    "start_time": "2022-02-26T14:23:52.434Z"
   },
   {
    "duration": 17,
    "start_time": "2022-02-26T14:23:52.488Z"
   },
   {
    "duration": 21,
    "start_time": "2022-02-26T14:23:52.508Z"
   },
   {
    "duration": 7,
    "start_time": "2022-02-26T14:23:52.532Z"
   },
   {
    "duration": 129,
    "start_time": "2022-02-26T14:23:52.541Z"
   },
   {
    "duration": 92,
    "start_time": "2022-02-26T14:23:52.672Z"
   },
   {
    "duration": 155,
    "start_time": "2022-02-26T14:23:52.766Z"
   },
   {
    "duration": 94,
    "start_time": "2022-02-26T14:24:33.363Z"
   },
   {
    "duration": 14,
    "start_time": "2022-02-26T14:24:44.228Z"
   },
   {
    "duration": 6,
    "start_time": "2022-02-26T14:25:15.172Z"
   },
   {
    "duration": 10,
    "start_time": "2022-02-26T14:25:25.685Z"
   },
   {
    "duration": 10,
    "start_time": "2022-02-26T14:25:29.333Z"
   },
   {
    "duration": 5,
    "start_time": "2022-02-26T14:25:38.838Z"
   },
   {
    "duration": 188,
    "start_time": "2022-02-26T14:25:38.846Z"
   },
   {
    "duration": 92,
    "start_time": "2022-02-26T14:25:39.037Z"
   },
   {
    "duration": 160,
    "start_time": "2022-02-26T14:25:39.132Z"
   },
   {
    "duration": 4,
    "start_time": "2022-02-26T14:25:39.294Z"
   },
   {
    "duration": 1425,
    "start_time": "2022-02-26T14:25:39.300Z"
   },
   {
    "duration": 13,
    "start_time": "2022-02-26T14:25:40.728Z"
   },
   {
    "duration": 21,
    "start_time": "2022-02-26T14:25:40.743Z"
   },
   {
    "duration": 26,
    "start_time": "2022-02-26T14:25:40.767Z"
   },
   {
    "duration": 18,
    "start_time": "2022-02-26T14:25:40.796Z"
   },
   {
    "duration": 1095,
    "start_time": "2022-02-26T14:25:40.816Z"
   },
   {
    "duration": 44,
    "start_time": "2022-02-26T14:25:41.913Z"
   },
   {
    "duration": 433,
    "start_time": "2022-02-26T14:25:41.960Z"
   },
   {
    "duration": 1342,
    "start_time": "2022-02-26T14:25:42.395Z"
   },
   {
    "duration": 367,
    "start_time": "2022-02-26T14:25:43.740Z"
   },
   {
    "duration": 10,
    "start_time": "2022-02-26T14:25:44.109Z"
   },
   {
    "duration": 38,
    "start_time": "2022-02-26T14:25:44.121Z"
   },
   {
    "duration": 58,
    "start_time": "2022-02-26T14:25:44.161Z"
   },
   {
    "duration": 25,
    "start_time": "2022-02-26T14:25:44.221Z"
   },
   {
    "duration": 11,
    "start_time": "2022-02-26T14:25:44.248Z"
   },
   {
    "duration": 13,
    "start_time": "2022-02-26T14:25:44.287Z"
   },
   {
    "duration": 36,
    "start_time": "2022-02-26T14:25:44.302Z"
   },
   {
    "duration": 92,
    "start_time": "2022-02-26T14:25:44.341Z"
   },
   {
    "duration": 275,
    "start_time": "2022-02-26T14:25:44.435Z"
   },
   {
    "duration": 41,
    "start_time": "2022-02-26T14:25:44.712Z"
   },
   {
    "duration": 55,
    "start_time": "2022-02-26T14:25:44.756Z"
   },
   {
    "duration": 27,
    "start_time": "2022-02-26T14:25:44.815Z"
   },
   {
    "duration": 44,
    "start_time": "2022-02-26T14:25:44.844Z"
   },
   {
    "duration": 21,
    "start_time": "2022-02-26T14:25:44.890Z"
   },
   {
    "duration": 21,
    "start_time": "2022-02-26T14:25:44.913Z"
   },
   {
    "duration": 16,
    "start_time": "2022-02-26T14:25:44.936Z"
   },
   {
    "duration": 22,
    "start_time": "2022-02-26T14:25:44.987Z"
   },
   {
    "duration": 7,
    "start_time": "2022-02-26T14:25:45.011Z"
   },
   {
    "duration": 110,
    "start_time": "2022-02-26T14:25:45.020Z"
   },
   {
    "duration": 106,
    "start_time": "2022-02-26T14:25:45.133Z"
   },
   {
    "duration": 145,
    "start_time": "2022-02-26T14:25:45.241Z"
   },
   {
    "duration": 10,
    "start_time": "2022-02-26T14:26:03.045Z"
   },
   {
    "duration": 4,
    "start_time": "2022-02-26T14:26:06.194Z"
   },
   {
    "duration": 188,
    "start_time": "2022-02-26T14:26:06.201Z"
   },
   {
    "duration": 64,
    "start_time": "2022-02-26T14:26:06.392Z"
   },
   {
    "duration": 161,
    "start_time": "2022-02-26T14:26:06.459Z"
   },
   {
    "duration": 3,
    "start_time": "2022-02-26T14:26:06.623Z"
   },
   {
    "duration": 1643,
    "start_time": "2022-02-26T14:26:06.629Z"
   },
   {
    "duration": 17,
    "start_time": "2022-02-26T14:26:08.275Z"
   },
   {
    "duration": 16,
    "start_time": "2022-02-26T14:26:08.296Z"
   },
   {
    "duration": 10,
    "start_time": "2022-02-26T14:26:08.315Z"
   },
   {
    "duration": 18,
    "start_time": "2022-02-26T14:26:08.327Z"
   },
   {
    "duration": 940,
    "start_time": "2022-02-26T14:26:08.348Z"
   },
   {
    "duration": 43,
    "start_time": "2022-02-26T14:26:09.290Z"
   },
   {
    "duration": 426,
    "start_time": "2022-02-26T14:26:09.336Z"
   },
   {
    "duration": 1258,
    "start_time": "2022-02-26T14:26:09.764Z"
   },
   {
    "duration": 366,
    "start_time": "2022-02-26T14:26:11.024Z"
   },
   {
    "duration": 10,
    "start_time": "2022-02-26T14:26:11.393Z"
   },
   {
    "duration": 10,
    "start_time": "2022-02-26T14:26:30.359Z"
   },
   {
    "duration": 11,
    "start_time": "2022-02-26T14:26:32.183Z"
   },
   {
    "duration": 10,
    "start_time": "2022-02-26T14:26:53.999Z"
   },
   {
    "duration": 9,
    "start_time": "2022-02-26T14:27:10.183Z"
   },
   {
    "duration": 8,
    "start_time": "2022-02-26T14:27:13.855Z"
   },
   {
    "duration": 9,
    "start_time": "2022-02-26T14:27:17.247Z"
   },
   {
    "duration": 13,
    "start_time": "2022-02-26T14:27:22.599Z"
   },
   {
    "duration": 1224,
    "start_time": "2022-02-26T14:28:05.650Z"
   },
   {
    "duration": 263,
    "start_time": "2022-02-26T14:28:12.208Z"
   },
   {
    "duration": 11,
    "start_time": "2022-02-26T14:28:31.913Z"
   },
   {
    "duration": 12,
    "start_time": "2022-02-26T14:28:42.217Z"
   },
   {
    "duration": 14,
    "start_time": "2022-02-26T14:29:18.675Z"
   },
   {
    "duration": 18,
    "start_time": "2022-02-26T14:29:24.226Z"
   },
   {
    "duration": 18,
    "start_time": "2022-02-26T14:29:34.066Z"
   },
   {
    "duration": 31,
    "start_time": "2022-02-26T14:29:47.994Z"
   },
   {
    "duration": 19,
    "start_time": "2022-02-26T14:30:45.398Z"
   },
   {
    "duration": 4,
    "start_time": "2022-02-26T14:31:02.535Z"
   },
   {
    "duration": 181,
    "start_time": "2022-02-26T14:31:02.542Z"
   },
   {
    "duration": 80,
    "start_time": "2022-02-26T14:31:02.725Z"
   },
   {
    "duration": 138,
    "start_time": "2022-02-26T14:31:02.808Z"
   },
   {
    "duration": 4,
    "start_time": "2022-02-26T14:31:02.948Z"
   },
   {
    "duration": 1588,
    "start_time": "2022-02-26T14:31:02.953Z"
   },
   {
    "duration": 12,
    "start_time": "2022-02-26T14:31:04.544Z"
   },
   {
    "duration": 32,
    "start_time": "2022-02-26T14:31:04.558Z"
   },
   {
    "duration": 7,
    "start_time": "2022-02-26T14:31:04.594Z"
   },
   {
    "duration": 17,
    "start_time": "2022-02-26T14:31:04.603Z"
   },
   {
    "duration": 1017,
    "start_time": "2022-02-26T14:31:04.623Z"
   },
   {
    "duration": 54,
    "start_time": "2022-02-26T14:31:05.643Z"
   },
   {
    "duration": 420,
    "start_time": "2022-02-26T14:31:05.700Z"
   },
   {
    "duration": 1324,
    "start_time": "2022-02-26T14:31:06.122Z"
   },
   {
    "duration": 57,
    "start_time": "2022-02-26T14:31:07.449Z"
   },
   {
    "duration": 34,
    "start_time": "2022-02-26T14:31:07.508Z"
   },
   {
    "duration": 52,
    "start_time": "2022-02-26T14:31:07.545Z"
   },
   {
    "duration": 8,
    "start_time": "2022-02-26T14:31:07.599Z"
   },
   {
    "duration": 10,
    "start_time": "2022-02-26T14:31:07.610Z"
   },
   {
    "duration": 66,
    "start_time": "2022-02-26T14:31:07.622Z"
   },
   {
    "duration": 61,
    "start_time": "2022-02-26T14:31:07.690Z"
   },
   {
    "duration": 563,
    "start_time": "2022-02-26T14:31:07.753Z"
   },
   {
    "duration": 40,
    "start_time": "2022-02-26T14:31:08.318Z"
   },
   {
    "duration": 59,
    "start_time": "2022-02-26T14:31:08.361Z"
   },
   {
    "duration": 26,
    "start_time": "2022-02-26T14:31:08.422Z"
   },
   {
    "duration": 44,
    "start_time": "2022-02-26T14:31:08.451Z"
   },
   {
    "duration": 20,
    "start_time": "2022-02-26T14:31:08.499Z"
   },
   {
    "duration": 22,
    "start_time": "2022-02-26T14:31:08.522Z"
   },
   {
    "duration": 43,
    "start_time": "2022-02-26T14:31:08.547Z"
   },
   {
    "duration": 19,
    "start_time": "2022-02-26T14:31:08.593Z"
   },
   {
    "duration": 6,
    "start_time": "2022-02-26T14:31:08.614Z"
   },
   {
    "duration": 128,
    "start_time": "2022-02-26T14:31:08.622Z"
   },
   {
    "duration": 113,
    "start_time": "2022-02-26T14:31:08.753Z"
   },
   {
    "duration": 139,
    "start_time": "2022-02-26T14:31:08.869Z"
   },
   {
    "duration": 12,
    "start_time": "2022-02-26T14:32:35.935Z"
   },
   {
    "duration": 37,
    "start_time": "2022-02-26T14:33:42.305Z"
   },
   {
    "duration": 4,
    "start_time": "2022-02-26T14:33:47.479Z"
   },
   {
    "duration": 184,
    "start_time": "2022-02-26T14:33:47.486Z"
   },
   {
    "duration": 70,
    "start_time": "2022-02-26T14:33:47.674Z"
   },
   {
    "duration": 149,
    "start_time": "2022-02-26T14:33:47.746Z"
   },
   {
    "duration": 4,
    "start_time": "2022-02-26T14:33:47.897Z"
   },
   {
    "duration": 1484,
    "start_time": "2022-02-26T14:33:47.903Z"
   },
   {
    "duration": 12,
    "start_time": "2022-02-26T14:33:49.389Z"
   },
   {
    "duration": 14,
    "start_time": "2022-02-26T14:33:49.405Z"
   },
   {
    "duration": 8,
    "start_time": "2022-02-26T14:33:49.421Z"
   },
   {
    "duration": 16,
    "start_time": "2022-02-26T14:33:49.431Z"
   },
   {
    "duration": 903,
    "start_time": "2022-02-26T14:33:49.488Z"
   },
   {
    "duration": 46,
    "start_time": "2022-02-26T14:33:50.393Z"
   },
   {
    "duration": 512,
    "start_time": "2022-02-26T14:33:50.441Z"
   },
   {
    "duration": 1287,
    "start_time": "2022-02-26T14:33:50.956Z"
   },
   {
    "duration": 55,
    "start_time": "2022-02-26T14:33:52.245Z"
   },
   {
    "duration": 13,
    "start_time": "2022-02-26T14:33:52.303Z"
   },
   {
    "duration": 37,
    "start_time": "2022-02-26T14:33:52.318Z"
   },
   {
    "duration": 12,
    "start_time": "2022-02-26T14:34:13.161Z"
   },
   {
    "duration": 25,
    "start_time": "2022-02-26T14:35:55.068Z"
   },
   {
    "duration": 10,
    "start_time": "2022-02-26T14:35:58.315Z"
   },
   {
    "duration": 14,
    "start_time": "2022-02-26T14:39:02.968Z"
   },
   {
    "duration": 4,
    "start_time": "2022-02-26T14:39:07.239Z"
   },
   {
    "duration": 181,
    "start_time": "2022-02-26T14:39:07.246Z"
   },
   {
    "duration": 87,
    "start_time": "2022-02-26T14:39:07.429Z"
   },
   {
    "duration": 155,
    "start_time": "2022-02-26T14:39:07.519Z"
   },
   {
    "duration": 12,
    "start_time": "2022-02-26T14:39:07.676Z"
   },
   {
    "duration": 1437,
    "start_time": "2022-02-26T14:39:07.690Z"
   },
   {
    "duration": 12,
    "start_time": "2022-02-26T14:39:09.129Z"
   },
   {
    "duration": 16,
    "start_time": "2022-02-26T14:39:09.144Z"
   },
   {
    "duration": 7,
    "start_time": "2022-02-26T14:40:00.166Z"
   },
   {
    "duration": 7,
    "start_time": "2022-02-26T14:40:01.961Z"
   },
   {
    "duration": 4,
    "start_time": "2022-02-26T14:40:07.513Z"
   },
   {
    "duration": 172,
    "start_time": "2022-02-26T14:40:07.520Z"
   },
   {
    "duration": 62,
    "start_time": "2022-02-26T14:40:07.695Z"
   },
   {
    "duration": 157,
    "start_time": "2022-02-26T14:40:07.760Z"
   },
   {
    "duration": 3,
    "start_time": "2022-02-26T14:40:07.919Z"
   },
   {
    "duration": 1435,
    "start_time": "2022-02-26T14:40:07.924Z"
   },
   {
    "duration": 12,
    "start_time": "2022-02-26T14:40:09.361Z"
   },
   {
    "duration": 24,
    "start_time": "2022-02-26T14:40:09.376Z"
   },
   {
    "duration": 11,
    "start_time": "2022-02-26T14:40:09.402Z"
   },
   {
    "duration": 25,
    "start_time": "2022-02-26T14:41:13.083Z"
   },
   {
    "duration": 9,
    "start_time": "2022-02-26T14:41:15.139Z"
   },
   {
    "duration": 4,
    "start_time": "2022-02-26T14:41:24.273Z"
   },
   {
    "duration": 191,
    "start_time": "2022-02-26T14:41:24.280Z"
   },
   {
    "duration": 67,
    "start_time": "2022-02-26T14:41:24.486Z"
   },
   {
    "duration": 156,
    "start_time": "2022-02-26T14:41:24.555Z"
   },
   {
    "duration": 3,
    "start_time": "2022-02-26T14:41:24.713Z"
   },
   {
    "duration": 1469,
    "start_time": "2022-02-26T14:41:24.718Z"
   },
   {
    "duration": 13,
    "start_time": "2022-02-26T14:41:26.189Z"
   },
   {
    "duration": 15,
    "start_time": "2022-02-26T14:41:26.205Z"
   },
   {
    "duration": 6,
    "start_time": "2022-02-26T14:41:26.223Z"
   },
   {
    "duration": 17,
    "start_time": "2022-02-26T14:41:26.232Z"
   },
   {
    "duration": 908,
    "start_time": "2022-02-26T14:41:26.287Z"
   },
   {
    "duration": 41,
    "start_time": "2022-02-26T14:41:27.198Z"
   },
   {
    "duration": 432,
    "start_time": "2022-02-26T14:41:27.241Z"
   },
   {
    "duration": 1294,
    "start_time": "2022-02-26T14:41:27.686Z"
   },
   {
    "duration": 43,
    "start_time": "2022-02-26T14:41:28.983Z"
   },
   {
    "duration": 67,
    "start_time": "2022-02-26T14:41:29.029Z"
   },
   {
    "duration": 26,
    "start_time": "2022-02-26T14:41:29.098Z"
   },
   {
    "duration": 9,
    "start_time": "2022-02-26T14:41:29.126Z"
   },
   {
    "duration": 4,
    "start_time": "2022-02-26T14:41:34.555Z"
   },
   {
    "duration": 184,
    "start_time": "2022-02-26T14:41:34.562Z"
   },
   {
    "duration": 83,
    "start_time": "2022-02-26T14:41:34.749Z"
   },
   {
    "duration": 154,
    "start_time": "2022-02-26T14:41:34.835Z"
   },
   {
    "duration": 3,
    "start_time": "2022-02-26T14:41:34.991Z"
   },
   {
    "duration": 1520,
    "start_time": "2022-02-26T14:41:34.997Z"
   },
   {
    "duration": 12,
    "start_time": "2022-02-26T14:41:36.519Z"
   },
   {
    "duration": 14,
    "start_time": "2022-02-26T14:41:36.535Z"
   },
   {
    "duration": 36,
    "start_time": "2022-02-26T14:41:36.552Z"
   },
   {
    "duration": 18,
    "start_time": "2022-02-26T14:41:36.590Z"
   },
   {
    "duration": 1082,
    "start_time": "2022-02-26T14:41:36.610Z"
   },
   {
    "duration": 44,
    "start_time": "2022-02-26T14:41:37.694Z"
   },
   {
    "duration": 431,
    "start_time": "2022-02-26T14:41:37.740Z"
   },
   {
    "duration": 1252,
    "start_time": "2022-02-26T14:41:38.174Z"
   },
   {
    "duration": 58,
    "start_time": "2022-02-26T14:41:39.428Z"
   },
   {
    "duration": 33,
    "start_time": "2022-02-26T14:41:39.489Z"
   },
   {
    "duration": 26,
    "start_time": "2022-02-26T14:41:39.524Z"
   },
   {
    "duration": 35,
    "start_time": "2022-02-26T14:41:39.552Z"
   },
   {
    "duration": 66,
    "start_time": "2022-02-26T14:47:13.149Z"
   },
   {
    "duration": 6,
    "start_time": "2022-02-26T15:36:05.954Z"
   },
   {
    "duration": 6,
    "start_time": "2022-02-26T15:36:25.707Z"
   },
   {
    "duration": 39,
    "start_time": "2022-02-26T15:36:46.899Z"
   },
   {
    "duration": 5,
    "start_time": "2022-02-26T15:37:09.070Z"
   },
   {
    "duration": 251,
    "start_time": "2022-02-26T15:44:18.895Z"
   },
   {
    "duration": 18,
    "start_time": "2022-02-26T15:44:30.447Z"
   },
   {
    "duration": 39,
    "start_time": "2022-02-26T15:44:40.682Z"
   },
   {
    "duration": 42,
    "start_time": "2022-02-26T15:45:45.378Z"
   },
   {
    "duration": 305,
    "start_time": "2022-02-26T15:47:58.413Z"
   },
   {
    "duration": 22,
    "start_time": "2022-02-26T15:48:14.214Z"
   },
   {
    "duration": 21,
    "start_time": "2022-02-26T15:48:18.764Z"
   },
   {
    "duration": 20,
    "start_time": "2022-02-26T15:48:54.990Z"
   },
   {
    "duration": 23,
    "start_time": "2022-02-26T15:49:46.679Z"
   },
   {
    "duration": 21,
    "start_time": "2022-02-26T15:49:59.679Z"
   },
   {
    "duration": 26,
    "start_time": "2022-02-26T15:50:21.647Z"
   },
   {
    "duration": 46,
    "start_time": "2022-02-26T15:50:31.192Z"
   },
   {
    "duration": 29,
    "start_time": "2022-02-26T15:50:33.041Z"
   },
   {
    "duration": 22,
    "start_time": "2022-02-26T15:50:34.479Z"
   },
   {
    "duration": 61,
    "start_time": "2022-02-26T15:51:33.491Z"
   },
   {
    "duration": 22,
    "start_time": "2022-02-26T15:51:35.425Z"
   },
   {
    "duration": 24,
    "start_time": "2022-02-26T15:51:37.081Z"
   },
   {
    "duration": 1296,
    "start_time": "2022-02-26T15:55:30.071Z"
   },
   {
    "duration": 4024,
    "start_time": "2022-02-26T15:56:01.732Z"
   },
   {
    "duration": 23,
    "start_time": "2022-02-26T15:56:15.585Z"
   },
   {
    "duration": 22,
    "start_time": "2022-02-26T15:56:32.945Z"
   },
   {
    "duration": 23,
    "start_time": "2022-02-26T15:58:39.564Z"
   },
   {
    "duration": 22,
    "start_time": "2022-02-26T15:59:02.381Z"
   },
   {
    "duration": 24,
    "start_time": "2022-02-26T15:59:22.196Z"
   },
   {
    "duration": 23,
    "start_time": "2022-02-26T15:59:29.493Z"
   },
   {
    "duration": 23,
    "start_time": "2022-02-26T16:02:29.698Z"
   },
   {
    "duration": 27,
    "start_time": "2022-02-26T16:02:46.938Z"
   },
   {
    "duration": 26,
    "start_time": "2022-02-26T16:02:50.058Z"
   },
   {
    "duration": 27,
    "start_time": "2022-02-26T16:03:09.914Z"
   },
   {
    "duration": 27,
    "start_time": "2022-02-26T16:03:20.618Z"
   },
   {
    "duration": 27,
    "start_time": "2022-02-26T16:03:34.771Z"
   },
   {
    "duration": 26,
    "start_time": "2022-02-26T16:03:38.299Z"
   },
   {
    "duration": 15,
    "start_time": "2022-02-26T16:05:15.037Z"
   },
   {
    "duration": 18,
    "start_time": "2022-02-26T16:05:31.054Z"
   },
   {
    "duration": 15,
    "start_time": "2022-02-26T16:05:33.845Z"
   },
   {
    "duration": 23,
    "start_time": "2022-02-26T16:06:39.081Z"
   },
   {
    "duration": 23,
    "start_time": "2022-02-26T16:06:56.936Z"
   },
   {
    "duration": 23,
    "start_time": "2022-02-26T16:07:09.416Z"
   },
   {
    "duration": 27,
    "start_time": "2022-02-26T16:18:06.754Z"
   },
   {
    "duration": 25,
    "start_time": "2022-02-26T16:27:22.607Z"
   },
   {
    "duration": 21,
    "start_time": "2022-02-26T16:27:24.991Z"
   },
   {
    "duration": 22,
    "start_time": "2022-02-26T16:27:27.886Z"
   },
   {
    "duration": 23,
    "start_time": "2022-02-26T16:27:30.623Z"
   },
   {
    "duration": 17,
    "start_time": "2022-02-26T16:27:33.031Z"
   },
   {
    "duration": 85,
    "start_time": "2022-02-26T16:34:27.217Z"
   },
   {
    "duration": 86,
    "start_time": "2022-02-26T16:34:56.058Z"
   },
   {
    "duration": 131,
    "start_time": "2022-02-26T16:35:20.315Z"
   },
   {
    "duration": 5,
    "start_time": "2022-02-26T17:01:22.789Z"
   },
   {
    "duration": 214,
    "start_time": "2022-02-26T17:01:22.796Z"
   },
   {
    "duration": 79,
    "start_time": "2022-02-26T17:01:23.013Z"
   },
   {
    "duration": 163,
    "start_time": "2022-02-26T17:01:23.095Z"
   },
   {
    "duration": 4,
    "start_time": "2022-02-26T17:01:23.260Z"
   },
   {
    "duration": 1505,
    "start_time": "2022-02-26T17:01:23.266Z"
   },
   {
    "duration": 20,
    "start_time": "2022-02-26T17:01:24.773Z"
   },
   {
    "duration": 16,
    "start_time": "2022-02-26T17:01:24.796Z"
   },
   {
    "duration": 9,
    "start_time": "2022-02-26T17:01:24.816Z"
   },
   {
    "duration": 60,
    "start_time": "2022-02-26T17:01:24.828Z"
   },
   {
    "duration": 932,
    "start_time": "2022-02-26T17:01:24.891Z"
   },
   {
    "duration": 62,
    "start_time": "2022-02-26T17:01:25.826Z"
   },
   {
    "duration": 434,
    "start_time": "2022-02-26T17:01:25.891Z"
   },
   {
    "duration": 1230,
    "start_time": "2022-02-26T17:01:26.328Z"
   },
   {
    "duration": 49,
    "start_time": "2022-02-26T17:01:27.560Z"
   },
   {
    "duration": 36,
    "start_time": "2022-02-26T17:01:27.611Z"
   },
   {
    "duration": 46,
    "start_time": "2022-02-26T17:01:27.650Z"
   },
   {
    "duration": 9,
    "start_time": "2022-02-26T17:01:27.699Z"
   },
   {
    "duration": 14,
    "start_time": "2022-02-26T17:01:27.710Z"
   },
   {
    "duration": 65,
    "start_time": "2022-02-26T17:01:27.726Z"
   },
   {
    "duration": 65,
    "start_time": "2022-02-26T17:01:27.793Z"
   },
   {
    "duration": 297,
    "start_time": "2022-02-26T17:01:27.861Z"
   },
   {
    "duration": 55,
    "start_time": "2022-02-26T17:01:28.162Z"
   },
   {
    "duration": 23,
    "start_time": "2022-02-26T17:01:28.220Z"
   },
   {
    "duration": 44,
    "start_time": "2022-02-26T17:01:28.245Z"
   },
   {
    "duration": 24,
    "start_time": "2022-02-26T17:01:28.291Z"
   },
   {
    "duration": 76,
    "start_time": "2022-02-26T17:01:28.318Z"
   },
   {
    "duration": 23,
    "start_time": "2022-02-26T17:01:28.397Z"
   },
   {
    "duration": 23,
    "start_time": "2022-02-26T17:01:28.423Z"
   },
   {
    "duration": 70,
    "start_time": "2022-02-26T17:01:28.448Z"
   },
   {
    "duration": 27,
    "start_time": "2022-02-26T17:01:28.520Z"
   },
   {
    "duration": 46,
    "start_time": "2022-02-26T17:01:28.549Z"
   },
   {
    "duration": 20,
    "start_time": "2022-02-26T17:01:28.597Z"
   },
   {
    "duration": 21,
    "start_time": "2022-02-26T17:01:28.619Z"
   },
   {
    "duration": 44,
    "start_time": "2022-02-26T17:01:28.643Z"
   },
   {
    "duration": 20,
    "start_time": "2022-02-26T17:01:28.689Z"
   },
   {
    "duration": 7,
    "start_time": "2022-02-26T17:01:28.711Z"
   },
   {
    "duration": 121,
    "start_time": "2022-02-26T17:01:28.720Z"
   },
   {
    "duration": 119,
    "start_time": "2022-02-26T17:01:28.844Z"
   },
   {
    "duration": 148,
    "start_time": "2022-02-26T17:01:28.966Z"
   },
   {
    "duration": 1209,
    "start_time": "2022-04-13T09:01:39.574Z"
   },
   {
    "duration": 169,
    "start_time": "2022-04-13T09:01:40.785Z"
   },
   {
    "duration": 68,
    "start_time": "2022-04-13T09:01:40.956Z"
   },
   {
    "duration": 147,
    "start_time": "2022-04-13T09:01:41.026Z"
   },
   {
    "duration": 3,
    "start_time": "2022-04-13T09:01:41.174Z"
   },
   {
    "duration": 737,
    "start_time": "2022-04-13T09:01:41.179Z"
   },
   {
    "duration": 9,
    "start_time": "2022-04-13T09:01:41.918Z"
   },
   {
    "duration": 15,
    "start_time": "2022-04-13T09:01:41.929Z"
   },
   {
    "duration": 12,
    "start_time": "2022-04-13T09:01:41.945Z"
   },
   {
    "duration": 16,
    "start_time": "2022-04-13T09:01:41.960Z"
   },
   {
    "duration": 488,
    "start_time": "2022-04-13T09:01:41.978Z"
   },
   {
    "duration": 39,
    "start_time": "2022-04-13T09:01:42.468Z"
   },
   {
    "duration": 496,
    "start_time": "2022-04-13T09:01:42.509Z"
   },
   {
    "duration": 629,
    "start_time": "2022-04-13T09:01:43.007Z"
   },
   {
    "duration": 84,
    "start_time": "2022-04-13T09:01:43.638Z"
   },
   {
    "duration": 97,
    "start_time": "2022-04-13T09:01:43.724Z"
   },
   {
    "duration": 21,
    "start_time": "2022-04-13T09:01:43.823Z"
   },
   {
    "duration": 61,
    "start_time": "2022-04-13T09:01:43.846Z"
   },
   {
    "duration": 8,
    "start_time": "2022-04-13T09:01:43.909Z"
   },
   {
    "duration": 31,
    "start_time": "2022-04-13T09:01:43.919Z"
   },
   {
    "duration": 106,
    "start_time": "2022-04-13T09:01:44.008Z"
   },
   {
    "duration": 396,
    "start_time": "2022-04-13T09:01:44.115Z"
   },
   {
    "duration": 34,
    "start_time": "2022-04-13T09:01:44.512Z"
   },
   {
    "duration": 75,
    "start_time": "2022-04-13T09:01:44.548Z"
   },
   {
    "duration": 18,
    "start_time": "2022-04-13T09:01:44.625Z"
   },
   {
    "duration": 66,
    "start_time": "2022-04-13T09:01:44.644Z"
   },
   {
    "duration": 31,
    "start_time": "2022-04-13T09:01:44.712Z"
   },
   {
    "duration": 69,
    "start_time": "2022-04-13T09:01:44.747Z"
   },
   {
    "duration": 16,
    "start_time": "2022-04-13T09:01:44.817Z"
   },
   {
    "duration": 81,
    "start_time": "2022-04-13T09:01:44.834Z"
   },
   {
    "duration": 22,
    "start_time": "2022-04-13T09:01:44.917Z"
   },
   {
    "duration": 74,
    "start_time": "2022-04-13T09:01:44.940Z"
   },
   {
    "duration": 17,
    "start_time": "2022-04-13T09:01:45.016Z"
   },
   {
    "duration": 72,
    "start_time": "2022-04-13T09:01:45.035Z"
   },
   {
    "duration": 15,
    "start_time": "2022-04-13T09:01:45.109Z"
   },
   {
    "duration": 19,
    "start_time": "2022-04-13T09:01:45.126Z"
   },
   {
    "duration": 4,
    "start_time": "2022-04-13T09:01:45.146Z"
   },
   {
    "duration": 72,
    "start_time": "2022-04-13T09:01:45.207Z"
   },
   {
    "duration": 94,
    "start_time": "2022-04-13T09:01:45.281Z"
   },
   {
    "duration": 118,
    "start_time": "2022-04-13T09:01:45.376Z"
   },
   {
    "duration": 48,
    "start_time": "2022-04-13T18:53:18.980Z"
   },
   {
    "duration": 1966,
    "start_time": "2022-04-13T18:53:31.832Z"
   },
   {
    "duration": 166,
    "start_time": "2022-04-13T18:53:33.800Z"
   },
   {
    "duration": 66,
    "start_time": "2022-04-13T18:53:33.972Z"
   },
   {
    "duration": 148,
    "start_time": "2022-04-13T18:53:34.040Z"
   },
   {
    "duration": 3,
    "start_time": "2022-04-13T18:53:34.189Z"
   },
   {
    "duration": 710,
    "start_time": "2022-04-13T18:53:34.194Z"
   },
   {
    "duration": 8,
    "start_time": "2022-04-13T18:53:34.906Z"
   },
   {
    "duration": 15,
    "start_time": "2022-04-13T18:53:34.916Z"
   },
   {
    "duration": 12,
    "start_time": "2022-04-13T18:53:34.932Z"
   },
   {
    "duration": 27,
    "start_time": "2022-04-13T18:53:34.946Z"
   },
   {
    "duration": 469,
    "start_time": "2022-04-13T18:53:34.975Z"
   },
   {
    "duration": 32,
    "start_time": "2022-04-13T18:53:35.446Z"
   },
   {
    "duration": 456,
    "start_time": "2022-04-13T18:53:35.479Z"
   },
   {
    "duration": 532,
    "start_time": "2022-04-13T18:53:35.937Z"
   },
   {
    "duration": 33,
    "start_time": "2022-04-13T18:53:36.471Z"
   },
   {
    "duration": 44,
    "start_time": "2022-04-13T18:53:36.505Z"
   },
   {
    "duration": 37,
    "start_time": "2022-04-13T18:53:36.550Z"
   },
   {
    "duration": 10,
    "start_time": "2022-04-13T18:53:36.589Z"
   },
   {
    "duration": 8,
    "start_time": "2022-04-13T18:53:36.601Z"
   },
   {
    "duration": 29,
    "start_time": "2022-04-13T18:53:36.611Z"
   },
   {
    "duration": 79,
    "start_time": "2022-04-13T18:53:36.642Z"
   },
   {
    "duration": 487,
    "start_time": "2022-04-13T18:53:36.722Z"
   },
   {
    "duration": 62,
    "start_time": "2022-04-13T18:53:37.211Z"
   },
   {
    "duration": 18,
    "start_time": "2022-04-13T18:53:37.275Z"
   },
   {
    "duration": 17,
    "start_time": "2022-04-13T18:53:37.294Z"
   },
   {
    "duration": 66,
    "start_time": "2022-04-13T18:53:37.312Z"
   },
   {
    "duration": 33,
    "start_time": "2022-04-13T18:53:37.380Z"
   },
   {
    "duration": 15,
    "start_time": "2022-04-13T18:53:37.416Z"
   },
   {
    "duration": 41,
    "start_time": "2022-04-13T18:53:37.433Z"
   },
   {
    "duration": 8,
    "start_time": "2022-04-13T18:53:37.476Z"
   },
   {
    "duration": 33,
    "start_time": "2022-04-13T18:53:37.486Z"
   },
   {
    "duration": 21,
    "start_time": "2022-04-13T18:53:37.520Z"
   },
   {
    "duration": 38,
    "start_time": "2022-04-13T18:53:37.543Z"
   },
   {
    "duration": 17,
    "start_time": "2022-04-13T18:53:37.583Z"
   },
   {
    "duration": 14,
    "start_time": "2022-04-13T18:53:37.602Z"
   },
   {
    "duration": 12,
    "start_time": "2022-04-13T18:53:37.618Z"
   },
   {
    "duration": 46,
    "start_time": "2022-04-13T18:53:37.632Z"
   },
   {
    "duration": 5,
    "start_time": "2022-04-13T18:53:37.680Z"
   },
   {
    "duration": 86,
    "start_time": "2022-04-13T18:53:37.687Z"
   },
   {
    "duration": 99,
    "start_time": "2022-04-13T18:53:37.774Z"
   },
   {
    "duration": 211,
    "start_time": "2022-04-13T18:53:37.875Z"
   },
   {
    "duration": 4,
    "start_time": "2022-04-13T19:18:12.499Z"
   },
   {
    "duration": 169,
    "start_time": "2022-04-13T19:18:12.505Z"
   },
   {
    "duration": 53,
    "start_time": "2022-04-13T19:18:12.676Z"
   },
   {
    "duration": 131,
    "start_time": "2022-04-13T19:18:12.731Z"
   },
   {
    "duration": 3,
    "start_time": "2022-04-13T19:18:12.864Z"
   },
   {
    "duration": 823,
    "start_time": "2022-04-13T19:18:12.873Z"
   },
   {
    "duration": 8,
    "start_time": "2022-04-13T19:18:13.698Z"
   },
   {
    "duration": 14,
    "start_time": "2022-04-13T19:18:13.708Z"
   },
   {
    "duration": 10,
    "start_time": "2022-04-13T19:18:13.724Z"
   },
   {
    "duration": 16,
    "start_time": "2022-04-13T19:18:13.737Z"
   },
   {
    "duration": 378,
    "start_time": "2022-04-13T19:18:13.774Z"
   },
   {
    "duration": 32,
    "start_time": "2022-04-13T19:18:14.154Z"
   },
   {
    "duration": 418,
    "start_time": "2022-04-13T19:18:14.188Z"
   },
   {
    "duration": 639,
    "start_time": "2022-04-13T19:18:14.608Z"
   },
   {
    "duration": 37,
    "start_time": "2022-04-13T19:18:15.249Z"
   },
   {
    "duration": 41,
    "start_time": "2022-04-13T19:18:15.288Z"
   },
   {
    "duration": 20,
    "start_time": "2022-04-13T19:18:15.331Z"
   },
   {
    "duration": 9,
    "start_time": "2022-04-13T19:18:15.374Z"
   },
   {
    "duration": 8,
    "start_time": "2022-04-13T19:18:15.385Z"
   },
   {
    "duration": 30,
    "start_time": "2022-04-13T19:18:15.394Z"
   },
   {
    "duration": 83,
    "start_time": "2022-04-13T19:18:15.425Z"
   },
   {
    "duration": 88,
    "start_time": "2022-04-13T19:18:15.510Z"
   },
   {
    "duration": 33,
    "start_time": "2022-04-13T19:18:15.600Z"
   },
   {
    "duration": 18,
    "start_time": "2022-04-13T19:18:15.635Z"
   },
   {
    "duration": 18,
    "start_time": "2022-04-13T19:18:15.673Z"
   },
   {
    "duration": 18,
    "start_time": "2022-04-13T19:18:15.692Z"
   },
   {
    "duration": 31,
    "start_time": "2022-04-13T19:18:15.711Z"
   },
   {
    "duration": 40,
    "start_time": "2022-04-13T19:18:15.746Z"
   },
   {
    "duration": 15,
    "start_time": "2022-04-13T19:18:15.788Z"
   },
   {
    "duration": 29,
    "start_time": "2022-04-13T19:18:15.805Z"
   },
   {
    "duration": 48,
    "start_time": "2022-04-13T19:18:15.836Z"
   },
   {
    "duration": 17,
    "start_time": "2022-04-13T19:18:15.885Z"
   },
   {
    "duration": 17,
    "start_time": "2022-04-13T19:18:15.904Z"
   },
   {
    "duration": 15,
    "start_time": "2022-04-13T19:18:15.923Z"
   },
   {
    "duration": 36,
    "start_time": "2022-04-13T19:18:15.940Z"
   },
   {
    "duration": 16,
    "start_time": "2022-04-13T19:18:15.978Z"
   },
   {
    "duration": 5,
    "start_time": "2022-04-13T19:18:15.996Z"
   },
   {
    "duration": 100,
    "start_time": "2022-04-13T19:18:16.002Z"
   },
   {
    "duration": 94,
    "start_time": "2022-04-13T19:18:16.104Z"
   },
   {
    "duration": 118,
    "start_time": "2022-04-13T19:18:16.200Z"
   },
   {
    "duration": 96,
    "start_time": "2022-04-13T19:19:11.828Z"
   },
   {
    "duration": 73,
    "start_time": "2022-04-13T19:19:27.324Z"
   }
  ],
  "kernelspec": {
   "display_name": "Python 3",
   "language": "python",
   "name": "python3"
  },
  "language_info": {
   "codemirror_mode": {
    "name": "ipython",
    "version": 3
   },
   "file_extension": ".py",
   "mimetype": "text/x-python",
   "name": "python",
   "nbconvert_exporter": "python",
   "pygments_lexer": "ipython3",
   "version": "3.8.8"
  },
  "toc": {
   "base_numbering": 1,
   "nav_menu": {},
   "number_sections": true,
   "sideBar": true,
   "skip_h1_title": true,
   "title_cell": "Table of Contents",
   "title_sidebar": "Contents",
   "toc_cell": false,
   "toc_position": {
    "height": "calc(100% - 180px)",
    "left": "10px",
    "top": "150px",
    "width": "225.92px"
   },
   "toc_section_display": true,
   "toc_window_display": false
  }
 },
 "nbformat": 4,
 "nbformat_minor": 2
}
