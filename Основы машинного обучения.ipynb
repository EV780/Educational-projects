{
 "cells": [
  {
   "cell_type": "markdown",
   "metadata": {},
   "source": [
    "**Описание проекта**\n",
    "\n",
    "Сеть фитнес-центров разрабатывает стратегию взаимодействия с клиентами на основе аналитических данных.\n",
    "Распространённая проблема фитнес-клубов и других сервисов — отток клиентов. Как понять, что клиент больше не с вами? Можно записать в отток тех, кто попросил закрыть договор или удалил аккаунт. Однако клиенты не всегда уходят демонстративно: чаще перестают пользоваться сервисом тихо.\n",
    "Индикаторы оттока зависят от специфики отрасли. Когда пользователь редко, но стабильно закупается в интернет-магазине — не похоже, что он «отвалился». А вот если две недели не заходит на канал с ежедневно обновляемым контентом, дела плохи: подписчик заскучал и, кажется, оставил вас.\n",
    "Для фитнес-центра можно считать, что клиент попал в отток, если за последний месяц ни разу не посетил спортзал. Конечно, не исключено, что он уехал на Бали и по приезде обязательно продолжит ходить на фитнес. Однако чаще бывает наоборот. Если клиент начал новую жизнь с понедельника, немного походил в спортзал, а потом пропал — скорее всего, он не вернётся.\n",
    "Чтобы бороться с оттоком, отдел по работе с клиентами сети фитнес-центров перевёл в электронный вид множество клиентских анкет. Задача — провести анализ и подготовить план действий по удержанию клиентов."
   ]
  },
  {
   "cell_type": "markdown",
   "metadata": {},
   "source": [
    "**Описание данных**\n",
    "\n",
    "Заказчик подготовил датасет, который содержит данные на месяц до оттока и факт оттока на определённый месяц. Набор данных включает следующие поля:\n",
    "\n",
    "- Данные клиента за предыдущий до проверки факта оттока месяц:\n",
    " - `gender` — пол;\n",
    " - `Near_Location` — проживание или работа в районе, где находится фитнес-центр;\n",
    " - `Partner` — сотрудник компании-партнёра клуба (сотрудничество с компаниями, чьи сотрудники могут получать скидки на абонемент — в таком случае фитнес-центр хранит информацию о работодателе клиента);\n",
    " - `Promo_friends` — факт первоначальной записи в рамках акции «приведи друга» (использовал промо-код от знакомого при оплате первого абонемента);\n",
    " - `Phone` — наличие контактного телефона;\n",
    " - `Age` — возраст;\n",
    " - `Lifetime` — время с момента первого обращения в фитнес-центр (в месяцах).\n",
    "- Информация на основе журнала посещений, покупок и информация о текущем статусе абонемента клиента:\n",
    " - `Contract_period` — длительность текущего действующего абонемента (месяц, 3 месяца, 6 месяцев, год);\n",
    " - `Month_to_end_contract` — срок до окончания текущего действующего абонемента (в месяцах);\n",
    " - `Group_visits` — факт посещения групповых занятий;\n",
    " - `Avg_class_frequency_total` — средняя частота посещений в неделю за все время с начала действия абонемента;\n",
    " - `Avg_class_frequency_current_month` — средняя частота посещений в неделю за предыдущий месяц;\n",
    " - `Avg_additional_charges_total` — суммарная выручка от других услуг фитнес-центра: кафе, спорт-товары, косметический и массажный салон.\n",
    "- `Churn` — факт оттока в текущем месяце."
   ]
  },
  {
   "cell_type": "markdown",
   "metadata": {},
   "source": [
    "## Загрузка данных и изучение общей информации"
   ]
  },
  {
   "cell_type": "code",
   "execution_count": 2,
   "metadata": {},
   "outputs": [],
   "source": [
    "import pandas as pd\n",
    "import seaborn as sns\n",
    "import matplotlib.pyplot as plt\n",
    "from sklearn.model_selection import train_test_split\n",
    "from sklearn.preprocessing import StandardScaler\n",
    "from sklearn.linear_model import LogisticRegression\n",
    "from sklearn.metrics import accuracy_score, precision_score, recall_score, f1_score\n",
    "from sklearn.ensemble import RandomForestClassifier\n",
    "from scipy.cluster.hierarchy import dendrogram, linkage\n",
    "from sklearn.cluster import KMeans\n",
    "import itertools\n",
    "from sklearn.metrics import roc_auc_score"
   ]
  },
  {
   "cell_type": "code",
   "execution_count": 3,
   "metadata": {
    "scrolled": true
   },
   "outputs": [
    {
     "name": "stdout",
     "output_type": "stream",
     "text": [
      "<class 'pandas.core.frame.DataFrame'>\n",
      "RangeIndex: 4000 entries, 0 to 3999\n",
      "Data columns (total 14 columns):\n",
      " #   Column                             Non-Null Count  Dtype  \n",
      "---  ------                             --------------  -----  \n",
      " 0   gender                             4000 non-null   int64  \n",
      " 1   Near_Location                      4000 non-null   int64  \n",
      " 2   Partner                            4000 non-null   int64  \n",
      " 3   Promo_friends                      4000 non-null   int64  \n",
      " 4   Phone                              4000 non-null   int64  \n",
      " 5   Contract_period                    4000 non-null   int64  \n",
      " 6   Group_visits                       4000 non-null   int64  \n",
      " 7   Age                                4000 non-null   int64  \n",
      " 8   Avg_additional_charges_total       4000 non-null   float64\n",
      " 9   Month_to_end_contract              4000 non-null   float64\n",
      " 10  Lifetime                           4000 non-null   int64  \n",
      " 11  Avg_class_frequency_total          4000 non-null   float64\n",
      " 12  Avg_class_frequency_current_month  4000 non-null   float64\n",
      " 13  Churn                              4000 non-null   int64  \n",
      "dtypes: float64(4), int64(10)\n",
      "memory usage: 437.6 KB\n"
     ]
    }
   ],
   "source": [
    "df = pd.read_csv(r'C:\\Users\\564\\Downloads\\gym_churn.csv')\n",
    "\n",
    "df.info()"
   ]
  },
  {
   "cell_type": "code",
   "execution_count": 4,
   "metadata": {},
   "outputs": [
    {
     "data": {
      "text/html": [
       "<div>\n",
       "<style scoped>\n",
       "    .dataframe tbody tr th:only-of-type {\n",
       "        vertical-align: middle;\n",
       "    }\n",
       "\n",
       "    .dataframe tbody tr th {\n",
       "        vertical-align: top;\n",
       "    }\n",
       "\n",
       "    .dataframe thead th {\n",
       "        text-align: right;\n",
       "    }\n",
       "</style>\n",
       "<table border=\"1\" class=\"dataframe\">\n",
       "  <thead>\n",
       "    <tr style=\"text-align: right;\">\n",
       "      <th></th>\n",
       "      <th>gender</th>\n",
       "      <th>Near_Location</th>\n",
       "      <th>Partner</th>\n",
       "      <th>Promo_friends</th>\n",
       "      <th>Phone</th>\n",
       "      <th>Contract_period</th>\n",
       "      <th>Group_visits</th>\n",
       "      <th>Age</th>\n",
       "      <th>Avg_additional_charges_total</th>\n",
       "      <th>Month_to_end_contract</th>\n",
       "      <th>Lifetime</th>\n",
       "      <th>Avg_class_frequency_total</th>\n",
       "      <th>Avg_class_frequency_current_month</th>\n",
       "      <th>Churn</th>\n",
       "    </tr>\n",
       "  </thead>\n",
       "  <tbody>\n",
       "    <tr>\n",
       "      <th>0</th>\n",
       "      <td>1</td>\n",
       "      <td>1</td>\n",
       "      <td>1</td>\n",
       "      <td>1</td>\n",
       "      <td>0</td>\n",
       "      <td>6</td>\n",
       "      <td>1</td>\n",
       "      <td>29</td>\n",
       "      <td>14.227470</td>\n",
       "      <td>5.0</td>\n",
       "      <td>3</td>\n",
       "      <td>0.020398</td>\n",
       "      <td>0.000000</td>\n",
       "      <td>0</td>\n",
       "    </tr>\n",
       "    <tr>\n",
       "      <th>1</th>\n",
       "      <td>0</td>\n",
       "      <td>1</td>\n",
       "      <td>0</td>\n",
       "      <td>0</td>\n",
       "      <td>1</td>\n",
       "      <td>12</td>\n",
       "      <td>1</td>\n",
       "      <td>31</td>\n",
       "      <td>113.202938</td>\n",
       "      <td>12.0</td>\n",
       "      <td>7</td>\n",
       "      <td>1.922936</td>\n",
       "      <td>1.910244</td>\n",
       "      <td>0</td>\n",
       "    </tr>\n",
       "    <tr>\n",
       "      <th>2</th>\n",
       "      <td>0</td>\n",
       "      <td>1</td>\n",
       "      <td>1</td>\n",
       "      <td>0</td>\n",
       "      <td>1</td>\n",
       "      <td>1</td>\n",
       "      <td>0</td>\n",
       "      <td>28</td>\n",
       "      <td>129.448479</td>\n",
       "      <td>1.0</td>\n",
       "      <td>2</td>\n",
       "      <td>1.859098</td>\n",
       "      <td>1.736502</td>\n",
       "      <td>0</td>\n",
       "    </tr>\n",
       "    <tr>\n",
       "      <th>3</th>\n",
       "      <td>0</td>\n",
       "      <td>1</td>\n",
       "      <td>1</td>\n",
       "      <td>1</td>\n",
       "      <td>1</td>\n",
       "      <td>12</td>\n",
       "      <td>1</td>\n",
       "      <td>33</td>\n",
       "      <td>62.669863</td>\n",
       "      <td>12.0</td>\n",
       "      <td>2</td>\n",
       "      <td>3.205633</td>\n",
       "      <td>3.357215</td>\n",
       "      <td>0</td>\n",
       "    </tr>\n",
       "    <tr>\n",
       "      <th>4</th>\n",
       "      <td>1</td>\n",
       "      <td>1</td>\n",
       "      <td>1</td>\n",
       "      <td>1</td>\n",
       "      <td>1</td>\n",
       "      <td>1</td>\n",
       "      <td>0</td>\n",
       "      <td>26</td>\n",
       "      <td>198.362265</td>\n",
       "      <td>1.0</td>\n",
       "      <td>3</td>\n",
       "      <td>1.113884</td>\n",
       "      <td>1.120078</td>\n",
       "      <td>0</td>\n",
       "    </tr>\n",
       "  </tbody>\n",
       "</table>\n",
       "</div>"
      ],
      "text/plain": [
       "   gender  Near_Location  Partner  Promo_friends  Phone  Contract_period  \\\n",
       "0       1              1        1              1      0                6   \n",
       "1       0              1        0              0      1               12   \n",
       "2       0              1        1              0      1                1   \n",
       "3       0              1        1              1      1               12   \n",
       "4       1              1        1              1      1                1   \n",
       "\n",
       "   Group_visits  Age  Avg_additional_charges_total  Month_to_end_contract  \\\n",
       "0             1   29                     14.227470                    5.0   \n",
       "1             1   31                    113.202938                   12.0   \n",
       "2             0   28                    129.448479                    1.0   \n",
       "3             1   33                     62.669863                   12.0   \n",
       "4             0   26                    198.362265                    1.0   \n",
       "\n",
       "   Lifetime  Avg_class_frequency_total  Avg_class_frequency_current_month  \\\n",
       "0         3                   0.020398                           0.000000   \n",
       "1         7                   1.922936                           1.910244   \n",
       "2         2                   1.859098                           1.736502   \n",
       "3         2                   3.205633                           3.357215   \n",
       "4         3                   1.113884                           1.120078   \n",
       "\n",
       "   Churn  \n",
       "0      0  \n",
       "1      0  \n",
       "2      0  \n",
       "3      0  \n",
       "4      0  "
      ]
     },
     "execution_count": 4,
     "metadata": {},
     "output_type": "execute_result"
    }
   ],
   "source": [
    "df.head()"
   ]
  },
  {
   "cell_type": "code",
   "execution_count": 5,
   "metadata": {
    "scrolled": true
   },
   "outputs": [
    {
     "data": {
      "text/plain": [
       "0"
      ]
     },
     "execution_count": 5,
     "metadata": {},
     "output_type": "execute_result"
    }
   ],
   "source": [
    "# Проверка на наличие явных дубликатов\n",
    "df.duplicated().sum()"
   ]
  },
  {
   "cell_type": "markdown",
   "metadata": {},
   "source": [
    "Пропусков и явных дубликатов не найдено"
   ]
  },
  {
   "cell_type": "code",
   "execution_count": 6,
   "metadata": {
    "scrolled": true
   },
   "outputs": [
    {
     "data": {
      "text/plain": [
       "array([ 6, 12,  1], dtype=int64)"
      ]
     },
     "execution_count": 6,
     "metadata": {},
     "output_type": "execute_result"
    }
   ],
   "source": [
    "df['Contract_period'].unique()"
   ]
  },
  {
   "cell_type": "markdown",
   "metadata": {},
   "source": [
    "В таблице присутствуют абонементы 3 типов"
   ]
  },
  {
   "cell_type": "markdown",
   "metadata": {},
   "source": [
    "## Исследовательский анализ данных"
   ]
  },
  {
   "cell_type": "markdown",
   "metadata": {},
   "source": [
    "### Посмотрим на датасет более детально"
   ]
  },
  {
   "cell_type": "code",
   "execution_count": 7,
   "metadata": {
    "scrolled": false
   },
   "outputs": [
    {
     "data": {
      "text/html": [
       "<div>\n",
       "<style scoped>\n",
       "    .dataframe tbody tr th:only-of-type {\n",
       "        vertical-align: middle;\n",
       "    }\n",
       "\n",
       "    .dataframe tbody tr th {\n",
       "        vertical-align: top;\n",
       "    }\n",
       "\n",
       "    .dataframe thead th {\n",
       "        text-align: right;\n",
       "    }\n",
       "</style>\n",
       "<table border=\"1\" class=\"dataframe\">\n",
       "  <thead>\n",
       "    <tr style=\"text-align: right;\">\n",
       "      <th></th>\n",
       "      <th>count</th>\n",
       "      <th>mean</th>\n",
       "      <th>std</th>\n",
       "      <th>min</th>\n",
       "      <th>25%</th>\n",
       "      <th>50%</th>\n",
       "      <th>75%</th>\n",
       "      <th>max</th>\n",
       "    </tr>\n",
       "  </thead>\n",
       "  <tbody>\n",
       "    <tr>\n",
       "      <th>gender</th>\n",
       "      <td>4000.0</td>\n",
       "      <td>0.510250</td>\n",
       "      <td>0.499957</td>\n",
       "      <td>0.000000</td>\n",
       "      <td>0.000000</td>\n",
       "      <td>1.000000</td>\n",
       "      <td>1.000000</td>\n",
       "      <td>1.000000</td>\n",
       "    </tr>\n",
       "    <tr>\n",
       "      <th>Near_Location</th>\n",
       "      <td>4000.0</td>\n",
       "      <td>0.845250</td>\n",
       "      <td>0.361711</td>\n",
       "      <td>0.000000</td>\n",
       "      <td>1.000000</td>\n",
       "      <td>1.000000</td>\n",
       "      <td>1.000000</td>\n",
       "      <td>1.000000</td>\n",
       "    </tr>\n",
       "    <tr>\n",
       "      <th>Partner</th>\n",
       "      <td>4000.0</td>\n",
       "      <td>0.486750</td>\n",
       "      <td>0.499887</td>\n",
       "      <td>0.000000</td>\n",
       "      <td>0.000000</td>\n",
       "      <td>0.000000</td>\n",
       "      <td>1.000000</td>\n",
       "      <td>1.000000</td>\n",
       "    </tr>\n",
       "    <tr>\n",
       "      <th>Promo_friends</th>\n",
       "      <td>4000.0</td>\n",
       "      <td>0.308500</td>\n",
       "      <td>0.461932</td>\n",
       "      <td>0.000000</td>\n",
       "      <td>0.000000</td>\n",
       "      <td>0.000000</td>\n",
       "      <td>1.000000</td>\n",
       "      <td>1.000000</td>\n",
       "    </tr>\n",
       "    <tr>\n",
       "      <th>Phone</th>\n",
       "      <td>4000.0</td>\n",
       "      <td>0.903500</td>\n",
       "      <td>0.295313</td>\n",
       "      <td>0.000000</td>\n",
       "      <td>1.000000</td>\n",
       "      <td>1.000000</td>\n",
       "      <td>1.000000</td>\n",
       "      <td>1.000000</td>\n",
       "    </tr>\n",
       "    <tr>\n",
       "      <th>Contract_period</th>\n",
       "      <td>4000.0</td>\n",
       "      <td>4.681250</td>\n",
       "      <td>4.549706</td>\n",
       "      <td>1.000000</td>\n",
       "      <td>1.000000</td>\n",
       "      <td>1.000000</td>\n",
       "      <td>6.000000</td>\n",
       "      <td>12.000000</td>\n",
       "    </tr>\n",
       "    <tr>\n",
       "      <th>Group_visits</th>\n",
       "      <td>4000.0</td>\n",
       "      <td>0.412250</td>\n",
       "      <td>0.492301</td>\n",
       "      <td>0.000000</td>\n",
       "      <td>0.000000</td>\n",
       "      <td>0.000000</td>\n",
       "      <td>1.000000</td>\n",
       "      <td>1.000000</td>\n",
       "    </tr>\n",
       "    <tr>\n",
       "      <th>Age</th>\n",
       "      <td>4000.0</td>\n",
       "      <td>29.184250</td>\n",
       "      <td>3.258367</td>\n",
       "      <td>18.000000</td>\n",
       "      <td>27.000000</td>\n",
       "      <td>29.000000</td>\n",
       "      <td>31.000000</td>\n",
       "      <td>41.000000</td>\n",
       "    </tr>\n",
       "    <tr>\n",
       "      <th>Avg_additional_charges_total</th>\n",
       "      <td>4000.0</td>\n",
       "      <td>146.943728</td>\n",
       "      <td>96.355602</td>\n",
       "      <td>0.148205</td>\n",
       "      <td>68.868830</td>\n",
       "      <td>136.220159</td>\n",
       "      <td>210.949625</td>\n",
       "      <td>552.590740</td>\n",
       "    </tr>\n",
       "    <tr>\n",
       "      <th>Month_to_end_contract</th>\n",
       "      <td>4000.0</td>\n",
       "      <td>4.322750</td>\n",
       "      <td>4.191297</td>\n",
       "      <td>1.000000</td>\n",
       "      <td>1.000000</td>\n",
       "      <td>1.000000</td>\n",
       "      <td>6.000000</td>\n",
       "      <td>12.000000</td>\n",
       "    </tr>\n",
       "    <tr>\n",
       "      <th>Lifetime</th>\n",
       "      <td>4000.0</td>\n",
       "      <td>3.724750</td>\n",
       "      <td>3.749267</td>\n",
       "      <td>0.000000</td>\n",
       "      <td>1.000000</td>\n",
       "      <td>3.000000</td>\n",
       "      <td>5.000000</td>\n",
       "      <td>31.000000</td>\n",
       "    </tr>\n",
       "    <tr>\n",
       "      <th>Avg_class_frequency_total</th>\n",
       "      <td>4000.0</td>\n",
       "      <td>1.879020</td>\n",
       "      <td>0.972245</td>\n",
       "      <td>0.000000</td>\n",
       "      <td>1.180875</td>\n",
       "      <td>1.832768</td>\n",
       "      <td>2.536078</td>\n",
       "      <td>6.023668</td>\n",
       "    </tr>\n",
       "    <tr>\n",
       "      <th>Avg_class_frequency_current_month</th>\n",
       "      <td>4000.0</td>\n",
       "      <td>1.767052</td>\n",
       "      <td>1.052906</td>\n",
       "      <td>0.000000</td>\n",
       "      <td>0.963003</td>\n",
       "      <td>1.719574</td>\n",
       "      <td>2.510336</td>\n",
       "      <td>6.146783</td>\n",
       "    </tr>\n",
       "    <tr>\n",
       "      <th>Churn</th>\n",
       "      <td>4000.0</td>\n",
       "      <td>0.265250</td>\n",
       "      <td>0.441521</td>\n",
       "      <td>0.000000</td>\n",
       "      <td>0.000000</td>\n",
       "      <td>0.000000</td>\n",
       "      <td>1.000000</td>\n",
       "      <td>1.000000</td>\n",
       "    </tr>\n",
       "  </tbody>\n",
       "</table>\n",
       "</div>"
      ],
      "text/plain": [
       "                                    count        mean        std        min  \\\n",
       "gender                             4000.0    0.510250   0.499957   0.000000   \n",
       "Near_Location                      4000.0    0.845250   0.361711   0.000000   \n",
       "Partner                            4000.0    0.486750   0.499887   0.000000   \n",
       "Promo_friends                      4000.0    0.308500   0.461932   0.000000   \n",
       "Phone                              4000.0    0.903500   0.295313   0.000000   \n",
       "Contract_period                    4000.0    4.681250   4.549706   1.000000   \n",
       "Group_visits                       4000.0    0.412250   0.492301   0.000000   \n",
       "Age                                4000.0   29.184250   3.258367  18.000000   \n",
       "Avg_additional_charges_total       4000.0  146.943728  96.355602   0.148205   \n",
       "Month_to_end_contract              4000.0    4.322750   4.191297   1.000000   \n",
       "Lifetime                           4000.0    3.724750   3.749267   0.000000   \n",
       "Avg_class_frequency_total          4000.0    1.879020   0.972245   0.000000   \n",
       "Avg_class_frequency_current_month  4000.0    1.767052   1.052906   0.000000   \n",
       "Churn                              4000.0    0.265250   0.441521   0.000000   \n",
       "\n",
       "                                         25%         50%         75%  \\\n",
       "gender                              0.000000    1.000000    1.000000   \n",
       "Near_Location                       1.000000    1.000000    1.000000   \n",
       "Partner                             0.000000    0.000000    1.000000   \n",
       "Promo_friends                       0.000000    0.000000    1.000000   \n",
       "Phone                               1.000000    1.000000    1.000000   \n",
       "Contract_period                     1.000000    1.000000    6.000000   \n",
       "Group_visits                        0.000000    0.000000    1.000000   \n",
       "Age                                27.000000   29.000000   31.000000   \n",
       "Avg_additional_charges_total       68.868830  136.220159  210.949625   \n",
       "Month_to_end_contract               1.000000    1.000000    6.000000   \n",
       "Lifetime                            1.000000    3.000000    5.000000   \n",
       "Avg_class_frequency_total           1.180875    1.832768    2.536078   \n",
       "Avg_class_frequency_current_month   0.963003    1.719574    2.510336   \n",
       "Churn                               0.000000    0.000000    1.000000   \n",
       "\n",
       "                                          max  \n",
       "gender                               1.000000  \n",
       "Near_Location                        1.000000  \n",
       "Partner                              1.000000  \n",
       "Promo_friends                        1.000000  \n",
       "Phone                                1.000000  \n",
       "Contract_period                     12.000000  \n",
       "Group_visits                         1.000000  \n",
       "Age                                 41.000000  \n",
       "Avg_additional_charges_total       552.590740  \n",
       "Month_to_end_contract               12.000000  \n",
       "Lifetime                            31.000000  \n",
       "Avg_class_frequency_total            6.023668  \n",
       "Avg_class_frequency_current_month    6.146783  \n",
       "Churn                                1.000000  "
      ]
     },
     "execution_count": 7,
     "metadata": {},
     "output_type": "execute_result"
    }
   ],
   "source": [
    "df.describe().T"
   ]
  },
  {
   "cell_type": "markdown",
   "metadata": {},
   "source": [
    "### Изучим средние значения в двух группах - тех, кто ушел в отток и тех, кто остался"
   ]
  },
  {
   "cell_type": "code",
   "execution_count": 8,
   "metadata": {
    "scrolled": false
   },
   "outputs": [
    {
     "data": {
      "text/html": [
       "<div>\n",
       "<style scoped>\n",
       "    .dataframe tbody tr th:only-of-type {\n",
       "        vertical-align: middle;\n",
       "    }\n",
       "\n",
       "    .dataframe tbody tr th {\n",
       "        vertical-align: top;\n",
       "    }\n",
       "\n",
       "    .dataframe thead th {\n",
       "        text-align: right;\n",
       "    }\n",
       "</style>\n",
       "<table border=\"1\" class=\"dataframe\">\n",
       "  <thead>\n",
       "    <tr style=\"text-align: right;\">\n",
       "      <th>Churn</th>\n",
       "      <th>0</th>\n",
       "      <th>1</th>\n",
       "    </tr>\n",
       "  </thead>\n",
       "  <tbody>\n",
       "    <tr>\n",
       "      <th>gender</th>\n",
       "      <td>0.510037</td>\n",
       "      <td>0.510839</td>\n",
       "    </tr>\n",
       "    <tr>\n",
       "      <th>Near_Location</th>\n",
       "      <td>0.873086</td>\n",
       "      <td>0.768143</td>\n",
       "    </tr>\n",
       "    <tr>\n",
       "      <th>Partner</th>\n",
       "      <td>0.534195</td>\n",
       "      <td>0.355325</td>\n",
       "    </tr>\n",
       "    <tr>\n",
       "      <th>Promo_friends</th>\n",
       "      <td>0.353522</td>\n",
       "      <td>0.183789</td>\n",
       "    </tr>\n",
       "    <tr>\n",
       "      <th>Phone</th>\n",
       "      <td>0.903709</td>\n",
       "      <td>0.902922</td>\n",
       "    </tr>\n",
       "    <tr>\n",
       "      <th>Contract_period</th>\n",
       "      <td>5.747193</td>\n",
       "      <td>1.728558</td>\n",
       "    </tr>\n",
       "    <tr>\n",
       "      <th>Group_visits</th>\n",
       "      <td>0.464103</td>\n",
       "      <td>0.268615</td>\n",
       "    </tr>\n",
       "    <tr>\n",
       "      <th>Age</th>\n",
       "      <td>29.976523</td>\n",
       "      <td>26.989632</td>\n",
       "    </tr>\n",
       "    <tr>\n",
       "      <th>Avg_additional_charges_total</th>\n",
       "      <td>158.445715</td>\n",
       "      <td>115.082899</td>\n",
       "    </tr>\n",
       "    <tr>\n",
       "      <th>Month_to_end_contract</th>\n",
       "      <td>5.283089</td>\n",
       "      <td>1.662582</td>\n",
       "    </tr>\n",
       "    <tr>\n",
       "      <th>Lifetime</th>\n",
       "      <td>4.711807</td>\n",
       "      <td>0.990575</td>\n",
       "    </tr>\n",
       "    <tr>\n",
       "      <th>Avg_class_frequency_total</th>\n",
       "      <td>2.024876</td>\n",
       "      <td>1.474995</td>\n",
       "    </tr>\n",
       "    <tr>\n",
       "      <th>Avg_class_frequency_current_month</th>\n",
       "      <td>2.027882</td>\n",
       "      <td>1.044546</td>\n",
       "    </tr>\n",
       "  </tbody>\n",
       "</table>\n",
       "</div>"
      ],
      "text/plain": [
       "Churn                                       0           1\n",
       "gender                               0.510037    0.510839\n",
       "Near_Location                        0.873086    0.768143\n",
       "Partner                              0.534195    0.355325\n",
       "Promo_friends                        0.353522    0.183789\n",
       "Phone                                0.903709    0.902922\n",
       "Contract_period                      5.747193    1.728558\n",
       "Group_visits                         0.464103    0.268615\n",
       "Age                                 29.976523   26.989632\n",
       "Avg_additional_charges_total       158.445715  115.082899\n",
       "Month_to_end_contract                5.283089    1.662582\n",
       "Lifetime                             4.711807    0.990575\n",
       "Avg_class_frequency_total            2.024876    1.474995\n",
       "Avg_class_frequency_current_month    2.027882    1.044546"
      ]
     },
     "execution_count": 8,
     "metadata": {},
     "output_type": "execute_result"
    }
   ],
   "source": [
    "df.groupby('Churn').mean().T"
   ]
  },
  {
   "cell_type": "markdown",
   "metadata": {},
   "source": [
    "**Вывод:**\n",
    "\n",
    "Клиенты пришедшие по акции «приведи друга» и сотрудники компании-партнёра менее склонны к оттоку"
   ]
  },
  {
   "cell_type": "markdown",
   "metadata": {},
   "source": [
    "### Построим гистограммы признаков для тех, кто ушёл (отток) и тех, кто остался (не попали в отток)"
   ]
  },
  {
   "cell_type": "code",
   "execution_count": 9,
   "metadata": {
    "scrolled": true
   },
   "outputs": [
    {
     "data": {
      "image/png": "[encoded data removed]",
      "text/plain": [
       "<Figure size 1008x288 with 2 Axes>"
      ]
     },
     "metadata": {
      "needs_background": "light"
     },
     "output_type": "display_data"
    },
    {
     "data": {
      "image/png": "[encoded data removed]",
      "text/plain": [
       "<Figure size 1008x288 with 2 Axes>"
      ]
     },
     "metadata": {
      "needs_background": "light"
     },
     "output_type": "display_data"
    },
    {
     "data": {
      "image/png": "[encoded data removed]",
      "text/plain": [
       "<Figure size 1008x288 with 2 Axes>"
      ]
     },
     "metadata": {
      "needs_background": "light"
     },
     "output_type": "display_data"
    },
    {
     "data": {
      "image/png": "[encoded data removed]",
      "text/plain": [
       "<Figure size 1008x288 with 2 Axes>"
      ]
     },
     "metadata": {
      "needs_background": "light"
     },
     "output_type": "display_data"
    },
    {
     "data": {
      "image/png": "[encoded data removed]",
      "text/plain": [
       "<Figure size 1008x288 with 2 Axes>"
      ]
     },
     "metadata": {
      "needs_background": "light"
     },
     "output_type": "display_data"
    },
    {
     "data": {
      "image/png": "[encoded data removed]",
      "text/plain": [
       "<Figure size 1008x288 with 2 Axes>"
      ]
     },
     "metadata": {
      "needs_background": "light"
     },
     "output_type": "display_data"
    },
    {
     "data": {
      "image/png": "[encoded data removed]",
      "text/plain": [
       "<Figure size 1008x288 with 2 Axes>"
      ]
     },
     "metadata": {
      "needs_background": "light"
     },
     "output_type": "display_data"
    },
    {
     "data": {
      "image/png": "[encoded data removed]",
      "text/plain": [
       "<Figure size 1008x288 with 2 Axes>"
      ]
     },
     "metadata": {
      "needs_background": "light"
     },
     "output_type": "display_data"
    },
    {
     "data": {
      "image/png": "[encoded data removed]",
      "text/plain": [
       "<Figure size 1008x288 with 2 Axes>"
      ]
     },
     "metadata": {
      "needs_background": "light"
     },
     "output_type": "display_data"
    },
    {
     "data": {
      "image/png": "[encoded data removed]",
      "text/plain": [
       "<Figure size 1008x288 with 2 Axes>"
      ]
     },
     "metadata": {
      "needs_background": "light"
     },
     "output_type": "display_data"
    },
    {
     "data": {
      "image/png": "[encoded data removed]",
      "text/plain": [
       "<Figure size 1008x288 with 2 Axes>"
      ]
     },
     "metadata": {
      "needs_background": "light"
     },
     "output_type": "display_data"
    },
    {
     "data": {
      "image/png": "[encoded data removed]",
      "text/plain": [
       "<Figure size 1008x288 with 2 Axes>"
      ]
     },
     "metadata": {
      "needs_background": "light"
     },
     "output_type": "display_data"
    },
    {
     "data": {
      "image/png": "[encoded data removed]",
      "text/plain": [
       "<Figure size 1008x288 with 2 Axes>"
      ]
     },
     "metadata": {
      "needs_background": "light"
     },
     "output_type": "display_data"
    }
   ],
   "source": [
    "for feature in df.drop(columns=['Churn']):\n",
    "    plt.subplots(figsize = (14, 4))\n",
    "    sns.histplot(df.query('Churn == 0')[feature], bins=10, ax = plt.subplot(1, 2, 1))\n",
    "    plt.title(f'Те кто остался по признаку {feature}')\n",
    "    sns.histplot(df.query('Churn == 1')[feature], bins=10, ax = plt.subplot(1, 2, 2))\n",
    "    plt.title(f'Те кто ушел по признаку {feature}')\n",
    "    plt.show()"
   ]
  },
  {
   "cell_type": "markdown",
   "metadata": {},
   "source": [
    "Распределения выглядят правдоподобно"
   ]
  },
  {
   "cell_type": "markdown",
   "metadata": {},
   "source": [
    "### Построим матрицу корреляций"
   ]
  },
  {
   "cell_type": "code",
   "execution_count": 10,
   "metadata": {},
   "outputs": [
    {
     "data": {
      "image/png": "[encoded data removed]",
      "text/plain": [
       "<Figure size 1152x1152 with 2 Axes>"
      ]
     },
     "metadata": {
      "needs_background": "light"
     },
     "output_type": "display_data"
    }
   ],
   "source": [
    "cm = df.corr()\n",
    "\n",
    "plt.figure(figsize=(16, 16))\n",
    "sns.heatmap(cm, annot=True, square=True)\n",
    "plt.show()"
   ]
  },
  {
   "cell_type": "markdown",
   "metadata": {},
   "source": [
    "**Выводы:**\n",
    "- Нулевая корреляция с целевой переменной у признаков gender и Phone\n",
    "- Наиболее высокая корреляция с целевой переменной у признаков Avg_class_frequency_current_month, Lifetime и Age\n",
    "- Слишком высокая корреляция между собой у признаков Avg_class_frequency_current_month и Avg_class_frequency_total, Month_to_end_contract и Contract_period"
   ]
  },
  {
   "cell_type": "markdown",
   "metadata": {},
   "source": [
    "## Построим модель прогнозирования оттока клиентов"
   ]
  },
  {
   "cell_type": "code",
   "execution_count": 11,
   "metadata": {},
   "outputs": [],
   "source": [
    "# Избавимся от сильно скоррелированных признаков\n",
    "X = df.drop(columns=['Churn', 'Avg_class_frequency_total', 'Contract_period'])\n",
    "y = df['Churn']\n",
    "\n",
    "X_train, X_test, y_train, y_test = train_test_split(X, y, test_size=0.2, random_state=0, stratify=y)"
   ]
  },
  {
   "cell_type": "markdown",
   "metadata": {},
   "source": [
    "Стандартизируем данные"
   ]
  },
  {
   "cell_type": "code",
   "execution_count": 12,
   "metadata": {},
   "outputs": [],
   "source": [
    "# создадим объект класса StandardScaler и применим его к обучающей выборке\n",
    "scaler = StandardScaler()\n",
    "X_train_st = scaler.fit_transform(X_train)  # обучаем scaler и одновременно трансформируем матрицу для обучающей выборки\n",
    "\n",
    "# применяем стандартизацию к матрице признаков для тестовой выборки\n",
    "X_test_st = scaler.transform(X_test)"
   ]
  },
  {
   "cell_type": "code",
   "execution_count": 13,
   "metadata": {},
   "outputs": [],
   "source": [
    "# функция, которая принимает на вход модель и данные и возвращает метрики\n",
    "\n",
    "def make_prediction(m, X_train, y_train, X_test, y_test):\n",
    "    model = m\n",
    "    model.fit(X_train, y_train)\n",
    "    y_pred = model.predict(X_test)\n",
    "    probabilities = model.predict_proba(X_test)[:, 1]\n",
    "    custom_predictions = [0 if i < threshold else 1 for i in probabilities]\n",
    "    print('Метрики для прогноза с кастомным порогом')\n",
    "    print(\n",
    "    'Accuracy for custom: {:.2f}'.format(\n",
    "        accuracy_score(y_test, custom_predictions)\n",
    "        )\n",
    "    )\n",
    "    print(\n",
    "    'Precision for custom: {:.2f}'.format(\n",
    "        precision_score(y_test, custom_predictions)\n",
    "        )\n",
    "    )\n",
    "    print(\n",
    "    'Recall for custom: {:.2f}'.format(\n",
    "        recall_score(y_test, custom_predictions)\n",
    "        )\n",
    "    )\n",
    "    print('F1: {:.2f}'.format(f1_score(y_test, custom_predictions)))\n",
    "    print('ROC_AUC: {:.2f}'.format(roc_auc_score(y_test, custom_predictions)))"
   ]
  },
  {
   "cell_type": "markdown",
   "metadata": {},
   "source": [
    "Определим threshold для функции make_prediction чтобы получить более точные метрики"
   ]
  },
  {
   "cell_type": "code",
   "execution_count": 14,
   "metadata": {
    "scrolled": true
   },
   "outputs": [
    {
     "data": {
      "text/plain": [
       "0.26525"
      ]
     },
     "execution_count": 14,
     "metadata": {},
     "output_type": "execute_result"
    }
   ],
   "source": [
    "df.query('Churn == 1')['Churn'].count() / df['Churn'].count()"
   ]
  },
  {
   "cell_type": "markdown",
   "metadata": {},
   "source": [
    "Применим модель логистической регрессии"
   ]
  },
  {
   "cell_type": "code",
   "execution_count": 15,
   "metadata": {
    "scrolled": true
   },
   "outputs": [
    {
     "name": "stdout",
     "output_type": "stream",
     "text": [
      "Метрики для прогноза с кастомным порогом\n",
      "Accuracy for custom: 0.89\n",
      "Precision for custom: 0.73\n",
      "Recall for custom: 0.94\n",
      "F1: 0.82\n",
      "ROC_AUC: 0.91\n"
     ]
    }
   ],
   "source": [
    "threshold = 0.26525\n",
    "\n",
    "make_prediction(LogisticRegression(solver='liblinear'), X_train_st, y_train,\n",
    "X_test_st, y_test)"
   ]
  },
  {
   "cell_type": "markdown",
   "metadata": {},
   "source": [
    "Применим модель случайного леса"
   ]
  },
  {
   "cell_type": "code",
   "execution_count": 16,
   "metadata": {},
   "outputs": [
    {
     "name": "stdout",
     "output_type": "stream",
     "text": [
      "Метрики для прогноза с кастомным порогом\n",
      "Accuracy for custom: 0.88\n",
      "Precision for custom: 0.72\n",
      "Recall for custom: 0.92\n",
      "F1: 0.81\n",
      "ROC_AUC: 0.89\n"
     ]
    }
   ],
   "source": [
    "make_prediction(RandomForestClassifier(n_estimators = 100, random_state = 0),\n",
    "X_train_st, y_train, X_test_st, y_test)"
   ]
  },
  {
   "cell_type": "markdown",
   "metadata": {},
   "source": [
    "**Вывод:**\n",
    "\n",
    "На основании метрик, модель логистической регрессии показала себя лучше модели случайного леса."
   ]
  },
  {
   "cell_type": "markdown",
   "metadata": {},
   "source": [
    "## Проведем кластеризацию клиентов"
   ]
  },
  {
   "cell_type": "markdown",
   "metadata": {},
   "source": [
    "### Стандартизируем данные"
   ]
  },
  {
   "cell_type": "code",
   "execution_count": 17,
   "metadata": {},
   "outputs": [],
   "source": [
    "x_sc = scaler.fit_transform(X)"
   ]
  },
  {
   "cell_type": "markdown",
   "metadata": {},
   "source": [
    "### Построим матрицу расстояний функцией linkage() на стандартизованной матрице признаков и нарисуем дендрограмму"
   ]
  },
  {
   "cell_type": "code",
   "execution_count": 18,
   "metadata": {
    "scrolled": false
   },
   "outputs": [
    {
     "data": {
      "image/png": "[encoded data removed]",
      "text/plain": [
       "<Figure size 1080x720 with 1 Axes>"
      ]
     },
     "metadata": {
      "needs_background": "light"
     },
     "output_type": "display_data"
    }
   ],
   "source": [
    "linked = linkage(x_sc, method = 'ward')\n",
    "plt.figure(figsize=(15, 10))  \n",
    "dendrogram(linked, orientation='top')\n",
    "plt.title('Hierarchial clustering')\n",
    "plt.show()"
   ]
  },
  {
   "cell_type": "markdown",
   "metadata": {},
   "source": [
    "Предложенное оптимальное число кластеров 4, но визуально можно выделить до 6 кластеров"
   ]
  },
  {
   "cell_type": "markdown",
   "metadata": {},
   "source": [
    "### Обучим модель кластеризации на основании алгоритма K-Means и спрогнозируем кластеры клиентов"
   ]
  },
  {
   "cell_type": "code",
   "execution_count": 19,
   "metadata": {},
   "outputs": [],
   "source": [
    "# За число кластеров примем n=5\n",
    "\n",
    "km = KMeans(n_clusters = 5, random_state=0)\n",
    "labels = km.fit_predict(x_sc)\n",
    "\n",
    "# сохраняем метки кластера в поле нашего датасета\n",
    "X['cluster'] = labels"
   ]
  },
  {
   "cell_type": "markdown",
   "metadata": {},
   "source": [
    "### Посмотрим на средние значения признаков для кластеров"
   ]
  },
  {
   "cell_type": "code",
   "execution_count": 20,
   "metadata": {
    "scrolled": true
   },
   "outputs": [
    {
     "data": {
      "text/html": [
       "<div>\n",
       "<style scoped>\n",
       "    .dataframe tbody tr th:only-of-type {\n",
       "        vertical-align: middle;\n",
       "    }\n",
       "\n",
       "    .dataframe tbody tr th {\n",
       "        vertical-align: top;\n",
       "    }\n",
       "\n",
       "    .dataframe thead th {\n",
       "        text-align: right;\n",
       "    }\n",
       "</style>\n",
       "<table border=\"1\" class=\"dataframe\">\n",
       "  <thead>\n",
       "    <tr style=\"text-align: right;\">\n",
       "      <th></th>\n",
       "      <th>gender</th>\n",
       "      <th>Near_Location</th>\n",
       "      <th>Partner</th>\n",
       "      <th>Promo_friends</th>\n",
       "      <th>Phone</th>\n",
       "      <th>Group_visits</th>\n",
       "      <th>Age</th>\n",
       "      <th>Avg_additional_charges_total</th>\n",
       "      <th>Month_to_end_contract</th>\n",
       "      <th>Lifetime</th>\n",
       "      <th>Avg_class_frequency_current_month</th>\n",
       "      <th>cluster</th>\n",
       "    </tr>\n",
       "  </thead>\n",
       "  <tbody>\n",
       "    <tr>\n",
       "      <th>0</th>\n",
       "      <td>0.49</td>\n",
       "      <td>0.99</td>\n",
       "      <td>0.95</td>\n",
       "      <td>1.00</td>\n",
       "      <td>0.91</td>\n",
       "      <td>0.53</td>\n",
       "      <td>29.63</td>\n",
       "      <td>154.09</td>\n",
       "      <td>6.73</td>\n",
       "      <td>4.29</td>\n",
       "      <td>1.92</td>\n",
       "      <td>0</td>\n",
       "    </tr>\n",
       "    <tr>\n",
       "      <th>1</th>\n",
       "      <td>0.50</td>\n",
       "      <td>1.00</td>\n",
       "      <td>0.38</td>\n",
       "      <td>0.05</td>\n",
       "      <td>0.90</td>\n",
       "      <td>0.00</td>\n",
       "      <td>30.34</td>\n",
       "      <td>174.39</td>\n",
       "      <td>4.70</td>\n",
       "      <td>5.17</td>\n",
       "      <td>2.24</td>\n",
       "      <td>1</td>\n",
       "    </tr>\n",
       "    <tr>\n",
       "      <th>2</th>\n",
       "      <td>0.51</td>\n",
       "      <td>1.00</td>\n",
       "      <td>0.23</td>\n",
       "      <td>0.11</td>\n",
       "      <td>0.90</td>\n",
       "      <td>0.18</td>\n",
       "      <td>26.81</td>\n",
       "      <td>111.07</td>\n",
       "      <td>1.72</td>\n",
       "      <td>1.42</td>\n",
       "      <td>0.98</td>\n",
       "      <td>2</td>\n",
       "    </tr>\n",
       "    <tr>\n",
       "      <th>3</th>\n",
       "      <td>0.50</td>\n",
       "      <td>0.00</td>\n",
       "      <td>0.49</td>\n",
       "      <td>0.07</td>\n",
       "      <td>0.91</td>\n",
       "      <td>0.23</td>\n",
       "      <td>28.70</td>\n",
       "      <td>137.38</td>\n",
       "      <td>2.83</td>\n",
       "      <td>3.03</td>\n",
       "      <td>1.60</td>\n",
       "      <td>3</td>\n",
       "    </tr>\n",
       "    <tr>\n",
       "      <th>4</th>\n",
       "      <td>0.55</td>\n",
       "      <td>1.00</td>\n",
       "      <td>0.27</td>\n",
       "      <td>0.08</td>\n",
       "      <td>0.90</td>\n",
       "      <td>1.00</td>\n",
       "      <td>30.25</td>\n",
       "      <td>155.21</td>\n",
       "      <td>4.71</td>\n",
       "      <td>4.48</td>\n",
       "      <td>2.04</td>\n",
       "      <td>4</td>\n",
       "    </tr>\n",
       "  </tbody>\n",
       "</table>\n",
       "</div>"
      ],
      "text/plain": [
       "   gender  Near_Location  Partner  Promo_friends  Phone  Group_visits    Age  \\\n",
       "0    0.49           0.99     0.95           1.00   0.91          0.53  29.63   \n",
       "1    0.50           1.00     0.38           0.05   0.90          0.00  30.34   \n",
       "2    0.51           1.00     0.23           0.11   0.90          0.18  26.81   \n",
       "3    0.50           0.00     0.49           0.07   0.91          0.23  28.70   \n",
       "4    0.55           1.00     0.27           0.08   0.90          1.00  30.25   \n",
       "\n",
       "   Avg_additional_charges_total  Month_to_end_contract  Lifetime  \\\n",
       "0                        154.09                   6.73      4.29   \n",
       "1                        174.39                   4.70      5.17   \n",
       "2                        111.07                   1.72      1.42   \n",
       "3                        137.38                   2.83      3.03   \n",
       "4                        155.21                   4.71      4.48   \n",
       "\n",
       "   Avg_class_frequency_current_month  cluster  \n",
       "0                               1.92        0  \n",
       "1                               2.24        1  \n",
       "2                               0.98        2  \n",
       "3                               1.60        3  \n",
       "4                               2.04        4  "
      ]
     },
     "metadata": {},
     "output_type": "display_data"
    }
   ],
   "source": [
    "clusters = X.groupby('cluster').mean().round(2).reset_index(drop=True)\n",
    "clusters['cluster'] = clusters.index\n",
    "display(clusters)"
   ]
  },
  {
   "cell_type": "code",
   "execution_count": 21,
   "metadata": {},
   "outputs": [
    {
     "data": {
      "text/html": [
       "<div>\n",
       "<style scoped>\n",
       "    .dataframe tbody tr th:only-of-type {\n",
       "        vertical-align: middle;\n",
       "    }\n",
       "\n",
       "    .dataframe tbody tr th {\n",
       "        vertical-align: top;\n",
       "    }\n",
       "\n",
       "    .dataframe thead th {\n",
       "        text-align: right;\n",
       "    }\n",
       "</style>\n",
       "<table border=\"1\" class=\"dataframe\">\n",
       "  <thead>\n",
       "    <tr style=\"text-align: right;\">\n",
       "      <th></th>\n",
       "      <th>cluster</th>\n",
       "      <th>gender</th>\n",
       "      <th>Near_Location</th>\n",
       "      <th>Partner</th>\n",
       "      <th>Promo_friends</th>\n",
       "      <th>Phone</th>\n",
       "      <th>Group_visits</th>\n",
       "      <th>Age</th>\n",
       "      <th>Avg_additional_charges_total</th>\n",
       "      <th>Month_to_end_contract</th>\n",
       "      <th>Lifetime</th>\n",
       "      <th>Avg_class_frequency_current_month</th>\n",
       "    </tr>\n",
       "  </thead>\n",
       "  <tbody>\n",
       "    <tr>\n",
       "      <th>0</th>\n",
       "      <td>0</td>\n",
       "      <td>0.49</td>\n",
       "      <td>0.99</td>\n",
       "      <td>0.95</td>\n",
       "      <td>1.00</td>\n",
       "      <td>0.91</td>\n",
       "      <td>0.53</td>\n",
       "      <td>29.63</td>\n",
       "      <td>154.09</td>\n",
       "      <td>6.73</td>\n",
       "      <td>4.29</td>\n",
       "      <td>1.92</td>\n",
       "    </tr>\n",
       "    <tr>\n",
       "      <th>1</th>\n",
       "      <td>1</td>\n",
       "      <td>0.50</td>\n",
       "      <td>1.00</td>\n",
       "      <td>0.38</td>\n",
       "      <td>0.05</td>\n",
       "      <td>0.90</td>\n",
       "      <td>0.00</td>\n",
       "      <td>30.34</td>\n",
       "      <td>174.39</td>\n",
       "      <td>4.70</td>\n",
       "      <td>5.17</td>\n",
       "      <td>2.24</td>\n",
       "    </tr>\n",
       "    <tr>\n",
       "      <th>2</th>\n",
       "      <td>2</td>\n",
       "      <td>0.51</td>\n",
       "      <td>1.00</td>\n",
       "      <td>0.23</td>\n",
       "      <td>0.11</td>\n",
       "      <td>0.90</td>\n",
       "      <td>0.18</td>\n",
       "      <td>26.81</td>\n",
       "      <td>111.07</td>\n",
       "      <td>1.72</td>\n",
       "      <td>1.42</td>\n",
       "      <td>0.98</td>\n",
       "    </tr>\n",
       "    <tr>\n",
       "      <th>3</th>\n",
       "      <td>3</td>\n",
       "      <td>0.50</td>\n",
       "      <td>0.00</td>\n",
       "      <td>0.49</td>\n",
       "      <td>0.07</td>\n",
       "      <td>0.91</td>\n",
       "      <td>0.23</td>\n",
       "      <td>28.70</td>\n",
       "      <td>137.38</td>\n",
       "      <td>2.83</td>\n",
       "      <td>3.03</td>\n",
       "      <td>1.60</td>\n",
       "    </tr>\n",
       "    <tr>\n",
       "      <th>4</th>\n",
       "      <td>4</td>\n",
       "      <td>0.55</td>\n",
       "      <td>1.00</td>\n",
       "      <td>0.27</td>\n",
       "      <td>0.08</td>\n",
       "      <td>0.90</td>\n",
       "      <td>1.00</td>\n",
       "      <td>30.25</td>\n",
       "      <td>155.21</td>\n",
       "      <td>4.71</td>\n",
       "      <td>4.48</td>\n",
       "      <td>2.04</td>\n",
       "    </tr>\n",
       "  </tbody>\n",
       "</table>\n",
       "</div>"
      ],
      "text/plain": [
       "   cluster  gender  Near_Location  Partner  Promo_friends  Phone  \\\n",
       "0        0    0.49           0.99     0.95           1.00   0.91   \n",
       "1        1    0.50           1.00     0.38           0.05   0.90   \n",
       "2        2    0.51           1.00     0.23           0.11   0.90   \n",
       "3        3    0.50           0.00     0.49           0.07   0.91   \n",
       "4        4    0.55           1.00     0.27           0.08   0.90   \n",
       "\n",
       "   Group_visits    Age  Avg_additional_charges_total  Month_to_end_contract  \\\n",
       "0          0.53  29.63                        154.09                   6.73   \n",
       "1          0.00  30.34                        174.39                   4.70   \n",
       "2          0.18  26.81                        111.07                   1.72   \n",
       "3          0.23  28.70                        137.38                   2.83   \n",
       "4          1.00  30.25                        155.21                   4.71   \n",
       "\n",
       "   Lifetime  Avg_class_frequency_current_month  \n",
       "0      4.29                               1.92  \n",
       "1      5.17                               2.24  \n",
       "2      1.42                               0.98  \n",
       "3      3.03                               1.60  \n",
       "4      4.48                               2.04  "
      ]
     },
     "metadata": {},
     "output_type": "display_data"
    }
   ],
   "source": [
    "clusters = X.groupby('cluster', as_index=False).mean().round(2)\n",
    "display(clusters)"
   ]
  },
  {
   "cell_type": "markdown",
   "metadata": {},
   "source": [
    "### Построим распределения признаков для кластеров"
   ]
  },
  {
   "cell_type": "code",
   "execution_count": 22,
   "metadata": {
    "scrolled": true
   },
   "outputs": [
    {
     "data": {
      "image/png": "[encoded data removed]",
      "text/plain": [
       "<Figure size 432x288 with 1 Axes>"
      ]
     },
     "metadata": {
      "needs_background": "light"
     },
     "output_type": "display_data"
    },
    {
     "data": {
      "image/png": "[encoded data removed]",
      "text/plain": [
       "<Figure size 432x288 with 1 Axes>"
      ]
     },
     "metadata": {
      "needs_background": "light"
     },
     "output_type": "display_data"
    },
    {
     "data": {
      "image/png": "[encoded data removed]",
      "text/plain": [
       "<Figure size 432x288 with 1 Axes>"
      ]
     },
     "metadata": {
      "needs_background": "light"
     },
     "output_type": "display_data"
    },
    {
     "data": {
      "image/png": "[encoded data removed]",
      "text/plain": [
       "<Figure size 432x288 with 1 Axes>"
      ]
     },
     "metadata": {
      "needs_background": "light"
     },
     "output_type": "display_data"
    },
    {
     "data": {
      "image/png": "[encoded data removed]",
      "text/plain": [
       "<Figure size 432x288 with 1 Axes>"
      ]
     },
     "metadata": {
      "needs_background": "light"
     },
     "output_type": "display_data"
    },
    {
     "data": {
      "image/png": "[encoded data removed]",
      "text/plain": [
       "<Figure size 432x288 with 1 Axes>"
      ]
     },
     "metadata": {
      "needs_background": "light"
     },
     "output_type": "display_data"
    },
    {
     "data": {
      "image/png": "[encoded data removed]",
      "text/plain": [
       "<Figure size 432x288 with 1 Axes>"
      ]
     },
     "metadata": {
      "needs_background": "light"
     },
     "output_type": "display_data"
    },
    {
     "data": {
      "image/png": "[encoded data removed]",
      "text/plain": [
       "<Figure size 432x288 with 1 Axes>"
      ]
     },
     "metadata": {
      "needs_background": "light"
     },
     "output_type": "display_data"
    },
    {
     "data": {
      "image/png": "[encoded data removed]",
      "text/plain": [
       "<Figure size 432x288 with 1 Axes>"
      ]
     },
     "metadata": {
      "needs_background": "light"
     },
     "output_type": "display_data"
    },
    {
     "data": {
      "image/png": "[encoded data removed]",
      "text/plain": [
       "<Figure size 432x288 with 1 Axes>"
      ]
     },
     "metadata": {
      "needs_background": "light"
     },
     "output_type": "display_data"
    },
    {
     "data": {
      "image/png": "[encoded data removed]",
      "text/plain": [
       "<Figure size 432x288 with 1 Axes>"
      ]
     },
     "metadata": {
      "needs_background": "light"
     },
     "output_type": "display_data"
    }
   ],
   "source": [
    "for c in clusters.drop(columns=['cluster']):\n",
    "    sns.barplot(x='cluster', y=c, data=clusters)\n",
    "    plt.title(f'Распределение по признаку {c}')\n",
    "    plt.show()"
   ]
  },
  {
   "cell_type": "markdown",
   "metadata": {},
   "source": [
    "**Вывод:**\n",
    "\n",
    "Можно заметить существенные различия по всем признакам, за исключением пола, возраста и наличия контактного телефона"
   ]
  },
  {
   "cell_type": "markdown",
   "metadata": {},
   "source": [
    "### Для каждого кластера посчитаем долю оттока"
   ]
  },
  {
   "cell_type": "code",
   "execution_count": 23,
   "metadata": {},
   "outputs": [
    {
     "data": {
      "text/plain": [
       "cluster\n",
       "0    0.108000\n",
       "1    0.046481\n",
       "2    0.741294\n",
       "3    0.400982\n",
       "4    0.092548\n",
       "Name: Churn, dtype: float64"
      ]
     },
     "execution_count": 23,
     "metadata": {},
     "output_type": "execute_result"
    }
   ],
   "source": [
    "X['Churn'] = y\n",
    "X.groupby('cluster')['Churn'].sum() / X.groupby('cluster')['Churn'].count()"
   ]
  },
  {
   "cell_type": "markdown",
   "metadata": {},
   "source": [
    "**Вывод:**\n",
    "\n",
    "2-й и 3-й кластеры наиболее склонны к оттоку клиентов, остальные кластеры гараздо надежнее"
   ]
  },
  {
   "cell_type": "markdown",
   "metadata": {},
   "source": [
    "## Выводы и базовые рекомендации"
   ]
  },
  {
   "cell_type": "markdown",
   "metadata": {},
   "source": [
    "**Выводы:**\n",
    "\n",
    "- Клиенты 30-летнего возраста менее всего склонны к оттоку\n",
    "- В основном уходят клиенты с длительностью текущего действующего абонемента в 1 месяц\n",
    "- Отток, в среднем, происходит спустя 1 месяц с момента первого обращения в фитнес-центр\n",
    "- Клиенты пришедшие по акции «приведи друга» и сотрудники компании-партнёра менее склонны к оттоку\n",
    "\n",
    "**Рекомендации:**\n",
    "\n",
    "- Введение абонемента длительностью в 3 месяца\n",
    "- Увеличение цен на абонементы длительностью в 1 месяц и сокращение цен на абонементы длительностью в 6 и более месяцев\n",
    "- Покупка рекламы у интернет-ресурсов со средней возростной аудиторией в 30 лет"
   ]
  }
 ],
 "metadata": {
  "ExecuteTimeLog": [
   {
    "duration": 494,
    "start_time": "2022-03-21T08:26:15.894Z"
   },
   {
    "duration": 163,
    "start_time": "2022-03-21T08:27:03.508Z"
   },
   {
    "duration": 31,
    "start_time": "2022-03-21T08:32:21.883Z"
   },
   {
    "duration": 47,
    "start_time": "2022-03-21T08:32:36.491Z"
   },
   {
    "duration": 17,
    "start_time": "2022-03-21T08:32:50.363Z"
   },
   {
    "duration": 30,
    "start_time": "2022-03-21T08:32:54.524Z"
   },
   {
    "duration": 11,
    "start_time": "2022-03-21T08:33:09.464Z"
   },
   {
    "duration": 12,
    "start_time": "2022-03-21T08:33:59.037Z"
   },
   {
    "duration": 23,
    "start_time": "2022-03-21T08:43:07.308Z"
   },
   {
    "duration": 3,
    "start_time": "2022-03-21T14:08:09.442Z"
   },
   {
    "duration": 33,
    "start_time": "2022-03-21T14:08:09.448Z"
   },
   {
    "duration": 18,
    "start_time": "2022-03-21T14:08:09.483Z"
   },
   {
    "duration": 13,
    "start_time": "2022-03-21T14:08:09.503Z"
   },
   {
    "duration": 61,
    "start_time": "2022-03-21T14:08:09.520Z"
   },
   {
    "duration": 95,
    "start_time": "2022-03-21T14:13:31.959Z"
   },
   {
    "duration": 1241,
    "start_time": "2022-03-21T14:13:47.929Z"
   },
   {
    "duration": 318,
    "start_time": "2022-03-21T14:13:52.580Z"
   },
   {
    "duration": 568,
    "start_time": "2022-03-21T14:14:39.788Z"
   },
   {
    "duration": 5,
    "start_time": "2022-03-21T14:15:43.909Z"
   },
   {
    "duration": 5837,
    "start_time": "2022-03-21T14:15:48.492Z"
   },
   {
    "duration": 131,
    "start_time": "2022-03-21T14:28:29.421Z"
   },
   {
    "duration": 127,
    "start_time": "2022-03-21T14:28:42.480Z"
   },
   {
    "duration": 50,
    "start_time": "2022-03-21T14:28:52.172Z"
   },
   {
    "duration": 12334,
    "start_time": "2022-03-21T14:29:09.302Z"
   },
   {
    "duration": 14061,
    "start_time": "2022-03-21T14:30:22.648Z"
   },
   {
    "duration": 18246,
    "start_time": "2022-03-21T14:32:38.987Z"
   },
   {
    "duration": 5908,
    "start_time": "2022-03-21T14:33:19.991Z"
   },
   {
    "duration": 6406,
    "start_time": "2022-03-21T14:34:10.799Z"
   },
   {
    "duration": 6069,
    "start_time": "2022-03-21T14:34:27.757Z"
   },
   {
    "duration": 6049,
    "start_time": "2022-03-21T14:34:54.576Z"
   },
   {
    "duration": 319,
    "start_time": "2022-03-21T14:36:08.762Z"
   },
   {
    "duration": 7589,
    "start_time": "2022-03-21T14:36:25.688Z"
   },
   {
    "duration": 7358,
    "start_time": "2022-03-21T14:36:33.698Z"
   },
   {
    "duration": 7717,
    "start_time": "2022-03-21T14:37:33.313Z"
   },
   {
    "duration": 6842,
    "start_time": "2022-03-21T14:44:10.939Z"
   },
   {
    "duration": 6041,
    "start_time": "2022-03-21T14:44:34.460Z"
   },
   {
    "duration": 5765,
    "start_time": "2022-03-21T14:44:48.342Z"
   },
   {
    "duration": 5855,
    "start_time": "2022-03-21T14:46:10.080Z"
   },
   {
    "duration": 7028,
    "start_time": "2022-03-21T14:46:55.512Z"
   },
   {
    "duration": 6555,
    "start_time": "2022-03-21T14:48:58.387Z"
   },
   {
    "duration": 5961,
    "start_time": "2022-03-21T14:49:16.972Z"
   },
   {
    "duration": 5830,
    "start_time": "2022-03-21T14:49:48.814Z"
   },
   {
    "duration": 5853,
    "start_time": "2022-03-21T14:50:25.214Z"
   },
   {
    "duration": 5793,
    "start_time": "2022-03-21T14:51:26.367Z"
   },
   {
    "duration": 6433,
    "start_time": "2022-03-21T14:54:08.076Z"
   },
   {
    "duration": 6,
    "start_time": "2022-03-21T14:56:13.154Z"
   },
   {
    "duration": 6,
    "start_time": "2022-03-21T14:56:48.492Z"
   },
   {
    "duration": 232,
    "start_time": "2022-03-21T14:57:55.311Z"
   },
   {
    "duration": 6462,
    "start_time": "2022-03-21T14:57:59.177Z"
   },
   {
    "duration": 6261,
    "start_time": "2022-03-21T14:58:10.391Z"
   },
   {
    "duration": 15566,
    "start_time": "2022-03-21T14:59:06.675Z"
   },
   {
    "duration": 11818,
    "start_time": "2022-03-21T14:59:34.973Z"
   },
   {
    "duration": 6517,
    "start_time": "2022-03-21T14:59:53.234Z"
   },
   {
    "duration": 6033,
    "start_time": "2022-03-21T15:00:02.151Z"
   },
   {
    "duration": 262,
    "start_time": "2022-03-21T15:02:02.623Z"
   },
   {
    "duration": 5881,
    "start_time": "2022-03-21T15:02:10.279Z"
   },
   {
    "duration": 12860,
    "start_time": "2022-03-21T15:05:03.290Z"
   },
   {
    "duration": 6629,
    "start_time": "2022-03-21T15:05:53.575Z"
   },
   {
    "duration": 6436,
    "start_time": "2022-03-21T15:06:06.022Z"
   },
   {
    "duration": 8567,
    "start_time": "2022-03-21T15:08:21.403Z"
   },
   {
    "duration": 7322,
    "start_time": "2022-03-21T15:08:44.295Z"
   },
   {
    "duration": 7236,
    "start_time": "2022-03-21T15:09:12.707Z"
   },
   {
    "duration": 528,
    "start_time": "2022-03-21T15:10:19.907Z"
   },
   {
    "duration": 7029,
    "start_time": "2022-03-21T15:10:31.376Z"
   },
   {
    "duration": 7650,
    "start_time": "2022-03-21T15:10:44.235Z"
   },
   {
    "duration": 7512,
    "start_time": "2022-03-21T15:11:06.796Z"
   },
   {
    "duration": 7680,
    "start_time": "2022-03-21T15:11:35.608Z"
   },
   {
    "duration": 6568,
    "start_time": "2022-03-21T15:11:53.014Z"
   },
   {
    "duration": 6638,
    "start_time": "2022-03-21T15:22:00.309Z"
   },
   {
    "duration": 6784,
    "start_time": "2022-03-21T15:24:18.484Z"
   },
   {
    "duration": 6662,
    "start_time": "2022-03-21T15:25:01.328Z"
   },
   {
    "duration": 7237,
    "start_time": "2022-03-21T15:25:18.089Z"
   },
   {
    "duration": 6670,
    "start_time": "2022-03-21T15:26:17.153Z"
   },
   {
    "duration": 6814,
    "start_time": "2022-03-21T15:26:46.499Z"
   },
   {
    "duration": 7226,
    "start_time": "2022-03-21T15:27:02.546Z"
   },
   {
    "duration": 7192,
    "start_time": "2022-03-21T15:27:19.445Z"
   },
   {
    "duration": 7272,
    "start_time": "2022-03-21T15:28:37.822Z"
   },
   {
    "duration": 6797,
    "start_time": "2022-03-21T15:29:48.184Z"
   },
   {
    "duration": 35,
    "start_time": "2022-03-21T15:30:02.642Z"
   },
   {
    "duration": 2008,
    "start_time": "2022-03-21T15:45:06.477Z"
   },
   {
    "duration": 2108,
    "start_time": "2022-03-21T15:46:20.910Z"
   },
   {
    "duration": 1922,
    "start_time": "2022-03-21T15:46:33.654Z"
   },
   {
    "duration": 1989,
    "start_time": "2022-03-21T15:46:57.302Z"
   },
   {
    "duration": 2162,
    "start_time": "2022-03-21T15:48:10.720Z"
   },
   {
    "duration": 2262,
    "start_time": "2022-03-21T15:48:39.000Z"
   },
   {
    "duration": 2072,
    "start_time": "2022-03-21T15:48:47.009Z"
   },
   {
    "duration": 2120,
    "start_time": "2022-03-21T15:48:57.080Z"
   },
   {
    "duration": 2144,
    "start_time": "2022-03-21T15:49:40.376Z"
   },
   {
    "duration": 2488,
    "start_time": "2022-03-21T15:49:58.393Z"
   },
   {
    "duration": 2305,
    "start_time": "2022-03-21T15:50:16.075Z"
   },
   {
    "duration": 2215,
    "start_time": "2022-03-21T15:50:43.957Z"
   },
   {
    "duration": 2415,
    "start_time": "2022-03-21T15:51:24.980Z"
   },
   {
    "duration": 12,
    "start_time": "2022-03-21T16:00:01.578Z"
   },
   {
    "duration": 46,
    "start_time": "2022-03-21T16:00:19.272Z"
   },
   {
    "duration": 43,
    "start_time": "2022-03-21T16:00:37.852Z"
   },
   {
    "duration": 73,
    "start_time": "2022-03-21T16:00:49.571Z"
   },
   {
    "duration": 61,
    "start_time": "2022-03-21T16:01:20.251Z"
   },
   {
    "duration": 168,
    "start_time": "2022-03-21T16:01:36.668Z"
   },
   {
    "duration": 130,
    "start_time": "2022-03-21T16:01:40.940Z"
   },
   {
    "duration": 61,
    "start_time": "2022-03-21T16:01:59.573Z"
   },
   {
    "duration": 67,
    "start_time": "2022-03-21T16:02:14.166Z"
   },
   {
    "duration": 63,
    "start_time": "2022-03-21T16:02:55.545Z"
   },
   {
    "duration": 7,
    "start_time": "2022-03-21T16:07:18.924Z"
   },
   {
    "duration": 28,
    "start_time": "2022-03-21T16:08:34.263Z"
   },
   {
    "duration": 11,
    "start_time": "2022-03-21T16:08:45.784Z"
   },
   {
    "duration": 11,
    "start_time": "2022-03-21T16:08:53.607Z"
   },
   {
    "duration": 11,
    "start_time": "2022-03-21T16:09:00.085Z"
   },
   {
    "duration": 11,
    "start_time": "2022-03-21T16:09:16.678Z"
   },
   {
    "duration": 12,
    "start_time": "2022-03-21T16:09:25.296Z"
   },
   {
    "duration": 71,
    "start_time": "2022-03-22T13:39:49.241Z"
   },
   {
    "duration": 1511,
    "start_time": "2022-03-22T13:40:03.449Z"
   },
   {
    "duration": 30,
    "start_time": "2022-03-22T13:40:04.963Z"
   },
   {
    "duration": 21,
    "start_time": "2022-03-22T13:40:04.994Z"
   },
   {
    "duration": 10,
    "start_time": "2022-03-22T13:40:05.016Z"
   },
   {
    "duration": 5,
    "start_time": "2022-03-22T13:40:05.029Z"
   },
   {
    "duration": 43,
    "start_time": "2022-03-22T13:40:05.063Z"
   },
   {
    "duration": 16,
    "start_time": "2022-03-22T13:40:05.108Z"
   },
   {
    "duration": 44,
    "start_time": "2022-03-22T13:40:05.125Z"
   },
   {
    "duration": 4211,
    "start_time": "2022-03-22T13:40:05.171Z"
   },
   {
    "duration": 1894,
    "start_time": "2022-03-22T13:40:09.383Z"
   },
   {
    "duration": 10,
    "start_time": "2022-03-22T13:40:38.054Z"
   },
   {
    "duration": 834,
    "start_time": "2022-03-22T13:42:01.080Z"
   },
   {
    "duration": 12,
    "start_time": "2022-03-22T13:44:48.388Z"
   },
   {
    "duration": 8,
    "start_time": "2022-03-22T13:47:05.040Z"
   },
   {
    "duration": 6,
    "start_time": "2022-03-22T13:47:09.295Z"
   },
   {
    "duration": 15,
    "start_time": "2022-03-22T13:47:15.274Z"
   },
   {
    "duration": 3,
    "start_time": "2022-03-22T13:50:54.030Z"
   },
   {
    "duration": 4,
    "start_time": "2022-03-22T13:52:11.023Z"
   },
   {
    "duration": 66,
    "start_time": "2022-03-22T14:26:11.728Z"
   },
   {
    "duration": 3,
    "start_time": "2022-03-22T14:26:49.777Z"
   },
   {
    "duration": 9,
    "start_time": "2022-03-22T14:26:56.097Z"
   },
   {
    "duration": 23,
    "start_time": "2022-03-22T14:28:25.915Z"
   },
   {
    "duration": 50,
    "start_time": "2022-03-22T14:30:11.918Z"
   },
   {
    "duration": 6,
    "start_time": "2022-03-22T14:30:22.662Z"
   },
   {
    "duration": 7,
    "start_time": "2022-03-22T14:40:25.959Z"
   },
   {
    "duration": 3,
    "start_time": "2022-03-22T14:58:58.960Z"
   },
   {
    "duration": 216,
    "start_time": "2022-03-22T15:02:00.980Z"
   },
   {
    "duration": 40,
    "start_time": "2022-03-22T15:05:12.329Z"
   },
   {
    "duration": 27,
    "start_time": "2022-03-22T15:05:14.891Z"
   },
   {
    "duration": 10,
    "start_time": "2022-03-22T15:05:27.267Z"
   },
   {
    "duration": 9,
    "start_time": "2022-03-22T15:05:49.521Z"
   },
   {
    "duration": 9,
    "start_time": "2022-03-22T15:06:09.330Z"
   },
   {
    "duration": 16,
    "start_time": "2022-03-22T15:07:38.212Z"
   },
   {
    "duration": 5,
    "start_time": "2022-03-22T15:07:43.588Z"
   },
   {
    "duration": 17,
    "start_time": "2022-03-22T15:07:46.717Z"
   },
   {
    "duration": 3,
    "start_time": "2022-03-22T15:08:37.297Z"
   },
   {
    "duration": 24,
    "start_time": "2022-03-22T15:08:37.302Z"
   },
   {
    "duration": 10,
    "start_time": "2022-03-22T15:08:37.328Z"
   },
   {
    "duration": 9,
    "start_time": "2022-03-22T15:08:37.339Z"
   },
   {
    "duration": 17,
    "start_time": "2022-03-22T15:08:37.350Z"
   },
   {
    "duration": 57,
    "start_time": "2022-03-22T15:08:37.368Z"
   },
   {
    "duration": 17,
    "start_time": "2022-03-22T15:08:37.427Z"
   },
   {
    "duration": 3812,
    "start_time": "2022-03-22T15:08:37.445Z"
   },
   {
    "duration": 1443,
    "start_time": "2022-03-22T15:08:41.262Z"
   },
   {
    "duration": 8,
    "start_time": "2022-03-22T15:08:42.706Z"
   },
   {
    "duration": 16,
    "start_time": "2022-03-22T15:08:42.715Z"
   },
   {
    "duration": 14,
    "start_time": "2022-03-22T15:08:42.732Z"
   },
   {
    "duration": 22,
    "start_time": "2022-03-22T15:08:42.748Z"
   },
   {
    "duration": 91,
    "start_time": "2022-03-22T15:08:42.772Z"
   },
   {
    "duration": 4,
    "start_time": "2022-03-22T15:08:59.539Z"
   },
   {
    "duration": 30,
    "start_time": "2022-03-22T15:08:59.545Z"
   },
   {
    "duration": 12,
    "start_time": "2022-03-22T15:08:59.576Z"
   },
   {
    "duration": 11,
    "start_time": "2022-03-22T15:08:59.590Z"
   },
   {
    "duration": 4,
    "start_time": "2022-03-22T15:08:59.604Z"
   },
   {
    "duration": 68,
    "start_time": "2022-03-22T15:08:59.610Z"
   },
   {
    "duration": 14,
    "start_time": "2022-03-22T15:08:59.680Z"
   },
   {
    "duration": 3971,
    "start_time": "2022-03-22T15:08:59.696Z"
   },
   {
    "duration": 1379,
    "start_time": "2022-03-22T15:09:03.669Z"
   },
   {
    "duration": 17,
    "start_time": "2022-03-22T15:09:05.049Z"
   },
   {
    "duration": 10,
    "start_time": "2022-03-22T15:09:05.068Z"
   },
   {
    "duration": 5,
    "start_time": "2022-03-22T15:09:05.080Z"
   },
   {
    "duration": 14,
    "start_time": "2022-03-22T15:09:05.086Z"
   },
   {
    "duration": 65,
    "start_time": "2022-03-22T15:09:05.103Z"
   },
   {
    "duration": 28,
    "start_time": "2022-03-22T15:15:42.096Z"
   },
   {
    "duration": 529,
    "start_time": "2022-03-22T15:17:59.067Z"
   },
   {
    "duration": 89,
    "start_time": "2022-03-22T15:18:24.092Z"
   },
   {
    "duration": 21,
    "start_time": "2022-03-22T15:18:32.020Z"
   },
   {
    "duration": 20,
    "start_time": "2022-03-22T15:18:33.252Z"
   },
   {
    "duration": 51,
    "start_time": "2022-03-22T15:18:34.419Z"
   },
   {
    "duration": 26,
    "start_time": "2022-03-22T15:18:36.140Z"
   },
   {
    "duration": 42,
    "start_time": "2022-03-22T15:18:37.220Z"
   },
   {
    "duration": 122,
    "start_time": "2022-03-22T15:18:38.060Z"
   },
   {
    "duration": 362,
    "start_time": "2022-03-22T15:18:41.724Z"
   },
   {
    "duration": 345,
    "start_time": "2022-03-22T15:19:59.350Z"
   },
   {
    "duration": 354,
    "start_time": "2022-03-22T15:20:07.990Z"
   },
   {
    "duration": 352,
    "start_time": "2022-03-22T15:20:10.886Z"
   },
   {
    "duration": 1814,
    "start_time": "2022-03-23T16:47:09.044Z"
   },
   {
    "duration": 184,
    "start_time": "2022-03-23T16:47:10.860Z"
   },
   {
    "duration": 14,
    "start_time": "2022-03-23T16:47:11.046Z"
   },
   {
    "duration": 8,
    "start_time": "2022-03-23T16:47:11.062Z"
   },
   {
    "duration": 4,
    "start_time": "2022-03-23T16:47:11.072Z"
   },
   {
    "duration": 41,
    "start_time": "2022-03-23T16:47:11.077Z"
   },
   {
    "duration": 21,
    "start_time": "2022-03-23T16:47:11.120Z"
   },
   {
    "duration": 5577,
    "start_time": "2022-03-23T16:47:11.143Z"
   },
   {
    "duration": 1554,
    "start_time": "2022-03-23T16:47:16.721Z"
   },
   {
    "duration": 7,
    "start_time": "2022-03-23T16:47:18.280Z"
   },
   {
    "duration": 5,
    "start_time": "2022-03-23T16:47:18.289Z"
   },
   {
    "duration": 15,
    "start_time": "2022-03-23T16:47:18.296Z"
   },
   {
    "duration": 172,
    "start_time": "2022-03-23T16:47:18.313Z"
   },
   {
    "duration": 422,
    "start_time": "2022-03-23T16:47:18.488Z"
   },
   {
    "duration": 10,
    "start_time": "2022-03-23T16:47:18.912Z"
   },
   {
    "duration": 5,
    "start_time": "2022-03-23T16:54:50.298Z"
   },
   {
    "duration": 357,
    "start_time": "2022-03-23T16:57:29.415Z"
   },
   {
    "duration": 74484,
    "start_time": "2022-03-23T16:58:12.998Z"
   },
   {
    "duration": 24,
    "start_time": "2022-03-23T17:04:05.664Z"
   },
   {
    "duration": 12,
    "start_time": "2022-03-23T17:08:59.464Z"
   },
   {
    "duration": 4,
    "start_time": "2022-03-23T17:12:17.045Z"
   },
   {
    "duration": 31,
    "start_time": "2022-03-23T17:12:17.051Z"
   },
   {
    "duration": 10,
    "start_time": "2022-03-23T17:12:17.084Z"
   },
   {
    "duration": 9,
    "start_time": "2022-03-23T17:12:17.096Z"
   },
   {
    "duration": 6,
    "start_time": "2022-03-23T17:12:17.106Z"
   },
   {
    "duration": 74,
    "start_time": "2022-03-23T17:12:17.113Z"
   },
   {
    "duration": 15,
    "start_time": "2022-03-23T17:12:17.189Z"
   },
   {
    "duration": 3910,
    "start_time": "2022-03-23T17:12:17.205Z"
   },
   {
    "duration": 1358,
    "start_time": "2022-03-23T17:12:21.117Z"
   },
   {
    "duration": 7,
    "start_time": "2022-03-23T17:12:22.481Z"
   },
   {
    "duration": 11,
    "start_time": "2022-03-23T17:12:22.489Z"
   },
   {
    "duration": 21,
    "start_time": "2022-03-23T17:12:22.501Z"
   },
   {
    "duration": 163,
    "start_time": "2022-03-23T17:12:22.523Z"
   },
   {
    "duration": 666,
    "start_time": "2022-03-23T17:12:22.690Z"
   },
   {
    "duration": 29,
    "start_time": "2022-03-23T17:12:23.359Z"
   },
   {
    "duration": 108979,
    "start_time": "2022-03-23T17:12:23.390Z"
   },
   {
    "duration": 914,
    "start_time": "2022-03-23T17:14:12.371Z"
   },
   {
    "duration": 11,
    "start_time": "2022-03-23T17:16:06.435Z"
   },
   {
    "duration": 15,
    "start_time": "2022-03-23T17:20:46.937Z"
   },
   {
    "duration": 6,
    "start_time": "2022-03-23T17:22:29.147Z"
   },
   {
    "duration": 101,
    "start_time": "2022-03-23T17:22:38.396Z"
   },
   {
    "duration": 4,
    "start_time": "2022-03-23T17:22:43.658Z"
   },
   {
    "duration": 4,
    "start_time": "2022-03-23T17:24:53.086Z"
   },
   {
    "duration": 3,
    "start_time": "2022-03-23T17:28:57.188Z"
   },
   {
    "duration": 11,
    "start_time": "2022-03-23T17:29:54.863Z"
   },
   {
    "duration": 2838,
    "start_time": "2022-03-23T17:30:02.639Z"
   },
   {
    "duration": 38178,
    "start_time": "2022-03-23T17:30:26.206Z"
   },
   {
    "duration": 6,
    "start_time": "2022-03-23T17:47:52.953Z"
   },
   {
    "duration": 16,
    "start_time": "2022-03-23T17:48:00.472Z"
   },
   {
    "duration": 15,
    "start_time": "2022-03-23T17:48:42.825Z"
   },
   {
    "duration": 13,
    "start_time": "2022-03-23T17:56:24.868Z"
   },
   {
    "duration": 1797,
    "start_time": "2022-03-23T17:56:34.084Z"
   },
   {
    "duration": 13,
    "start_time": "2022-03-23T17:56:39.420Z"
   },
   {
    "duration": 3,
    "start_time": "2022-03-23T17:56:49.500Z"
   },
   {
    "duration": 156,
    "start_time": "2022-03-23T17:56:51.840Z"
   },
   {
    "duration": 23547,
    "start_time": "2022-03-23T17:57:14.541Z"
   },
   {
    "duration": 10,
    "start_time": "2022-03-23T17:59:28.656Z"
   },
   {
    "duration": 11,
    "start_time": "2022-03-23T18:01:11.659Z"
   },
   {
    "duration": 12,
    "start_time": "2022-03-23T18:01:22.325Z"
   },
   {
    "duration": 6,
    "start_time": "2022-03-23T18:01:24.162Z"
   },
   {
    "duration": 11,
    "start_time": "2022-03-23T18:01:26.674Z"
   },
   {
    "duration": 20,
    "start_time": "2022-03-23T18:01:29.353Z"
   },
   {
    "duration": 315,
    "start_time": "2022-03-23T18:01:31.673Z"
   },
   {
    "duration": 206,
    "start_time": "2022-03-23T18:01:48.379Z"
   },
   {
    "duration": 476,
    "start_time": "2022-03-23T18:01:50.971Z"
   },
   {
    "duration": 10,
    "start_time": "2022-03-23T18:03:23.948Z"
   },
   {
    "duration": 16,
    "start_time": "2022-03-23T18:04:48.726Z"
   },
   {
    "duration": 1265,
    "start_time": "2022-03-23T18:08:26.819Z"
   },
   {
    "duration": 14,
    "start_time": "2022-03-23T18:08:32.187Z"
   },
   {
    "duration": 20,
    "start_time": "2022-03-23T18:09:40.674Z"
   },
   {
    "duration": 27,
    "start_time": "2022-03-23T18:09:51.270Z"
   },
   {
    "duration": 18,
    "start_time": "2022-03-23T18:12:53.858Z"
   },
   {
    "duration": 19,
    "start_time": "2022-03-23T18:13:10.987Z"
   },
   {
    "duration": 8,
    "start_time": "2022-03-23T18:13:19.505Z"
   },
   {
    "duration": 8,
    "start_time": "2022-03-23T18:13:53.043Z"
   },
   {
    "duration": 14,
    "start_time": "2022-03-23T18:14:03.469Z"
   },
   {
    "duration": 9,
    "start_time": "2022-03-23T18:14:08.291Z"
   },
   {
    "duration": 17,
    "start_time": "2022-03-23T18:14:14.563Z"
   },
   {
    "duration": 18,
    "start_time": "2022-03-23T18:14:39.923Z"
   },
   {
    "duration": 11,
    "start_time": "2022-03-23T18:20:07.127Z"
   },
   {
    "duration": 4,
    "start_time": "2022-03-23T18:22:39.415Z"
   },
   {
    "duration": 13,
    "start_time": "2022-03-23T18:22:56.193Z"
   },
   {
    "duration": 32,
    "start_time": "2022-03-23T18:23:41.482Z"
   },
   {
    "duration": 5,
    "start_time": "2022-03-23T18:26:48.015Z"
   },
   {
    "duration": 3,
    "start_time": "2022-03-23T18:26:59.951Z"
   },
   {
    "duration": 377,
    "start_time": "2022-03-23T18:28:00.625Z"
   },
   {
    "duration": 9,
    "start_time": "2022-03-23T18:29:30.995Z"
   },
   {
    "duration": 4,
    "start_time": "2022-03-23T18:29:50.732Z"
   },
   {
    "duration": 9,
    "start_time": "2022-03-23T18:29:53.596Z"
   },
   {
    "duration": 4,
    "start_time": "2022-03-23T18:30:03.588Z"
   },
   {
    "duration": 9,
    "start_time": "2022-03-23T18:30:48.014Z"
   },
   {
    "duration": 21,
    "start_time": "2022-03-23T18:31:01.470Z"
   },
   {
    "duration": 5,
    "start_time": "2022-03-23T18:31:06.237Z"
   },
   {
    "duration": 299,
    "start_time": "2022-03-23T18:31:14.774Z"
   },
   {
    "duration": 4,
    "start_time": "2022-03-23T18:32:03.336Z"
   },
   {
    "duration": 22,
    "start_time": "2022-03-23T18:34:29.724Z"
   },
   {
    "duration": 284,
    "start_time": "2022-03-23T18:34:39.786Z"
   },
   {
    "duration": 19,
    "start_time": "2022-03-23T18:35:03.421Z"
   },
   {
    "duration": 4,
    "start_time": "2022-03-23T18:35:05.948Z"
   },
   {
    "duration": 286,
    "start_time": "2022-03-23T18:35:18.630Z"
   },
   {
    "duration": 1372,
    "start_time": "2022-03-23T18:36:55.895Z"
   },
   {
    "duration": 1428,
    "start_time": "2022-03-23T18:37:52.049Z"
   },
   {
    "duration": 1354,
    "start_time": "2022-03-23T18:40:04.973Z"
   },
   {
    "duration": 1340,
    "start_time": "2022-03-23T18:40:46.781Z"
   },
   {
    "duration": 6044,
    "start_time": "2022-03-23T18:43:52.930Z"
   },
   {
    "duration": 1414,
    "start_time": "2022-03-23T18:57:49.077Z"
   },
   {
    "duration": 14,
    "start_time": "2022-03-23T19:05:40.041Z"
   },
   {
    "duration": 16,
    "start_time": "2022-03-23T19:10:06.616Z"
   },
   {
    "duration": 1029,
    "start_time": "2022-03-23T19:11:01.065Z"
   },
   {
    "duration": 17,
    "start_time": "2022-03-23T19:11:07.761Z"
   },
   {
    "duration": 13,
    "start_time": "2022-03-23T19:11:42.497Z"
   },
   {
    "duration": 5,
    "start_time": "2022-03-23T19:12:18.260Z"
   },
   {
    "duration": 18,
    "start_time": "2022-03-23T19:12:26.179Z"
   },
   {
    "duration": 6,
    "start_time": "2022-03-23T19:12:35.852Z"
   },
   {
    "duration": 11,
    "start_time": "2022-03-23T19:12:45.347Z"
   },
   {
    "duration": 5,
    "start_time": "2022-03-23T19:13:04.645Z"
   },
   {
    "duration": 14,
    "start_time": "2022-03-23T19:13:12.181Z"
   },
   {
    "duration": 26,
    "start_time": "2022-03-23T19:14:41.655Z"
   },
   {
    "duration": 18,
    "start_time": "2022-03-23T19:14:55.098Z"
   },
   {
    "duration": 8,
    "start_time": "2022-03-23T19:19:56.223Z"
   },
   {
    "duration": 29,
    "start_time": "2022-03-23T19:20:23.784Z"
   },
   {
    "duration": 9,
    "start_time": "2022-03-23T19:20:33.335Z"
   },
   {
    "duration": 4,
    "start_time": "2022-03-23T19:20:39.542Z"
   },
   {
    "duration": 7,
    "start_time": "2022-03-23T19:20:51.511Z"
   },
   {
    "duration": 10,
    "start_time": "2022-03-23T19:29:10.668Z"
   },
   {
    "duration": 18,
    "start_time": "2022-03-23T19:29:28.011Z"
   },
   {
    "duration": 341,
    "start_time": "2022-03-23T19:29:30.501Z"
   },
   {
    "duration": 11,
    "start_time": "2022-03-23T19:30:06.655Z"
   },
   {
    "duration": 13,
    "start_time": "2022-03-23T19:30:08.824Z"
   },
   {
    "duration": 1681,
    "start_time": "2022-03-23T19:34:23.763Z"
   },
   {
    "duration": 4,
    "start_time": "2022-03-23T19:39:25.499Z"
   },
   {
    "duration": 30,
    "start_time": "2022-03-23T19:39:25.506Z"
   },
   {
    "duration": 11,
    "start_time": "2022-03-23T19:39:25.538Z"
   },
   {
    "duration": 18,
    "start_time": "2022-03-23T19:39:25.550Z"
   },
   {
    "duration": 7,
    "start_time": "2022-03-23T19:39:25.570Z"
   },
   {
    "duration": 62,
    "start_time": "2022-03-23T19:39:25.578Z"
   },
   {
    "duration": 16,
    "start_time": "2022-03-23T19:39:25.642Z"
   },
   {
    "duration": 4157,
    "start_time": "2022-03-23T19:39:25.660Z"
   },
   {
    "duration": 1411,
    "start_time": "2022-03-23T19:39:29.819Z"
   },
   {
    "duration": 7,
    "start_time": "2022-03-23T19:39:31.231Z"
   },
   {
    "duration": 19,
    "start_time": "2022-03-23T19:39:31.239Z"
   },
   {
    "duration": 23,
    "start_time": "2022-03-23T19:39:31.260Z"
   },
   {
    "duration": 15,
    "start_time": "2022-03-23T19:39:31.285Z"
   },
   {
    "duration": 30,
    "start_time": "2022-03-23T19:39:31.303Z"
   },
   {
    "duration": 347,
    "start_time": "2022-03-23T19:39:31.334Z"
   },
   {
    "duration": 8,
    "start_time": "2022-03-23T19:39:31.683Z"
   },
   {
    "duration": 109479,
    "start_time": "2022-03-23T19:39:31.693Z"
   },
   {
    "duration": 1814,
    "start_time": "2022-03-23T19:41:21.173Z"
   },
   {
    "duration": 21,
    "start_time": "2022-03-23T19:41:22.989Z"
   },
   {
    "duration": 0,
    "start_time": "2022-03-23T19:41:23.012Z"
   },
   {
    "duration": 0,
    "start_time": "2022-03-23T19:41:23.013Z"
   },
   {
    "duration": 20,
    "start_time": "2022-03-23T19:42:06.424Z"
   },
   {
    "duration": 1591,
    "start_time": "2022-03-23T19:42:50.553Z"
   },
   {
    "duration": 8,
    "start_time": "2022-03-23T19:42:52.146Z"
   },
   {
    "duration": 7,
    "start_time": "2022-03-23T19:46:48.717Z"
   },
   {
    "duration": 8,
    "start_time": "2022-03-23T19:47:19.727Z"
   },
   {
    "duration": 7,
    "start_time": "2022-03-23T19:48:16.039Z"
   },
   {
    "duration": 11,
    "start_time": "2022-03-23T19:48:41.118Z"
   },
   {
    "duration": 11,
    "start_time": "2022-03-23T19:48:53.681Z"
   },
   {
    "duration": 9,
    "start_time": "2022-03-23T19:48:56.977Z"
   },
   {
    "duration": 9,
    "start_time": "2022-03-23T19:49:03.002Z"
   },
   {
    "duration": 7,
    "start_time": "2022-03-23T19:49:54.417Z"
   },
   {
    "duration": 6,
    "start_time": "2022-03-23T19:50:00.146Z"
   },
   {
    "duration": 9,
    "start_time": "2022-03-23T19:52:51.671Z"
   },
   {
    "duration": 10,
    "start_time": "2022-03-23T19:52:54.614Z"
   },
   {
    "duration": 17,
    "start_time": "2022-03-23T19:52:59.653Z"
   },
   {
    "duration": 50,
    "start_time": "2022-03-23T19:55:57.898Z"
   },
   {
    "duration": 40,
    "start_time": "2022-03-23T19:56:04.923Z"
   },
   {
    "duration": 46,
    "start_time": "2022-03-23T19:56:10.267Z"
   },
   {
    "duration": 146,
    "start_time": "2022-03-24T15:38:44.889Z"
   },
   {
    "duration": 2439,
    "start_time": "2022-03-24T15:39:17.345Z"
   },
   {
    "duration": 32,
    "start_time": "2022-03-24T15:39:19.787Z"
   },
   {
    "duration": 23,
    "start_time": "2022-03-24T15:39:19.821Z"
   },
   {
    "duration": 38,
    "start_time": "2022-03-24T15:39:19.847Z"
   },
   {
    "duration": 6,
    "start_time": "2022-03-24T15:39:19.890Z"
   },
   {
    "duration": 108,
    "start_time": "2022-03-24T15:39:19.899Z"
   },
   {
    "duration": 22,
    "start_time": "2022-03-24T15:39:20.010Z"
   },
   {
    "duration": 6547,
    "start_time": "2022-03-24T15:39:20.034Z"
   },
   {
    "duration": 2330,
    "start_time": "2022-03-24T15:39:26.584Z"
   },
   {
    "duration": 9,
    "start_time": "2022-03-24T15:39:28.916Z"
   },
   {
    "duration": 15,
    "start_time": "2022-03-24T15:39:28.927Z"
   },
   {
    "duration": 7,
    "start_time": "2022-03-24T15:39:28.973Z"
   },
   {
    "duration": 15,
    "start_time": "2022-03-24T15:39:28.982Z"
   },
   {
    "duration": 24,
    "start_time": "2022-03-24T15:39:29.001Z"
   },
   {
    "duration": 604,
    "start_time": "2022-03-24T15:39:29.028Z"
   },
   {
    "duration": 13,
    "start_time": "2022-03-24T15:39:29.634Z"
   },
   {
    "duration": 163910,
    "start_time": "2022-03-24T15:39:29.650Z"
   },
   {
    "duration": 1713,
    "start_time": "2022-03-24T15:42:13.562Z"
   },
   {
    "duration": 30,
    "start_time": "2022-03-24T15:42:15.278Z"
   },
   {
    "duration": 2555,
    "start_time": "2022-03-24T15:42:15.311Z"
   },
   {
    "duration": 16,
    "start_time": "2022-03-24T15:42:17.868Z"
   },
   {
    "duration": 30,
    "start_time": "2022-03-24T15:51:19.491Z"
   },
   {
    "duration": 6523,
    "start_time": "2022-03-24T16:00:19.177Z"
   },
   {
    "duration": 203,
    "start_time": "2022-03-24T16:10:08.216Z"
   },
   {
    "duration": 11,
    "start_time": "2022-03-24T16:10:29.921Z"
   },
   {
    "duration": 18,
    "start_time": "2022-03-24T16:22:10.503Z"
   },
   {
    "duration": 11,
    "start_time": "2022-03-24T16:23:24.499Z"
   },
   {
    "duration": 14,
    "start_time": "2022-03-24T16:23:39.074Z"
   },
   {
    "duration": 9,
    "start_time": "2022-03-24T16:57:15.484Z"
   },
   {
    "duration": 9,
    "start_time": "2022-03-24T16:57:25.868Z"
   },
   {
    "duration": 10,
    "start_time": "2022-03-24T16:57:35.476Z"
   },
   {
    "duration": 14,
    "start_time": "2022-03-24T17:19:14.142Z"
   },
   {
    "duration": 12,
    "start_time": "2022-03-24T17:19:31.443Z"
   },
   {
    "duration": 26,
    "start_time": "2022-03-24T17:19:40.851Z"
   },
   {
    "duration": 526,
    "start_time": "2022-03-24T17:19:43.843Z"
   },
   {
    "duration": 24,
    "start_time": "2022-03-24T17:20:02.692Z"
   },
   {
    "duration": 507,
    "start_time": "2022-03-24T17:20:05.116Z"
   },
   {
    "duration": 11,
    "start_time": "2022-03-24T17:20:12.100Z"
   },
   {
    "duration": 25,
    "start_time": "2022-03-24T17:20:18.548Z"
   },
   {
    "duration": 512,
    "start_time": "2022-03-24T17:20:21.164Z"
   },
   {
    "duration": 50,
    "start_time": "2022-03-26T06:41:31.576Z"
   },
   {
    "duration": 1752,
    "start_time": "2022-03-26T06:41:45.555Z"
   },
   {
    "duration": 249,
    "start_time": "2022-03-26T06:41:47.310Z"
   },
   {
    "duration": 19,
    "start_time": "2022-03-26T06:41:47.561Z"
   },
   {
    "duration": 8,
    "start_time": "2022-03-26T06:41:47.582Z"
   },
   {
    "duration": 6,
    "start_time": "2022-03-26T06:41:47.591Z"
   },
   {
    "duration": 92,
    "start_time": "2022-03-26T06:41:47.599Z"
   },
   {
    "duration": 4,
    "start_time": "2022-03-26T06:42:01.934Z"
   },
   {
    "duration": 41,
    "start_time": "2022-03-26T06:42:01.940Z"
   },
   {
    "duration": 14,
    "start_time": "2022-03-26T06:42:01.983Z"
   },
   {
    "duration": 22,
    "start_time": "2022-03-26T06:42:01.999Z"
   },
   {
    "duration": 15,
    "start_time": "2022-03-26T06:42:02.023Z"
   },
   {
    "duration": 60,
    "start_time": "2022-03-26T06:42:02.040Z"
   },
   {
    "duration": 49,
    "start_time": "2022-03-26T06:42:47.807Z"
   },
   {
    "duration": 50,
    "start_time": "2022-03-26T06:42:59.815Z"
   },
   {
    "duration": 45,
    "start_time": "2022-03-26T06:44:27.809Z"
   },
   {
    "duration": 7493,
    "start_time": "2022-03-26T06:48:55.784Z"
   },
   {
    "duration": 7544,
    "start_time": "2022-03-26T06:51:38.261Z"
   },
   {
    "duration": 5860,
    "start_time": "2022-03-26T06:52:06.421Z"
   },
   {
    "duration": 5,
    "start_time": "2022-03-26T06:53:55.831Z"
   },
   {
    "duration": 4293,
    "start_time": "2022-03-26T06:54:52.826Z"
   },
   {
    "duration": 26067,
    "start_time": "2022-03-26T06:55:43.359Z"
   },
   {
    "duration": 4875,
    "start_time": "2022-03-26T06:59:00.458Z"
   },
   {
    "duration": 4412,
    "start_time": "2022-03-26T06:59:08.992Z"
   },
   {
    "duration": 7427,
    "start_time": "2022-03-26T06:59:19.040Z"
   },
   {
    "duration": 8468,
    "start_time": "2022-03-26T06:59:54.331Z"
   },
   {
    "duration": 198,
    "start_time": "2022-03-26T07:02:25.998Z"
   },
   {
    "duration": 22,
    "start_time": "2022-03-26T07:03:29.991Z"
   },
   {
    "duration": 4450,
    "start_time": "2022-03-26T07:03:52.624Z"
   },
   {
    "duration": 12,
    "start_time": "2022-03-26T07:05:06.258Z"
   },
   {
    "duration": 182,
    "start_time": "2022-03-26T07:05:18.489Z"
   },
   {
    "duration": 188,
    "start_time": "2022-03-26T07:05:27.122Z"
   },
   {
    "duration": 189,
    "start_time": "2022-03-26T07:05:37.011Z"
   },
   {
    "duration": 11,
    "start_time": "2022-03-26T07:05:45.130Z"
   },
   {
    "duration": 4684,
    "start_time": "2022-03-26T07:06:40.477Z"
   },
   {
    "duration": 4475,
    "start_time": "2022-03-26T07:06:52.268Z"
   },
   {
    "duration": 4525,
    "start_time": "2022-03-26T07:07:05.941Z"
   },
   {
    "duration": 7340,
    "start_time": "2022-03-26T07:07:20.813Z"
   },
   {
    "duration": 4420,
    "start_time": "2022-03-26T07:08:09.103Z"
   },
   {
    "duration": 7352,
    "start_time": "2022-03-26T07:08:40.799Z"
   },
   {
    "duration": 190,
    "start_time": "2022-03-26T07:08:52.520Z"
   },
   {
    "duration": 7457,
    "start_time": "2022-03-26T07:08:59.095Z"
   },
   {
    "duration": 7103,
    "start_time": "2022-03-26T07:13:13.775Z"
   },
   {
    "duration": 5090,
    "start_time": "2022-03-26T07:13:35.655Z"
   },
   {
    "duration": 6382,
    "start_time": "2022-03-26T07:14:04.799Z"
   },
   {
    "duration": 4394,
    "start_time": "2022-03-26T07:14:31.696Z"
   },
   {
    "duration": 4588,
    "start_time": "2022-03-26T07:15:25.345Z"
   },
   {
    "duration": 4883,
    "start_time": "2022-03-26T07:16:03.076Z"
   },
   {
    "duration": 9,
    "start_time": "2022-03-26T07:25:46.610Z"
   },
   {
    "duration": 8,
    "start_time": "2022-03-26T07:25:55.674Z"
   },
   {
    "duration": 10,
    "start_time": "2022-03-26T07:26:06.186Z"
   },
   {
    "duration": 10,
    "start_time": "2022-03-26T07:27:37.764Z"
   },
   {
    "duration": 11,
    "start_time": "2022-03-26T07:27:42.323Z"
   },
   {
    "duration": 5,
    "start_time": "2022-03-26T07:27:48.364Z"
   },
   {
    "duration": 9,
    "start_time": "2022-03-26T07:27:51.060Z"
   },
   {
    "duration": 17,
    "start_time": "2022-03-26T07:27:53.421Z"
   },
   {
    "duration": 408,
    "start_time": "2022-03-26T07:27:56.244Z"
   },
   {
    "duration": 4,
    "start_time": "2022-03-26T07:29:50.324Z"
   },
   {
    "duration": 44,
    "start_time": "2022-03-26T07:29:50.330Z"
   },
   {
    "duration": 12,
    "start_time": "2022-03-26T07:29:50.376Z"
   },
   {
    "duration": 9,
    "start_time": "2022-03-26T07:29:50.390Z"
   },
   {
    "duration": 6,
    "start_time": "2022-03-26T07:29:50.401Z"
   },
   {
    "duration": 53,
    "start_time": "2022-03-26T07:29:50.408Z"
   },
   {
    "duration": 17,
    "start_time": "2022-03-26T07:29:50.463Z"
   },
   {
    "duration": 4499,
    "start_time": "2022-03-26T07:29:50.482Z"
   },
   {
    "duration": 1770,
    "start_time": "2022-03-26T07:29:54.982Z"
   },
   {
    "duration": 7,
    "start_time": "2022-03-26T07:29:56.755Z"
   },
   {
    "duration": 12,
    "start_time": "2022-03-26T07:29:56.764Z"
   },
   {
    "duration": 6,
    "start_time": "2022-03-26T07:29:56.777Z"
   },
   {
    "duration": 13,
    "start_time": "2022-03-26T07:29:56.784Z"
   },
   {
    "duration": 15,
    "start_time": "2022-03-26T07:29:56.799Z"
   },
   {
    "duration": 389,
    "start_time": "2022-03-26T07:29:56.815Z"
   },
   {
    "duration": 8,
    "start_time": "2022-03-26T07:29:57.205Z"
   },
   {
    "duration": 123572,
    "start_time": "2022-03-26T07:29:57.215Z"
   },
   {
    "duration": 1459,
    "start_time": "2022-03-26T07:32:00.789Z"
   },
   {
    "duration": 102,
    "start_time": "2022-03-26T07:32:02.251Z"
   },
   {
    "duration": 1636,
    "start_time": "2022-03-26T07:32:02.354Z"
   },
   {
    "duration": 10,
    "start_time": "2022-03-26T07:32:03.992Z"
   },
   {
    "duration": 4,
    "start_time": "2022-03-26T07:34:20.423Z"
   },
   {
    "duration": 5,
    "start_time": "2022-03-26T07:34:23.046Z"
   },
   {
    "duration": 8,
    "start_time": "2022-03-26T07:34:26.455Z"
   },
   {
    "duration": 17,
    "start_time": "2022-03-26T07:34:29.046Z"
   },
   {
    "duration": 387,
    "start_time": "2022-03-26T07:34:31.679Z"
   },
   {
    "duration": 20,
    "start_time": "2022-03-26T07:35:08.655Z"
   },
   {
    "duration": 393,
    "start_time": "2022-03-26T07:35:10.839Z"
   },
   {
    "duration": 6,
    "start_time": "2022-03-26T07:39:27.485Z"
   },
   {
    "duration": 25,
    "start_time": "2022-03-26T07:39:31.455Z"
   },
   {
    "duration": 3,
    "start_time": "2022-03-26T07:40:04.104Z"
   },
   {
    "duration": 18,
    "start_time": "2022-03-26T07:40:15.462Z"
   },
   {
    "duration": 392,
    "start_time": "2022-03-26T07:40:18.367Z"
   },
   {
    "duration": 4,
    "start_time": "2022-03-26T08:04:49.200Z"
   },
   {
    "duration": 40,
    "start_time": "2022-03-26T08:04:49.206Z"
   },
   {
    "duration": 13,
    "start_time": "2022-03-26T08:04:49.248Z"
   },
   {
    "duration": 11,
    "start_time": "2022-03-26T08:04:49.263Z"
   },
   {
    "duration": 5,
    "start_time": "2022-03-26T08:04:49.276Z"
   },
   {
    "duration": 71,
    "start_time": "2022-03-26T08:04:49.283Z"
   },
   {
    "duration": 20,
    "start_time": "2022-03-26T08:04:49.356Z"
   },
   {
    "duration": 4885,
    "start_time": "2022-03-26T08:04:49.378Z"
   },
   {
    "duration": 1738,
    "start_time": "2022-03-26T08:04:54.266Z"
   },
   {
    "duration": 28,
    "start_time": "2022-03-26T08:04:56.007Z"
   },
   {
    "duration": 11,
    "start_time": "2022-03-26T08:04:56.037Z"
   },
   {
    "duration": 26,
    "start_time": "2022-03-26T08:04:56.050Z"
   },
   {
    "duration": 21,
    "start_time": "2022-03-26T08:04:56.078Z"
   },
   {
    "duration": 29,
    "start_time": "2022-03-26T08:04:56.102Z"
   },
   {
    "duration": 421,
    "start_time": "2022-03-26T08:04:56.134Z"
   },
   {
    "duration": 10,
    "start_time": "2022-03-26T08:04:56.558Z"
   },
   {
    "duration": 127309,
    "start_time": "2022-03-26T08:04:56.570Z"
   },
   {
    "duration": 1964,
    "start_time": "2022-03-26T08:07:03.881Z"
   },
   {
    "duration": 24,
    "start_time": "2022-03-26T08:07:05.847Z"
   },
   {
    "duration": 1686,
    "start_time": "2022-03-26T08:07:05.873Z"
   },
   {
    "duration": 10,
    "start_time": "2022-03-26T08:07:07.561Z"
   }
  ],
  "kernelspec": {
   "display_name": "Python 3",
   "language": "python",
   "name": "python3"
  },
  "language_info": {
   "codemirror_mode": {
    "name": "ipython",
    "version": 3
   },
   "file_extension": ".py",
   "mimetype": "text/x-python",
   "name": "python",
   "nbconvert_exporter": "python",
   "pygments_lexer": "ipython3",
   "version": "3.8.8"
  },
  "toc": {
   "base_numbering": 1,
   "nav_menu": {},
   "number_sections": true,
   "sideBar": true,
   "skip_h1_title": true,
   "title_cell": "Table of Contents",
   "title_sidebar": "Contents",
   "toc_cell": false,
   "toc_position": {
    "height": "calc(100% - 180px)",
    "left": "10px",
    "top": "150px",
    "width": "225.92px"
   },
   "toc_section_display": true,
   "toc_window_display": true
  }
 },
 "nbformat": 4,
 "nbformat_minor": 2
}
