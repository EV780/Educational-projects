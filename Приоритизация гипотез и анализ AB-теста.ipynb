{
 "cells": [
  {
   "cell_type": "markdown",
   "metadata": {},
   "source": [
    "**Задача:**\n",
    "\n",
    "Вы — аналитик крупного интернет-магазина. Вместе с отделом маркетинга вы подготовили список гипотез для увеличения выручки.\n",
    "\n",
    "Приоритизируйте гипотезы, запустите A/B-тест и проанализируйте результаты."
   ]
  },
  {
   "cell_type": "markdown",
   "metadata": {},
   "source": [
    "# Часть 1. Приоритизация гипотез\n",
    "\n",
    "В файле `hypothesis.csv` 9 гипотез по увеличению выручки интернет-магазина с указанными параметрами `Reach`, `Impact`, `Confidence`, `Effort`.\n",
    "\n",
    "**Описание данных**\n",
    "\n",
    "Файл `hypothesis.csv`\n",
    "- `Hypothesis` — краткое описание гипотезы\n",
    "- `Reach` — охват пользователей по 10-балльной шкале\n",
    "- `Impact` — влияние на пользователей по 10-балльной шкале\n",
    "- `Confidence` — уверенность в гипотезе по 10-балльной шкале\n",
    "- `Efforts` — затраты ресурсов на проверку гипотезы по 10-балльной шкале. Чем больше значение Efforts, тем дороже проверка гипотезы\n",
    "\n",
    "**План**\n",
    "- Применить фреймворк `ICE` для приоритизации гипотез и отсортировать их по убыванию приоритета\n",
    "- Применить фреймворк `RICE` для приоритизации гипотез и отсортировать их по убыванию приоритета\n",
    "- Посмотреть, как изменится приоритизация гипотез при применении RICE вместо ICE"
   ]
  },
  {
   "cell_type": "markdown",
   "metadata": {},
   "source": [
    "### Загрузка данных"
   ]
  },
  {
   "cell_type": "code",
   "execution_count": 288,
   "metadata": {},
   "outputs": [],
   "source": [
    "import pandas as pd\n",
    "import matplotlib.pyplot as plt\n",
    "import numpy as np\n",
    "import datetime as dt\n",
    "from datetime import datetime\n",
    "from scipy import stats as st\n",
    "import warnings\n",
    "warnings.filterwarnings(\"ignore\")"
   ]
  },
  {
   "cell_type": "code",
   "execution_count": 289,
   "metadata": {
    "scrolled": true
   },
   "outputs": [
    {
     "name": "stdout",
     "output_type": "stream",
     "text": [
      "<class 'pandas.core.frame.DataFrame'>\n",
      "RangeIndex: 9 entries, 0 to 8\n",
      "Data columns (total 5 columns):\n",
      " #   Column      Non-Null Count  Dtype \n",
      "---  ------      --------------  ----- \n",
      " 0   Hypothesis  9 non-null      object\n",
      " 1   Reach       9 non-null      int64 \n",
      " 2   Impact      9 non-null      int64 \n",
      " 3   Confidence  9 non-null      int64 \n",
      " 4   Efforts     9 non-null      int64 \n",
      "dtypes: int64(4), object(1)\n",
      "memory usage: 488.0+ bytes\n"
     ]
    },
    {
     "data": {
      "text/html": [
       "<div>\n",
       "<style scoped>\n",
       "    .dataframe tbody tr th:only-of-type {\n",
       "        vertical-align: middle;\n",
       "    }\n",
       "\n",
       "    .dataframe tbody tr th {\n",
       "        vertical-align: top;\n",
       "    }\n",
       "\n",
       "    .dataframe thead th {\n",
       "        text-align: right;\n",
       "    }\n",
       "</style>\n",
       "<table border=\"1\" class=\"dataframe\">\n",
       "  <thead>\n",
       "    <tr style=\"text-align: right;\">\n",
       "      <th></th>\n",
       "      <th>Hypothesis</th>\n",
       "      <th>Reach</th>\n",
       "      <th>Impact</th>\n",
       "      <th>Confidence</th>\n",
       "      <th>Efforts</th>\n",
       "    </tr>\n",
       "  </thead>\n",
       "  <tbody>\n",
       "    <tr>\n",
       "      <th>0</th>\n",
       "      <td>Добавить два новых канала привлечения трафика, что позволит привлекать на 30% больше пользователей</td>\n",
       "      <td>3</td>\n",
       "      <td>10</td>\n",
       "      <td>8</td>\n",
       "      <td>6</td>\n",
       "    </tr>\n",
       "    <tr>\n",
       "      <th>1</th>\n",
       "      <td>Запустить собственную службу доставки, что сократит срок доставки заказов</td>\n",
       "      <td>2</td>\n",
       "      <td>5</td>\n",
       "      <td>4</td>\n",
       "      <td>10</td>\n",
       "    </tr>\n",
       "    <tr>\n",
       "      <th>2</th>\n",
       "      <td>Добавить блоки рекомендаций товаров на сайт интернет магазина, чтобы повысить конверсию и средний чек заказа</td>\n",
       "      <td>8</td>\n",
       "      <td>3</td>\n",
       "      <td>7</td>\n",
       "      <td>3</td>\n",
       "    </tr>\n",
       "    <tr>\n",
       "      <th>3</th>\n",
       "      <td>Изменить структура категорий, что увеличит конверсию, т.к. пользователи быстрее найдут нужный товар</td>\n",
       "      <td>8</td>\n",
       "      <td>3</td>\n",
       "      <td>3</td>\n",
       "      <td>8</td>\n",
       "    </tr>\n",
       "    <tr>\n",
       "      <th>4</th>\n",
       "      <td>Изменить цвет фона главной страницы, чтобы увеличить вовлеченность пользователей</td>\n",
       "      <td>3</td>\n",
       "      <td>1</td>\n",
       "      <td>1</td>\n",
       "      <td>1</td>\n",
       "    </tr>\n",
       "  </tbody>\n",
       "</table>\n",
       "</div>"
      ],
      "text/plain": [
       "                                                                                                     Hypothesis  \\\n",
       "0            Добавить два новых канала привлечения трафика, что позволит привлекать на 30% больше пользователей   \n",
       "1                                     Запустить собственную службу доставки, что сократит срок доставки заказов   \n",
       "2  Добавить блоки рекомендаций товаров на сайт интернет магазина, чтобы повысить конверсию и средний чек заказа   \n",
       "3           Изменить структура категорий, что увеличит конверсию, т.к. пользователи быстрее найдут нужный товар   \n",
       "4                              Изменить цвет фона главной страницы, чтобы увеличить вовлеченность пользователей   \n",
       "\n",
       "   Reach  Impact  Confidence  Efforts  \n",
       "0      3      10           8        6  \n",
       "1      2       5           4       10  \n",
       "2      8       3           7        3  \n",
       "3      8       3           3        8  \n",
       "4      3       1           1        1  "
      ]
     },
     "execution_count": 289,
     "metadata": {},
     "output_type": "execute_result"
    }
   ],
   "source": [
    "hyp = pd.read_csv(r'C:\\Users\\564\\Downloads\\hypothesis.csv')\n",
    "\n",
    "hyp.info()\n",
    "hyp.head()"
   ]
  },
  {
   "cell_type": "markdown",
   "metadata": {},
   "source": [
    "**Для расчета приоритизации гипотез будем использовать формулы ниже:**\n",
    "\n",
    "\\begin{equation}\n",
    "𝐼𝐶𝐸 = \\frac{𝐼𝑚𝑝𝑎𝑐𝑡 * 𝐶𝑜𝑛𝑓𝑖𝑑𝑒𝑛𝑐𝑒}\n",
    "{𝐸𝑓𝑓𝑜𝑟𝑡𝑠}\n",
    "\\end{equation}\n",
    "\n",
    "\\begin{equation}\n",
    "𝑅𝐼𝐶𝐸 = \\frac{𝑅𝑒𝑎𝑟𝑐ℎ * 𝐼𝑚𝑝𝑎𝑐𝑡 * 𝐶𝑜𝑛𝑓𝑖𝑑𝑒𝑛𝑐𝑒}\n",
    "{𝐸𝑓𝑓𝑜𝑟𝑡𝑠}\n",
    "\\end{equation}"
   ]
  },
  {
   "cell_type": "markdown",
   "metadata": {},
   "source": [
    "### Применим фреймворк ICE для приоритизации гипотез"
   ]
  },
  {
   "cell_type": "code",
   "execution_count": 290,
   "metadata": {
    "scrolled": true
   },
   "outputs": [
    {
     "data": {
      "text/html": [
       "<div>\n",
       "<style scoped>\n",
       "    .dataframe tbody tr th:only-of-type {\n",
       "        vertical-align: middle;\n",
       "    }\n",
       "\n",
       "    .dataframe tbody tr th {\n",
       "        vertical-align: top;\n",
       "    }\n",
       "\n",
       "    .dataframe thead th {\n",
       "        text-align: right;\n",
       "    }\n",
       "</style>\n",
       "<table border=\"1\" class=\"dataframe\">\n",
       "  <thead>\n",
       "    <tr style=\"text-align: right;\">\n",
       "      <th></th>\n",
       "      <th>Hypothesis</th>\n",
       "      <th>Reach</th>\n",
       "      <th>Impact</th>\n",
       "      <th>Confidence</th>\n",
       "      <th>Efforts</th>\n",
       "      <th>ICE</th>\n",
       "    </tr>\n",
       "  </thead>\n",
       "  <tbody>\n",
       "    <tr>\n",
       "      <th>8</th>\n",
       "      <td>Запустить акцию, дающую скидку на товар в день рождения</td>\n",
       "      <td>1</td>\n",
       "      <td>9</td>\n",
       "      <td>9</td>\n",
       "      <td>5</td>\n",
       "      <td>16.200000</td>\n",
       "    </tr>\n",
       "    <tr>\n",
       "      <th>0</th>\n",
       "      <td>Добавить два новых канала привлечения трафика, что позволит привлекать на 30% больше пользователей</td>\n",
       "      <td>3</td>\n",
       "      <td>10</td>\n",
       "      <td>8</td>\n",
       "      <td>6</td>\n",
       "      <td>13.333333</td>\n",
       "    </tr>\n",
       "    <tr>\n",
       "      <th>7</th>\n",
       "      <td>Добавить форму подписки на все основные страницы, чтобы собрать базу клиентов для email-рассылок</td>\n",
       "      <td>10</td>\n",
       "      <td>7</td>\n",
       "      <td>8</td>\n",
       "      <td>5</td>\n",
       "      <td>11.200000</td>\n",
       "    </tr>\n",
       "    <tr>\n",
       "      <th>6</th>\n",
       "      <td>Показать на главной странице баннеры с актуальными акциями и распродажами, чтобы увеличить конверсию</td>\n",
       "      <td>5</td>\n",
       "      <td>3</td>\n",
       "      <td>8</td>\n",
       "      <td>3</td>\n",
       "      <td>8.000000</td>\n",
       "    </tr>\n",
       "    <tr>\n",
       "      <th>2</th>\n",
       "      <td>Добавить блоки рекомендаций товаров на сайт интернет магазина, чтобы повысить конверсию и средний чек заказа</td>\n",
       "      <td>8</td>\n",
       "      <td>3</td>\n",
       "      <td>7</td>\n",
       "      <td>3</td>\n",
       "      <td>7.000000</td>\n",
       "    </tr>\n",
       "    <tr>\n",
       "      <th>1</th>\n",
       "      <td>Запустить собственную службу доставки, что сократит срок доставки заказов</td>\n",
       "      <td>2</td>\n",
       "      <td>5</td>\n",
       "      <td>4</td>\n",
       "      <td>10</td>\n",
       "      <td>2.000000</td>\n",
       "    </tr>\n",
       "    <tr>\n",
       "      <th>5</th>\n",
       "      <td>Добавить страницу отзывов клиентов о магазине, что позволит увеличить количество заказов</td>\n",
       "      <td>3</td>\n",
       "      <td>2</td>\n",
       "      <td>2</td>\n",
       "      <td>3</td>\n",
       "      <td>1.333333</td>\n",
       "    </tr>\n",
       "    <tr>\n",
       "      <th>3</th>\n",
       "      <td>Изменить структура категорий, что увеличит конверсию, т.к. пользователи быстрее найдут нужный товар</td>\n",
       "      <td>8</td>\n",
       "      <td>3</td>\n",
       "      <td>3</td>\n",
       "      <td>8</td>\n",
       "      <td>1.125000</td>\n",
       "    </tr>\n",
       "    <tr>\n",
       "      <th>4</th>\n",
       "      <td>Изменить цвет фона главной страницы, чтобы увеличить вовлеченность пользователей</td>\n",
       "      <td>3</td>\n",
       "      <td>1</td>\n",
       "      <td>1</td>\n",
       "      <td>1</td>\n",
       "      <td>1.000000</td>\n",
       "    </tr>\n",
       "  </tbody>\n",
       "</table>\n",
       "</div>"
      ],
      "text/plain": [
       "                                                                                                     Hypothesis  \\\n",
       "8                                                       Запустить акцию, дающую скидку на товар в день рождения   \n",
       "0            Добавить два новых канала привлечения трафика, что позволит привлекать на 30% больше пользователей   \n",
       "7              Добавить форму подписки на все основные страницы, чтобы собрать базу клиентов для email-рассылок   \n",
       "6          Показать на главной странице баннеры с актуальными акциями и распродажами, чтобы увеличить конверсию   \n",
       "2  Добавить блоки рекомендаций товаров на сайт интернет магазина, чтобы повысить конверсию и средний чек заказа   \n",
       "1                                     Запустить собственную службу доставки, что сократит срок доставки заказов   \n",
       "5                      Добавить страницу отзывов клиентов о магазине, что позволит увеличить количество заказов   \n",
       "3           Изменить структура категорий, что увеличит конверсию, т.к. пользователи быстрее найдут нужный товар   \n",
       "4                              Изменить цвет фона главной страницы, чтобы увеличить вовлеченность пользователей   \n",
       "\n",
       "   Reach  Impact  Confidence  Efforts        ICE  \n",
       "8      1       9           9        5  16.200000  \n",
       "0      3      10           8        6  13.333333  \n",
       "7     10       7           8        5  11.200000  \n",
       "6      5       3           8        3   8.000000  \n",
       "2      8       3           7        3   7.000000  \n",
       "1      2       5           4       10   2.000000  \n",
       "5      3       2           2        3   1.333333  \n",
       "3      8       3           3        8   1.125000  \n",
       "4      3       1           1        1   1.000000  "
      ]
     },
     "execution_count": 290,
     "metadata": {},
     "output_type": "execute_result"
    }
   ],
   "source": [
    "hyp['ICE'] = hyp['Impact'] * hyp['Confidence'] / hyp['Efforts']\n",
    "pd.set_option('display.max_colwidth', 999)\n",
    "hyp.sort_values(by='ICE', ascending=False)"
   ]
  },
  {
   "cell_type": "markdown",
   "metadata": {},
   "source": [
    "### Применим фреймворк RICE для приоритизации гипотез"
   ]
  },
  {
   "cell_type": "code",
   "execution_count": 291,
   "metadata": {
    "scrolled": true
   },
   "outputs": [
    {
     "data": {
      "text/html": [
       "<div>\n",
       "<style scoped>\n",
       "    .dataframe tbody tr th:only-of-type {\n",
       "        vertical-align: middle;\n",
       "    }\n",
       "\n",
       "    .dataframe tbody tr th {\n",
       "        vertical-align: top;\n",
       "    }\n",
       "\n",
       "    .dataframe thead th {\n",
       "        text-align: right;\n",
       "    }\n",
       "</style>\n",
       "<table border=\"1\" class=\"dataframe\">\n",
       "  <thead>\n",
       "    <tr style=\"text-align: right;\">\n",
       "      <th></th>\n",
       "      <th>Hypothesis</th>\n",
       "      <th>Reach</th>\n",
       "      <th>Impact</th>\n",
       "      <th>Confidence</th>\n",
       "      <th>Efforts</th>\n",
       "      <th>ICE</th>\n",
       "      <th>RICE</th>\n",
       "    </tr>\n",
       "  </thead>\n",
       "  <tbody>\n",
       "    <tr>\n",
       "      <th>7</th>\n",
       "      <td>Добавить форму подписки на все основные страницы, чтобы собрать базу клиентов для email-рассылок</td>\n",
       "      <td>10</td>\n",
       "      <td>7</td>\n",
       "      <td>8</td>\n",
       "      <td>5</td>\n",
       "      <td>11.200000</td>\n",
       "      <td>112.0</td>\n",
       "    </tr>\n",
       "    <tr>\n",
       "      <th>2</th>\n",
       "      <td>Добавить блоки рекомендаций товаров на сайт интернет магазина, чтобы повысить конверсию и средний чек заказа</td>\n",
       "      <td>8</td>\n",
       "      <td>3</td>\n",
       "      <td>7</td>\n",
       "      <td>3</td>\n",
       "      <td>7.000000</td>\n",
       "      <td>56.0</td>\n",
       "    </tr>\n",
       "    <tr>\n",
       "      <th>0</th>\n",
       "      <td>Добавить два новых канала привлечения трафика, что позволит привлекать на 30% больше пользователей</td>\n",
       "      <td>3</td>\n",
       "      <td>10</td>\n",
       "      <td>8</td>\n",
       "      <td>6</td>\n",
       "      <td>13.333333</td>\n",
       "      <td>40.0</td>\n",
       "    </tr>\n",
       "    <tr>\n",
       "      <th>6</th>\n",
       "      <td>Показать на главной странице баннеры с актуальными акциями и распродажами, чтобы увеличить конверсию</td>\n",
       "      <td>5</td>\n",
       "      <td>3</td>\n",
       "      <td>8</td>\n",
       "      <td>3</td>\n",
       "      <td>8.000000</td>\n",
       "      <td>40.0</td>\n",
       "    </tr>\n",
       "    <tr>\n",
       "      <th>8</th>\n",
       "      <td>Запустить акцию, дающую скидку на товар в день рождения</td>\n",
       "      <td>1</td>\n",
       "      <td>9</td>\n",
       "      <td>9</td>\n",
       "      <td>5</td>\n",
       "      <td>16.200000</td>\n",
       "      <td>16.2</td>\n",
       "    </tr>\n",
       "    <tr>\n",
       "      <th>3</th>\n",
       "      <td>Изменить структура категорий, что увеличит конверсию, т.к. пользователи быстрее найдут нужный товар</td>\n",
       "      <td>8</td>\n",
       "      <td>3</td>\n",
       "      <td>3</td>\n",
       "      <td>8</td>\n",
       "      <td>1.125000</td>\n",
       "      <td>9.0</td>\n",
       "    </tr>\n",
       "    <tr>\n",
       "      <th>1</th>\n",
       "      <td>Запустить собственную службу доставки, что сократит срок доставки заказов</td>\n",
       "      <td>2</td>\n",
       "      <td>5</td>\n",
       "      <td>4</td>\n",
       "      <td>10</td>\n",
       "      <td>2.000000</td>\n",
       "      <td>4.0</td>\n",
       "    </tr>\n",
       "    <tr>\n",
       "      <th>5</th>\n",
       "      <td>Добавить страницу отзывов клиентов о магазине, что позволит увеличить количество заказов</td>\n",
       "      <td>3</td>\n",
       "      <td>2</td>\n",
       "      <td>2</td>\n",
       "      <td>3</td>\n",
       "      <td>1.333333</td>\n",
       "      <td>4.0</td>\n",
       "    </tr>\n",
       "    <tr>\n",
       "      <th>4</th>\n",
       "      <td>Изменить цвет фона главной страницы, чтобы увеличить вовлеченность пользователей</td>\n",
       "      <td>3</td>\n",
       "      <td>1</td>\n",
       "      <td>1</td>\n",
       "      <td>1</td>\n",
       "      <td>1.000000</td>\n",
       "      <td>3.0</td>\n",
       "    </tr>\n",
       "  </tbody>\n",
       "</table>\n",
       "</div>"
      ],
      "text/plain": [
       "                                                                                                     Hypothesis  \\\n",
       "7              Добавить форму подписки на все основные страницы, чтобы собрать базу клиентов для email-рассылок   \n",
       "2  Добавить блоки рекомендаций товаров на сайт интернет магазина, чтобы повысить конверсию и средний чек заказа   \n",
       "0            Добавить два новых канала привлечения трафика, что позволит привлекать на 30% больше пользователей   \n",
       "6          Показать на главной странице баннеры с актуальными акциями и распродажами, чтобы увеличить конверсию   \n",
       "8                                                       Запустить акцию, дающую скидку на товар в день рождения   \n",
       "3           Изменить структура категорий, что увеличит конверсию, т.к. пользователи быстрее найдут нужный товар   \n",
       "1                                     Запустить собственную службу доставки, что сократит срок доставки заказов   \n",
       "5                      Добавить страницу отзывов клиентов о магазине, что позволит увеличить количество заказов   \n",
       "4                              Изменить цвет фона главной страницы, чтобы увеличить вовлеченность пользователей   \n",
       "\n",
       "   Reach  Impact  Confidence  Efforts        ICE   RICE  \n",
       "7     10       7           8        5  11.200000  112.0  \n",
       "2      8       3           7        3   7.000000   56.0  \n",
       "0      3      10           8        6  13.333333   40.0  \n",
       "6      5       3           8        3   8.000000   40.0  \n",
       "8      1       9           9        5  16.200000   16.2  \n",
       "3      8       3           3        8   1.125000    9.0  \n",
       "1      2       5           4       10   2.000000    4.0  \n",
       "5      3       2           2        3   1.333333    4.0  \n",
       "4      3       1           1        1   1.000000    3.0  "
      ]
     },
     "execution_count": 291,
     "metadata": {},
     "output_type": "execute_result"
    }
   ],
   "source": [
    "hyp['RICE'] = hyp['Reach'] * hyp['Impact'] * hyp['Confidence'] / hyp['Efforts']\n",
    "pd.set_option('display.max_colwidth', 999)\n",
    "hyp.sort_values(by='RICE', ascending=False)"
   ]
  },
  {
   "cell_type": "markdown",
   "metadata": {},
   "source": [
    "**Вывод:**\n",
    "\n",
    "Благодаря добавлению параметра Reach, гипотезы с высоким охватом пользователей получили более высокий приритет. Прежние позиции сохранили только гипотезы под номерами 6 и 4."
   ]
  },
  {
   "cell_type": "markdown",
   "metadata": {},
   "source": [
    "# Часть 2. Анализ A/B-теста\n",
    "\n",
    "Мы провели A/B-тест и получили результаты, которые описаны в файлах `orders.csv` и `visitors.csv`.\n",
    "\n",
    "**Описание данных**\n",
    "\n",
    "Файл `orders.csv`\n",
    "- `transactionId` — идентификатор заказа\n",
    "- `visitorId` — идентификатор пользователя, совершившего заказ\n",
    "- `date` — дата, когда был совершён заказ\n",
    "- `revenue` — выручка заказа\n",
    "- `group` — группа A/B-теста, в которую попал заказ\n",
    "\n",
    "Файл `visitors.csv`\n",
    "- `date` — дата\n",
    "- `group` — группа A/B-теста\n",
    "- `visitors` — количество пользователей в указанную дату в указанной группе A/B-теста\n",
    "\n",
    "**План**\n",
    "- Провести обзорный анализ данных\n",
    "- Проанализировать A/B-тест"
   ]
  },
  {
   "cell_type": "markdown",
   "metadata": {},
   "source": [
    "## Обзорный анализ данных"
   ]
  },
  {
   "cell_type": "code",
   "execution_count": 292,
   "metadata": {
    "scrolled": true
   },
   "outputs": [
    {
     "name": "stdout",
     "output_type": "stream",
     "text": [
      "<class 'pandas.core.frame.DataFrame'>\n",
      "RangeIndex: 1197 entries, 0 to 1196\n",
      "Data columns (total 5 columns):\n",
      " #   Column         Non-Null Count  Dtype \n",
      "---  ------         --------------  ----- \n",
      " 0   transactionId  1197 non-null   int64 \n",
      " 1   visitorId      1197 non-null   int64 \n",
      " 2   date           1197 non-null   object\n",
      " 3   revenue        1197 non-null   int64 \n",
      " 4   group          1197 non-null   object\n",
      "dtypes: int64(3), object(2)\n",
      "memory usage: 46.9+ KB\n"
     ]
    },
    {
     "data": {
      "text/html": [
       "<div>\n",
       "<style scoped>\n",
       "    .dataframe tbody tr th:only-of-type {\n",
       "        vertical-align: middle;\n",
       "    }\n",
       "\n",
       "    .dataframe tbody tr th {\n",
       "        vertical-align: top;\n",
       "    }\n",
       "\n",
       "    .dataframe thead th {\n",
       "        text-align: right;\n",
       "    }\n",
       "</style>\n",
       "<table border=\"1\" class=\"dataframe\">\n",
       "  <thead>\n",
       "    <tr style=\"text-align: right;\">\n",
       "      <th></th>\n",
       "      <th>transactionId</th>\n",
       "      <th>visitorId</th>\n",
       "      <th>date</th>\n",
       "      <th>revenue</th>\n",
       "      <th>group</th>\n",
       "    </tr>\n",
       "  </thead>\n",
       "  <tbody>\n",
       "    <tr>\n",
       "      <th>0</th>\n",
       "      <td>3667963787</td>\n",
       "      <td>3312258926</td>\n",
       "      <td>2019-08-15</td>\n",
       "      <td>1650</td>\n",
       "      <td>B</td>\n",
       "    </tr>\n",
       "    <tr>\n",
       "      <th>1</th>\n",
       "      <td>2804400009</td>\n",
       "      <td>3642806036</td>\n",
       "      <td>2019-08-15</td>\n",
       "      <td>730</td>\n",
       "      <td>B</td>\n",
       "    </tr>\n",
       "    <tr>\n",
       "      <th>2</th>\n",
       "      <td>2961555356</td>\n",
       "      <td>4069496402</td>\n",
       "      <td>2019-08-15</td>\n",
       "      <td>400</td>\n",
       "      <td>A</td>\n",
       "    </tr>\n",
       "    <tr>\n",
       "      <th>3</th>\n",
       "      <td>3797467345</td>\n",
       "      <td>1196621759</td>\n",
       "      <td>2019-08-15</td>\n",
       "      <td>9759</td>\n",
       "      <td>B</td>\n",
       "    </tr>\n",
       "    <tr>\n",
       "      <th>4</th>\n",
       "      <td>2282983706</td>\n",
       "      <td>2322279887</td>\n",
       "      <td>2019-08-15</td>\n",
       "      <td>2308</td>\n",
       "      <td>B</td>\n",
       "    </tr>\n",
       "  </tbody>\n",
       "</table>\n",
       "</div>"
      ],
      "text/plain": [
       "   transactionId   visitorId        date  revenue group\n",
       "0     3667963787  3312258926  2019-08-15     1650     B\n",
       "1     2804400009  3642806036  2019-08-15      730     B\n",
       "2     2961555356  4069496402  2019-08-15      400     A\n",
       "3     3797467345  1196621759  2019-08-15     9759     B\n",
       "4     2282983706  2322279887  2019-08-15     2308     B"
      ]
     },
     "execution_count": 292,
     "metadata": {},
     "output_type": "execute_result"
    }
   ],
   "source": [
    "orders = pd.read_csv(r'C:\\Users\\564\\Downloads\\orders.csv')\n",
    "\n",
    "orders.info()\n",
    "orders.head()"
   ]
  },
  {
   "cell_type": "code",
   "execution_count": 293,
   "metadata": {
    "scrolled": true
   },
   "outputs": [
    {
     "name": "stdout",
     "output_type": "stream",
     "text": [
      "<class 'pandas.core.frame.DataFrame'>\n",
      "RangeIndex: 62 entries, 0 to 61\n",
      "Data columns (total 3 columns):\n",
      " #   Column    Non-Null Count  Dtype \n",
      "---  ------    --------------  ----- \n",
      " 0   date      62 non-null     object\n",
      " 1   group     62 non-null     object\n",
      " 2   visitors  62 non-null     int64 \n",
      "dtypes: int64(1), object(2)\n",
      "memory usage: 1.6+ KB\n"
     ]
    },
    {
     "data": {
      "text/html": [
       "<div>\n",
       "<style scoped>\n",
       "    .dataframe tbody tr th:only-of-type {\n",
       "        vertical-align: middle;\n",
       "    }\n",
       "\n",
       "    .dataframe tbody tr th {\n",
       "        vertical-align: top;\n",
       "    }\n",
       "\n",
       "    .dataframe thead th {\n",
       "        text-align: right;\n",
       "    }\n",
       "</style>\n",
       "<table border=\"1\" class=\"dataframe\">\n",
       "  <thead>\n",
       "    <tr style=\"text-align: right;\">\n",
       "      <th></th>\n",
       "      <th>date</th>\n",
       "      <th>group</th>\n",
       "      <th>visitors</th>\n",
       "    </tr>\n",
       "  </thead>\n",
       "  <tbody>\n",
       "    <tr>\n",
       "      <th>0</th>\n",
       "      <td>2019-08-01</td>\n",
       "      <td>A</td>\n",
       "      <td>719</td>\n",
       "    </tr>\n",
       "    <tr>\n",
       "      <th>1</th>\n",
       "      <td>2019-08-02</td>\n",
       "      <td>A</td>\n",
       "      <td>619</td>\n",
       "    </tr>\n",
       "    <tr>\n",
       "      <th>2</th>\n",
       "      <td>2019-08-03</td>\n",
       "      <td>A</td>\n",
       "      <td>507</td>\n",
       "    </tr>\n",
       "    <tr>\n",
       "      <th>3</th>\n",
       "      <td>2019-08-04</td>\n",
       "      <td>A</td>\n",
       "      <td>717</td>\n",
       "    </tr>\n",
       "    <tr>\n",
       "      <th>4</th>\n",
       "      <td>2019-08-05</td>\n",
       "      <td>A</td>\n",
       "      <td>756</td>\n",
       "    </tr>\n",
       "  </tbody>\n",
       "</table>\n",
       "</div>"
      ],
      "text/plain": [
       "         date group  visitors\n",
       "0  2019-08-01     A       719\n",
       "1  2019-08-02     A       619\n",
       "2  2019-08-03     A       507\n",
       "3  2019-08-04     A       717\n",
       "4  2019-08-05     A       756"
      ]
     },
     "execution_count": 293,
     "metadata": {},
     "output_type": "execute_result"
    }
   ],
   "source": [
    "visitors = pd.read_csv(r'C:\\Users\\564\\Downloads\\visitors.csv')\n",
    "\n",
    "visitors.info()\n",
    "visitors.head()"
   ]
  },
  {
   "cell_type": "code",
   "execution_count": 294,
   "metadata": {
    "scrolled": true
   },
   "outputs": [
    {
     "name": "stdout",
     "output_type": "stream",
     "text": [
      "0\n",
      "0\n"
     ]
    }
   ],
   "source": [
    "# Проверка на явные дубликаты\n",
    "\n",
    "print(orders.duplicated().sum())\n",
    "print(visitors.duplicated().sum())"
   ]
  },
  {
   "cell_type": "code",
   "execution_count": 295,
   "metadata": {},
   "outputs": [
    {
     "name": "stdout",
     "output_type": "stream",
     "text": [
      "Содержимое столбца group: ['A' 'B']\n",
      "Количество дней: 31\n"
     ]
    },
    {
     "data": {
      "text/plain": [
       "group    31\n",
       "dtype: int64"
      ]
     },
     "execution_count": 295,
     "metadata": {},
     "output_type": "execute_result"
    }
   ],
   "source": [
    "# Проверка на неявные дубликаты в таблице visitors\n",
    "\n",
    "print('Содержимое столбца group:', visitors['group'].unique())\n",
    "print('Количество дней:', visitors['date'].nunique())\n",
    "\n",
    "date_group = visitors.groupby('date').agg({'group': 'nunique'})\n",
    "date_group[date_group == 2].count()"
   ]
  },
  {
   "cell_type": "code",
   "execution_count": 296,
   "metadata": {},
   "outputs": [
    {
     "data": {
      "text/plain": [
       "array(['B', 'A'], dtype=object)"
      ]
     },
     "execution_count": 296,
     "metadata": {},
     "output_type": "execute_result"
    }
   ],
   "source": [
    "# Проверка на неявные дубликаты в таблице orders\n",
    "\n",
    "orders['group'].unique()"
   ]
  },
  {
   "cell_type": "code",
   "execution_count": 297,
   "metadata": {
    "scrolled": true
   },
   "outputs": [
    {
     "data": {
      "text/html": [
       "<div>\n",
       "<style scoped>\n",
       "    .dataframe tbody tr th:only-of-type {\n",
       "        vertical-align: middle;\n",
       "    }\n",
       "\n",
       "    .dataframe tbody tr th {\n",
       "        vertical-align: top;\n",
       "    }\n",
       "\n",
       "    .dataframe thead th {\n",
       "        text-align: right;\n",
       "    }\n",
       "</style>\n",
       "<table border=\"1\" class=\"dataframe\">\n",
       "  <thead>\n",
       "    <tr style=\"text-align: right;\">\n",
       "      <th></th>\n",
       "      <th>group</th>\n",
       "    </tr>\n",
       "    <tr>\n",
       "      <th>visitorId</th>\n",
       "      <th></th>\n",
       "    </tr>\n",
       "  </thead>\n",
       "  <tbody>\n",
       "    <tr>\n",
       "      <th>8300375</th>\n",
       "      <td>2.0</td>\n",
       "    </tr>\n",
       "    <tr>\n",
       "      <th>199603092</th>\n",
       "      <td>2.0</td>\n",
       "    </tr>\n",
       "    <tr>\n",
       "      <th>232979603</th>\n",
       "      <td>2.0</td>\n",
       "    </tr>\n",
       "    <tr>\n",
       "      <th>237748145</th>\n",
       "      <td>2.0</td>\n",
       "    </tr>\n",
       "    <tr>\n",
       "      <th>276558944</th>\n",
       "      <td>2.0</td>\n",
       "    </tr>\n",
       "  </tbody>\n",
       "</table>\n",
       "</div>"
      ],
      "text/plain": [
       "           group\n",
       "visitorId       \n",
       "8300375      2.0\n",
       "199603092    2.0\n",
       "232979603    2.0\n",
       "237748145    2.0\n",
       "276558944    2.0"
      ]
     },
     "execution_count": 297,
     "metadata": {},
     "output_type": "execute_result"
    }
   ],
   "source": [
    "# Ищем пользователей попавших в обе тестовые группы\n",
    "\n",
    "visitors_group = orders.groupby('visitorId').agg({'group': 'nunique'})\n",
    "visitors_group = visitors_group[visitors_group > 1].dropna()\n",
    "visitors_group.head()"
   ]
  },
  {
   "cell_type": "code",
   "execution_count": 298,
   "metadata": {
    "scrolled": true
   },
   "outputs": [],
   "source": [
    "# Удаляем из таблицы orders пользователей попавших в обе группы\n",
    "\n",
    "orders = orders[np.logical_not(orders['visitorId'].isin(visitors_group.index))]"
   ]
  },
  {
   "cell_type": "markdown",
   "metadata": {},
   "source": [
    "**Выводы:**\n",
    "\n",
    "- Пропусков и явных дубликатов нет, но тип данных в столбце date нужно будет заменить на datetime\n",
    "- Пользователи по ошибке попавшие в обе группы были удалены из таблицы orders"
   ]
  },
  {
   "cell_type": "markdown",
   "metadata": {},
   "source": [
    "## Анализ A/B-теста"
   ]
  },
  {
   "cell_type": "markdown",
   "metadata": {},
   "source": [
    "### Построим график кумулятивной выручки по группам"
   ]
  },
  {
   "cell_type": "code",
   "execution_count": 299,
   "metadata": {
    "scrolled": true
   },
   "outputs": [
    {
     "data": {
      "image/png": "[encoded data removed]",
      "text/plain": [
       "<Figure size 432x288 with 1 Axes>"
      ]
     },
     "metadata": {
      "needs_background": "light"
     },
     "output_type": "display_data"
    }
   ],
   "source": [
    "# преобразуем тип данных в datetime\n",
    "orders['date'] = orders['date'].map(\n",
    "    lambda x: dt.datetime.strptime(x, '%Y-%m-%d')\n",
    ")\n",
    "\n",
    "visitors['date'] = visitors['date'].map(\n",
    "    lambda x: dt.datetime.strptime(x, '%Y-%m-%d')\n",
    ")\n",
    "\n",
    "# создаем массив уникальных пар значений дат и групп теста\n",
    "datesGroups = orders[['date','group']].drop_duplicates()\n",
    "\n",
    "# получаем агрегированные кумулятивные по дням данные о заказах \n",
    "ordersAggregated = datesGroups.apply(lambda x: orders[np.logical_and(orders['date'] <= x['date'], orders['group'] == x['group'])].agg({'date' : 'max', 'group' : 'max', 'transactionId' : 'nunique', 'visitorId' : 'nunique', 'revenue' : 'sum'}), axis=1).sort_values(by=['date','group'])\n",
    "\n",
    "# получаем агрегированные кумулятивные по дням данные о посетителях интернет-магазина \n",
    "visitorsAggregated = datesGroups.apply(lambda x: visitors[np.logical_and(visitors['date'] <= x['date'], visitors['group'] == x['group'])].agg({'date' : 'max', 'group' : 'max', 'visitors' : 'sum'}), axis=1).sort_values(by=['date','group'])\n",
    "\n",
    "# объединяем кумулятивные данные в одной таблице и присваиваем ее столбцам понятные названия\n",
    "cumulativeData = ordersAggregated.merge(visitorsAggregated, left_on=['date', 'group'], right_on=['date', 'group'])\n",
    "cumulativeData.columns = ['date', 'group', 'orders', 'buyers', 'revenue', 'visitors']\n",
    "\n",
    "# датафрейм с кумулятивным количеством заказов и кумулятивной выручкой по дням в группе А\n",
    "cumulativeRevenueA = cumulativeData[cumulativeData['group']=='A'][['date','revenue', 'orders']]\n",
    "\n",
    "# датафрейм с кумулятивным количеством заказов и кумулятивной выручкой по дням в группе B\n",
    "cumulativeRevenueB = cumulativeData[cumulativeData['group']=='B'][['date','revenue', 'orders']]\n",
    "\n",
    "# Строим график выручки группы А\n",
    "plt.plot(cumulativeRevenueA['date'], cumulativeRevenueA['revenue'], label='A')\n",
    "\n",
    "# Строим график выручки группы B\n",
    "plt.plot(cumulativeRevenueB['date'], cumulativeRevenueB['revenue'], label='B')\n",
    "\n",
    "plt.title('График кумулятивной выручки по группам')\n",
    "plt.legend()\n",
    "plt.xticks(rotation=50)\n",
    "plt.show()"
   ]
  },
  {
   "cell_type": "markdown",
   "metadata": {},
   "source": [
    "**Вывод:**\n",
    "\n",
    "На графике кумулятивной выручки наблюдается аномально резкий рост за короткий промежуток времени у группы B"
   ]
  },
  {
   "cell_type": "markdown",
   "metadata": {},
   "source": [
    "### Построим график кумулятивного среднего чека по группам"
   ]
  },
  {
   "cell_type": "code",
   "execution_count": 300,
   "metadata": {
    "scrolled": true
   },
   "outputs": [
    {
     "data": {
      "image/png": "[encoded data removed]",
      "text/plain": [
       "<Figure size 432x288 with 1 Axes>"
      ]
     },
     "metadata": {
      "needs_background": "light"
     },
     "output_type": "display_data"
    }
   ],
   "source": [
    "plt.plot(cumulativeRevenueA['date'], cumulativeRevenueA['revenue']/cumulativeRevenueA['orders'], label='A')\n",
    "plt.plot(cumulativeRevenueB['date'], cumulativeRevenueB['revenue']/cumulativeRevenueB['orders'], label='B')\n",
    "plt.title('График кумулятивного среднего чека')\n",
    "plt.legend()\n",
    "plt.xticks(rotation=50)\n",
    "plt.show()"
   ]
  },
  {
   "cell_type": "markdown",
   "metadata": {},
   "source": [
    "**Вывод:**\n",
    "\n",
    "На графике кумулятивного среднего чека наблюдается еще более аномальный рост у группы B. Вероятно, в данных имеются крупные выбросы"
   ]
  },
  {
   "cell_type": "markdown",
   "metadata": {},
   "source": [
    "### Построим график относительного изменения кумулятивного среднего чека группы B к группе A"
   ]
  },
  {
   "cell_type": "code",
   "execution_count": 301,
   "metadata": {
    "scrolled": true
   },
   "outputs": [
    {
     "data": {
      "image/png": "[encoded data removed]",
      "text/plain": [
       "<Figure size 432x288 with 1 Axes>"
      ]
     },
     "metadata": {
      "needs_background": "light"
     },
     "output_type": "display_data"
    }
   ],
   "source": [
    "# собираем данные в одном датафрейме\n",
    "mergedCumulativeRevenue = cumulativeRevenueA.merge(cumulativeRevenueB, left_on='date', right_on='date', how='left', suffixes=['A', 'B'])\n",
    "\n",
    "# cтроим отношение средних чеков\n",
    "plt.plot(mergedCumulativeRevenue['date'], (mergedCumulativeRevenue['revenueB']/mergedCumulativeRevenue['ordersB'])/(mergedCumulativeRevenue['revenueA']/mergedCumulativeRevenue['ordersA'])-1)\n",
    "plt.axhline(y=0, color='black', linestyle='--')\n",
    "plt.title('График относительного изменения среднего чека')\n",
    "plt.xticks(rotation=50)\n",
    "plt.show()"
   ]
  },
  {
   "cell_type": "markdown",
   "metadata": {},
   "source": [
    "**Вывод:**\n",
    "\n",
    "Результаты теста резко менялись в некоторые дни. Вероятно, это было влияние отдельных крупных заказов"
   ]
  },
  {
   "cell_type": "markdown",
   "metadata": {},
   "source": [
    "### Построим график кумулятивной конверсии по группам"
   ]
  },
  {
   "cell_type": "code",
   "execution_count": 302,
   "metadata": {},
   "outputs": [
    {
     "data": {
      "image/png": "[encoded data removed]",
      "text/plain": [
       "<Figure size 432x288 with 1 Axes>"
      ]
     },
     "metadata": {
      "needs_background": "light"
     },
     "output_type": "display_data"
    }
   ],
   "source": [
    "cumulativeData['conversion'] = cumulativeData['orders']/cumulativeData['visitors']\n",
    "\n",
    "# отделяем данные по группе A\n",
    "cumulativeDataA = cumulativeData[cumulativeData['group']=='A']\n",
    "\n",
    "# отделяем данные по группе B\n",
    "cumulativeDataB = cumulativeData[cumulativeData['group']=='B']\n",
    "\n",
    "# строим графики\n",
    "plt.plot(cumulativeDataA['date'], cumulativeDataA['conversion'], label='A')\n",
    "plt.plot(cumulativeDataB['date'], cumulativeDataB['conversion'], label='B')\n",
    "plt.legend()\n",
    "plt.title('График кумулятивной конверсии по группам')\n",
    "\n",
    "# задаем масштаб осей\n",
    "plt.axis([np.datetime64('2019-08-01'), np.datetime64('2019-08-31'), 0.022, 0.038])\n",
    "plt.xticks(rotation=50)\n",
    "plt.show()"
   ]
  },
  {
   "cell_type": "markdown",
   "metadata": {},
   "source": [
    "**Вывод:**\n",
    "\n",
    "Группа B стабильно демонстрирует более высокую конверсию"
   ]
  },
  {
   "cell_type": "markdown",
   "metadata": {},
   "source": [
    "### Построим график относительного изменения кумулятивной конверсии группы B к группе A"
   ]
  },
  {
   "cell_type": "code",
   "execution_count": 303,
   "metadata": {
    "scrolled": true
   },
   "outputs": [
    {
     "data": {
      "image/png": "[encoded data removed]",
      "text/plain": [
       "<Figure size 432x288 with 1 Axes>"
      ]
     },
     "metadata": {
      "needs_background": "light"
     },
     "output_type": "display_data"
    }
   ],
   "source": [
    "mergedCumulativeConversions = cumulativeDataA[['date','conversion']].merge(cumulativeDataB[['date','conversion']],\n",
    "                              left_on='date', right_on='date', how='left', suffixes=['A', 'B'])\n",
    "\n",
    "plt.plot(mergedCumulativeConversions['date'], mergedCumulativeConversions['conversionB']\n",
    "                                             /mergedCumulativeConversions['conversionA']-1)\n",
    "plt.title('Относительный прирост конверсии группы B относительно группы A')\n",
    "\n",
    "plt.axhline(y=0, color='black', linestyle='--')\n",
    "plt.axhline(y=0.11, color='grey', linestyle='--')\n",
    "\n",
    "plt.axis([np.datetime64('2019-08-01'), np.datetime64('2019-08-31'), -0.23, 0.27])\n",
    "plt.xticks(rotation=50)\n",
    "plt.show()"
   ]
  },
  {
   "cell_type": "markdown",
   "metadata": {},
   "source": [
    "В начале теста группа B сильно колеблилась, но затем начала стабилизироваться выше отметки в 0.11"
   ]
  },
  {
   "cell_type": "markdown",
   "metadata": {},
   "source": [
    "### Построим точечный график количества заказов по пользователям"
   ]
  },
  {
   "cell_type": "code",
   "execution_count": 304,
   "metadata": {
    "scrolled": true
   },
   "outputs": [
    {
     "data": {
      "image/png": "[encoded data removed]",
      "text/plain": [
       "<Figure size 432x288 with 1 Axes>"
      ]
     },
     "metadata": {
      "needs_background": "light"
     },
     "output_type": "display_data"
    }
   ],
   "source": [
    "og = orders.groupby(by='visitorId').agg({'transactionId' : 'count'})\n",
    "x_values = pd.Series(range(0, len(og)))\n",
    "\n",
    "plt.scatter(x_values, og['transactionId'])\n",
    "plt.title('График количества заказов по пользователям')\n",
    "plt.show()"
   ]
  },
  {
   "cell_type": "markdown",
   "metadata": {},
   "source": [
    "Подавляющее большинство пользователей сделали 1-2 заказа, что неудивительно для временного промежутка в 1 месяц"
   ]
  },
  {
   "cell_type": "markdown",
   "metadata": {},
   "source": [
    "### Посчитаем 95-й и 99-й перцентили количества заказов на пользователя"
   ]
  },
  {
   "cell_type": "code",
   "execution_count": 305,
   "metadata": {
    "scrolled": true
   },
   "outputs": [
    {
     "name": "stdout",
     "output_type": "stream",
     "text": [
      "[1. 2.]\n"
     ]
    }
   ],
   "source": [
    "print(np.percentile(og['transactionId'], [95, 99]))"
   ]
  },
  {
   "cell_type": "markdown",
   "metadata": {},
   "source": [
    "Более 2 заказов на одного пользователя будем рассматривать как аномалию"
   ]
  },
  {
   "cell_type": "markdown",
   "metadata": {},
   "source": [
    "### Построим точечный график стоимостей заказов"
   ]
  },
  {
   "cell_type": "code",
   "execution_count": 306,
   "metadata": {
    "scrolled": true
   },
   "outputs": [
    {
     "data": {
      "image/png": "[encoded data removed]",
      "text/plain": [
       "<Figure size 432x288 with 1 Axes>"
      ]
     },
     "metadata": {
      "needs_background": "light"
     },
     "output_type": "display_data"
    }
   ],
   "source": [
    "x_values = pd.Series(range(0,len(orders['revenue'])))\n",
    "plt.scatter(x_values, orders['revenue'])\n",
    "plt.axis([0, 1000, 0, 300000])\n",
    "plt.title('График стоимостей заказов')\n",
    "plt.show()"
   ]
  },
  {
   "cell_type": "markdown",
   "metadata": {},
   "source": [
    "Стоимость большинства заказов не превышает 100000"
   ]
  },
  {
   "cell_type": "markdown",
   "metadata": {},
   "source": [
    "### Посчитаем 95-й и 99-й перцентили стоимости заказов"
   ]
  },
  {
   "cell_type": "code",
   "execution_count": 307,
   "metadata": {},
   "outputs": [
    {
     "name": "stdout",
     "output_type": "stream",
     "text": [
      "[26785. 53904.]\n"
     ]
    }
   ],
   "source": [
    "print(np.percentile(orders['revenue'], [95, 99]))"
   ]
  },
  {
   "cell_type": "markdown",
   "metadata": {},
   "source": [
    "Заказы стоимостью выше 53904 будем рассматривать как аномалию"
   ]
  },
  {
   "cell_type": "markdown",
   "metadata": {},
   "source": [
    "### Посчитаем статистическую значимость различий в конверсии между группами по «сырым» данным"
   ]
  },
  {
   "cell_type": "markdown",
   "metadata": {},
   "source": [
    "Подготовим данные для статистического теста"
   ]
  },
  {
   "cell_type": "code",
   "execution_count": 308,
   "metadata": {},
   "outputs": [
    {
     "data": {
      "text/html": [
       "<div>\n",
       "<style scoped>\n",
       "    .dataframe tbody tr th:only-of-type {\n",
       "        vertical-align: middle;\n",
       "    }\n",
       "\n",
       "    .dataframe tbody tr th {\n",
       "        vertical-align: top;\n",
       "    }\n",
       "\n",
       "    .dataframe thead th {\n",
       "        text-align: right;\n",
       "    }\n",
       "</style>\n",
       "<table border=\"1\" class=\"dataframe\">\n",
       "  <thead>\n",
       "    <tr style=\"text-align: right;\">\n",
       "      <th></th>\n",
       "      <th>date</th>\n",
       "      <th>ordersPerDateA</th>\n",
       "      <th>revenuePerDateA</th>\n",
       "      <th>ordersPerDateB</th>\n",
       "      <th>revenuePerDateB</th>\n",
       "      <th>ordersCummulativeA</th>\n",
       "      <th>revenueCummulativeA</th>\n",
       "      <th>ordersCummulativeB</th>\n",
       "      <th>revenueCummulativeB</th>\n",
       "      <th>visitorsPerDateA</th>\n",
       "      <th>visitorsPerDateB</th>\n",
       "      <th>visitorsCummulativeA</th>\n",
       "      <th>visitorsCummulativeB</th>\n",
       "    </tr>\n",
       "  </thead>\n",
       "  <tbody>\n",
       "    <tr>\n",
       "      <th>0</th>\n",
       "      <td>2019-08-01</td>\n",
       "      <td>23</td>\n",
       "      <td>142779</td>\n",
       "      <td>17</td>\n",
       "      <td>59758</td>\n",
       "      <td>23</td>\n",
       "      <td>142779</td>\n",
       "      <td>17</td>\n",
       "      <td>59758</td>\n",
       "      <td>719</td>\n",
       "      <td>713</td>\n",
       "      <td>719</td>\n",
       "      <td>713</td>\n",
       "    </tr>\n",
       "    <tr>\n",
       "      <th>1</th>\n",
       "      <td>2019-08-02</td>\n",
       "      <td>19</td>\n",
       "      <td>91602</td>\n",
       "      <td>23</td>\n",
       "      <td>162043</td>\n",
       "      <td>42</td>\n",
       "      <td>234381</td>\n",
       "      <td>40</td>\n",
       "      <td>221801</td>\n",
       "      <td>619</td>\n",
       "      <td>581</td>\n",
       "      <td>1338</td>\n",
       "      <td>1294</td>\n",
       "    </tr>\n",
       "    <tr>\n",
       "      <th>2</th>\n",
       "      <td>2019-08-03</td>\n",
       "      <td>24</td>\n",
       "      <td>112473</td>\n",
       "      <td>14</td>\n",
       "      <td>67049</td>\n",
       "      <td>66</td>\n",
       "      <td>346854</td>\n",
       "      <td>54</td>\n",
       "      <td>288850</td>\n",
       "      <td>507</td>\n",
       "      <td>509</td>\n",
       "      <td>1845</td>\n",
       "      <td>1803</td>\n",
       "    </tr>\n",
       "    <tr>\n",
       "      <th>3</th>\n",
       "      <td>2019-08-04</td>\n",
       "      <td>11</td>\n",
       "      <td>41176</td>\n",
       "      <td>14</td>\n",
       "      <td>96890</td>\n",
       "      <td>77</td>\n",
       "      <td>388030</td>\n",
       "      <td>68</td>\n",
       "      <td>385740</td>\n",
       "      <td>717</td>\n",
       "      <td>770</td>\n",
       "      <td>2562</td>\n",
       "      <td>2573</td>\n",
       "    </tr>\n",
       "    <tr>\n",
       "      <th>4</th>\n",
       "      <td>2019-08-05</td>\n",
       "      <td>22</td>\n",
       "      <td>86383</td>\n",
       "      <td>21</td>\n",
       "      <td>89908</td>\n",
       "      <td>99</td>\n",
       "      <td>474413</td>\n",
       "      <td>89</td>\n",
       "      <td>475648</td>\n",
       "      <td>756</td>\n",
       "      <td>707</td>\n",
       "      <td>3318</td>\n",
       "      <td>3280</td>\n",
       "    </tr>\n",
       "  </tbody>\n",
       "</table>\n",
       "</div>"
      ],
      "text/plain": [
       "        date  ordersPerDateA  revenuePerDateA  ordersPerDateB  \\\n",
       "0 2019-08-01              23           142779              17   \n",
       "1 2019-08-02              19            91602              23   \n",
       "2 2019-08-03              24           112473              14   \n",
       "3 2019-08-04              11            41176              14   \n",
       "4 2019-08-05              22            86383              21   \n",
       "\n",
       "   revenuePerDateB  ordersCummulativeA  revenueCummulativeA  \\\n",
       "0            59758                  23               142779   \n",
       "1           162043                  42               234381   \n",
       "2            67049                  66               346854   \n",
       "3            96890                  77               388030   \n",
       "4            89908                  99               474413   \n",
       "\n",
       "   ordersCummulativeB  revenueCummulativeB  visitorsPerDateA  \\\n",
       "0                  17                59758               719   \n",
       "1                  40               221801               619   \n",
       "2                  54               288850               507   \n",
       "3                  68               385740               717   \n",
       "4                  89               475648               756   \n",
       "\n",
       "   visitorsPerDateB  visitorsCummulativeA  visitorsCummulativeB  \n",
       "0               713                   719                   713  \n",
       "1               581                  1338                  1294  \n",
       "2               509                  1845                  1803  \n",
       "3               770                  2562                  2573  \n",
       "4               707                  3318                  3280  "
      ]
     },
     "execution_count": 308,
     "metadata": {},
     "output_type": "execute_result"
    }
   ],
   "source": [
    "visitorsADaily = visitors[visitors['group'] == 'A'][['date', 'visitors']]\n",
    "visitorsADaily.columns = ['date', 'visitorsPerDateA']\n",
    "\n",
    "visitorsACummulative = visitorsADaily.apply(\n",
    "    lambda x: visitorsADaily[visitorsADaily['date'] <= x['date']].agg(\n",
    "        {'date': 'max', 'visitorsPerDateA': 'sum'}), axis=1)\n",
    "\n",
    "visitorsACummulative.columns = ['date', 'visitorsCummulativeA']\n",
    "\n",
    "visitorsBDaily = visitors[visitors['group'] == 'B'][['date', 'visitors']]\n",
    "visitorsBDaily.columns = ['date', 'visitorsPerDateB']\n",
    "\n",
    "visitorsBCummulative = visitorsBDaily.apply(\n",
    "    lambda x: visitorsBDaily[visitorsBDaily['date'] <= x['date']].agg(\n",
    "        {'date': 'max', 'visitorsPerDateB': 'sum'}), axis=1)\n",
    "\n",
    "visitorsBCummulative.columns = ['date', 'visitorsCummulativeB']\n",
    "\n",
    "ordersADaily = (orders[orders['group'] == 'A'][['date', 'transactionId', 'visitorId', 'revenue']]\n",
    "    .groupby('date', as_index=False)\n",
    "    .agg({'transactionId': pd.Series.nunique, 'revenue': 'sum'}))\n",
    "\n",
    "ordersADaily.columns = ['date', 'ordersPerDateA', 'revenuePerDateA']\n",
    "\n",
    "ordersACummulative = ordersADaily.apply(\n",
    "    lambda x: ordersADaily[ordersADaily['date'] <= x['date']].agg(\n",
    "        {'date': 'max', 'ordersPerDateA': 'sum', 'revenuePerDateA': 'sum'}), axis=1).sort_values(by=['date'])\n",
    "ordersACummulative.columns = [\n",
    "    'date',\n",
    "    'ordersCummulativeA',\n",
    "    'revenueCummulativeA'\n",
    "]\n",
    "\n",
    "ordersBDaily = (orders[orders['group'] == 'B'][['date', 'transactionId', 'visitorId', 'revenue']]\n",
    "    .groupby('date', as_index=False)\n",
    "    .agg({'transactionId': pd.Series.nunique, 'revenue': 'sum'}))\n",
    "\n",
    "ordersBDaily.columns = ['date', 'ordersPerDateB', 'revenuePerDateB']\n",
    "\n",
    "ordersBCummulative = ordersBDaily.apply(\n",
    "    lambda x: ordersBDaily[ordersBDaily['date'] <= x['date']].agg(\n",
    "        {'date': 'max', 'ordersPerDateB': 'sum', 'revenuePerDateB': 'sum'}), axis=1).sort_values(by=['date'])\n",
    "\n",
    "ordersBCummulative.columns = [\n",
    "    'date',\n",
    "    'ordersCummulativeB',\n",
    "    'revenueCummulativeB'\n",
    "]\n",
    "\n",
    "data = (\n",
    "    ordersADaily.merge(\n",
    "    ordersBDaily, left_on='date', right_on='date', how='left')\n",
    "    .merge(ordersACummulative, left_on='date', right_on='date', how='left')\n",
    "    .merge(ordersBCummulative, left_on='date', right_on='date', how='left')\n",
    "    .merge(visitorsADaily, left_on='date', right_on='date', how='left')\n",
    "    .merge(visitorsBDaily, left_on='date', right_on='date', how='left')\n",
    "    .merge(visitorsACummulative, left_on='date', right_on='date', how='left')\n",
    "    .merge(visitorsBCummulative, left_on='date', right_on='date', how='left')\n",
    ")\n",
    "\n",
    "data.head(5)"
   ]
  },
  {
   "cell_type": "code",
   "execution_count": 309,
   "metadata": {},
   "outputs": [],
   "source": [
    "ordersByUsersA = (\n",
    "    orders[orders['group'] == 'A']\n",
    "    .groupby('visitorId', as_index=False)\n",
    "    .agg({'transactionId': pd.Series.nunique}))\n",
    "\n",
    "ordersByUsersA.columns = ['userId', 'orders']\n",
    "\n",
    "ordersByUsersB = (\n",
    "    orders[orders['group'] == 'B']\n",
    "    .groupby('visitorId', as_index=False)\n",
    "    .agg({'transactionId': pd.Series.nunique}))\n",
    "\n",
    "ordersByUsersB.columns = ['userId', 'orders'] "
   ]
  },
  {
   "cell_type": "markdown",
   "metadata": {},
   "source": [
    "Создадим выборки, где каждый элемент — число заказов определённого пользователя"
   ]
  },
  {
   "cell_type": "code",
   "execution_count": 310,
   "metadata": {},
   "outputs": [],
   "source": [
    "sampleA = pd.concat([ordersByUsersA['orders'],\n",
    "pd.Series(0, index=np.arange(data['visitorsPerDateA'].sum() - len(ordersByUsersA['orders'])), name='orders')], axis=0)\n",
    "\n",
    "sampleB = pd.concat([ordersByUsersB['orders'],\n",
    "pd.Series(0, index=np.arange(data['visitorsPerDateB'].sum() - len(ordersByUsersB['orders'])), name='orders')], axis=0)"
   ]
  },
  {
   "cell_type": "markdown",
   "metadata": {},
   "source": [
    "Число элементов sampleA и sampleB — это количество пользователей. Чтобы получить конверсию в группе, поделим сумму заказов на число пользователей — найдём среднее в выборке методом mean()"
   ]
  },
  {
   "cell_type": "code",
   "execution_count": 311,
   "metadata": {},
   "outputs": [
    {
     "name": "stdout",
     "output_type": "stream",
     "text": [
      "Конверсия группы A - 0.025\n",
      "Конверсия группы B - 0.029\n"
     ]
    }
   ],
   "source": [
    "print('Конверсия группы A -', \"{0:.3f}\".format(sampleA.mean()))\n",
    "print('Конверсия группы B -', \"{0:.3f}\".format(sampleB.mean()))"
   ]
  },
  {
   "cell_type": "markdown",
   "metadata": {},
   "source": [
    "Проверяем распределение на нормальность методом `st.shapiro()`\n",
    "\n",
    "Если уровень значимости (p-value) окажется меньше критического уровеня в 0.05, гипотеза о нормальности распределения ($H_0$) будет отвегрнута\n",
    "\n",
    "$H_0$ - Данные подчиняются нормальному распределению\n",
    "\n",
    "$H_1$ - Данные распределены не нормально"
   ]
  },
  {
   "cell_type": "code",
   "execution_count": 312,
   "metadata": {},
   "outputs": [
    {
     "name": "stdout",
     "output_type": "stream",
     "text": [
      "p-value: 0.0\n",
      "Отвергаем нулевую гипотезу: распределение не нормально\n"
     ]
    }
   ],
   "source": [
    "alpha = 0.05  # критический уровень статистической значимости\n",
    "\n",
    "results = st.shapiro(sampleA)\n",
    "p_value = results[1]  # второе значение в массиве результатов (с индексом 1) - p-value\n",
    "\n",
    "print('p-value:', p_value)\n",
    "\n",
    "if p_value < alpha:\n",
    "    print('Отвергаем нулевую гипотезу: распределение не нормально')\n",
    "else:\n",
    "    print('Не получилось отвергнуть нулевую гипотезу, всё нормально') "
   ]
  },
  {
   "cell_type": "markdown",
   "metadata": {},
   "source": [
    "Применим тест Уилкоксона-Манна-Уитни для подсчета статистической значимости различий в конверсии между группами.\n",
    "\n",
    "Проверим двустороннюю (ненаправленную) гипотезу. Если уровень значимости (p-value) окажется меньше критического уровеня в 0.05, гипотеза о равенстве двух выборок ($H_0$) будет отвегрнута\n",
    "\n",
    "$H_0$ - Отсутствует статистически значимое различие в конверсии между группами A и B\n",
    "\n",
    "$H_1$ - Различие в конверсии между группами статистически значимо"
   ]
  },
  {
   "cell_type": "code",
   "execution_count": 313,
   "metadata": {},
   "outputs": [
    {
     "name": "stdout",
     "output_type": "stream",
     "text": [
      "p-value - 0.011\n",
      "Относительный прирост конверсии группы B - 0.160\n"
     ]
    }
   ],
   "source": [
    "print('p-value -', \"{0:.3f}\".format(st.mannwhitneyu(sampleA, sampleB, alternative=\"two-sided\")[1]))\n",
    "\n",
    "print('Относительный прирост конверсии группы B -', \"{0:.3f}\".format(sampleB.mean() / sampleA.mean() - 1))"
   ]
  },
  {
   "cell_type": "markdown",
   "metadata": {},
   "source": [
    "p-value меньше 0.05. Значит, нулевую гипотезу можно отвергнуть, различие в конверсии между группами A и B статистически значимо"
   ]
  },
  {
   "cell_type": "markdown",
   "metadata": {},
   "source": [
    "### Посчитаем статистическую значимость различий в среднем чеке заказа между группами по «сырым» данным"
   ]
  },
  {
   "cell_type": "markdown",
   "metadata": {},
   "source": [
    "Чтобы рассчитать статистическую значимость различий в среднем чеке между группами, применим статистический критерий Манна-Уитни к данным о выручке с заказов.\n",
    "\n",
    "Проверим двустороннюю (ненаправленную) гипотезу. Если уровень значимости (p-value) окажется меньше критического уровеня в 0.05, гипотеза о равенстве двух выборок ($H_0$) будет отвегрнута\n",
    "\n",
    "$H_0$ - Отсутствует статистически значимое различие в среднем чеке между группами A и B\n",
    "\n",
    "$H_1$ - Различие в среднем чеке между группами статистически значимо"
   ]
  },
  {
   "cell_type": "code",
   "execution_count": 314,
   "metadata": {},
   "outputs": [
    {
     "name": "stdout",
     "output_type": "stream",
     "text": [
      "p-value - 0.829\n",
      "Относительное различие в среднем чеке между группами - 0.287\n"
     ]
    }
   ],
   "source": [
    "print('p-value -', '{0:.3f}'.format(st.mannwhitneyu(orders[orders['group']=='A']['revenue'],\n",
    "orders[orders['group']=='B']['revenue'], alternative=\"two-sided\")[1]))\n",
    "\n",
    "print('Относительное различие в среднем чеке между группами -',\n",
    "'{0:.3f}'.format(orders[orders['group']=='B']['revenue'].mean()\n",
    "/orders[orders['group']=='A']['revenue'].mean()-1))"
   ]
  },
  {
   "cell_type": "markdown",
   "metadata": {},
   "source": [
    "P-value значительно больше 0.05. Значит, причин отвергать нулевую гипотезу и считать, что в среднем чеке есть различия, нет.\n",
    "\n",
    "Средний чек группы B на 29% больше"
   ]
  },
  {
   "cell_type": "markdown",
   "metadata": {},
   "source": [
    "### Посчитаем статистическую значимость различий в конверсии между группами по «очищенным» данным"
   ]
  },
  {
   "cell_type": "code",
   "execution_count": 315,
   "metadata": {},
   "outputs": [
    {
     "name": "stdout",
     "output_type": "stream",
     "text": [
      "1099    148427295\n",
      "33      249864742\n",
      "58      611059232\n",
      "949     887908475\n",
      "744     888512513\n",
      "dtype: int64\n",
      "(16,)\n"
     ]
    }
   ],
   "source": [
    "# выделим аномальных пользователей\n",
    "usersWithManyOrders = pd.concat(\n",
    "    [ordersByUsersA[ordersByUsersA['orders'] > 2]['userId'],\n",
    "     ordersByUsersB[ordersByUsersB['orders'] > 2]['userId']], axis=0)\n",
    "\n",
    "usersWithExpensiveOrders = orders[orders['revenue'] > 53904]['visitorId']\n",
    "\n",
    "# объединим аномальных пользователей в одной переменной\n",
    "abnormalUsers = (\n",
    "    pd.concat([usersWithManyOrders, usersWithExpensiveOrders], axis=0)\n",
    "    .drop_duplicates()\n",
    "    .sort_values())\n",
    "\n",
    "print(abnormalUsers.head(5))\n",
    "print(abnormalUsers.shape)"
   ]
  },
  {
   "cell_type": "code",
   "execution_count": 316,
   "metadata": {},
   "outputs": [],
   "source": [
    "# Подготовим выборки количества заказов по пользователям по группам\n",
    "\n",
    "sampleAFiltered = pd.concat(\n",
    "    [ordersByUsersA[np.logical_not(ordersByUsersA['userId'].isin(abnormalUsers))]['orders'],\n",
    "     pd.Series(0, index=np.arange(\n",
    "            data['visitorsPerDateA'].sum() - len(ordersByUsersA['orders'])), name='orders')], axis=0)\n",
    "\n",
    "sampleBFiltered = pd.concat(\n",
    "    [ordersByUsersB[np.logical_not(ordersByUsersB['userId'].isin(abnormalUsers))]['orders'],\n",
    "     pd.Series(0, index=np.arange(\n",
    "            data['visitorsPerDateB'].sum() - len(ordersByUsersB['orders'])), name='orders')], axis=0)"
   ]
  },
  {
   "cell_type": "markdown",
   "metadata": {},
   "source": [
    "Применим статистический критерий Манна-Уитни к полученным выборкам\n",
    "\n",
    "Проверим двустороннюю (ненаправленную) гипотезу. Если уровень значимости (p-value) окажется меньше критического уровеня в 0.05, гипотеза о равенстве двух выборок ($H_0$) будет отвегрнута\n",
    "\n",
    "$H_0$ - Отсутствует статистически значимое различие в конверсии между группами A и B\n",
    "\n",
    "$H_1$ - Различие в конверсии между группами статистически значимо"
   ]
  },
  {
   "cell_type": "code",
   "execution_count": 317,
   "metadata": {
    "scrolled": true
   },
   "outputs": [
    {
     "name": "stdout",
     "output_type": "stream",
     "text": [
      "p-value: 0.007\n",
      "Относительный прирост конверсии группы B: 0.189\n"
     ]
    }
   ],
   "source": [
    "print('p-value:', '{0:.3f}'.format(st.mannwhitneyu(sampleAFiltered, sampleBFiltered, alternative=\"two-sided\")[1]))\n",
    "print('Относительный прирост конверсии группы B:', '{0:.3f}'.format(sampleBFiltered.mean()/sampleAFiltered.mean()-1))"
   ]
  },
  {
   "cell_type": "markdown",
   "metadata": {},
   "source": [
    "P-value почти не изменилось и все еще меньше 0.05. Значит, нулевую гипотезу можно отвергнуть, различие в конверсии между группами A и B статистически значимо"
   ]
  },
  {
   "cell_type": "markdown",
   "metadata": {},
   "source": [
    "### Посчитаем статистическую значимость различий в среднем чеке заказа между группами по «очищенным» данным"
   ]
  },
  {
   "cell_type": "markdown",
   "metadata": {},
   "source": [
    "Проверим двустороннюю (ненаправленную) гипотезу. Если уровень значимости (p-value) окажется меньше критического уровеня в 0.05, гипотеза о равенстве двух выборок ($H_0$) будет отвегрнута\n",
    "\n",
    "$H_0$ - Отсутствует статистически значимое различие в среднем чеке между группами A и B\n",
    "\n",
    "$H_1$ - Различие в среднем чеке между группами статистически значимо"
   ]
  },
  {
   "cell_type": "code",
   "execution_count": 318,
   "metadata": {
    "scrolled": false
   },
   "outputs": [
    {
     "name": "stdout",
     "output_type": "stream",
     "text": [
      "p-value: 0.788\n",
      "Относительное различие в среднем чеке между группами: -0.032\n"
     ]
    }
   ],
   "source": [
    "print('p-value:', '{0:.3f}'.format(\n",
    "        st.mannwhitneyu(\n",
    "            orders[np.logical_and(orders['group'] == 'A',\n",
    "                   np.logical_not(orders['visitorId'].isin(abnormalUsers)))]['revenue'],\n",
    "            orders[np.logical_and(orders['group'] == 'B',\n",
    "                   np.logical_not(orders['visitorId'].isin(abnormalUsers)))]['revenue'],\n",
    "                        alternative=\"two-sided\")[1]))\n",
    "\n",
    "print('Относительное различие в среднем чеке между группами:',\n",
    "    \"{0:.3f}\".format(orders[np.logical_and(orders['group'] == 'B',\n",
    "                np.logical_not(orders['visitorId'].isin(abnormalUsers)))]['revenue'].mean()\n",
    "                   / orders[np.logical_and(orders['group'] == 'A',\n",
    "                np.logical_not(orders['visitorId'].isin(abnormalUsers)))]['revenue'].mean() - 1))"
   ]
  },
  {
   "cell_type": "markdown",
   "metadata": {},
   "source": [
    "P-value немного снизилось, но все еще значительно больше 0.05. Значит, причин отвергать нулевую гипотезу и считать, что в среднем чеке есть различия, нет.\n",
    "\n",
    "Относительное различие в среднем чеке между группами почти исчезло"
   ]
  },
  {
   "cell_type": "markdown",
   "metadata": {},
   "source": [
    "### Посмотрим на графики относительного изменения среднего чека и относительного прироста конверсии по «очищенным» данным"
   ]
  },
  {
   "cell_type": "code",
   "execution_count": 319,
   "metadata": {
    "scrolled": false
   },
   "outputs": [
    {
     "data": {
      "image/png": "[encoded data removed]",
      "text/plain": [
       "<Figure size 432x288 with 1 Axes>"
      ]
     },
     "metadata": {
      "needs_background": "light"
     },
     "output_type": "display_data"
    }
   ],
   "source": [
    "orders_filtered = orders[np.logical_not(orders['visitorId'].isin(abnormalUsers))]\n",
    "\n",
    "# получаем агрегированные кумулятивные по дням данные о заказах \n",
    "ordersAggregated = datesGroups.apply(lambda x: orders_filtered[np.logical_and(orders_filtered['date'] <= x['date'], orders_filtered['group'] == x['group'])].agg({'date' : 'max', 'group' : 'max', 'transactionId' : 'nunique', 'visitorId' : 'nunique', 'revenue' : 'sum'}), axis=1).sort_values(by=['date','group'])\n",
    "\n",
    "# получаем агрегированные кумулятивные по дням данные о посетителях интернет-магазина \n",
    "visitorsAggregated = datesGroups.apply(lambda x: visitors[np.logical_and(visitors['date'] <= x['date'], visitors['group'] == x['group'])].agg({'date' : 'max', 'group' : 'max', 'visitors' : 'sum'}), axis=1).sort_values(by=['date','group'])\n",
    "\n",
    "# объединяем кумулятивные данные в одной таблице и присваиваем ее столбцам понятные названия\n",
    "cumulativeData = ordersAggregated.merge(visitorsAggregated, left_on=['date', 'group'], right_on=['date', 'group'])\n",
    "cumulativeData.columns = ['date', 'group', 'orders', 'buyers', 'revenue', 'visitors']\n",
    "\n",
    "# датафрейм с кумулятивным количеством заказов и кумулятивной выручкой по дням в группе А\n",
    "cumulativeRevenueA = cumulativeData[cumulativeData['group']=='A'][['date','revenue', 'orders']]\n",
    "\n",
    "# датафрейм с кумулятивным количеством заказов и кумулятивной выручкой по дням в группе B\n",
    "cumulativeRevenueB = cumulativeData[cumulativeData['group']=='B'][['date','revenue', 'orders']]\n",
    "\n",
    "# собираем данные в одном датафрейме\n",
    "mergedCumulativeRevenue = cumulativeRevenueA.merge(cumulativeRevenueB, left_on='date', right_on='date', how='left', suffixes=['A', 'B'])\n",
    "\n",
    "# cтроим отношение средних чеков\n",
    "plt.plot(mergedCumulativeRevenue['date'], (mergedCumulativeRevenue['revenueB']/mergedCumulativeRevenue['ordersB'])/(mergedCumulativeRevenue['revenueA']/mergedCumulativeRevenue['ordersA'])-1)\n",
    "plt.axhline(y=0, color='black', linestyle='--')\n",
    "plt.title('График относительного изменения среднего чека')\n",
    "plt.xticks(rotation=50)\n",
    "plt.show()"
   ]
  },
  {
   "cell_type": "markdown",
   "metadata": {},
   "source": [
    "График различия среднего чека говорит о том, что результаты группы B стабилизируются и сейчас почти не отличаются от группы A"
   ]
  },
  {
   "cell_type": "code",
   "execution_count": 320,
   "metadata": {
    "scrolled": false
   },
   "outputs": [
    {
     "data": {
      "image/png": "[encoded data removed]",
      "text/plain": [
       "<Figure size 432x288 with 1 Axes>"
      ]
     },
     "metadata": {
      "needs_background": "light"
     },
     "output_type": "display_data"
    }
   ],
   "source": [
    "cumulativeData['conversion'] = cumulativeData['orders']/cumulativeData['visitors']\n",
    "\n",
    "# отделяем данные по группе A\n",
    "cumulativeDataA = cumulativeData[cumulativeData['group']=='A']\n",
    "\n",
    "# отделяем данные по группе B\n",
    "cumulativeDataB = cumulativeData[cumulativeData['group']=='B']\n",
    "\n",
    "mergedCumulativeConversions = cumulativeDataA[['date','conversion']].merge(cumulativeDataB[['date','conversion']], left_on='date', right_on='date', how='left', suffixes=['A', 'B'])\n",
    "\n",
    "plt.plot(mergedCumulativeConversions['date'], mergedCumulativeConversions['conversionB']/mergedCumulativeConversions['conversionA']-1)\n",
    "plt.title('Относительный прирост конверсии группы B относительно группы A')\n",
    "\n",
    "plt.axhline(y=0, color='black', linestyle='--')\n",
    "plt.axhline(y=0.14, color='grey', linestyle='--')\n",
    "\n",
    "plt.axis([np.datetime64('2019-08-01'), np.datetime64('2019-08-31'), -0.23, 0.3])\n",
    "plt.xticks(rotation=50)\n",
    "plt.show()"
   ]
  },
  {
   "cell_type": "markdown",
   "metadata": {},
   "source": [
    "График различия конверсии между группами сообщает, что результаты группы B лучше группы A и тенденция сохраняется"
   ]
  },
  {
   "cell_type": "markdown",
   "metadata": {},
   "source": [
    "### Выводы"
   ]
  },
  {
   "cell_type": "markdown",
   "metadata": {},
   "source": [
    "Исходя из обнаруженных фактов, тест следует остановить и признать его успешным. С учетом относительно равного среднего чека и более высокой конверсии, группа B будет и дальше показывать лучший результат по выручке.\n",
    "\n",
    "В процессе проверки данных, было обнаружено некорректное разбиение пользователей на группы. Необходимо проверить механизмы разделения, используемые при сборе данных для A/B тестирования."
   ]
  }
 ],
 "metadata": {
  "ExecuteTimeLog": [
   {
    "duration": 823,
    "start_time": "2022-01-25T06:27:30.926Z"
   },
   {
    "duration": 30,
    "start_time": "2022-01-25T07:43:34.139Z"
   },
   {
    "duration": 12,
    "start_time": "2022-01-25T07:45:33.598Z"
   },
   {
    "duration": 14,
    "start_time": "2022-01-25T07:45:40.948Z"
   },
   {
    "duration": 30,
    "start_time": "2022-01-25T07:46:42.399Z"
   },
   {
    "duration": 32,
    "start_time": "2022-01-25T07:47:03.328Z"
   },
   {
    "duration": 17,
    "start_time": "2022-01-25T07:48:53.162Z"
   },
   {
    "duration": 19,
    "start_time": "2022-01-25T07:49:20.723Z"
   },
   {
    "duration": 56,
    "start_time": "2022-01-25T08:18:43.742Z"
   },
   {
    "duration": 84,
    "start_time": "2022-01-25T12:17:45.228Z"
   },
   {
    "duration": 42,
    "start_time": "2022-01-25T12:18:43.545Z"
   },
   {
    "duration": 22,
    "start_time": "2022-01-25T12:18:43.589Z"
   },
   {
    "duration": 65,
    "start_time": "2022-01-25T12:18:43.614Z"
   },
   {
    "duration": 11,
    "start_time": "2022-01-25T12:18:43.682Z"
   },
   {
    "duration": 9,
    "start_time": "2022-01-25T12:27:08.321Z"
   },
   {
    "duration": 577,
    "start_time": "2022-01-25T12:30:45.574Z"
   },
   {
    "duration": 141,
    "start_time": "2022-01-25T12:33:09.909Z"
   },
   {
    "duration": 18,
    "start_time": "2022-01-25T12:33:10.053Z"
   },
   {
    "duration": 6615,
    "start_time": "2022-01-25T12:33:10.074Z"
   },
   {
    "duration": 15,
    "start_time": "2022-01-25T12:35:06.868Z"
   },
   {
    "duration": 32,
    "start_time": "2022-01-25T12:36:50.001Z"
   },
   {
    "duration": 29,
    "start_time": "2022-01-25T12:36:50.036Z"
   },
   {
    "duration": 21,
    "start_time": "2022-01-25T12:36:50.069Z"
   },
   {
    "duration": 1001,
    "start_time": "2022-01-25T12:36:50.092Z"
   },
   {
    "duration": 994,
    "start_time": "2022-01-25T12:37:57.624Z"
   },
   {
    "duration": 13,
    "start_time": "2022-01-25T12:40:58.708Z"
   },
   {
    "duration": 11,
    "start_time": "2022-01-25T12:43:04.881Z"
   },
   {
    "duration": 10,
    "start_time": "2022-01-25T12:43:27.768Z"
   },
   {
    "duration": 1068,
    "start_time": "2022-01-25T12:44:56.530Z"
   },
   {
    "duration": 1066,
    "start_time": "2022-01-25T12:47:03.357Z"
   },
   {
    "duration": 452,
    "start_time": "2022-01-25T12:52:06.844Z"
   },
   {
    "duration": 659,
    "start_time": "2022-01-26T17:17:08.301Z"
   },
   {
    "duration": 10,
    "start_time": "2022-01-26T17:17:08.962Z"
   },
   {
    "duration": 692,
    "start_time": "2022-01-26T17:17:08.973Z"
   },
   {
    "duration": 238,
    "start_time": "2022-01-26T17:17:09.667Z"
   },
   {
    "duration": 11,
    "start_time": "2022-01-26T17:21:27.235Z"
   },
   {
    "duration": 7,
    "start_time": "2022-01-26T17:21:32.540Z"
   },
   {
    "duration": 7,
    "start_time": "2022-01-26T17:21:43.756Z"
   },
   {
    "duration": 345,
    "start_time": "2022-01-26T17:29:05.394Z"
   },
   {
    "duration": 393,
    "start_time": "2022-01-26T17:30:57.914Z"
   },
   {
    "duration": 339,
    "start_time": "2022-01-26T17:31:53.060Z"
   },
   {
    "duration": 336,
    "start_time": "2022-01-26T17:32:10.772Z"
   },
   {
    "duration": 244,
    "start_time": "2022-01-26T17:34:40.575Z"
   },
   {
    "duration": 9,
    "start_time": "2022-01-26T17:36:34.138Z"
   },
   {
    "duration": 4,
    "start_time": "2022-01-26T17:37:05.083Z"
   },
   {
    "duration": 3,
    "start_time": "2022-01-26T17:37:14.795Z"
   },
   {
    "duration": 4,
    "start_time": "2022-01-26T17:37:27.651Z"
   },
   {
    "duration": 256,
    "start_time": "2022-01-26T17:38:01.559Z"
   },
   {
    "duration": 248,
    "start_time": "2022-01-26T17:39:00.649Z"
   },
   {
    "duration": 245,
    "start_time": "2022-01-26T17:39:05.382Z"
   },
   {
    "duration": 267,
    "start_time": "2022-01-26T17:39:47.567Z"
   },
   {
    "duration": 253,
    "start_time": "2022-01-26T17:40:22.730Z"
   },
   {
    "duration": 243,
    "start_time": "2022-01-26T17:40:28.816Z"
   },
   {
    "duration": 403,
    "start_time": "2022-01-26T17:41:06.298Z"
   },
   {
    "duration": 234,
    "start_time": "2022-01-26T17:41:18.473Z"
   },
   {
    "duration": 278,
    "start_time": "2022-01-26T17:41:52.322Z"
   },
   {
    "duration": 345,
    "start_time": "2022-01-26T17:44:56.359Z"
   },
   {
    "duration": 354,
    "start_time": "2022-01-26T17:46:40.809Z"
   },
   {
    "duration": 582,
    "start_time": "2022-01-26T17:46:47.745Z"
   },
   {
    "duration": 366,
    "start_time": "2022-01-26T17:47:31.710Z"
   },
   {
    "duration": 356,
    "start_time": "2022-01-26T17:48:05.316Z"
   },
   {
    "duration": 493,
    "start_time": "2022-01-26T17:49:44.303Z"
   },
   {
    "duration": 398,
    "start_time": "2022-01-26T17:49:53.606Z"
   },
   {
    "duration": 362,
    "start_time": "2022-01-26T17:50:27.847Z"
   },
   {
    "duration": 442,
    "start_time": "2022-01-26T17:50:46.751Z"
   },
   {
    "duration": 370,
    "start_time": "2022-01-26T17:51:25.289Z"
   },
   {
    "duration": 324,
    "start_time": "2022-01-26T17:51:32.569Z"
   },
   {
    "duration": 11,
    "start_time": "2022-01-26T18:16:44.164Z"
   },
   {
    "duration": 7,
    "start_time": "2022-01-26T18:17:14.621Z"
   },
   {
    "duration": 285,
    "start_time": "2022-01-26T18:19:38.192Z"
   },
   {
    "duration": 5,
    "start_time": "2022-01-26T18:19:58.170Z"
   },
   {
    "duration": 7167,
    "start_time": "2022-01-26T18:26:39.083Z"
   },
   {
    "duration": 8327,
    "start_time": "2022-01-26T18:26:48.332Z"
   },
   {
    "duration": 10,
    "start_time": "2022-01-26T18:26:57.651Z"
   },
   {
    "duration": 13,
    "start_time": "2022-01-26T18:27:59.165Z"
   },
   {
    "duration": 228,
    "start_time": "2022-01-26T18:29:16.863Z"
   },
   {
    "duration": 267,
    "start_time": "2022-01-26T18:29:59.156Z"
   },
   {
    "duration": 11,
    "start_time": "2022-01-26T18:30:02.376Z"
   },
   {
    "duration": 271,
    "start_time": "2022-01-26T18:30:05.431Z"
   },
   {
    "duration": 260,
    "start_time": "2022-01-26T18:30:28.049Z"
   },
   {
    "duration": 258,
    "start_time": "2022-01-26T18:30:36.304Z"
   },
   {
    "duration": 10,
    "start_time": "2022-01-26T18:31:09.297Z"
   },
   {
    "duration": 8,
    "start_time": "2022-01-26T18:32:11.692Z"
   },
   {
    "duration": 7,
    "start_time": "2022-01-26T18:32:19.787Z"
   },
   {
    "duration": 11,
    "start_time": "2022-01-26T18:32:48.499Z"
   },
   {
    "duration": 4,
    "start_time": "2022-01-26T18:34:26.255Z"
   },
   {
    "duration": 4,
    "start_time": "2022-01-26T18:34:30.743Z"
   },
   {
    "duration": 7,
    "start_time": "2022-01-26T18:34:54.686Z"
   },
   {
    "duration": 207,
    "start_time": "2022-01-26T18:37:05.482Z"
   },
   {
    "duration": 5,
    "start_time": "2022-01-26T18:37:27.314Z"
   },
   {
    "duration": 4,
    "start_time": "2022-01-26T18:37:29.739Z"
   },
   {
    "duration": 83,
    "start_time": "2022-01-26T18:40:22.751Z"
   },
   {
    "duration": 266,
    "start_time": "2022-01-26T18:42:34.794Z"
   },
   {
    "duration": 7,
    "start_time": "2022-01-26T18:44:31.164Z"
   },
   {
    "duration": 4,
    "start_time": "2022-01-26T18:51:37.391Z"
   },
   {
    "duration": 4,
    "start_time": "2022-01-26T18:52:00.919Z"
   },
   {
    "duration": 6,
    "start_time": "2022-01-26T19:00:37.299Z"
   },
   {
    "duration": 4,
    "start_time": "2022-01-26T19:00:54.164Z"
   },
   {
    "duration": 6,
    "start_time": "2022-01-26T19:01:27.236Z"
   },
   {
    "duration": 6,
    "start_time": "2022-01-26T19:01:37.013Z"
   },
   {
    "duration": 6,
    "start_time": "2022-01-26T19:01:46.965Z"
   },
   {
    "duration": 6,
    "start_time": "2022-01-26T19:01:49.749Z"
   },
   {
    "duration": 6,
    "start_time": "2022-01-26T19:01:52.893Z"
   },
   {
    "duration": 883,
    "start_time": "2022-01-27T19:54:15.378Z"
   },
   {
    "duration": 13,
    "start_time": "2022-01-27T19:54:16.263Z"
   },
   {
    "duration": 649,
    "start_time": "2022-01-27T19:54:16.279Z"
   },
   {
    "duration": 268,
    "start_time": "2022-01-27T19:54:16.930Z"
   },
   {
    "duration": 359,
    "start_time": "2022-01-27T19:54:17.200Z"
   },
   {
    "duration": 327,
    "start_time": "2022-01-27T19:54:17.561Z"
   },
   {
    "duration": 361,
    "start_time": "2022-01-27T19:54:17.890Z"
   },
   {
    "duration": 325,
    "start_time": "2022-01-27T19:54:18.253Z"
   },
   {
    "duration": 4,
    "start_time": "2022-01-27T19:54:18.580Z"
   },
   {
    "duration": 7,
    "start_time": "2022-01-27T19:55:16.971Z"
   },
   {
    "duration": 339,
    "start_time": "2022-01-27T19:57:01.572Z"
   },
   {
    "duration": 81,
    "start_time": "2022-01-27T19:57:32.316Z"
   },
   {
    "duration": 4,
    "start_time": "2022-01-27T19:57:43.247Z"
   },
   {
    "duration": 260,
    "start_time": "2022-01-27T19:57:53.316Z"
   },
   {
    "duration": 4,
    "start_time": "2022-01-27T19:58:08.060Z"
   },
   {
    "duration": 3,
    "start_time": "2022-01-27T19:58:21.861Z"
   },
   {
    "duration": 4,
    "start_time": "2022-01-27T19:58:31.997Z"
   },
   {
    "duration": 4,
    "start_time": "2022-01-27T19:58:43.413Z"
   },
   {
    "duration": 4,
    "start_time": "2022-01-27T19:59:02.942Z"
   },
   {
    "duration": 7,
    "start_time": "2022-01-27T19:59:32.166Z"
   },
   {
    "duration": 241,
    "start_time": "2022-01-27T20:00:00.909Z"
   },
   {
    "duration": 261,
    "start_time": "2022-01-27T20:01:09.440Z"
   },
   {
    "duration": 4,
    "start_time": "2022-01-27T20:02:52.545Z"
   },
   {
    "duration": 80,
    "start_time": "2022-01-27T20:04:01.163Z"
   },
   {
    "duration": 27,
    "start_time": "2022-01-27T20:13:23.841Z"
   },
   {
    "duration": 14,
    "start_time": "2022-01-27T20:13:23.871Z"
   },
   {
    "duration": 1660,
    "start_time": "2022-01-27T20:13:23.888Z"
   },
   {
    "duration": -521,
    "start_time": "2022-01-27T20:13:26.070Z"
   },
   {
    "duration": -522,
    "start_time": "2022-01-27T20:13:26.072Z"
   },
   {
    "duration": -523,
    "start_time": "2022-01-27T20:13:26.074Z"
   },
   {
    "duration": -524,
    "start_time": "2022-01-27T20:13:26.076Z"
   },
   {
    "duration": -525,
    "start_time": "2022-01-27T20:13:26.078Z"
   },
   {
    "duration": -526,
    "start_time": "2022-01-27T20:13:26.080Z"
   },
   {
    "duration": -526,
    "start_time": "2022-01-27T20:13:26.081Z"
   },
   {
    "duration": -526,
    "start_time": "2022-01-27T20:13:26.082Z"
   },
   {
    "duration": 528,
    "start_time": "2022-01-27T20:15:02.109Z"
   },
   {
    "duration": 25,
    "start_time": "2022-01-27T20:15:31.496Z"
   },
   {
    "duration": 11,
    "start_time": "2022-01-27T20:15:31.522Z"
   },
   {
    "duration": 518,
    "start_time": "2022-01-27T20:15:31.534Z"
   },
   {
    "duration": 165,
    "start_time": "2022-01-27T20:15:32.054Z"
   },
   {
    "duration": 262,
    "start_time": "2022-01-27T20:15:32.221Z"
   },
   {
    "duration": 180,
    "start_time": "2022-01-27T20:15:32.484Z"
   },
   {
    "duration": 311,
    "start_time": "2022-01-27T20:15:32.665Z"
   },
   {
    "duration": 258,
    "start_time": "2022-01-27T20:15:32.977Z"
   },
   {
    "duration": 4,
    "start_time": "2022-01-27T20:15:33.237Z"
   },
   {
    "duration": 298,
    "start_time": "2022-01-27T20:15:33.243Z"
   },
   {
    "duration": 3,
    "start_time": "2022-01-27T20:15:33.543Z"
   },
   {
    "duration": 10,
    "start_time": "2022-01-27T20:18:10.160Z"
   },
   {
    "duration": 13,
    "start_time": "2022-01-27T20:18:23.313Z"
   },
   {
    "duration": 443,
    "start_time": "2022-01-27T20:19:23.563Z"
   },
   {
    "duration": 8,
    "start_time": "2022-01-27T20:20:17.107Z"
   },
   {
    "duration": 241,
    "start_time": "2022-01-27T20:22:45.762Z"
   },
   {
    "duration": 105,
    "start_time": "2022-01-27T20:25:53.781Z"
   },
   {
    "duration": 6,
    "start_time": "2022-01-27T20:29:35.961Z"
   },
   {
    "duration": 5,
    "start_time": "2022-01-27T20:32:10.725Z"
   },
   {
    "duration": 7,
    "start_time": "2022-01-27T20:33:48.736Z"
   },
   {
    "duration": 2348,
    "start_time": "2022-01-27T20:35:06.545Z"
   },
   {
    "duration": 256,
    "start_time": "2022-01-27T20:35:40.067Z"
   },
   {
    "duration": 5,
    "start_time": "2022-01-27T20:36:53.197Z"
   },
   {
    "duration": 4,
    "start_time": "2022-01-27T20:43:49.502Z"
   },
   {
    "duration": 270,
    "start_time": "2022-01-27T20:47:46.660Z"
   },
   {
    "duration": 4,
    "start_time": "2022-01-27T20:47:50.259Z"
   },
   {
    "duration": 5,
    "start_time": "2022-01-27T20:48:04.252Z"
   },
   {
    "duration": 5,
    "start_time": "2022-01-27T20:48:16.188Z"
   },
   {
    "duration": 3,
    "start_time": "2022-01-27T20:49:38.503Z"
   },
   {
    "duration": 5,
    "start_time": "2022-01-27T20:51:05.186Z"
   },
   {
    "duration": 4,
    "start_time": "2022-01-27T20:51:07.625Z"
   },
   {
    "duration": 4,
    "start_time": "2022-01-27T20:55:59.600Z"
   },
   {
    "duration": 3,
    "start_time": "2022-01-27T20:56:27.033Z"
   },
   {
    "duration": 5,
    "start_time": "2022-01-27T20:56:40.065Z"
   },
   {
    "duration": 4,
    "start_time": "2022-01-27T20:56:50.622Z"
   },
   {
    "duration": 4,
    "start_time": "2022-01-27T20:57:14.770Z"
   },
   {
    "duration": 250,
    "start_time": "2022-01-27T21:07:26.993Z"
   },
   {
    "duration": 395,
    "start_time": "2022-01-27T21:08:01.034Z"
   },
   {
    "duration": 21,
    "start_time": "2022-01-27T21:08:08.683Z"
   },
   {
    "duration": 5,
    "start_time": "2022-01-27T21:08:15.763Z"
   },
   {
    "duration": 5,
    "start_time": "2022-01-27T21:08:19.762Z"
   },
   {
    "duration": 5,
    "start_time": "2022-01-27T21:09:21.980Z"
   },
   {
    "duration": 4,
    "start_time": "2022-01-27T21:09:29.814Z"
   },
   {
    "duration": 5,
    "start_time": "2022-01-27T21:09:35.283Z"
   },
   {
    "duration": 389,
    "start_time": "2022-01-27T21:20:35.940Z"
   },
   {
    "duration": 7,
    "start_time": "2022-01-27T21:21:02.213Z"
   },
   {
    "duration": 7,
    "start_time": "2022-01-27T21:26:13.036Z"
   },
   {
    "duration": 7,
    "start_time": "2022-01-27T21:26:29.020Z"
   },
   {
    "duration": 269,
    "start_time": "2022-01-27T21:37:19.531Z"
   },
   {
    "duration": 10,
    "start_time": "2022-01-27T21:37:27.548Z"
   },
   {
    "duration": 9,
    "start_time": "2022-01-27T21:37:46.452Z"
   },
   {
    "duration": 9,
    "start_time": "2022-01-27T21:38:48.294Z"
   },
   {
    "duration": 10,
    "start_time": "2022-01-27T21:39:39.239Z"
   },
   {
    "duration": 10,
    "start_time": "2022-01-27T21:39:51.632Z"
   },
   {
    "duration": 10,
    "start_time": "2022-01-27T21:40:13.471Z"
   },
   {
    "duration": 10,
    "start_time": "2022-01-27T21:40:27.513Z"
   },
   {
    "duration": 5,
    "start_time": "2022-01-27T21:43:09.164Z"
   },
   {
    "duration": 6,
    "start_time": "2022-01-27T21:43:18.669Z"
   },
   {
    "duration": 1129,
    "start_time": "2022-01-28T15:24:51.199Z"
   },
   {
    "duration": 13,
    "start_time": "2022-01-28T15:24:52.330Z"
   },
   {
    "duration": 672,
    "start_time": "2022-01-28T15:24:52.345Z"
   },
   {
    "duration": 240,
    "start_time": "2022-01-28T15:24:53.019Z"
   },
   {
    "duration": 382,
    "start_time": "2022-01-28T15:24:53.260Z"
   },
   {
    "duration": 235,
    "start_time": "2022-01-28T15:24:53.644Z"
   },
   {
    "duration": 343,
    "start_time": "2022-01-28T15:24:53.881Z"
   },
   {
    "duration": 298,
    "start_time": "2022-01-28T15:24:54.228Z"
   },
   {
    "duration": 5,
    "start_time": "2022-01-28T15:24:54.528Z"
   },
   {
    "duration": 316,
    "start_time": "2022-01-28T15:24:54.534Z"
   },
   {
    "duration": 4,
    "start_time": "2022-01-28T15:24:54.851Z"
   },
   {
    "duration": 312,
    "start_time": "2022-01-28T15:24:54.857Z"
   },
   {
    "duration": 148,
    "start_time": "2022-01-28T15:24:55.171Z"
   },
   {
    "duration": 6,
    "start_time": "2022-01-28T15:24:55.321Z"
   },
   {
    "duration": 7,
    "start_time": "2022-01-28T15:24:55.328Z"
   },
   {
    "duration": 8,
    "start_time": "2022-01-28T15:24:55.336Z"
   },
   {
    "duration": 13,
    "start_time": "2022-01-28T15:24:55.346Z"
   },
   {
    "duration": 40,
    "start_time": "2022-01-28T15:24:55.361Z"
   },
   {
    "duration": 9,
    "start_time": "2022-01-28T15:27:26.931Z"
   },
   {
    "duration": 5924,
    "start_time": "2022-01-28T15:29:53.438Z"
   },
   {
    "duration": 7,
    "start_time": "2022-01-28T15:33:06.572Z"
   },
   {
    "duration": 5505,
    "start_time": "2022-01-28T15:33:35.540Z"
   },
   {
    "duration": 7,
    "start_time": "2022-01-28T15:34:04.213Z"
   },
   {
    "duration": 9,
    "start_time": "2022-01-28T15:35:05.262Z"
   },
   {
    "duration": 10,
    "start_time": "2022-01-28T15:35:25.902Z"
   },
   {
    "duration": 9,
    "start_time": "2022-01-28T15:36:22.823Z"
   },
   {
    "duration": 10,
    "start_time": "2022-01-28T15:36:27.351Z"
   },
   {
    "duration": 236,
    "start_time": "2022-01-28T15:36:45.184Z"
   },
   {
    "duration": 230,
    "start_time": "2022-01-28T15:36:54.288Z"
   },
   {
    "duration": 4,
    "start_time": "2022-01-28T15:38:54.747Z"
   },
   {
    "duration": 9,
    "start_time": "2022-01-28T15:40:12.639Z"
   },
   {
    "duration": 234,
    "start_time": "2022-01-28T15:41:52.183Z"
   },
   {
    "duration": 14,
    "start_time": "2022-01-28T15:42:00.407Z"
   },
   {
    "duration": 221,
    "start_time": "2022-01-28T15:46:13.878Z"
   },
   {
    "duration": 5981,
    "start_time": "2022-01-28T15:46:31.485Z"
   },
   {
    "duration": 8,
    "start_time": "2022-01-28T15:47:25.639Z"
   },
   {
    "duration": 16,
    "start_time": "2022-01-28T15:48:13.041Z"
   },
   {
    "duration": 15,
    "start_time": "2022-01-28T15:54:41.299Z"
   },
   {
    "duration": 15,
    "start_time": "2022-01-28T15:54:49.705Z"
   },
   {
    "duration": 16,
    "start_time": "2022-01-28T15:55:45.450Z"
   },
   {
    "duration": 26,
    "start_time": "2022-01-28T16:00:10.793Z"
   },
   {
    "duration": 26,
    "start_time": "2022-01-28T16:00:22.896Z"
   },
   {
    "duration": 12,
    "start_time": "2022-01-28T16:00:22.924Z"
   },
   {
    "duration": 604,
    "start_time": "2022-01-28T16:00:22.939Z"
   },
   {
    "duration": 295,
    "start_time": "2022-01-28T16:00:23.545Z"
   },
   {
    "duration": 309,
    "start_time": "2022-01-28T16:00:23.842Z"
   },
   {
    "duration": 229,
    "start_time": "2022-01-28T16:00:24.153Z"
   },
   {
    "duration": 334,
    "start_time": "2022-01-28T16:00:24.384Z"
   },
   {
    "duration": 300,
    "start_time": "2022-01-28T16:00:24.721Z"
   },
   {
    "duration": 4,
    "start_time": "2022-01-28T16:00:25.023Z"
   },
   {
    "duration": 303,
    "start_time": "2022-01-28T16:00:25.028Z"
   },
   {
    "duration": 4,
    "start_time": "2022-01-28T16:00:25.333Z"
   },
   {
    "duration": 305,
    "start_time": "2022-01-28T16:00:25.339Z"
   },
   {
    "duration": 129,
    "start_time": "2022-01-28T16:00:25.646Z"
   },
   {
    "duration": 6,
    "start_time": "2022-01-28T16:00:25.777Z"
   },
   {
    "duration": 4,
    "start_time": "2022-01-28T16:00:25.798Z"
   },
   {
    "duration": 9,
    "start_time": "2022-01-28T16:00:25.804Z"
   },
   {
    "duration": 18,
    "start_time": "2022-01-28T16:00:25.815Z"
   },
   {
    "duration": 18,
    "start_time": "2022-01-28T16:00:25.835Z"
   },
   {
    "duration": 10,
    "start_time": "2022-01-28T16:00:25.855Z"
   },
   {
    "duration": 16,
    "start_time": "2022-01-28T16:00:25.867Z"
   },
   {
    "duration": 15,
    "start_time": "2022-01-28T16:00:25.899Z"
   },
   {
    "duration": 206,
    "start_time": "2022-01-28T16:01:49.628Z"
   },
   {
    "duration": 219,
    "start_time": "2022-01-28T16:02:20.005Z"
   },
   {
    "duration": 315,
    "start_time": "2022-01-28T16:04:38.528Z"
   },
   {
    "duration": 9,
    "start_time": "2022-01-28T16:06:23.442Z"
   },
   {
    "duration": 16,
    "start_time": "2022-01-28T16:06:36.031Z"
   },
   {
    "duration": 79,
    "start_time": "2022-01-28T16:16:40.243Z"
   },
   {
    "duration": 5,
    "start_time": "2022-01-28T16:16:59.523Z"
   },
   {
    "duration": 16,
    "start_time": "2022-01-28T16:17:08.034Z"
   },
   {
    "duration": 15,
    "start_time": "2022-01-28T16:17:40.011Z"
   },
   {
    "duration": 380,
    "start_time": "2022-01-28T16:19:04.982Z"
   },
   {
    "duration": 423,
    "start_time": "2022-01-28T16:23:53.525Z"
   },
   {
    "duration": 687,
    "start_time": "2022-01-28T16:24:54.262Z"
   },
   {
    "duration": 736,
    "start_time": "2022-01-28T16:26:53.446Z"
   },
   {
    "duration": 335,
    "start_time": "2022-01-28T16:31:01.767Z"
   },
   {
    "duration": 12,
    "start_time": "2022-01-28T16:33:23.210Z"
   },
   {
    "duration": 340,
    "start_time": "2022-01-28T16:35:05.668Z"
   },
   {
    "duration": 302,
    "start_time": "2022-01-28T16:35:12.357Z"
   },
   {
    "duration": 10,
    "start_time": "2022-01-28T16:35:36.166Z"
   },
   {
    "duration": 6,
    "start_time": "2022-01-28T16:42:19.318Z"
   },
   {
    "duration": 684,
    "start_time": "2022-01-28T16:45:10.740Z"
   },
   {
    "duration": 209,
    "start_time": "2022-01-28T16:49:51.570Z"
   },
   {
    "duration": 224,
    "start_time": "2022-01-28T16:50:12.914Z"
   },
   {
    "duration": 228,
    "start_time": "2022-01-28T17:03:38.023Z"
   },
   {
    "duration": 16,
    "start_time": "2022-01-28T17:07:58.740Z"
   },
   {
    "duration": 22,
    "start_time": "2022-01-28T17:09:08.191Z"
   },
   {
    "duration": 10,
    "start_time": "2022-01-28T17:13:17.109Z"
   },
   {
    "duration": 28,
    "start_time": "2022-01-28T17:13:41.070Z"
   },
   {
    "duration": 17,
    "start_time": "2022-01-28T17:13:41.100Z"
   },
   {
    "duration": 633,
    "start_time": "2022-01-28T17:13:41.119Z"
   },
   {
    "duration": 223,
    "start_time": "2022-01-28T17:13:41.754Z"
   },
   {
    "duration": 351,
    "start_time": "2022-01-28T17:13:41.980Z"
   },
   {
    "duration": 311,
    "start_time": "2022-01-28T17:13:42.334Z"
   },
   {
    "duration": 300,
    "start_time": "2022-01-28T17:13:42.647Z"
   },
   {
    "duration": 280,
    "start_time": "2022-01-28T17:13:42.949Z"
   },
   {
    "duration": 6,
    "start_time": "2022-01-28T17:13:43.231Z"
   },
   {
    "duration": 323,
    "start_time": "2022-01-28T17:13:43.240Z"
   },
   {
    "duration": 5,
    "start_time": "2022-01-28T17:13:43.564Z"
   },
   {
    "duration": 307,
    "start_time": "2022-01-28T17:13:43.571Z"
   },
   {
    "duration": 147,
    "start_time": "2022-01-28T17:13:43.879Z"
   },
   {
    "duration": 6,
    "start_time": "2022-01-28T17:13:44.028Z"
   },
   {
    "duration": 6,
    "start_time": "2022-01-28T17:13:44.036Z"
   },
   {
    "duration": 7,
    "start_time": "2022-01-28T17:13:44.044Z"
   },
   {
    "duration": 9,
    "start_time": "2022-01-28T17:13:44.052Z"
   },
   {
    "duration": 46,
    "start_time": "2022-01-28T17:13:44.063Z"
   },
   {
    "duration": 10,
    "start_time": "2022-01-28T17:13:44.112Z"
   },
   {
    "duration": 13,
    "start_time": "2022-01-28T17:13:44.124Z"
   },
   {
    "duration": 14,
    "start_time": "2022-01-28T17:13:44.139Z"
   },
   {
    "duration": 705,
    "start_time": "2022-01-28T17:13:44.155Z"
   },
   {
    "duration": 356,
    "start_time": "2022-01-28T17:13:44.862Z"
   },
   {
    "duration": 963,
    "start_time": "2022-01-29T12:21:27.448Z"
   },
   {
    "duration": 10,
    "start_time": "2022-01-29T12:21:28.412Z"
   },
   {
    "duration": 518,
    "start_time": "2022-01-29T12:21:28.424Z"
   },
   {
    "duration": 186,
    "start_time": "2022-01-29T12:21:28.944Z"
   },
   {
    "duration": 304,
    "start_time": "2022-01-29T12:21:29.132Z"
   },
   {
    "duration": 175,
    "start_time": "2022-01-29T12:21:29.438Z"
   },
   {
    "duration": 301,
    "start_time": "2022-01-29T12:21:29.615Z"
   },
   {
    "duration": 289,
    "start_time": "2022-01-29T12:21:29.919Z"
   },
   {
    "duration": 4,
    "start_time": "2022-01-29T12:21:30.210Z"
   },
   {
    "duration": 312,
    "start_time": "2022-01-29T12:21:30.215Z"
   },
   {
    "duration": 3,
    "start_time": "2022-01-29T12:21:30.529Z"
   },
   {
    "duration": 251,
    "start_time": "2022-01-29T12:21:30.533Z"
   },
   {
    "duration": 101,
    "start_time": "2022-01-29T12:21:30.786Z"
   },
   {
    "duration": 5,
    "start_time": "2022-01-29T12:21:30.889Z"
   },
   {
    "duration": 7,
    "start_time": "2022-01-29T12:21:30.896Z"
   },
   {
    "duration": 6,
    "start_time": "2022-01-29T12:21:30.904Z"
   },
   {
    "duration": 21,
    "start_time": "2022-01-29T12:21:30.912Z"
   },
   {
    "duration": 11,
    "start_time": "2022-01-29T12:21:30.934Z"
   },
   {
    "duration": 8,
    "start_time": "2022-01-29T12:21:30.947Z"
   },
   {
    "duration": 16,
    "start_time": "2022-01-29T12:21:30.956Z"
   },
   {
    "duration": 11,
    "start_time": "2022-01-29T12:21:30.973Z"
   },
   {
    "duration": 611,
    "start_time": "2022-01-29T12:21:30.985Z"
   },
   {
    "duration": 319,
    "start_time": "2022-01-29T12:21:31.598Z"
   },
   {
    "duration": 1053,
    "start_time": "2022-01-29T12:22:13.504Z"
   },
   {
    "duration": 11,
    "start_time": "2022-01-29T12:22:14.559Z"
   },
   {
    "duration": 625,
    "start_time": "2022-01-29T12:22:14.572Z"
   },
   {
    "duration": 176,
    "start_time": "2022-01-29T12:22:15.199Z"
   },
   {
    "duration": 258,
    "start_time": "2022-01-29T12:22:15.376Z"
   },
   {
    "duration": 180,
    "start_time": "2022-01-29T12:22:15.635Z"
   },
   {
    "duration": 278,
    "start_time": "2022-01-29T12:22:15.816Z"
   },
   {
    "duration": 260,
    "start_time": "2022-01-29T12:22:16.096Z"
   },
   {
    "duration": 5,
    "start_time": "2022-01-29T12:22:16.358Z"
   },
   {
    "duration": 263,
    "start_time": "2022-01-29T12:22:16.364Z"
   },
   {
    "duration": 4,
    "start_time": "2022-01-29T12:22:16.628Z"
   },
   {
    "duration": 257,
    "start_time": "2022-01-29T12:22:16.634Z"
   },
   {
    "duration": 108,
    "start_time": "2022-01-29T12:22:16.892Z"
   },
   {
    "duration": 5,
    "start_time": "2022-01-29T12:22:17.001Z"
   },
   {
    "duration": 6,
    "start_time": "2022-01-29T12:22:17.007Z"
   },
   {
    "duration": 4,
    "start_time": "2022-01-29T12:22:17.027Z"
   },
   {
    "duration": 8,
    "start_time": "2022-01-29T12:22:17.032Z"
   },
   {
    "duration": 8,
    "start_time": "2022-01-29T12:22:17.041Z"
   },
   {
    "duration": 12,
    "start_time": "2022-01-29T12:22:17.051Z"
   },
   {
    "duration": 11,
    "start_time": "2022-01-29T12:22:17.064Z"
   },
   {
    "duration": 10,
    "start_time": "2022-01-29T12:22:17.077Z"
   },
   {
    "duration": 606,
    "start_time": "2022-01-29T12:22:17.089Z"
   },
   {
    "duration": 308,
    "start_time": "2022-01-29T12:22:17.697Z"
   },
   {
    "duration": 293,
    "start_time": "2022-01-29T15:11:55.933Z"
   },
   {
    "duration": 1053,
    "start_time": "2022-01-29T15:12:09.926Z"
   },
   {
    "duration": 5,
    "start_time": "2022-01-29T15:12:10.980Z"
   },
   {
    "duration": 559,
    "start_time": "2022-01-29T15:12:10.987Z"
   },
   {
    "duration": 197,
    "start_time": "2022-01-29T15:12:11.548Z"
   },
   {
    "duration": 339,
    "start_time": "2022-01-29T15:12:11.746Z"
   },
   {
    "duration": 197,
    "start_time": "2022-01-29T15:12:12.087Z"
   },
   {
    "duration": 295,
    "start_time": "2022-01-29T15:12:12.286Z"
   },
   {
    "duration": 279,
    "start_time": "2022-01-29T15:12:12.583Z"
   },
   {
    "duration": 4,
    "start_time": "2022-01-29T15:12:12.864Z"
   },
   {
    "duration": 309,
    "start_time": "2022-01-29T15:12:12.870Z"
   },
   {
    "duration": 4,
    "start_time": "2022-01-29T15:12:13.180Z"
   },
   {
    "duration": 277,
    "start_time": "2022-01-29T15:12:13.186Z"
   },
   {
    "duration": 122,
    "start_time": "2022-01-29T15:12:13.465Z"
   },
   {
    "duration": 6,
    "start_time": "2022-01-29T15:12:13.588Z"
   },
   {
    "duration": 7,
    "start_time": "2022-01-29T15:12:13.596Z"
   },
   {
    "duration": 8,
    "start_time": "2022-01-29T15:12:13.605Z"
   },
   {
    "duration": 14,
    "start_time": "2022-01-29T15:12:13.615Z"
   },
   {
    "duration": 10,
    "start_time": "2022-01-29T15:12:13.631Z"
   },
   {
    "duration": 25,
    "start_time": "2022-01-29T15:12:13.642Z"
   },
   {
    "duration": 21,
    "start_time": "2022-01-29T15:12:13.669Z"
   },
   {
    "duration": 17,
    "start_time": "2022-01-29T15:12:13.691Z"
   },
   {
    "duration": 646,
    "start_time": "2022-01-29T15:12:13.710Z"
   },
   {
    "duration": 408,
    "start_time": "2022-01-29T15:12:14.359Z"
   },
   {
    "duration": 11,
    "start_time": "2022-01-29T15:12:38.403Z"
   },
   {
    "duration": 265,
    "start_time": "2022-01-29T15:16:38.586Z"
   },
   {
    "duration": 218,
    "start_time": "2022-01-29T15:16:42.946Z"
   },
   {
    "duration": 12,
    "start_time": "2022-01-29T15:17:46.268Z"
   },
   {
    "duration": 13,
    "start_time": "2022-01-29T15:17:49.196Z"
   },
   {
    "duration": 12,
    "start_time": "2022-01-29T15:18:00.373Z"
   },
   {
    "duration": 12,
    "start_time": "2022-01-29T15:18:02.381Z"
   },
   {
    "duration": 249,
    "start_time": "2022-01-29T15:19:43.831Z"
   },
   {
    "duration": 213,
    "start_time": "2022-01-29T15:20:01.200Z"
   },
   {
    "duration": 12,
    "start_time": "2022-01-29T15:20:19.713Z"
   },
   {
    "duration": 224,
    "start_time": "2022-01-29T15:20:51.618Z"
   },
   {
    "duration": 13,
    "start_time": "2022-01-29T15:20:55.833Z"
   },
   {
    "duration": 21,
    "start_time": "2022-01-29T15:21:16.362Z"
   },
   {
    "duration": 26,
    "start_time": "2022-01-29T15:21:22.609Z"
   },
   {
    "duration": 26,
    "start_time": "2022-01-29T15:21:36.322Z"
   },
   {
    "duration": 12,
    "start_time": "2022-01-29T15:21:39.962Z"
   },
   {
    "duration": 26,
    "start_time": "2022-01-29T15:21:57.668Z"
   },
   {
    "duration": 14,
    "start_time": "2022-01-29T15:21:57.696Z"
   },
   {
    "duration": 564,
    "start_time": "2022-01-29T15:21:57.712Z"
   },
   {
    "duration": 193,
    "start_time": "2022-01-29T15:21:58.278Z"
   },
   {
    "duration": 298,
    "start_time": "2022-01-29T15:21:58.473Z"
   },
   {
    "duration": 194,
    "start_time": "2022-01-29T15:21:58.773Z"
   },
   {
    "duration": 304,
    "start_time": "2022-01-29T15:21:58.969Z"
   },
   {
    "duration": 275,
    "start_time": "2022-01-29T15:21:59.275Z"
   },
   {
    "duration": 4,
    "start_time": "2022-01-29T15:21:59.561Z"
   },
   {
    "duration": 281,
    "start_time": "2022-01-29T15:21:59.567Z"
   },
   {
    "duration": 11,
    "start_time": "2022-01-29T15:21:59.850Z"
   },
   {
    "duration": 286,
    "start_time": "2022-01-29T15:21:59.862Z"
   },
   {
    "duration": 124,
    "start_time": "2022-01-29T15:22:00.150Z"
   },
   {
    "duration": 5,
    "start_time": "2022-01-29T15:22:00.276Z"
   },
   {
    "duration": 23,
    "start_time": "2022-01-29T15:22:00.283Z"
   },
   {
    "duration": 27,
    "start_time": "2022-01-29T15:22:00.308Z"
   },
   {
    "duration": 22,
    "start_time": "2022-01-29T15:22:00.336Z"
   },
   {
    "duration": 11,
    "start_time": "2022-01-29T15:22:00.359Z"
   },
   {
    "duration": 27,
    "start_time": "2022-01-29T15:22:00.372Z"
   },
   {
    "duration": 25,
    "start_time": "2022-01-29T15:22:00.401Z"
   },
   {
    "duration": 20,
    "start_time": "2022-01-29T15:22:00.427Z"
   },
   {
    "duration": 612,
    "start_time": "2022-01-29T15:22:00.449Z"
   },
   {
    "duration": 387,
    "start_time": "2022-01-29T15:22:01.064Z"
   },
   {
    "duration": 12,
    "start_time": "2022-01-29T15:22:53.148Z"
   },
   {
    "duration": 28,
    "start_time": "2022-01-29T15:23:09.540Z"
   },
   {
    "duration": 85,
    "start_time": "2022-01-29T15:33:13.818Z"
   },
   {
    "duration": 322,
    "start_time": "2022-01-29T15:34:21.679Z"
   },
   {
    "duration": 468,
    "start_time": "2022-01-29T15:35:30.851Z"
   },
   {
    "duration": 243,
    "start_time": "2022-01-29T15:37:28.429Z"
   },
   {
    "duration": 70,
    "start_time": "2022-01-29T15:45:48.797Z"
   },
   {
    "duration": 71,
    "start_time": "2022-01-29T15:46:32.006Z"
   },
   {
    "duration": 66,
    "start_time": "2022-01-29T15:46:36.461Z"
   },
   {
    "duration": 70,
    "start_time": "2022-01-29T15:47:46.136Z"
   },
   {
    "duration": 75,
    "start_time": "2022-01-29T15:47:51.112Z"
   },
   {
    "duration": 116,
    "start_time": "2022-01-29T15:48:24.304Z"
   },
   {
    "duration": 72,
    "start_time": "2022-01-29T15:48:26.961Z"
   },
   {
    "duration": 70,
    "start_time": "2022-01-29T15:48:50.697Z"
   },
   {
    "duration": 979,
    "start_time": "2022-01-29T16:05:13.722Z"
   },
   {
    "duration": 43,
    "start_time": "2022-01-29T16:05:25.793Z"
   },
   {
    "duration": 52,
    "start_time": "2022-01-29T16:05:38.489Z"
   },
   {
    "duration": 557,
    "start_time": "2022-01-29T16:06:24.466Z"
   },
   {
    "duration": 9,
    "start_time": "2022-01-29T16:06:39.147Z"
   },
   {
    "duration": 7,
    "start_time": "2022-01-29T16:07:47.340Z"
   },
   {
    "duration": 6,
    "start_time": "2022-01-29T16:07:52.013Z"
   },
   {
    "duration": 6,
    "start_time": "2022-01-29T16:07:56.165Z"
   },
   {
    "duration": 7,
    "start_time": "2022-01-29T16:08:12.679Z"
   },
   {
    "duration": 7,
    "start_time": "2022-01-29T16:08:42.030Z"
   },
   {
    "duration": 6,
    "start_time": "2022-01-29T16:10:34.145Z"
   },
   {
    "duration": 24,
    "start_time": "2022-01-29T16:11:32.098Z"
   },
   {
    "duration": 7,
    "start_time": "2022-01-29T16:12:18.406Z"
   },
   {
    "duration": 9,
    "start_time": "2022-01-29T16:12:31.595Z"
   },
   {
    "duration": 5,
    "start_time": "2022-01-29T16:14:50.879Z"
   },
   {
    "duration": 261,
    "start_time": "2022-01-29T16:15:03.320Z"
   },
   {
    "duration": 24,
    "start_time": "2022-01-29T16:15:21.233Z"
   },
   {
    "duration": 5227,
    "start_time": "2022-01-29T16:16:04.883Z"
   },
   {
    "duration": 21,
    "start_time": "2022-01-29T16:16:20.081Z"
   },
   {
    "duration": 42,
    "start_time": "2022-01-29T16:17:46.765Z"
   },
   {
    "duration": 24,
    "start_time": "2022-01-29T16:17:59.861Z"
   },
   {
    "duration": 68,
    "start_time": "2022-01-29T16:24:31.144Z"
   },
   {
    "duration": 12,
    "start_time": "2022-01-29T16:24:38.253Z"
   },
   {
    "duration": 8,
    "start_time": "2022-01-29T16:25:20.665Z"
   },
   {
    "duration": 14,
    "start_time": "2022-01-29T16:25:26.398Z"
   },
   {
    "duration": 14,
    "start_time": "2022-01-29T16:25:58.592Z"
   },
   {
    "duration": 17,
    "start_time": "2022-01-29T16:26:33.640Z"
   },
   {
    "duration": 27,
    "start_time": "2022-01-29T16:27:23.887Z"
   },
   {
    "duration": 14,
    "start_time": "2022-01-29T16:27:23.916Z"
   },
   {
    "duration": 49,
    "start_time": "2022-01-29T16:27:23.932Z"
   },
   {
    "duration": 23,
    "start_time": "2022-01-29T16:27:23.983Z"
   },
   {
    "duration": 9,
    "start_time": "2022-01-29T16:27:24.008Z"
   },
   {
    "duration": 16,
    "start_time": "2022-01-29T16:27:24.019Z"
   },
   {
    "duration": 514,
    "start_time": "2022-01-29T16:27:24.037Z"
   },
   {
    "duration": 194,
    "start_time": "2022-01-29T16:27:24.561Z"
   },
   {
    "duration": 312,
    "start_time": "2022-01-29T16:27:24.757Z"
   },
   {
    "duration": 210,
    "start_time": "2022-01-29T16:27:25.070Z"
   },
   {
    "duration": 280,
    "start_time": "2022-01-29T16:27:25.282Z"
   },
   {
    "duration": 276,
    "start_time": "2022-01-29T16:27:25.564Z"
   },
   {
    "duration": 5,
    "start_time": "2022-01-29T16:27:25.842Z"
   },
   {
    "duration": 299,
    "start_time": "2022-01-29T16:27:25.848Z"
   },
   {
    "duration": 13,
    "start_time": "2022-01-29T16:27:26.149Z"
   },
   {
    "duration": 346,
    "start_time": "2022-01-29T16:27:26.164Z"
   },
   {
    "duration": 123,
    "start_time": "2022-01-29T16:27:26.512Z"
   },
   {
    "duration": 7,
    "start_time": "2022-01-29T16:27:26.637Z"
   },
   {
    "duration": 6,
    "start_time": "2022-01-29T16:27:26.660Z"
   },
   {
    "duration": 8,
    "start_time": "2022-01-29T16:27:26.668Z"
   },
   {
    "duration": 10,
    "start_time": "2022-01-29T16:27:26.678Z"
   },
   {
    "duration": 12,
    "start_time": "2022-01-29T16:27:26.690Z"
   },
   {
    "duration": 13,
    "start_time": "2022-01-29T16:27:26.706Z"
   },
   {
    "duration": 49,
    "start_time": "2022-01-29T16:27:26.722Z"
   },
   {
    "duration": 16,
    "start_time": "2022-01-29T16:27:26.774Z"
   },
   {
    "duration": 646,
    "start_time": "2022-01-29T16:27:26.792Z"
   },
   {
    "duration": 334,
    "start_time": "2022-01-29T16:27:27.440Z"
   },
   {
    "duration": 8,
    "start_time": "2022-01-29T16:27:49.514Z"
   },
   {
    "duration": 7,
    "start_time": "2022-01-29T16:28:05.507Z"
   },
   {
    "duration": 14,
    "start_time": "2022-01-29T16:29:23.557Z"
   },
   {
    "duration": 11,
    "start_time": "2022-01-29T16:30:13.159Z"
   },
   {
    "duration": 9,
    "start_time": "2022-01-29T16:30:54.560Z"
   },
   {
    "duration": 6,
    "start_time": "2022-01-29T16:31:02.382Z"
   },
   {
    "duration": 10,
    "start_time": "2022-01-29T16:31:14.783Z"
   },
   {
    "duration": 11,
    "start_time": "2022-01-29T16:31:17.407Z"
   },
   {
    "duration": 8,
    "start_time": "2022-01-29T16:31:29.400Z"
   },
   {
    "duration": 12,
    "start_time": "2022-01-29T16:31:34.879Z"
   },
   {
    "duration": 27,
    "start_time": "2022-01-29T16:31:44.739Z"
   },
   {
    "duration": 13,
    "start_time": "2022-01-29T16:31:44.768Z"
   },
   {
    "duration": 48,
    "start_time": "2022-01-29T16:31:44.783Z"
   },
   {
    "duration": 25,
    "start_time": "2022-01-29T16:31:44.834Z"
   },
   {
    "duration": 9,
    "start_time": "2022-01-29T16:31:44.860Z"
   },
   {
    "duration": 10,
    "start_time": "2022-01-29T16:31:44.870Z"
   },
   {
    "duration": 4,
    "start_time": "2022-01-29T16:31:44.882Z"
   },
   {
    "duration": 525,
    "start_time": "2022-01-29T16:31:44.888Z"
   },
   {
    "duration": 195,
    "start_time": "2022-01-29T16:31:45.415Z"
   },
   {
    "duration": 277,
    "start_time": "2022-01-29T16:31:45.611Z"
   },
   {
    "duration": 197,
    "start_time": "2022-01-29T16:31:45.889Z"
   },
   {
    "duration": 257,
    "start_time": "2022-01-29T16:31:46.088Z"
   },
   {
    "duration": 293,
    "start_time": "2022-01-29T16:31:46.347Z"
   },
   {
    "duration": 5,
    "start_time": "2022-01-29T16:31:46.642Z"
   },
   {
    "duration": 287,
    "start_time": "2022-01-29T16:31:46.660Z"
   },
   {
    "duration": 4,
    "start_time": "2022-01-29T16:31:46.948Z"
   },
   {
    "duration": 271,
    "start_time": "2022-01-29T16:31:46.953Z"
   },
   {
    "duration": 118,
    "start_time": "2022-01-29T16:31:47.225Z"
   },
   {
    "duration": 5,
    "start_time": "2022-01-29T16:31:47.345Z"
   },
   {
    "duration": 4,
    "start_time": "2022-01-29T16:31:47.360Z"
   },
   {
    "duration": 6,
    "start_time": "2022-01-29T16:31:47.365Z"
   },
   {
    "duration": 9,
    "start_time": "2022-01-29T16:31:47.372Z"
   },
   {
    "duration": 9,
    "start_time": "2022-01-29T16:31:47.384Z"
   },
   {
    "duration": 8,
    "start_time": "2022-01-29T16:31:47.394Z"
   },
   {
    "duration": 12,
    "start_time": "2022-01-29T16:31:47.404Z"
   },
   {
    "duration": 50,
    "start_time": "2022-01-29T16:31:47.417Z"
   },
   {
    "duration": 662,
    "start_time": "2022-01-29T16:31:47.469Z"
   },
   {
    "duration": 301,
    "start_time": "2022-01-29T16:31:48.133Z"
   },
   {
    "duration": 12,
    "start_time": "2022-01-29T16:32:13.705Z"
   },
   {
    "duration": 13,
    "start_time": "2022-01-29T16:32:42.505Z"
   },
   {
    "duration": 4,
    "start_time": "2022-01-29T16:33:20.930Z"
   },
   {
    "duration": 6,
    "start_time": "2022-01-29T16:33:43.613Z"
   },
   {
    "duration": 7,
    "start_time": "2022-01-29T16:47:20.870Z"
   },
   {
    "duration": 6,
    "start_time": "2022-01-29T16:47:34.119Z"
   },
   {
    "duration": 7,
    "start_time": "2022-01-29T16:47:41.511Z"
   },
   {
    "duration": 6,
    "start_time": "2022-01-29T16:48:06.234Z"
   },
   {
    "duration": 7,
    "start_time": "2022-01-29T16:48:08.151Z"
   },
   {
    "duration": 8,
    "start_time": "2022-01-29T16:48:24.120Z"
   },
   {
    "duration": 9,
    "start_time": "2022-01-29T16:48:35.624Z"
   },
   {
    "duration": 7,
    "start_time": "2022-01-29T16:48:39.688Z"
   },
   {
    "duration": 41,
    "start_time": "2022-01-29T16:49:45.732Z"
   },
   {
    "duration": 43,
    "start_time": "2022-01-29T16:50:23.224Z"
   },
   {
    "duration": 13,
    "start_time": "2022-01-29T16:50:30.657Z"
   },
   {
    "duration": 43,
    "start_time": "2022-01-29T16:50:43.116Z"
   },
   {
    "duration": 13,
    "start_time": "2022-01-29T16:50:48.969Z"
   },
   {
    "duration": 7,
    "start_time": "2022-01-29T16:51:29.308Z"
   },
   {
    "duration": 13,
    "start_time": "2022-01-29T16:51:39.324Z"
   },
   {
    "duration": 8,
    "start_time": "2022-01-29T16:51:41.788Z"
   },
   {
    "duration": 13,
    "start_time": "2022-01-29T16:55:59.091Z"
   },
   {
    "duration": 15,
    "start_time": "2022-01-29T16:56:25.643Z"
   },
   {
    "duration": 13,
    "start_time": "2022-01-29T16:56:44.171Z"
   },
   {
    "duration": 27,
    "start_time": "2022-01-29T16:56:59.941Z"
   },
   {
    "duration": 12,
    "start_time": "2022-01-29T16:56:59.970Z"
   },
   {
    "duration": 48,
    "start_time": "2022-01-29T16:56:59.984Z"
   },
   {
    "duration": 24,
    "start_time": "2022-01-29T16:57:00.035Z"
   },
   {
    "duration": 14,
    "start_time": "2022-01-29T16:57:00.061Z"
   },
   {
    "duration": 30,
    "start_time": "2022-01-29T16:57:00.076Z"
   },
   {
    "duration": 12,
    "start_time": "2022-01-29T16:57:00.108Z"
   },
   {
    "duration": 540,
    "start_time": "2022-01-29T16:57:00.122Z"
   },
   {
    "duration": 204,
    "start_time": "2022-01-29T16:57:00.664Z"
   },
   {
    "duration": 307,
    "start_time": "2022-01-29T16:57:00.870Z"
   },
   {
    "duration": 196,
    "start_time": "2022-01-29T16:57:01.178Z"
   },
   {
    "duration": 288,
    "start_time": "2022-01-29T16:57:01.375Z"
   },
   {
    "duration": 315,
    "start_time": "2022-01-29T16:57:01.665Z"
   },
   {
    "duration": 4,
    "start_time": "2022-01-29T16:57:01.981Z"
   },
   {
    "duration": 275,
    "start_time": "2022-01-29T16:57:01.987Z"
   },
   {
    "duration": 4,
    "start_time": "2022-01-29T16:57:02.264Z"
   },
   {
    "duration": 284,
    "start_time": "2022-01-29T16:57:02.269Z"
   },
   {
    "duration": 137,
    "start_time": "2022-01-29T16:57:02.559Z"
   },
   {
    "duration": 6,
    "start_time": "2022-01-29T16:57:02.698Z"
   },
   {
    "duration": 6,
    "start_time": "2022-01-29T16:57:02.705Z"
   },
   {
    "duration": 7,
    "start_time": "2022-01-29T16:57:02.712Z"
   },
   {
    "duration": 9,
    "start_time": "2022-01-29T16:57:02.720Z"
   },
   {
    "duration": 35,
    "start_time": "2022-01-29T16:57:02.732Z"
   },
   {
    "duration": 9,
    "start_time": "2022-01-29T16:57:02.769Z"
   },
   {
    "duration": 12,
    "start_time": "2022-01-29T16:57:02.780Z"
   },
   {
    "duration": 13,
    "start_time": "2022-01-29T16:57:02.794Z"
   },
   {
    "duration": 735,
    "start_time": "2022-01-29T16:57:02.808Z"
   },
   {
    "duration": 297,
    "start_time": "2022-01-29T16:57:03.544Z"
   },
   {
    "duration": 14,
    "start_time": "2022-01-29T16:57:48.069Z"
   },
   {
    "duration": 26,
    "start_time": "2022-01-29T16:58:11.340Z"
   },
   {
    "duration": 13,
    "start_time": "2022-01-29T16:58:11.368Z"
   },
   {
    "duration": 47,
    "start_time": "2022-01-29T16:58:11.383Z"
   },
   {
    "duration": 23,
    "start_time": "2022-01-29T16:58:11.432Z"
   },
   {
    "duration": 12,
    "start_time": "2022-01-29T16:58:11.457Z"
   },
   {
    "duration": 13,
    "start_time": "2022-01-29T16:58:11.471Z"
   },
   {
    "duration": 12,
    "start_time": "2022-01-29T16:58:11.485Z"
   },
   {
    "duration": 661,
    "start_time": "2022-01-29T16:58:11.499Z"
   },
   {
    "duration": 198,
    "start_time": "2022-01-29T16:58:12.162Z"
   },
   {
    "duration": 288,
    "start_time": "2022-01-29T16:58:12.362Z"
   },
   {
    "duration": 202,
    "start_time": "2022-01-29T16:58:12.651Z"
   },
   {
    "duration": 289,
    "start_time": "2022-01-29T16:58:12.855Z"
   },
   {
    "duration": 302,
    "start_time": "2022-01-29T16:58:13.146Z"
   },
   {
    "duration": 13,
    "start_time": "2022-01-29T16:58:13.449Z"
   },
   {
    "duration": 319,
    "start_time": "2022-01-29T16:58:13.463Z"
   },
   {
    "duration": 4,
    "start_time": "2022-01-29T16:58:13.783Z"
   },
   {
    "duration": 279,
    "start_time": "2022-01-29T16:58:13.789Z"
   },
   {
    "duration": 129,
    "start_time": "2022-01-29T16:58:14.070Z"
   },
   {
    "duration": 5,
    "start_time": "2022-01-29T16:58:14.201Z"
   },
   {
    "duration": 7,
    "start_time": "2022-01-29T16:58:14.208Z"
   },
   {
    "duration": 5,
    "start_time": "2022-01-29T16:58:14.217Z"
   },
   {
    "duration": 8,
    "start_time": "2022-01-29T16:58:14.224Z"
   },
   {
    "duration": 35,
    "start_time": "2022-01-29T16:58:14.235Z"
   },
   {
    "duration": 9,
    "start_time": "2022-01-29T16:58:14.272Z"
   },
   {
    "duration": 13,
    "start_time": "2022-01-29T16:58:14.282Z"
   },
   {
    "duration": 14,
    "start_time": "2022-01-29T16:58:14.297Z"
   },
   {
    "duration": 649,
    "start_time": "2022-01-29T16:58:14.313Z"
   },
   {
    "duration": 387,
    "start_time": "2022-01-29T16:58:14.964Z"
   },
   {
    "duration": 6,
    "start_time": "2022-01-29T16:58:53.247Z"
   },
   {
    "duration": 12,
    "start_time": "2022-01-29T17:00:09.369Z"
   },
   {
    "duration": 13,
    "start_time": "2022-01-29T17:00:15.417Z"
   },
   {
    "duration": 13,
    "start_time": "2022-01-29T17:00:31.793Z"
   },
   {
    "duration": 28,
    "start_time": "2022-01-29T17:00:45.621Z"
   },
   {
    "duration": 30,
    "start_time": "2022-01-29T17:00:45.651Z"
   },
   {
    "duration": 77,
    "start_time": "2022-01-29T17:00:45.683Z"
   },
   {
    "duration": 56,
    "start_time": "2022-01-29T17:00:45.762Z"
   },
   {
    "duration": 25,
    "start_time": "2022-01-29T17:00:45.820Z"
   },
   {
    "duration": 13,
    "start_time": "2022-01-29T17:00:45.846Z"
   },
   {
    "duration": 10,
    "start_time": "2022-01-29T17:00:45.860Z"
   },
   {
    "duration": 525,
    "start_time": "2022-01-29T17:00:45.873Z"
   },
   {
    "duration": 206,
    "start_time": "2022-01-29T17:00:46.401Z"
   },
   {
    "duration": 298,
    "start_time": "2022-01-29T17:00:46.609Z"
   },
   {
    "duration": 198,
    "start_time": "2022-01-29T17:00:46.909Z"
   },
   {
    "duration": 279,
    "start_time": "2022-01-29T17:00:47.109Z"
   },
   {
    "duration": 293,
    "start_time": "2022-01-29T17:00:47.390Z"
   },
   {
    "duration": 4,
    "start_time": "2022-01-29T17:00:47.684Z"
   },
   {
    "duration": 271,
    "start_time": "2022-01-29T17:00:47.690Z"
   },
   {
    "duration": 4,
    "start_time": "2022-01-29T17:00:47.963Z"
   },
   {
    "duration": 284,
    "start_time": "2022-01-29T17:00:47.969Z"
   },
   {
    "duration": 126,
    "start_time": "2022-01-29T17:00:48.255Z"
   },
   {
    "duration": 5,
    "start_time": "2022-01-29T17:00:48.383Z"
   },
   {
    "duration": 28,
    "start_time": "2022-01-29T17:00:48.390Z"
   },
   {
    "duration": 34,
    "start_time": "2022-01-29T17:00:48.420Z"
   },
   {
    "duration": 41,
    "start_time": "2022-01-29T17:00:48.455Z"
   },
   {
    "duration": 38,
    "start_time": "2022-01-29T17:00:48.500Z"
   },
   {
    "duration": 36,
    "start_time": "2022-01-29T17:00:48.540Z"
   },
   {
    "duration": 40,
    "start_time": "2022-01-29T17:00:48.578Z"
   },
   {
    "duration": 48,
    "start_time": "2022-01-29T17:00:48.620Z"
   },
   {
    "duration": 623,
    "start_time": "2022-01-29T17:00:48.669Z"
   },
   {
    "duration": 367,
    "start_time": "2022-01-29T17:00:49.294Z"
   },
   {
    "duration": 5,
    "start_time": "2022-01-29T17:02:48.181Z"
   },
   {
    "duration": 6,
    "start_time": "2022-01-29T17:03:03.997Z"
   },
   {
    "duration": 11,
    "start_time": "2022-01-29T17:03:08.901Z"
   },
   {
    "duration": 12,
    "start_time": "2022-01-29T17:03:53.079Z"
   },
   {
    "duration": 9,
    "start_time": "2022-01-29T17:04:04.606Z"
   },
   {
    "duration": 12,
    "start_time": "2022-01-29T17:04:10.312Z"
   },
   {
    "duration": 10,
    "start_time": "2022-01-29T17:04:15.638Z"
   },
   {
    "duration": 11,
    "start_time": "2022-01-29T17:05:21.808Z"
   },
   {
    "duration": 13,
    "start_time": "2022-01-29T17:05:49.553Z"
   },
   {
    "duration": 12,
    "start_time": "2022-01-29T17:06:18.551Z"
   },
   {
    "duration": 48,
    "start_time": "2022-01-29T17:06:37.818Z"
   },
   {
    "duration": 21,
    "start_time": "2022-01-29T17:06:37.868Z"
   },
   {
    "duration": 49,
    "start_time": "2022-01-29T17:06:37.891Z"
   },
   {
    "duration": 24,
    "start_time": "2022-01-29T17:06:37.942Z"
   },
   {
    "duration": 11,
    "start_time": "2022-01-29T17:06:37.968Z"
   },
   {
    "duration": 7,
    "start_time": "2022-01-29T17:06:37.981Z"
   },
   {
    "duration": 12,
    "start_time": "2022-01-29T17:06:37.990Z"
   },
   {
    "duration": 12,
    "start_time": "2022-01-29T17:06:38.004Z"
   },
   {
    "duration": 536,
    "start_time": "2022-01-29T17:06:38.019Z"
   },
   {
    "duration": 211,
    "start_time": "2022-01-29T17:06:38.557Z"
   },
   {
    "duration": 308,
    "start_time": "2022-01-29T17:06:38.770Z"
   },
   {
    "duration": 206,
    "start_time": "2022-01-29T17:06:39.080Z"
   },
   {
    "duration": 297,
    "start_time": "2022-01-29T17:06:39.288Z"
   },
   {
    "duration": 305,
    "start_time": "2022-01-29T17:06:39.587Z"
   },
   {
    "duration": 4,
    "start_time": "2022-01-29T17:06:39.894Z"
   },
   {
    "duration": 271,
    "start_time": "2022-01-29T17:06:39.900Z"
   },
   {
    "duration": 4,
    "start_time": "2022-01-29T17:06:40.173Z"
   },
   {
    "duration": 282,
    "start_time": "2022-01-29T17:06:40.178Z"
   },
   {
    "duration": 107,
    "start_time": "2022-01-29T17:06:40.462Z"
   },
   {
    "duration": 5,
    "start_time": "2022-01-29T17:06:40.571Z"
   },
   {
    "duration": 7,
    "start_time": "2022-01-29T17:06:40.578Z"
   },
   {
    "duration": 8,
    "start_time": "2022-01-29T17:06:40.587Z"
   },
   {
    "duration": 8,
    "start_time": "2022-01-29T17:06:40.597Z"
   },
   {
    "duration": 10,
    "start_time": "2022-01-29T17:06:40.607Z"
   },
   {
    "duration": 9,
    "start_time": "2022-01-29T17:06:40.619Z"
   },
   {
    "duration": 14,
    "start_time": "2022-01-29T17:06:40.660Z"
   },
   {
    "duration": 13,
    "start_time": "2022-01-29T17:06:40.677Z"
   },
   {
    "duration": 661,
    "start_time": "2022-01-29T17:06:40.692Z"
   },
   {
    "duration": 294,
    "start_time": "2022-01-29T17:06:41.355Z"
   },
   {
    "duration": 1114,
    "start_time": "2022-01-29T17:11:52.458Z"
   },
   {
    "duration": 998,
    "start_time": "2022-01-29T17:12:54.292Z"
   },
   {
    "duration": 29,
    "start_time": "2022-01-29T17:13:31.326Z"
   },
   {
    "duration": 26,
    "start_time": "2022-01-29T17:13:31.357Z"
   },
   {
    "duration": 54,
    "start_time": "2022-01-29T17:13:31.385Z"
   },
   {
    "duration": 26,
    "start_time": "2022-01-29T17:13:31.441Z"
   },
   {
    "duration": 16,
    "start_time": "2022-01-29T17:13:31.469Z"
   },
   {
    "duration": 10,
    "start_time": "2022-01-29T17:13:31.487Z"
   },
   {
    "duration": 21,
    "start_time": "2022-01-29T17:13:31.499Z"
   },
   {
    "duration": 21,
    "start_time": "2022-01-29T17:13:31.523Z"
   },
   {
    "duration": 560,
    "start_time": "2022-01-29T17:13:31.546Z"
   },
   {
    "duration": 210,
    "start_time": "2022-01-29T17:13:32.108Z"
   },
   {
    "duration": 281,
    "start_time": "2022-01-29T17:13:32.320Z"
   },
   {
    "duration": 216,
    "start_time": "2022-01-29T17:13:32.603Z"
   },
   {
    "duration": 334,
    "start_time": "2022-01-29T17:13:32.821Z"
   },
   {
    "duration": 302,
    "start_time": "2022-01-29T17:13:33.161Z"
   },
   {
    "duration": 4,
    "start_time": "2022-01-29T17:13:33.465Z"
   },
   {
    "duration": 291,
    "start_time": "2022-01-29T17:13:33.471Z"
   },
   {
    "duration": 4,
    "start_time": "2022-01-29T17:13:33.764Z"
   },
   {
    "duration": 284,
    "start_time": "2022-01-29T17:13:33.770Z"
   },
   {
    "duration": 125,
    "start_time": "2022-01-29T17:13:34.060Z"
   },
   {
    "duration": 6,
    "start_time": "2022-01-29T17:13:34.187Z"
   },
   {
    "duration": 7,
    "start_time": "2022-01-29T17:13:34.194Z"
   },
   {
    "duration": 9,
    "start_time": "2022-01-29T17:13:34.202Z"
   },
   {
    "duration": 9,
    "start_time": "2022-01-29T17:13:34.214Z"
   },
   {
    "duration": 10,
    "start_time": "2022-01-29T17:13:34.225Z"
   },
   {
    "duration": 9,
    "start_time": "2022-01-29T17:13:34.261Z"
   },
   {
    "duration": 13,
    "start_time": "2022-01-29T17:13:34.272Z"
   },
   {
    "duration": 13,
    "start_time": "2022-01-29T17:13:34.286Z"
   },
   {
    "duration": 662,
    "start_time": "2022-01-29T17:13:34.301Z"
   },
   {
    "duration": 296,
    "start_time": "2022-01-29T17:13:34.965Z"
   },
   {
    "duration": 1537,
    "start_time": "2022-01-29T17:13:54.883Z"
   },
   {
    "duration": 27,
    "start_time": "2022-01-29T17:14:12.853Z"
   },
   {
    "duration": 12,
    "start_time": "2022-01-29T17:14:12.881Z"
   },
   {
    "duration": 48,
    "start_time": "2022-01-29T17:14:12.895Z"
   },
   {
    "duration": 22,
    "start_time": "2022-01-29T17:14:12.945Z"
   },
   {
    "duration": 10,
    "start_time": "2022-01-29T17:14:12.969Z"
   },
   {
    "duration": 9,
    "start_time": "2022-01-29T17:14:12.981Z"
   },
   {
    "duration": 15,
    "start_time": "2022-01-29T17:14:12.992Z"
   },
   {
    "duration": 13,
    "start_time": "2022-01-29T17:14:13.009Z"
   },
   {
    "duration": 549,
    "start_time": "2022-01-29T17:14:13.024Z"
   },
   {
    "duration": 205,
    "start_time": "2022-01-29T17:14:13.575Z"
   },
   {
    "duration": 300,
    "start_time": "2022-01-29T17:14:13.781Z"
   },
   {
    "duration": 200,
    "start_time": "2022-01-29T17:14:14.083Z"
   },
   {
    "duration": 293,
    "start_time": "2022-01-29T17:14:14.284Z"
   },
   {
    "duration": 299,
    "start_time": "2022-01-29T17:14:14.578Z"
   },
   {
    "duration": 5,
    "start_time": "2022-01-29T17:14:14.878Z"
   },
   {
    "duration": 297,
    "start_time": "2022-01-29T17:14:14.884Z"
   },
   {
    "duration": 5,
    "start_time": "2022-01-29T17:14:15.183Z"
   },
   {
    "duration": 292,
    "start_time": "2022-01-29T17:14:15.190Z"
   },
   {
    "duration": 127,
    "start_time": "2022-01-29T17:14:15.483Z"
   },
   {
    "duration": 5,
    "start_time": "2022-01-29T17:14:15.612Z"
   },
   {
    "duration": 7,
    "start_time": "2022-01-29T17:14:15.619Z"
   },
   {
    "duration": 6,
    "start_time": "2022-01-29T17:14:15.627Z"
   },
   {
    "duration": 31,
    "start_time": "2022-01-29T17:14:15.636Z"
   },
   {
    "duration": 10,
    "start_time": "2022-01-29T17:14:15.669Z"
   },
   {
    "duration": 10,
    "start_time": "2022-01-29T17:14:15.680Z"
   },
   {
    "duration": 13,
    "start_time": "2022-01-29T17:14:15.691Z"
   },
   {
    "duration": 13,
    "start_time": "2022-01-29T17:14:15.706Z"
   },
   {
    "duration": 654,
    "start_time": "2022-01-29T17:14:15.721Z"
   },
   {
    "duration": 300,
    "start_time": "2022-01-29T17:14:16.377Z"
   },
   {
    "duration": 27,
    "start_time": "2022-01-29T17:33:08.910Z"
   },
   {
    "duration": 14,
    "start_time": "2022-01-29T17:33:08.939Z"
   },
   {
    "duration": 52,
    "start_time": "2022-01-29T17:33:08.955Z"
   },
   {
    "duration": 25,
    "start_time": "2022-01-29T17:33:09.009Z"
   },
   {
    "duration": 7,
    "start_time": "2022-01-29T17:33:09.035Z"
   },
   {
    "duration": 15,
    "start_time": "2022-01-29T17:33:09.044Z"
   },
   {
    "duration": 14,
    "start_time": "2022-01-29T17:33:09.061Z"
   },
   {
    "duration": 96,
    "start_time": "2022-01-29T17:33:09.077Z"
   },
   {
    "duration": 528,
    "start_time": "2022-01-29T17:33:09.176Z"
   },
   {
    "duration": 201,
    "start_time": "2022-01-29T17:33:09.706Z"
   },
   {
    "duration": 283,
    "start_time": "2022-01-29T17:33:09.909Z"
   },
   {
    "duration": 203,
    "start_time": "2022-01-29T17:33:10.194Z"
   },
   {
    "duration": 282,
    "start_time": "2022-01-29T17:33:10.399Z"
   },
   {
    "duration": 279,
    "start_time": "2022-01-29T17:33:10.683Z"
   },
   {
    "duration": 3,
    "start_time": "2022-01-29T17:33:10.964Z"
   },
   {
    "duration": 300,
    "start_time": "2022-01-29T17:33:10.969Z"
   },
   {
    "duration": 4,
    "start_time": "2022-01-29T17:33:11.270Z"
   },
   {
    "duration": 279,
    "start_time": "2022-01-29T17:33:11.276Z"
   },
   {
    "duration": 141,
    "start_time": "2022-01-29T17:33:11.557Z"
   },
   {
    "duration": 6,
    "start_time": "2022-01-29T17:33:11.700Z"
   },
   {
    "duration": 7,
    "start_time": "2022-01-29T17:33:11.708Z"
   },
   {
    "duration": 9,
    "start_time": "2022-01-29T17:33:11.717Z"
   },
   {
    "duration": 8,
    "start_time": "2022-01-29T17:33:11.727Z"
   },
   {
    "duration": 31,
    "start_time": "2022-01-29T17:33:11.736Z"
   },
   {
    "duration": 11,
    "start_time": "2022-01-29T17:33:11.769Z"
   },
   {
    "duration": 13,
    "start_time": "2022-01-29T17:33:11.782Z"
   },
   {
    "duration": 14,
    "start_time": "2022-01-29T17:33:11.799Z"
   },
   {
    "duration": 648,
    "start_time": "2022-01-29T17:33:11.815Z"
   },
   {
    "duration": 288,
    "start_time": "2022-01-29T17:33:12.465Z"
   },
   {
    "duration": 286,
    "start_time": "2022-01-29T17:33:26.691Z"
   },
   {
    "duration": 412,
    "start_time": "2022-01-29T17:33:31.658Z"
   },
   {
    "duration": 295,
    "start_time": "2022-01-29T17:33:35.658Z"
   },
   {
    "duration": 291,
    "start_time": "2022-01-29T17:33:52.124Z"
   },
   {
    "duration": 302,
    "start_time": "2022-01-29T17:33:58.947Z"
   },
   {
    "duration": 299,
    "start_time": "2022-01-29T17:34:02.650Z"
   },
   {
    "duration": 291,
    "start_time": "2022-01-29T17:46:46.861Z"
   },
   {
    "duration": 288,
    "start_time": "2022-01-29T17:47:01.381Z"
   },
   {
    "duration": 299,
    "start_time": "2022-01-29T17:47:04.997Z"
   },
   {
    "duration": 330,
    "start_time": "2022-01-29T17:47:12.558Z"
   },
   {
    "duration": 295,
    "start_time": "2022-01-29T17:47:16.285Z"
   },
   {
    "duration": 325,
    "start_time": "2022-01-29T17:47:53.144Z"
   },
   {
    "duration": 30,
    "start_time": "2022-01-29T17:48:33.278Z"
   },
   {
    "duration": 18,
    "start_time": "2022-01-29T17:48:33.310Z"
   },
   {
    "duration": 61,
    "start_time": "2022-01-29T17:48:33.331Z"
   },
   {
    "duration": 25,
    "start_time": "2022-01-29T17:48:33.394Z"
   },
   {
    "duration": 9,
    "start_time": "2022-01-29T17:48:33.421Z"
   },
   {
    "duration": 88,
    "start_time": "2022-01-29T17:48:33.432Z"
   },
   {
    "duration": 13,
    "start_time": "2022-01-29T17:48:33.522Z"
   },
   {
    "duration": 28,
    "start_time": "2022-01-29T17:48:33.537Z"
   },
   {
    "duration": 537,
    "start_time": "2022-01-29T17:48:33.568Z"
   },
   {
    "duration": 200,
    "start_time": "2022-01-29T17:48:34.106Z"
   },
   {
    "duration": 287,
    "start_time": "2022-01-29T17:48:34.308Z"
   },
   {
    "duration": 202,
    "start_time": "2022-01-29T17:48:34.597Z"
   },
   {
    "duration": 283,
    "start_time": "2022-01-29T17:48:34.801Z"
   },
   {
    "duration": 280,
    "start_time": "2022-01-29T17:48:35.086Z"
   },
   {
    "duration": 4,
    "start_time": "2022-01-29T17:48:35.368Z"
   },
   {
    "duration": 279,
    "start_time": "2022-01-29T17:48:35.374Z"
   },
   {
    "duration": 5,
    "start_time": "2022-01-29T17:48:35.660Z"
   },
   {
    "duration": 410,
    "start_time": "2022-01-29T17:48:35.667Z"
   },
   {
    "duration": 133,
    "start_time": "2022-01-29T17:48:36.078Z"
   },
   {
    "duration": 6,
    "start_time": "2022-01-29T17:48:36.212Z"
   },
   {
    "duration": 7,
    "start_time": "2022-01-29T17:48:36.220Z"
   },
   {
    "duration": 8,
    "start_time": "2022-01-29T17:48:36.228Z"
   },
   {
    "duration": 26,
    "start_time": "2022-01-29T17:48:36.238Z"
   },
   {
    "duration": 10,
    "start_time": "2022-01-29T17:48:36.265Z"
   },
   {
    "duration": 10,
    "start_time": "2022-01-29T17:48:36.276Z"
   },
   {
    "duration": 16,
    "start_time": "2022-01-29T17:48:36.287Z"
   },
   {
    "duration": 17,
    "start_time": "2022-01-29T17:48:36.305Z"
   },
   {
    "duration": 722,
    "start_time": "2022-01-29T17:48:36.324Z"
   },
   {
    "duration": 344,
    "start_time": "2022-01-29T17:48:37.049Z"
   },
   {
    "duration": 27,
    "start_time": "2022-01-29T17:51:44.664Z"
   },
   {
    "duration": 13,
    "start_time": "2022-01-29T17:51:44.693Z"
   },
   {
    "duration": 53,
    "start_time": "2022-01-29T17:51:44.708Z"
   },
   {
    "duration": 24,
    "start_time": "2022-01-29T17:51:44.763Z"
   },
   {
    "duration": 16,
    "start_time": "2022-01-29T17:51:44.789Z"
   },
   {
    "duration": 10,
    "start_time": "2022-01-29T17:51:44.807Z"
   },
   {
    "duration": 15,
    "start_time": "2022-01-29T17:51:44.818Z"
   },
   {
    "duration": 91,
    "start_time": "2022-01-29T17:51:44.836Z"
   },
   {
    "duration": 544,
    "start_time": "2022-01-29T17:51:44.930Z"
   },
   {
    "duration": 214,
    "start_time": "2022-01-29T17:51:45.475Z"
   },
   {
    "duration": 285,
    "start_time": "2022-01-29T17:51:45.690Z"
   },
   {
    "duration": 208,
    "start_time": "2022-01-29T17:51:45.977Z"
   },
   {
    "duration": 277,
    "start_time": "2022-01-29T17:51:46.187Z"
   },
   {
    "duration": 298,
    "start_time": "2022-01-29T17:51:46.465Z"
   },
   {
    "duration": 5,
    "start_time": "2022-01-29T17:51:46.764Z"
   },
   {
    "duration": 317,
    "start_time": "2022-01-29T17:51:46.771Z"
   },
   {
    "duration": 6,
    "start_time": "2022-01-29T17:51:47.090Z"
   },
   {
    "duration": 444,
    "start_time": "2022-01-29T17:51:47.098Z"
   },
   {
    "duration": 138,
    "start_time": "2022-01-29T17:51:47.544Z"
   },
   {
    "duration": 5,
    "start_time": "2022-01-29T17:51:47.684Z"
   },
   {
    "duration": 5,
    "start_time": "2022-01-29T17:51:47.691Z"
   },
   {
    "duration": 7,
    "start_time": "2022-01-29T17:51:47.698Z"
   },
   {
    "duration": 6,
    "start_time": "2022-01-29T17:51:47.708Z"
   },
   {
    "duration": 48,
    "start_time": "2022-01-29T17:51:47.716Z"
   },
   {
    "duration": 9,
    "start_time": "2022-01-29T17:51:47.766Z"
   },
   {
    "duration": 14,
    "start_time": "2022-01-29T17:51:47.777Z"
   },
   {
    "duration": 13,
    "start_time": "2022-01-29T17:51:47.793Z"
   },
   {
    "duration": 662,
    "start_time": "2022-01-29T17:51:47.808Z"
   },
   {
    "duration": 318,
    "start_time": "2022-01-29T17:51:48.472Z"
   },
   {
    "duration": 41,
    "start_time": "2022-01-29T17:53:53.982Z"
   },
   {
    "duration": 20,
    "start_time": "2022-01-29T17:53:54.032Z"
   },
   {
    "duration": 95,
    "start_time": "2022-01-29T17:53:54.054Z"
   },
   {
    "duration": 30,
    "start_time": "2022-01-29T17:53:54.152Z"
   },
   {
    "duration": 39,
    "start_time": "2022-01-29T17:53:54.184Z"
   },
   {
    "duration": 23,
    "start_time": "2022-01-29T17:53:54.226Z"
   },
   {
    "duration": 51,
    "start_time": "2022-01-29T17:53:54.251Z"
   },
   {
    "duration": 24,
    "start_time": "2022-01-29T17:53:54.307Z"
   },
   {
    "duration": 632,
    "start_time": "2022-01-29T17:53:54.335Z"
   },
   {
    "duration": 370,
    "start_time": "2022-01-29T17:53:54.969Z"
   },
   {
    "duration": 335,
    "start_time": "2022-01-29T17:53:55.341Z"
   },
   {
    "duration": 236,
    "start_time": "2022-01-29T17:53:55.678Z"
   },
   {
    "duration": 372,
    "start_time": "2022-01-29T17:53:55.916Z"
   },
   {
    "duration": 299,
    "start_time": "2022-01-29T17:53:56.290Z"
   },
   {
    "duration": 5,
    "start_time": "2022-01-29T17:53:56.591Z"
   },
   {
    "duration": 304,
    "start_time": "2022-01-29T17:53:56.597Z"
   },
   {
    "duration": 8,
    "start_time": "2022-01-29T17:53:56.903Z"
   },
   {
    "duration": 367,
    "start_time": "2022-01-29T17:53:56.913Z"
   },
   {
    "duration": 145,
    "start_time": "2022-01-29T17:53:57.282Z"
   },
   {
    "duration": 6,
    "start_time": "2022-01-29T17:53:57.429Z"
   },
   {
    "duration": 26,
    "start_time": "2022-01-29T17:53:57.437Z"
   },
   {
    "duration": 6,
    "start_time": "2022-01-29T17:53:57.465Z"
   },
   {
    "duration": 10,
    "start_time": "2022-01-29T17:53:57.474Z"
   },
   {
    "duration": 14,
    "start_time": "2022-01-29T17:53:57.488Z"
   },
   {
    "duration": 15,
    "start_time": "2022-01-29T17:53:57.504Z"
   },
   {
    "duration": 48,
    "start_time": "2022-01-29T17:53:57.521Z"
   },
   {
    "duration": 13,
    "start_time": "2022-01-29T17:53:57.571Z"
   },
   {
    "duration": 690,
    "start_time": "2022-01-29T17:53:57.585Z"
   },
   {
    "duration": 288,
    "start_time": "2022-01-29T17:53:58.277Z"
   },
   {
    "duration": 27,
    "start_time": "2022-01-29T18:00:19.958Z"
   },
   {
    "duration": 13,
    "start_time": "2022-01-29T18:00:19.987Z"
   },
   {
    "duration": 54,
    "start_time": "2022-01-29T18:00:20.003Z"
   },
   {
    "duration": 23,
    "start_time": "2022-01-29T18:00:20.059Z"
   },
   {
    "duration": 11,
    "start_time": "2022-01-29T18:00:20.084Z"
   },
   {
    "duration": 10,
    "start_time": "2022-01-29T18:00:20.097Z"
   },
   {
    "duration": 18,
    "start_time": "2022-01-29T18:00:20.109Z"
   },
   {
    "duration": 19,
    "start_time": "2022-01-29T18:00:20.130Z"
   },
   {
    "duration": 561,
    "start_time": "2022-01-29T18:00:20.151Z"
   },
   {
    "duration": 213,
    "start_time": "2022-01-29T18:00:20.713Z"
   },
   {
    "duration": 396,
    "start_time": "2022-01-29T18:00:20.928Z"
   },
   {
    "duration": 202,
    "start_time": "2022-01-29T18:00:21.326Z"
   },
   {
    "duration": 319,
    "start_time": "2022-01-29T18:00:21.530Z"
   },
   {
    "duration": 317,
    "start_time": "2022-01-29T18:00:21.851Z"
   },
   {
    "duration": 4,
    "start_time": "2022-01-29T18:00:22.170Z"
   },
   {
    "duration": 300,
    "start_time": "2022-01-29T18:00:22.176Z"
   },
   {
    "duration": 4,
    "start_time": "2022-01-29T18:00:22.478Z"
   },
   {
    "duration": 295,
    "start_time": "2022-01-29T18:00:22.484Z"
   },
   {
    "duration": 134,
    "start_time": "2022-01-29T18:00:22.781Z"
   },
   {
    "duration": 5,
    "start_time": "2022-01-29T18:00:22.917Z"
   },
   {
    "duration": 22,
    "start_time": "2022-01-29T18:00:22.924Z"
   },
   {
    "duration": 13,
    "start_time": "2022-01-29T18:00:22.947Z"
   },
   {
    "duration": 7,
    "start_time": "2022-01-29T18:00:22.963Z"
   },
   {
    "duration": 12,
    "start_time": "2022-01-29T18:00:22.972Z"
   },
   {
    "duration": 9,
    "start_time": "2022-01-29T18:00:22.986Z"
   },
   {
    "duration": 13,
    "start_time": "2022-01-29T18:00:22.997Z"
   },
   {
    "duration": 16,
    "start_time": "2022-01-29T18:00:23.012Z"
   },
   {
    "duration": 652,
    "start_time": "2022-01-29T18:00:23.030Z"
   },
   {
    "duration": 292,
    "start_time": "2022-01-29T18:00:23.683Z"
   },
   {
    "duration": 27,
    "start_time": "2022-01-29T18:58:56.494Z"
   },
   {
    "duration": 12,
    "start_time": "2022-01-29T18:58:56.523Z"
   },
   {
    "duration": 50,
    "start_time": "2022-01-29T18:58:56.537Z"
   },
   {
    "duration": 29,
    "start_time": "2022-01-29T18:58:56.589Z"
   },
   {
    "duration": 9,
    "start_time": "2022-01-29T18:58:56.620Z"
   },
   {
    "duration": 11,
    "start_time": "2022-01-29T18:58:56.630Z"
   },
   {
    "duration": 14,
    "start_time": "2022-01-29T18:58:56.643Z"
   },
   {
    "duration": 12,
    "start_time": "2022-01-29T18:58:56.660Z"
   },
   {
    "duration": 524,
    "start_time": "2022-01-29T18:58:56.674Z"
   },
   {
    "duration": 198,
    "start_time": "2022-01-29T18:58:57.199Z"
   },
   {
    "duration": 280,
    "start_time": "2022-01-29T18:58:57.399Z"
   },
   {
    "duration": 283,
    "start_time": "2022-01-29T18:58:57.681Z"
   },
   {
    "duration": 316,
    "start_time": "2022-01-29T18:58:57.965Z"
   },
   {
    "duration": 269,
    "start_time": "2022-01-29T18:58:58.283Z"
   },
   {
    "duration": 8,
    "start_time": "2022-01-29T18:58:58.554Z"
   },
   {
    "duration": 285,
    "start_time": "2022-01-29T18:58:58.563Z"
   },
   {
    "duration": 13,
    "start_time": "2022-01-29T18:58:58.849Z"
   },
   {
    "duration": 271,
    "start_time": "2022-01-29T18:58:58.863Z"
   },
   {
    "duration": 136,
    "start_time": "2022-01-29T18:58:59.137Z"
   },
   {
    "duration": 6,
    "start_time": "2022-01-29T18:58:59.275Z"
   },
   {
    "duration": 7,
    "start_time": "2022-01-29T18:58:59.283Z"
   },
   {
    "duration": 8,
    "start_time": "2022-01-29T18:58:59.292Z"
   },
   {
    "duration": 10,
    "start_time": "2022-01-29T18:58:59.303Z"
   },
   {
    "duration": 11,
    "start_time": "2022-01-29T18:58:59.314Z"
   },
   {
    "duration": 36,
    "start_time": "2022-01-29T18:58:59.326Z"
   },
   {
    "duration": 14,
    "start_time": "2022-01-29T18:58:59.365Z"
   },
   {
    "duration": 14,
    "start_time": "2022-01-29T18:58:59.382Z"
   },
   {
    "duration": 678,
    "start_time": "2022-01-29T18:58:59.398Z"
   },
   {
    "duration": 294,
    "start_time": "2022-01-29T18:59:00.077Z"
   },
   {
    "duration": 13,
    "start_time": "2022-01-29T20:42:18.235Z"
   },
   {
    "duration": 28,
    "start_time": "2022-01-29T20:43:47.736Z"
   },
   {
    "duration": 14,
    "start_time": "2022-01-29T20:43:47.766Z"
   },
   {
    "duration": 47,
    "start_time": "2022-01-29T20:43:47.782Z"
   },
   {
    "duration": 24,
    "start_time": "2022-01-29T20:43:47.831Z"
   },
   {
    "duration": 6,
    "start_time": "2022-01-29T20:43:47.857Z"
   },
   {
    "duration": 9,
    "start_time": "2022-01-29T20:43:47.865Z"
   },
   {
    "duration": 15,
    "start_time": "2022-01-29T20:43:47.876Z"
   },
   {
    "duration": 10,
    "start_time": "2022-01-29T20:43:47.894Z"
   },
   {
    "duration": 548,
    "start_time": "2022-01-29T20:43:47.906Z"
   },
   {
    "duration": 204,
    "start_time": "2022-01-29T20:43:48.456Z"
   },
   {
    "duration": 384,
    "start_time": "2022-01-29T20:43:48.663Z"
   },
   {
    "duration": 214,
    "start_time": "2022-01-29T20:43:49.049Z"
   },
   {
    "duration": 430,
    "start_time": "2022-01-29T20:43:49.265Z"
   },
   {
    "duration": 273,
    "start_time": "2022-01-29T20:43:49.697Z"
   },
   {
    "duration": 4,
    "start_time": "2022-01-29T20:43:49.972Z"
   },
   {
    "duration": 290,
    "start_time": "2022-01-29T20:43:49.977Z"
   },
   {
    "duration": 4,
    "start_time": "2022-01-29T20:43:50.269Z"
   },
   {
    "duration": 287,
    "start_time": "2022-01-29T20:43:50.274Z"
   },
   {
    "duration": 110,
    "start_time": "2022-01-29T20:43:50.563Z"
   },
   {
    "duration": 6,
    "start_time": "2022-01-29T20:43:50.675Z"
   },
   {
    "duration": 7,
    "start_time": "2022-01-29T20:43:50.682Z"
   },
   {
    "duration": 6,
    "start_time": "2022-01-29T20:43:50.691Z"
   },
   {
    "duration": 6,
    "start_time": "2022-01-29T20:43:50.700Z"
   },
   {
    "duration": 13,
    "start_time": "2022-01-29T20:43:50.708Z"
   },
   {
    "duration": 10,
    "start_time": "2022-01-29T20:43:50.722Z"
   },
   {
    "duration": 13,
    "start_time": "2022-01-29T20:43:50.761Z"
   },
   {
    "duration": 14,
    "start_time": "2022-01-29T20:43:50.776Z"
   },
   {
    "duration": 671,
    "start_time": "2022-01-29T20:43:50.791Z"
   },
   {
    "duration": 332,
    "start_time": "2022-01-29T20:43:51.464Z"
   },
   {
    "duration": 226,
    "start_time": "2022-01-29T20:50:23.639Z"
   },
   {
    "duration": 42,
    "start_time": "2022-01-29T20:50:46.391Z"
   },
   {
    "duration": 326,
    "start_time": "2022-01-29T20:50:56.964Z"
   },
   {
    "duration": 247,
    "start_time": "2022-01-29T20:51:01.855Z"
   },
   {
    "duration": 251,
    "start_time": "2022-01-29T20:51:13.368Z"
   },
   {
    "duration": 11,
    "start_time": "2022-01-29T20:51:42.050Z"
   },
   {
    "duration": 71,
    "start_time": "2022-01-29T20:52:45.378Z"
   },
   {
    "duration": 75,
    "start_time": "2022-01-29T20:53:16.320Z"
   },
   {
    "duration": 11,
    "start_time": "2022-01-29T20:53:30.907Z"
   },
   {
    "duration": 11,
    "start_time": "2022-01-29T20:53:38.307Z"
   },
   {
    "duration": 11,
    "start_time": "2022-01-29T20:53:47.410Z"
   },
   {
    "duration": 6,
    "start_time": "2022-01-29T20:54:00.267Z"
   },
   {
    "duration": 14,
    "start_time": "2022-01-29T20:55:56.558Z"
   },
   {
    "duration": 15,
    "start_time": "2022-01-29T20:56:01.526Z"
   },
   {
    "duration": 10,
    "start_time": "2022-01-29T21:16:59.004Z"
   },
   {
    "duration": 9,
    "start_time": "2022-01-29T21:17:06.949Z"
   },
   {
    "duration": 33,
    "start_time": "2022-01-29T21:17:29.052Z"
   },
   {
    "duration": 18,
    "start_time": "2022-01-29T21:17:29.088Z"
   },
   {
    "duration": 50,
    "start_time": "2022-01-29T21:17:29.109Z"
   },
   {
    "duration": 31,
    "start_time": "2022-01-29T21:17:29.162Z"
   },
   {
    "duration": 9,
    "start_time": "2022-01-29T21:17:29.196Z"
   },
   {
    "duration": 14,
    "start_time": "2022-01-29T21:17:29.207Z"
   },
   {
    "duration": 26,
    "start_time": "2022-01-29T21:17:29.223Z"
   },
   {
    "duration": 9,
    "start_time": "2022-01-29T21:17:29.261Z"
   },
   {
    "duration": 6,
    "start_time": "2022-01-29T21:17:29.273Z"
   },
   {
    "duration": 9,
    "start_time": "2022-01-29T21:17:29.280Z"
   },
   {
    "duration": 875,
    "start_time": "2022-01-29T21:17:29.291Z"
   },
   {
    "duration": 326,
    "start_time": "2022-01-29T21:17:30.169Z"
   },
   {
    "duration": 324,
    "start_time": "2022-01-29T21:17:30.497Z"
   },
   {
    "duration": 337,
    "start_time": "2022-01-29T21:17:30.823Z"
   },
   {
    "duration": 307,
    "start_time": "2022-01-29T21:17:31.162Z"
   },
   {
    "duration": 453,
    "start_time": "2022-01-29T21:17:31.471Z"
   },
   {
    "duration": 5,
    "start_time": "2022-01-29T21:17:31.926Z"
   },
   {
    "duration": 330,
    "start_time": "2022-01-29T21:17:31.933Z"
   },
   {
    "duration": 5,
    "start_time": "2022-01-29T21:17:32.265Z"
   },
   {
    "duration": 296,
    "start_time": "2022-01-29T21:17:32.272Z"
   },
   {
    "duration": 150,
    "start_time": "2022-01-29T21:17:32.570Z"
   },
   {
    "duration": 8,
    "start_time": "2022-01-29T21:17:32.723Z"
   },
   {
    "duration": 6,
    "start_time": "2022-01-29T21:17:32.735Z"
   },
   {
    "duration": 8,
    "start_time": "2022-01-29T21:17:32.762Z"
   },
   {
    "duration": 11,
    "start_time": "2022-01-29T21:17:32.772Z"
   },
   {
    "duration": 13,
    "start_time": "2022-01-29T21:17:32.785Z"
   },
   {
    "duration": 13,
    "start_time": "2022-01-29T21:17:32.801Z"
   },
   {
    "duration": 56,
    "start_time": "2022-01-29T21:17:32.816Z"
   },
   {
    "duration": 16,
    "start_time": "2022-01-29T21:17:32.875Z"
   },
   {
    "duration": 673,
    "start_time": "2022-01-29T21:17:32.893Z"
   },
   {
    "duration": 306,
    "start_time": "2022-01-29T21:17:33.568Z"
   },
   {
    "duration": 7,
    "start_time": "2022-01-29T21:18:52.678Z"
   },
   {
    "duration": 10,
    "start_time": "2022-01-29T21:19:55.088Z"
   },
   {
    "duration": 5,
    "start_time": "2022-01-29T21:20:10.386Z"
   },
   {
    "duration": 5,
    "start_time": "2022-01-29T21:20:18.154Z"
   },
   {
    "duration": 13,
    "start_time": "2022-01-29T21:35:02.183Z"
   },
   {
    "duration": 72,
    "start_time": "2022-01-29T21:35:55.321Z"
   },
   {
    "duration": 14,
    "start_time": "2022-01-29T21:36:06.976Z"
   },
   {
    "duration": 35,
    "start_time": "2022-01-29T21:39:08.797Z"
   },
   {
    "duration": 14,
    "start_time": "2022-01-29T21:39:08.834Z"
   },
   {
    "duration": 72,
    "start_time": "2022-01-29T21:39:08.850Z"
   },
   {
    "duration": 34,
    "start_time": "2022-01-29T21:39:08.924Z"
   },
   {
    "duration": 8,
    "start_time": "2022-01-29T21:39:08.960Z"
   },
   {
    "duration": 10,
    "start_time": "2022-01-29T21:39:08.970Z"
   },
   {
    "duration": 8,
    "start_time": "2022-01-29T21:39:08.982Z"
   },
   {
    "duration": 21,
    "start_time": "2022-01-29T21:39:08.993Z"
   },
   {
    "duration": 4,
    "start_time": "2022-01-29T21:39:09.017Z"
   },
   {
    "duration": 568,
    "start_time": "2022-01-29T21:39:09.023Z"
   },
   {
    "duration": 210,
    "start_time": "2022-01-29T21:39:09.593Z"
   },
   {
    "duration": 299,
    "start_time": "2022-01-29T21:39:09.805Z"
   },
   {
    "duration": 210,
    "start_time": "2022-01-29T21:39:10.105Z"
   },
   {
    "duration": 316,
    "start_time": "2022-01-29T21:39:10.316Z"
   },
   {
    "duration": 342,
    "start_time": "2022-01-29T21:39:10.634Z"
   },
   {
    "duration": 4,
    "start_time": "2022-01-29T21:39:10.977Z"
   },
   {
    "duration": 398,
    "start_time": "2022-01-29T21:39:10.983Z"
   },
   {
    "duration": 4,
    "start_time": "2022-01-29T21:39:11.383Z"
   },
   {
    "duration": 329,
    "start_time": "2022-01-29T21:39:11.389Z"
   },
   {
    "duration": 159,
    "start_time": "2022-01-29T21:39:11.721Z"
   },
   {
    "duration": 8,
    "start_time": "2022-01-29T21:39:11.882Z"
   },
   {
    "duration": 6,
    "start_time": "2022-01-29T21:39:11.893Z"
   },
   {
    "duration": 11,
    "start_time": "2022-01-29T21:39:11.902Z"
   },
   {
    "duration": 12,
    "start_time": "2022-01-29T21:39:11.915Z"
   },
   {
    "duration": 15,
    "start_time": "2022-01-29T21:39:11.929Z"
   },
   {
    "duration": 10,
    "start_time": "2022-01-29T21:39:11.961Z"
   },
   {
    "duration": 17,
    "start_time": "2022-01-29T21:39:11.973Z"
   },
   {
    "duration": 14,
    "start_time": "2022-01-29T21:39:11.992Z"
   },
   {
    "duration": 693,
    "start_time": "2022-01-29T21:39:12.008Z"
   },
   {
    "duration": 309,
    "start_time": "2022-01-29T21:39:12.703Z"
   },
   {
    "duration": 12,
    "start_time": "2022-01-29T21:44:52.318Z"
   },
   {
    "duration": 11,
    "start_time": "2022-01-29T21:44:54.853Z"
   },
   {
    "duration": 13,
    "start_time": "2022-01-29T21:46:58.377Z"
   },
   {
    "duration": 12,
    "start_time": "2022-01-29T21:47:00.920Z"
   },
   {
    "duration": 25,
    "start_time": "2022-01-29T21:53:12.051Z"
   },
   {
    "duration": 17,
    "start_time": "2022-01-29T21:53:12.078Z"
   },
   {
    "duration": 57,
    "start_time": "2022-01-29T21:53:12.097Z"
   },
   {
    "duration": 24,
    "start_time": "2022-01-29T21:53:12.156Z"
   },
   {
    "duration": 6,
    "start_time": "2022-01-29T21:53:12.182Z"
   },
   {
    "duration": 11,
    "start_time": "2022-01-29T21:53:12.189Z"
   },
   {
    "duration": 6,
    "start_time": "2022-01-29T21:53:12.201Z"
   },
   {
    "duration": 13,
    "start_time": "2022-01-29T21:53:12.209Z"
   },
   {
    "duration": 5,
    "start_time": "2022-01-29T21:53:12.224Z"
   },
   {
    "duration": 6,
    "start_time": "2022-01-29T21:53:12.231Z"
   },
   {
    "duration": 5,
    "start_time": "2022-01-29T21:53:12.261Z"
   },
   {
    "duration": 544,
    "start_time": "2022-01-29T21:53:12.268Z"
   },
   {
    "duration": 204,
    "start_time": "2022-01-29T21:53:12.813Z"
   },
   {
    "duration": 295,
    "start_time": "2022-01-29T21:53:13.019Z"
   },
   {
    "duration": 199,
    "start_time": "2022-01-29T21:53:13.316Z"
   },
   {
    "duration": 309,
    "start_time": "2022-01-29T21:53:13.517Z"
   },
   {
    "duration": 305,
    "start_time": "2022-01-29T21:53:13.828Z"
   },
   {
    "duration": 4,
    "start_time": "2022-01-29T21:53:14.135Z"
   },
   {
    "duration": 324,
    "start_time": "2022-01-29T21:53:14.141Z"
   },
   {
    "duration": 5,
    "start_time": "2022-01-29T21:53:14.467Z"
   },
   {
    "duration": 374,
    "start_time": "2022-01-29T21:53:14.473Z"
   },
   {
    "duration": 126,
    "start_time": "2022-01-29T21:53:14.848Z"
   },
   {
    "duration": 6,
    "start_time": "2022-01-29T21:53:14.977Z"
   },
   {
    "duration": 7,
    "start_time": "2022-01-29T21:53:14.985Z"
   },
   {
    "duration": 7,
    "start_time": "2022-01-29T21:53:14.993Z"
   },
   {
    "duration": 18,
    "start_time": "2022-01-29T21:53:15.001Z"
   },
   {
    "duration": 21,
    "start_time": "2022-01-29T21:53:15.021Z"
   },
   {
    "duration": 9,
    "start_time": "2022-01-29T21:53:15.060Z"
   },
   {
    "duration": 15,
    "start_time": "2022-01-29T21:53:15.071Z"
   },
   {
    "duration": 14,
    "start_time": "2022-01-29T21:53:15.088Z"
   },
   {
    "duration": 679,
    "start_time": "2022-01-29T21:53:15.104Z"
   },
   {
    "duration": 306,
    "start_time": "2022-01-29T21:53:15.785Z"
   },
   {
    "duration": 1360,
    "start_time": "2022-01-30T04:36:21.395Z"
   },
   {
    "duration": 19,
    "start_time": "2022-01-30T04:36:22.758Z"
   },
   {
    "duration": 102,
    "start_time": "2022-01-30T04:36:22.781Z"
   },
   {
    "duration": 31,
    "start_time": "2022-01-30T04:36:22.887Z"
   },
   {
    "duration": 11,
    "start_time": "2022-01-30T04:36:22.921Z"
   },
   {
    "duration": 17,
    "start_time": "2022-01-30T04:36:22.960Z"
   },
   {
    "duration": 5,
    "start_time": "2022-01-30T04:36:22.981Z"
   },
   {
    "duration": 18,
    "start_time": "2022-01-30T04:36:22.990Z"
   },
   {
    "duration": 6,
    "start_time": "2022-01-30T04:36:23.011Z"
   },
   {
    "duration": 909,
    "start_time": "2022-01-30T04:36:23.019Z"
   },
   {
    "duration": 328,
    "start_time": "2022-01-30T04:36:23.931Z"
   },
   {
    "duration": 398,
    "start_time": "2022-01-30T04:36:24.261Z"
   },
   {
    "duration": 335,
    "start_time": "2022-01-30T04:36:24.662Z"
   },
   {
    "duration": 402,
    "start_time": "2022-01-30T04:36:25.000Z"
   },
   {
    "duration": 392,
    "start_time": "2022-01-30T04:36:25.404Z"
   },
   {
    "duration": 6,
    "start_time": "2022-01-30T04:36:25.798Z"
   },
   {
    "duration": 381,
    "start_time": "2022-01-30T04:36:25.806Z"
   },
   {
    "duration": 6,
    "start_time": "2022-01-30T04:36:26.189Z"
   },
   {
    "duration": 480,
    "start_time": "2022-01-30T04:36:26.197Z"
   },
   {
    "duration": 299,
    "start_time": "2022-01-30T04:36:26.679Z"
   },
   {
    "duration": 8,
    "start_time": "2022-01-30T04:36:26.981Z"
   },
   {
    "duration": 5,
    "start_time": "2022-01-30T04:36:26.991Z"
   },
   {
    "duration": 6,
    "start_time": "2022-01-30T04:36:27.000Z"
   },
   {
    "duration": 12,
    "start_time": "2022-01-30T04:36:27.008Z"
   },
   {
    "duration": 50,
    "start_time": "2022-01-30T04:36:27.022Z"
   },
   {
    "duration": 13,
    "start_time": "2022-01-30T04:36:27.075Z"
   },
   {
    "duration": 17,
    "start_time": "2022-01-30T04:36:27.091Z"
   },
   {
    "duration": 57,
    "start_time": "2022-01-30T04:36:27.110Z"
   },
   {
    "duration": 987,
    "start_time": "2022-01-30T04:36:27.169Z"
   },
   {
    "duration": 515,
    "start_time": "2022-01-30T04:36:28.159Z"
   },
   {
    "duration": 1411,
    "start_time": "2022-01-30T11:17:21.833Z"
   },
   {
    "duration": 19,
    "start_time": "2022-01-30T11:17:23.247Z"
   },
   {
    "duration": 53,
    "start_time": "2022-01-30T11:17:23.268Z"
   },
   {
    "duration": 30,
    "start_time": "2022-01-30T11:17:23.323Z"
   },
   {
    "duration": 11,
    "start_time": "2022-01-30T11:17:23.357Z"
   },
   {
    "duration": 16,
    "start_time": "2022-01-30T11:17:23.370Z"
   },
   {
    "duration": 7,
    "start_time": "2022-01-30T11:17:23.389Z"
   },
   {
    "duration": 19,
    "start_time": "2022-01-30T11:17:23.400Z"
   },
   {
    "duration": 42,
    "start_time": "2022-01-30T11:17:23.422Z"
   },
   {
    "duration": 896,
    "start_time": "2022-01-30T11:17:23.466Z"
   },
   {
    "duration": 512,
    "start_time": "2022-01-30T11:17:24.366Z"
   },
   {
    "duration": 585,
    "start_time": "2022-01-30T11:17:24.882Z"
   },
   {
    "duration": 337,
    "start_time": "2022-01-30T11:17:25.471Z"
   },
   {
    "duration": 477,
    "start_time": "2022-01-30T11:17:25.810Z"
   },
   {
    "duration": 384,
    "start_time": "2022-01-30T11:17:26.290Z"
   },
   {
    "duration": 6,
    "start_time": "2022-01-30T11:17:26.676Z"
   },
   {
    "duration": 381,
    "start_time": "2022-01-30T11:17:26.685Z"
   },
   {
    "duration": 6,
    "start_time": "2022-01-30T11:17:27.069Z"
   },
   {
    "duration": 505,
    "start_time": "2022-01-30T11:17:27.078Z"
   },
   {
    "duration": 209,
    "start_time": "2022-01-30T11:17:27.586Z"
   },
   {
    "duration": 10,
    "start_time": "2022-01-30T11:17:27.797Z"
   },
   {
    "duration": 10,
    "start_time": "2022-01-30T11:17:27.809Z"
   },
   {
    "duration": 35,
    "start_time": "2022-01-30T11:17:27.826Z"
   },
   {
    "duration": 11,
    "start_time": "2022-01-30T11:17:27.863Z"
   },
   {
    "duration": 18,
    "start_time": "2022-01-30T11:17:27.877Z"
   },
   {
    "duration": 19,
    "start_time": "2022-01-30T11:17:27.898Z"
   },
   {
    "duration": 22,
    "start_time": "2022-01-30T11:17:27.959Z"
   },
   {
    "duration": 21,
    "start_time": "2022-01-30T11:17:27.983Z"
   },
   {
    "duration": 989,
    "start_time": "2022-01-30T11:17:28.007Z"
   },
   {
    "duration": 492,
    "start_time": "2022-01-30T11:17:28.998Z"
   },
   {
    "duration": 48,
    "start_time": "2022-04-07T08:17:09.980Z"
   },
   {
    "duration": 1288,
    "start_time": "2022-04-07T08:17:14.729Z"
   },
   {
    "duration": 12,
    "start_time": "2022-04-07T08:17:16.019Z"
   },
   {
    "duration": 38,
    "start_time": "2022-04-07T08:17:16.032Z"
   },
   {
    "duration": 20,
    "start_time": "2022-04-07T08:17:16.072Z"
   },
   {
    "duration": 6,
    "start_time": "2022-04-07T08:17:16.093Z"
   },
   {
    "duration": 9,
    "start_time": "2022-04-07T08:17:16.101Z"
   },
   {
    "duration": 6,
    "start_time": "2022-04-07T08:17:16.111Z"
   },
   {
    "duration": 12,
    "start_time": "2022-04-07T08:17:16.119Z"
   },
   {
    "duration": 33,
    "start_time": "2022-04-07T08:17:16.132Z"
   },
   {
    "duration": 485,
    "start_time": "2022-04-07T08:17:16.168Z"
   },
   {
    "duration": 158,
    "start_time": "2022-04-07T08:17:16.662Z"
   },
   {
    "duration": 348,
    "start_time": "2022-04-07T08:17:16.821Z"
   },
   {
    "duration": 232,
    "start_time": "2022-04-07T08:17:17.171Z"
   },
   {
    "duration": 0,
    "start_time": "2022-04-07T08:17:17.405Z"
   },
   {
    "duration": 0,
    "start_time": "2022-04-07T08:17:17.406Z"
   },
   {
    "duration": 0,
    "start_time": "2022-04-07T08:17:17.407Z"
   },
   {
    "duration": 0,
    "start_time": "2022-04-07T08:17:17.408Z"
   },
   {
    "duration": 0,
    "start_time": "2022-04-07T08:17:17.409Z"
   },
   {
    "duration": 0,
    "start_time": "2022-04-07T08:17:17.410Z"
   },
   {
    "duration": 0,
    "start_time": "2022-04-07T08:17:17.411Z"
   },
   {
    "duration": 0,
    "start_time": "2022-04-07T08:17:17.412Z"
   },
   {
    "duration": 0,
    "start_time": "2022-04-07T08:17:17.413Z"
   },
   {
    "duration": 0,
    "start_time": "2022-04-07T08:17:17.414Z"
   },
   {
    "duration": 20,
    "start_time": "2022-04-07T08:17:56.681Z"
   },
   {
    "duration": 11,
    "start_time": "2022-04-07T08:17:56.703Z"
   },
   {
    "duration": 34,
    "start_time": "2022-04-07T08:17:56.715Z"
   },
   {
    "duration": 19,
    "start_time": "2022-04-07T08:17:56.751Z"
   },
   {
    "duration": 6,
    "start_time": "2022-04-07T08:17:56.772Z"
   },
   {
    "duration": 11,
    "start_time": "2022-04-07T08:17:56.779Z"
   },
   {
    "duration": 6,
    "start_time": "2022-04-07T08:17:56.791Z"
   },
   {
    "duration": 12,
    "start_time": "2022-04-07T08:17:56.798Z"
   },
   {
    "duration": 4,
    "start_time": "2022-04-07T08:17:56.812Z"
   },
   {
    "duration": 458,
    "start_time": "2022-04-07T08:17:56.818Z"
   },
   {
    "duration": 170,
    "start_time": "2022-04-07T08:17:57.277Z"
   },
   {
    "duration": 295,
    "start_time": "2022-04-07T08:17:57.448Z"
   },
   {
    "duration": 252,
    "start_time": "2022-04-07T08:17:57.745Z"
   },
   {
    "duration": 0,
    "start_time": "2022-04-07T08:17:57.999Z"
   },
   {
    "duration": 0,
    "start_time": "2022-04-07T08:17:58.000Z"
   },
   {
    "duration": 0,
    "start_time": "2022-04-07T08:17:58.001Z"
   },
   {
    "duration": 0,
    "start_time": "2022-04-07T08:17:58.001Z"
   },
   {
    "duration": 0,
    "start_time": "2022-04-07T08:17:58.002Z"
   },
   {
    "duration": 0,
    "start_time": "2022-04-07T08:17:58.003Z"
   },
   {
    "duration": 0,
    "start_time": "2022-04-07T08:17:58.004Z"
   },
   {
    "duration": 0,
    "start_time": "2022-04-07T08:17:58.005Z"
   },
   {
    "duration": 0,
    "start_time": "2022-04-07T08:17:58.006Z"
   },
   {
    "duration": 0,
    "start_time": "2022-04-07T08:17:58.007Z"
   },
   {
    "duration": 0,
    "start_time": "2022-04-07T08:17:58.007Z"
   },
   {
    "duration": 285,
    "start_time": "2022-04-07T08:19:50.103Z"
   },
   {
    "duration": 0,
    "start_time": "2022-04-07T08:19:50.390Z"
   },
   {
    "duration": 0,
    "start_time": "2022-04-07T08:19:50.391Z"
   },
   {
    "duration": 0,
    "start_time": "2022-04-07T08:19:50.393Z"
   },
   {
    "duration": 0,
    "start_time": "2022-04-07T08:19:50.394Z"
   },
   {
    "duration": 0,
    "start_time": "2022-04-07T08:19:50.396Z"
   },
   {
    "duration": 0,
    "start_time": "2022-04-07T08:19:50.397Z"
   },
   {
    "duration": 0,
    "start_time": "2022-04-07T08:19:50.398Z"
   },
   {
    "duration": 0,
    "start_time": "2022-04-07T08:19:50.399Z"
   },
   {
    "duration": 0,
    "start_time": "2022-04-07T08:19:50.401Z"
   },
   {
    "duration": 0,
    "start_time": "2022-04-07T08:19:50.402Z"
   },
   {
    "duration": 0,
    "start_time": "2022-04-07T08:19:50.403Z"
   },
   {
    "duration": 0,
    "start_time": "2022-04-07T08:19:50.404Z"
   },
   {
    "duration": 0,
    "start_time": "2022-04-07T08:19:50.406Z"
   },
   {
    "duration": 0,
    "start_time": "2022-04-07T08:19:50.407Z"
   },
   {
    "duration": 0,
    "start_time": "2022-04-07T08:19:50.409Z"
   },
   {
    "duration": 0,
    "start_time": "2022-04-07T08:19:50.410Z"
   },
   {
    "duration": 0,
    "start_time": "2022-04-07T08:19:50.411Z"
   },
   {
    "duration": 119,
    "start_time": "2022-04-07T08:20:38.902Z"
   },
   {
    "duration": 4,
    "start_time": "2022-04-07T08:20:39.023Z"
   },
   {
    "duration": 113,
    "start_time": "2022-04-07T08:20:39.029Z"
   },
   {
    "duration": 4,
    "start_time": "2022-04-07T08:20:39.144Z"
   },
   {
    "duration": 226,
    "start_time": "2022-04-07T08:20:39.150Z"
   },
   {
    "duration": 132,
    "start_time": "2022-04-07T08:20:39.378Z"
   },
   {
    "duration": 6,
    "start_time": "2022-04-07T08:20:39.512Z"
   },
   {
    "duration": 6,
    "start_time": "2022-04-07T08:20:39.519Z"
   },
   {
    "duration": 140,
    "start_time": "2022-04-07T08:20:39.526Z"
   },
   {
    "duration": 5,
    "start_time": "2022-04-07T08:20:39.669Z"
   },
   {
    "duration": 25,
    "start_time": "2022-04-07T08:20:39.675Z"
   },
   {
    "duration": 10,
    "start_time": "2022-04-07T08:20:39.702Z"
   },
   {
    "duration": 9,
    "start_time": "2022-04-07T08:20:39.713Z"
   },
   {
    "duration": 59,
    "start_time": "2022-04-07T08:20:39.723Z"
   },
   {
    "duration": 14,
    "start_time": "2022-04-07T08:20:39.783Z"
   },
   {
    "duration": 524,
    "start_time": "2022-04-07T08:20:39.799Z"
   },
   {
    "duration": 311,
    "start_time": "2022-04-07T08:20:40.324Z"
   },
   {
    "duration": 5,
    "start_time": "2022-04-07T08:21:37.015Z"
   },
   {
    "duration": 1278,
    "start_time": "2022-04-13T08:43:47.912Z"
   },
   {
    "duration": 16,
    "start_time": "2022-04-13T08:43:49.192Z"
   },
   {
    "duration": 45,
    "start_time": "2022-04-13T08:43:49.210Z"
   },
   {
    "duration": 18,
    "start_time": "2022-04-13T08:43:49.256Z"
   },
   {
    "duration": 5,
    "start_time": "2022-04-13T08:43:49.276Z"
   },
   {
    "duration": 12,
    "start_time": "2022-04-13T08:43:49.283Z"
   },
   {
    "duration": 11,
    "start_time": "2022-04-13T08:43:49.297Z"
   },
   {
    "duration": 11,
    "start_time": "2022-04-13T08:43:49.310Z"
   },
   {
    "duration": 4,
    "start_time": "2022-04-13T08:43:49.323Z"
   },
   {
    "duration": 549,
    "start_time": "2022-04-13T08:43:49.330Z"
   },
   {
    "duration": 181,
    "start_time": "2022-04-13T08:43:49.880Z"
   },
   {
    "duration": 326,
    "start_time": "2022-04-13T08:43:50.062Z"
   },
   {
    "duration": 281,
    "start_time": "2022-04-13T08:43:50.390Z"
   },
   {
    "duration": 0,
    "start_time": "2022-04-13T08:43:50.673Z"
   },
   {
    "duration": 0,
    "start_time": "2022-04-13T08:43:50.674Z"
   },
   {
    "duration": 0,
    "start_time": "2022-04-13T08:43:50.675Z"
   },
   {
    "duration": 0,
    "start_time": "2022-04-13T08:43:50.676Z"
   },
   {
    "duration": 0,
    "start_time": "2022-04-13T08:43:50.677Z"
   },
   {
    "duration": 0,
    "start_time": "2022-04-13T08:43:50.678Z"
   },
   {
    "duration": 0,
    "start_time": "2022-04-13T08:43:50.679Z"
   },
   {
    "duration": 0,
    "start_time": "2022-04-13T08:43:50.680Z"
   },
   {
    "duration": 0,
    "start_time": "2022-04-13T08:43:50.681Z"
   },
   {
    "duration": 0,
    "start_time": "2022-04-13T08:43:50.682Z"
   },
   {
    "duration": 0,
    "start_time": "2022-04-13T08:43:50.708Z"
   },
   {
    "duration": 0,
    "start_time": "2022-04-13T08:43:50.709Z"
   },
   {
    "duration": 0,
    "start_time": "2022-04-13T08:43:50.710Z"
   },
   {
    "duration": 0,
    "start_time": "2022-04-13T08:43:50.711Z"
   },
   {
    "duration": 0,
    "start_time": "2022-04-13T08:43:50.711Z"
   },
   {
    "duration": 0,
    "start_time": "2022-04-13T08:43:50.713Z"
   },
   {
    "duration": 0,
    "start_time": "2022-04-13T08:43:50.714Z"
   },
   {
    "duration": 0,
    "start_time": "2022-04-13T08:43:50.715Z"
   },
   {
    "duration": 221,
    "start_time": "2022-04-13T08:45:37.214Z"
   },
   {
    "duration": 187,
    "start_time": "2022-04-13T08:46:52.622Z"
   },
   {
    "duration": 188,
    "start_time": "2022-04-13T08:50:07.930Z"
   },
   {
    "duration": 202,
    "start_time": "2022-04-13T08:50:24.689Z"
   },
   {
    "duration": 264,
    "start_time": "2022-04-13T08:50:29.457Z"
   },
   {
    "duration": 176,
    "start_time": "2022-04-13T08:51:11.345Z"
   },
   {
    "duration": 194,
    "start_time": "2022-04-13T08:51:15.707Z"
   },
   {
    "duration": 182,
    "start_time": "2022-04-13T08:51:24.484Z"
   },
   {
    "duration": 251,
    "start_time": "2022-04-13T08:51:28.140Z"
   },
   {
    "duration": 239,
    "start_time": "2022-04-13T08:51:39.443Z"
   },
   {
    "duration": 18,
    "start_time": "2022-04-13T08:52:52.030Z"
   },
   {
    "duration": 12,
    "start_time": "2022-04-13T08:52:52.050Z"
   },
   {
    "duration": 35,
    "start_time": "2022-04-13T08:52:52.064Z"
   },
   {
    "duration": 19,
    "start_time": "2022-04-13T08:52:52.101Z"
   },
   {
    "duration": 6,
    "start_time": "2022-04-13T08:52:52.121Z"
   },
   {
    "duration": 13,
    "start_time": "2022-04-13T08:52:52.128Z"
   },
   {
    "duration": 4,
    "start_time": "2022-04-13T08:52:52.142Z"
   },
   {
    "duration": 12,
    "start_time": "2022-04-13T08:52:52.148Z"
   },
   {
    "duration": 4,
    "start_time": "2022-04-13T08:52:52.161Z"
   },
   {
    "duration": 488,
    "start_time": "2022-04-13T08:52:52.168Z"
   },
   {
    "duration": 187,
    "start_time": "2022-04-13T08:52:52.657Z"
   },
   {
    "duration": 246,
    "start_time": "2022-04-13T08:52:52.846Z"
   },
   {
    "duration": 193,
    "start_time": "2022-04-13T08:52:53.094Z"
   },
   {
    "duration": 349,
    "start_time": "2022-04-13T08:52:53.289Z"
   },
   {
    "duration": 147,
    "start_time": "2022-04-13T08:52:53.639Z"
   },
   {
    "duration": 4,
    "start_time": "2022-04-13T08:52:53.788Z"
   },
   {
    "duration": 134,
    "start_time": "2022-04-13T08:52:53.794Z"
   },
   {
    "duration": 4,
    "start_time": "2022-04-13T08:52:53.929Z"
   },
   {
    "duration": 226,
    "start_time": "2022-04-13T08:52:53.935Z"
   },
   {
    "duration": 125,
    "start_time": "2022-04-13T08:52:54.162Z"
   },
   {
    "duration": 18,
    "start_time": "2022-04-13T08:52:54.289Z"
   },
   {
    "duration": 4,
    "start_time": "2022-04-13T08:52:54.309Z"
   },
   {
    "duration": 6,
    "start_time": "2022-04-13T08:52:54.314Z"
   },
   {
    "duration": 4,
    "start_time": "2022-04-13T08:52:54.322Z"
   },
   {
    "duration": 26,
    "start_time": "2022-04-13T08:52:54.327Z"
   },
   {
    "duration": 9,
    "start_time": "2022-04-13T08:52:54.355Z"
   },
   {
    "duration": 49,
    "start_time": "2022-04-13T08:52:54.367Z"
   },
   {
    "duration": 28,
    "start_time": "2022-04-13T08:52:54.417Z"
   },
   {
    "duration": 13,
    "start_time": "2022-04-13T08:52:54.446Z"
   },
   {
    "duration": 539,
    "start_time": "2022-04-13T08:52:54.460Z"
   },
   {
    "duration": 306,
    "start_time": "2022-04-13T08:52:55.001Z"
   },
   {
    "duration": 268,
    "start_time": "2022-04-13T08:53:18.455Z"
   }
  ],
  "kernelspec": {
   "display_name": "Python 3",
   "language": "python",
   "name": "python3"
  },
  "language_info": {
   "codemirror_mode": {
    "name": "ipython",
    "version": 3
   },
   "file_extension": ".py",
   "mimetype": "text/x-python",
   "name": "python",
   "nbconvert_exporter": "python",
   "pygments_lexer": "ipython3",
   "version": "3.8.8"
  },
  "toc": {
   "base_numbering": 1,
   "nav_menu": {},
   "number_sections": true,
   "sideBar": true,
   "skip_h1_title": true,
   "title_cell": "Table of Contents",
   "title_sidebar": "Contents",
   "toc_cell": false,
   "toc_position": {},
   "toc_section_display": true,
   "toc_window_display": true
  }
 },
 "nbformat": 4,
 "nbformat_minor": 2
}
