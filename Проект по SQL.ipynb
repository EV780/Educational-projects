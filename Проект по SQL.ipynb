{
 "cells": [
  {
   "cell_type": "markdown",
   "metadata": {},
   "source": [
    "**Задача**\n",
    "\n",
    "Коронавирус застал мир врасплох, изменив привычный порядок вещей. В свободное время жители городов больше не выходят на улицу, не посещают кафе и торговые центры. Зато стало больше времени для книг. Это заметили стартаперы — и бросились создавать приложения для тех, кто любит читать.\n",
    "Ваша компания решила быть на волне и купила крупный сервис для чтения книг по подписке. Ваша первая задача как аналитика — проанализировать базу данных. В ней — информация о книгах, издательствах, авторах, а также пользовательские обзоры книг. Эти данные помогут сформулировать ценностное предложение для нового продукта."
   ]
  },
  {
   "cell_type": "markdown",
   "metadata": {},
   "source": [
    "**Описание данных**\n",
    "\n",
    "[Схема данных](https://drive.google.com/file/d/1ZtCiLsLGhqNj7TRCieDatuaq1URPrhQ_/view?usp=sharing)\n",
    "\n",
    "Таблица books\n",
    "\n",
    "Содержит данные о книгах:\n",
    "- book_id — идентификатор книги;\n",
    "- author_id — идентификатор автора;\n",
    "- title — название книги;\n",
    "- num_pages — количество страниц;\n",
    "- publication_date — дата публикации книги;\n",
    "- publisher_id — идентификатор издателя.\n",
    "\n",
    "Таблица authors\n",
    "\n",
    "Содержит данные об авторах:\n",
    "- author_id — идентификатор автора;\n",
    "- author — имя автора.\n",
    "\n",
    "Таблица publishers\n",
    "\n",
    "Содержит данные об издательствах:\n",
    "- publisher_id — идентификатор издательства;\n",
    "- publisher — название издательства;\n",
    "\n",
    "Таблица ratings\n",
    "\n",
    "Содержит данные о пользовательских оценках книг:\n",
    "- rating_id — идентификатор оценки;\n",
    "- book_id — идентификатор книги;\n",
    "- username — имя пользователя, оставившего оценку;\n",
    "- rating — оценка книги.\n",
    "\n",
    "Таблица reviews\n",
    "\n",
    "Содержит данные о пользовательских обзорах:\n",
    "- review_id — идентификатор обзора;\n",
    "- book_id — идентификатор книги;\n",
    "- username — имя автора обзора;\n",
    "- text — текст обзора."
   ]
  },
  {
   "cell_type": "markdown",
   "metadata": {},
   "source": [
    "## Исследование таблиц"
   ]
  },
  {
   "cell_type": "code",
   "execution_count": 1,
   "metadata": {},
   "outputs": [],
   "source": [
    "import pandas as pd\n",
    "from sqlalchemy import create_engine\n",
    "from sqlalchemy import text"
   ]
  },
  {
   "cell_type": "code",
   "execution_count": 2,
   "metadata": {},
   "outputs": [],
   "source": [
    "# устанавливаем параметры\n",
    "\n",
    "db_config = {'user': 'praktikum_student', # имя пользователя\n",
    " 'pwd': 'Sdf4$2;d-d30pp', # пароль\n",
    " 'host': 'rc1b-wcoijxj3yxfsf3fs.mdb.yandexcloud.net',\n",
    " 'port': 6432, # порт подключения\n",
    " 'db': 'data-analyst-final-project-db'} # название базы данных\n",
    "\n",
    "connection_string = 'postgresql://{}:{}@{}:{}/{}'.format(db_config['user'],\n",
    " db_config['pwd'],\n",
    " db_config['host'],\n",
    " db_config['port'],\n",
    " db_config['db'])\n",
    "\n",
    "# сохраняем коннектор\n",
    "\n",
    "engine = create_engine(connection_string, connect_args={'sslmode':'require'})"
   ]
  },
  {
   "cell_type": "code",
   "execution_count": 3,
   "metadata": {},
   "outputs": [
    {
     "data": {
      "text/html": [
       "<div>\n",
       "<style scoped>\n",
       "    .dataframe tbody tr th:only-of-type {\n",
       "        vertical-align: middle;\n",
       "    }\n",
       "\n",
       "    .dataframe tbody tr th {\n",
       "        vertical-align: top;\n",
       "    }\n",
       "\n",
       "    .dataframe thead th {\n",
       "        text-align: right;\n",
       "    }\n",
       "</style>\n",
       "<table border=\"1\" class=\"dataframe\">\n",
       "  <thead>\n",
       "    <tr style=\"text-align: right;\">\n",
       "      <th></th>\n",
       "      <th>book_id</th>\n",
       "      <th>author_id</th>\n",
       "      <th>title</th>\n",
       "      <th>num_pages</th>\n",
       "      <th>publication_date</th>\n",
       "      <th>publisher_id</th>\n",
       "    </tr>\n",
       "  </thead>\n",
       "  <tbody>\n",
       "    <tr>\n",
       "      <th>0</th>\n",
       "      <td>1</td>\n",
       "      <td>546</td>\n",
       "      <td>'Salem's Lot</td>\n",
       "      <td>594</td>\n",
       "      <td>2005-11-01</td>\n",
       "      <td>93</td>\n",
       "    </tr>\n",
       "    <tr>\n",
       "      <th>1</th>\n",
       "      <td>2</td>\n",
       "      <td>465</td>\n",
       "      <td>1 000 Places to See Before You Die</td>\n",
       "      <td>992</td>\n",
       "      <td>2003-05-22</td>\n",
       "      <td>336</td>\n",
       "    </tr>\n",
       "    <tr>\n",
       "      <th>2</th>\n",
       "      <td>3</td>\n",
       "      <td>407</td>\n",
       "      <td>13 Little Blue Envelopes (Little Blue Envelope...</td>\n",
       "      <td>322</td>\n",
       "      <td>2010-12-21</td>\n",
       "      <td>135</td>\n",
       "    </tr>\n",
       "    <tr>\n",
       "      <th>3</th>\n",
       "      <td>4</td>\n",
       "      <td>82</td>\n",
       "      <td>1491: New Revelations of the Americas Before C...</td>\n",
       "      <td>541</td>\n",
       "      <td>2006-10-10</td>\n",
       "      <td>309</td>\n",
       "    </tr>\n",
       "    <tr>\n",
       "      <th>4</th>\n",
       "      <td>5</td>\n",
       "      <td>125</td>\n",
       "      <td>1776</td>\n",
       "      <td>386</td>\n",
       "      <td>2006-07-04</td>\n",
       "      <td>268</td>\n",
       "    </tr>\n",
       "  </tbody>\n",
       "</table>\n",
       "</div>"
      ],
      "text/plain": [
       "   book_id  author_id                                              title  \\\n",
       "0        1        546                                       'Salem's Lot   \n",
       "1        2        465                 1 000 Places to See Before You Die   \n",
       "2        3        407  13 Little Blue Envelopes (Little Blue Envelope...   \n",
       "3        4         82  1491: New Revelations of the Americas Before C...   \n",
       "4        5        125                                               1776   \n",
       "\n",
       "   num_pages publication_date  publisher_id  \n",
       "0        594       2005-11-01            93  \n",
       "1        992       2003-05-22           336  \n",
       "2        322       2010-12-21           135  \n",
       "3        541       2006-10-10           309  \n",
       "4        386       2006-07-04           268  "
      ]
     },
     "execution_count": 3,
     "metadata": {},
     "output_type": "execute_result"
    }
   ],
   "source": [
    "query = \"\"\"SELECT *\n",
    "FROM books\n",
    "LIMIT 5\"\"\"\n",
    "pd.io.sql.read_sql(query, con = engine)"
   ]
  },
  {
   "cell_type": "code",
   "execution_count": 4,
   "metadata": {},
   "outputs": [
    {
     "data": {
      "text/html": [
       "<div>\n",
       "<style scoped>\n",
       "    .dataframe tbody tr th:only-of-type {\n",
       "        vertical-align: middle;\n",
       "    }\n",
       "\n",
       "    .dataframe tbody tr th {\n",
       "        vertical-align: top;\n",
       "    }\n",
       "\n",
       "    .dataframe thead th {\n",
       "        text-align: right;\n",
       "    }\n",
       "</style>\n",
       "<table border=\"1\" class=\"dataframe\">\n",
       "  <thead>\n",
       "    <tr style=\"text-align: right;\">\n",
       "      <th></th>\n",
       "      <th>author_id</th>\n",
       "      <th>author</th>\n",
       "    </tr>\n",
       "  </thead>\n",
       "  <tbody>\n",
       "    <tr>\n",
       "      <th>0</th>\n",
       "      <td>1</td>\n",
       "      <td>A.S. Byatt</td>\n",
       "    </tr>\n",
       "    <tr>\n",
       "      <th>1</th>\n",
       "      <td>2</td>\n",
       "      <td>Aesop/Laura Harris/Laura Gibbs</td>\n",
       "    </tr>\n",
       "    <tr>\n",
       "      <th>2</th>\n",
       "      <td>3</td>\n",
       "      <td>Agatha Christie</td>\n",
       "    </tr>\n",
       "    <tr>\n",
       "      <th>3</th>\n",
       "      <td>4</td>\n",
       "      <td>Alan Brennert</td>\n",
       "    </tr>\n",
       "    <tr>\n",
       "      <th>4</th>\n",
       "      <td>5</td>\n",
       "      <td>Alan Moore/David   Lloyd</td>\n",
       "    </tr>\n",
       "  </tbody>\n",
       "</table>\n",
       "</div>"
      ],
      "text/plain": [
       "   author_id                          author\n",
       "0          1                      A.S. Byatt\n",
       "1          2  Aesop/Laura Harris/Laura Gibbs\n",
       "2          3                 Agatha Christie\n",
       "3          4                   Alan Brennert\n",
       "4          5        Alan Moore/David   Lloyd"
      ]
     },
     "execution_count": 4,
     "metadata": {},
     "output_type": "execute_result"
    }
   ],
   "source": [
    "query = \"\"\"SELECT *\n",
    "FROM authors\n",
    "LIMIT 5\"\"\"\n",
    "pd.io.sql.read_sql(query, con = engine)"
   ]
  },
  {
   "cell_type": "code",
   "execution_count": 5,
   "metadata": {},
   "outputs": [
    {
     "data": {
      "text/html": [
       "<div>\n",
       "<style scoped>\n",
       "    .dataframe tbody tr th:only-of-type {\n",
       "        vertical-align: middle;\n",
       "    }\n",
       "\n",
       "    .dataframe tbody tr th {\n",
       "        vertical-align: top;\n",
       "    }\n",
       "\n",
       "    .dataframe thead th {\n",
       "        text-align: right;\n",
       "    }\n",
       "</style>\n",
       "<table border=\"1\" class=\"dataframe\">\n",
       "  <thead>\n",
       "    <tr style=\"text-align: right;\">\n",
       "      <th></th>\n",
       "      <th>publisher_id</th>\n",
       "      <th>publisher</th>\n",
       "    </tr>\n",
       "  </thead>\n",
       "  <tbody>\n",
       "    <tr>\n",
       "      <th>0</th>\n",
       "      <td>1</td>\n",
       "      <td>Ace</td>\n",
       "    </tr>\n",
       "    <tr>\n",
       "      <th>1</th>\n",
       "      <td>2</td>\n",
       "      <td>Ace Book</td>\n",
       "    </tr>\n",
       "    <tr>\n",
       "      <th>2</th>\n",
       "      <td>3</td>\n",
       "      <td>Ace Books</td>\n",
       "    </tr>\n",
       "    <tr>\n",
       "      <th>3</th>\n",
       "      <td>4</td>\n",
       "      <td>Ace Hardcover</td>\n",
       "    </tr>\n",
       "    <tr>\n",
       "      <th>4</th>\n",
       "      <td>5</td>\n",
       "      <td>Addison Wesley Publishing Company</td>\n",
       "    </tr>\n",
       "  </tbody>\n",
       "</table>\n",
       "</div>"
      ],
      "text/plain": [
       "   publisher_id                          publisher\n",
       "0             1                                Ace\n",
       "1             2                           Ace Book\n",
       "2             3                          Ace Books\n",
       "3             4                      Ace Hardcover\n",
       "4             5  Addison Wesley Publishing Company"
      ]
     },
     "execution_count": 5,
     "metadata": {},
     "output_type": "execute_result"
    }
   ],
   "source": [
    "query = \"\"\"SELECT *\n",
    "FROM publishers\n",
    "LIMIT 5\"\"\"\n",
    "pd.io.sql.read_sql(query, con = engine)"
   ]
  },
  {
   "cell_type": "code",
   "execution_count": 6,
   "metadata": {},
   "outputs": [
    {
     "data": {
      "text/html": [
       "<div>\n",
       "<style scoped>\n",
       "    .dataframe tbody tr th:only-of-type {\n",
       "        vertical-align: middle;\n",
       "    }\n",
       "\n",
       "    .dataframe tbody tr th {\n",
       "        vertical-align: top;\n",
       "    }\n",
       "\n",
       "    .dataframe thead th {\n",
       "        text-align: right;\n",
       "    }\n",
       "</style>\n",
       "<table border=\"1\" class=\"dataframe\">\n",
       "  <thead>\n",
       "    <tr style=\"text-align: right;\">\n",
       "      <th></th>\n",
       "      <th>rating_id</th>\n",
       "      <th>book_id</th>\n",
       "      <th>username</th>\n",
       "      <th>rating</th>\n",
       "    </tr>\n",
       "  </thead>\n",
       "  <tbody>\n",
       "    <tr>\n",
       "      <th>0</th>\n",
       "      <td>1</td>\n",
       "      <td>1</td>\n",
       "      <td>ryanfranco</td>\n",
       "      <td>4</td>\n",
       "    </tr>\n",
       "    <tr>\n",
       "      <th>1</th>\n",
       "      <td>2</td>\n",
       "      <td>1</td>\n",
       "      <td>grantpatricia</td>\n",
       "      <td>2</td>\n",
       "    </tr>\n",
       "    <tr>\n",
       "      <th>2</th>\n",
       "      <td>3</td>\n",
       "      <td>1</td>\n",
       "      <td>brandtandrea</td>\n",
       "      <td>5</td>\n",
       "    </tr>\n",
       "    <tr>\n",
       "      <th>3</th>\n",
       "      <td>4</td>\n",
       "      <td>2</td>\n",
       "      <td>lorichen</td>\n",
       "      <td>3</td>\n",
       "    </tr>\n",
       "    <tr>\n",
       "      <th>4</th>\n",
       "      <td>5</td>\n",
       "      <td>2</td>\n",
       "      <td>mariokeller</td>\n",
       "      <td>2</td>\n",
       "    </tr>\n",
       "  </tbody>\n",
       "</table>\n",
       "</div>"
      ],
      "text/plain": [
       "   rating_id  book_id       username  rating\n",
       "0          1        1     ryanfranco       4\n",
       "1          2        1  grantpatricia       2\n",
       "2          3        1   brandtandrea       5\n",
       "3          4        2       lorichen       3\n",
       "4          5        2    mariokeller       2"
      ]
     },
     "execution_count": 6,
     "metadata": {},
     "output_type": "execute_result"
    }
   ],
   "source": [
    "query = \"\"\"SELECT *\n",
    "FROM ratings\n",
    "LIMIT 5\"\"\"\n",
    "pd.io.sql.read_sql(query, con = engine)"
   ]
  },
  {
   "cell_type": "code",
   "execution_count": 7,
   "metadata": {
    "scrolled": true
   },
   "outputs": [
    {
     "data": {
      "text/html": [
       "<div>\n",
       "<style scoped>\n",
       "    .dataframe tbody tr th:only-of-type {\n",
       "        vertical-align: middle;\n",
       "    }\n",
       "\n",
       "    .dataframe tbody tr th {\n",
       "        vertical-align: top;\n",
       "    }\n",
       "\n",
       "    .dataframe thead th {\n",
       "        text-align: right;\n",
       "    }\n",
       "</style>\n",
       "<table border=\"1\" class=\"dataframe\">\n",
       "  <thead>\n",
       "    <tr style=\"text-align: right;\">\n",
       "      <th></th>\n",
       "      <th>review_id</th>\n",
       "      <th>book_id</th>\n",
       "      <th>username</th>\n",
       "      <th>text</th>\n",
       "    </tr>\n",
       "  </thead>\n",
       "  <tbody>\n",
       "    <tr>\n",
       "      <th>0</th>\n",
       "      <td>1</td>\n",
       "      <td>1</td>\n",
       "      <td>brandtandrea</td>\n",
       "      <td>Mention society tell send professor analysis. ...</td>\n",
       "    </tr>\n",
       "    <tr>\n",
       "      <th>1</th>\n",
       "      <td>2</td>\n",
       "      <td>1</td>\n",
       "      <td>ryanfranco</td>\n",
       "      <td>Foot glass pretty audience hit themselves. Amo...</td>\n",
       "    </tr>\n",
       "    <tr>\n",
       "      <th>2</th>\n",
       "      <td>3</td>\n",
       "      <td>2</td>\n",
       "      <td>lorichen</td>\n",
       "      <td>Listen treat keep worry. Miss husband tax but ...</td>\n",
       "    </tr>\n",
       "    <tr>\n",
       "      <th>3</th>\n",
       "      <td>4</td>\n",
       "      <td>3</td>\n",
       "      <td>johnsonamanda</td>\n",
       "      <td>Finally month interesting blue could nature cu...</td>\n",
       "    </tr>\n",
       "    <tr>\n",
       "      <th>4</th>\n",
       "      <td>5</td>\n",
       "      <td>3</td>\n",
       "      <td>scotttamara</td>\n",
       "      <td>Nation purpose heavy give wait song will. List...</td>\n",
       "    </tr>\n",
       "  </tbody>\n",
       "</table>\n",
       "</div>"
      ],
      "text/plain": [
       "   review_id  book_id       username  \\\n",
       "0          1        1   brandtandrea   \n",
       "1          2        1     ryanfranco   \n",
       "2          3        2       lorichen   \n",
       "3          4        3  johnsonamanda   \n",
       "4          5        3    scotttamara   \n",
       "\n",
       "                                                text  \n",
       "0  Mention society tell send professor analysis. ...  \n",
       "1  Foot glass pretty audience hit themselves. Amo...  \n",
       "2  Listen treat keep worry. Miss husband tax but ...  \n",
       "3  Finally month interesting blue could nature cu...  \n",
       "4  Nation purpose heavy give wait song will. List...  "
      ]
     },
     "execution_count": 7,
     "metadata": {},
     "output_type": "execute_result"
    }
   ],
   "source": [
    "query = \"\"\"SELECT *\n",
    "FROM reviews\n",
    "LIMIT 5\"\"\"\n",
    "pd.io.sql.read_sql(query, con = engine)"
   ]
  },
  {
   "cell_type": "markdown",
   "metadata": {},
   "source": [
    "## SQL-запросы для решения заданий"
   ]
  },
  {
   "cell_type": "markdown",
   "metadata": {},
   "source": [
    "### Посчитайте, сколько книг вышло после 1 января 2000 года"
   ]
  },
  {
   "cell_type": "code",
   "execution_count": 8,
   "metadata": {
    "scrolled": true
   },
   "outputs": [
    {
     "data": {
      "text/html": [
       "<div>\n",
       "<style scoped>\n",
       "    .dataframe tbody tr th:only-of-type {\n",
       "        vertical-align: middle;\n",
       "    }\n",
       "\n",
       "    .dataframe tbody tr th {\n",
       "        vertical-align: top;\n",
       "    }\n",
       "\n",
       "    .dataframe thead th {\n",
       "        text-align: right;\n",
       "    }\n",
       "</style>\n",
       "<table border=\"1\" class=\"dataframe\">\n",
       "  <thead>\n",
       "    <tr style=\"text-align: right;\">\n",
       "      <th></th>\n",
       "      <th>count</th>\n",
       "    </tr>\n",
       "  </thead>\n",
       "  <tbody>\n",
       "    <tr>\n",
       "      <th>0</th>\n",
       "      <td>819</td>\n",
       "    </tr>\n",
       "  </tbody>\n",
       "</table>\n",
       "</div>"
      ],
      "text/plain": [
       "   count\n",
       "0    819"
      ]
     },
     "execution_count": 8,
     "metadata": {},
     "output_type": "execute_result"
    }
   ],
   "source": [
    "query = \"\"\"SELECT COUNT(*)\n",
    "FROM books\n",
    "WHERE CAST(publication_date AS DATE) > '2000-01-01'\"\"\"\n",
    "pd.io.sql.read_sql(query, con = engine)"
   ]
  },
  {
   "cell_type": "markdown",
   "metadata": {},
   "source": [
    "### Для каждой книги посчитайте количество обзоров и среднюю оценку"
   ]
  },
  {
   "cell_type": "code",
   "execution_count": 14,
   "metadata": {
    "scrolled": false
   },
   "outputs": [
    {
     "data": {
      "text/html": [
       "<div>\n",
       "<style scoped>\n",
       "    .dataframe tbody tr th:only-of-type {\n",
       "        vertical-align: middle;\n",
       "    }\n",
       "\n",
       "    .dataframe tbody tr th {\n",
       "        vertical-align: top;\n",
       "    }\n",
       "\n",
       "    .dataframe thead th {\n",
       "        text-align: right;\n",
       "    }\n",
       "</style>\n",
       "<table border=\"1\" class=\"dataframe\">\n",
       "  <thead>\n",
       "    <tr style=\"text-align: right;\">\n",
       "      <th></th>\n",
       "      <th>title</th>\n",
       "      <th>number_of_reviews</th>\n",
       "      <th>avg_rating</th>\n",
       "    </tr>\n",
       "  </thead>\n",
       "  <tbody>\n",
       "    <tr>\n",
       "      <th>0</th>\n",
       "      <td>'Salem's Lot</td>\n",
       "      <td>2</td>\n",
       "      <td>3.67</td>\n",
       "    </tr>\n",
       "    <tr>\n",
       "      <th>1</th>\n",
       "      <td>1 000 Places to See Before You Die</td>\n",
       "      <td>1</td>\n",
       "      <td>2.50</td>\n",
       "    </tr>\n",
       "    <tr>\n",
       "      <th>2</th>\n",
       "      <td>13 Little Blue Envelopes (Little Blue Envelope...</td>\n",
       "      <td>3</td>\n",
       "      <td>4.67</td>\n",
       "    </tr>\n",
       "    <tr>\n",
       "      <th>3</th>\n",
       "      <td>1491: New Revelations of the Americas Before C...</td>\n",
       "      <td>2</td>\n",
       "      <td>4.50</td>\n",
       "    </tr>\n",
       "    <tr>\n",
       "      <th>4</th>\n",
       "      <td>1776</td>\n",
       "      <td>4</td>\n",
       "      <td>4.00</td>\n",
       "    </tr>\n",
       "    <tr>\n",
       "      <th>...</th>\n",
       "      <td>...</td>\n",
       "      <td>...</td>\n",
       "      <td>...</td>\n",
       "    </tr>\n",
       "    <tr>\n",
       "      <th>995</th>\n",
       "      <td>Wyrd Sisters (Discworld  #6; Witches #2)</td>\n",
       "      <td>3</td>\n",
       "      <td>3.67</td>\n",
       "    </tr>\n",
       "    <tr>\n",
       "      <th>996</th>\n",
       "      <td>Xenocide (Ender's Saga  #3)</td>\n",
       "      <td>3</td>\n",
       "      <td>3.40</td>\n",
       "    </tr>\n",
       "    <tr>\n",
       "      <th>997</th>\n",
       "      <td>Year of Wonders</td>\n",
       "      <td>4</td>\n",
       "      <td>3.20</td>\n",
       "    </tr>\n",
       "    <tr>\n",
       "      <th>998</th>\n",
       "      <td>You Suck (A Love Story  #2)</td>\n",
       "      <td>2</td>\n",
       "      <td>4.50</td>\n",
       "    </tr>\n",
       "    <tr>\n",
       "      <th>999</th>\n",
       "      <td>Zen and the Art of Motorcycle Maintenance: An ...</td>\n",
       "      <td>4</td>\n",
       "      <td>3.83</td>\n",
       "    </tr>\n",
       "  </tbody>\n",
       "</table>\n",
       "<p>1000 rows × 3 columns</p>\n",
       "</div>"
      ],
      "text/plain": [
       "                                                 title  number_of_reviews  \\\n",
       "0                                         'Salem's Lot                  2   \n",
       "1                   1 000 Places to See Before You Die                  1   \n",
       "2    13 Little Blue Envelopes (Little Blue Envelope...                  3   \n",
       "3    1491: New Revelations of the Americas Before C...                  2   \n",
       "4                                                 1776                  4   \n",
       "..                                                 ...                ...   \n",
       "995           Wyrd Sisters (Discworld  #6; Witches #2)                  3   \n",
       "996                        Xenocide (Ender's Saga  #3)                  3   \n",
       "997                                    Year of Wonders                  4   \n",
       "998                        You Suck (A Love Story  #2)                  2   \n",
       "999  Zen and the Art of Motorcycle Maintenance: An ...                  4   \n",
       "\n",
       "     avg_rating  \n",
       "0          3.67  \n",
       "1          2.50  \n",
       "2          4.67  \n",
       "3          4.50  \n",
       "4          4.00  \n",
       "..          ...  \n",
       "995        3.67  \n",
       "996        3.40  \n",
       "997        3.20  \n",
       "998        4.50  \n",
       "999        3.83  \n",
       "\n",
       "[1000 rows x 3 columns]"
      ]
     },
     "execution_count": 14,
     "metadata": {},
     "output_type": "execute_result"
    }
   ],
   "source": [
    "query = \"\"\"WITH\n",
    "qq AS (SELECT ra.book_id,\n",
    "COUNT(DISTINCT re.review_id) as number_of_reviews,\n",
    "ROUND(AVG(ra.rating), 2) as avg_rating\n",
    "FROM ratings AS ra\n",
    "FULL OUTER JOIN reviews AS re ON ra.book_id = re.book_id\n",
    "GROUP BY ra.book_id\n",
    "ORDER BY ra.book_id)\n",
    "\n",
    "SELECT title,\n",
    "qq.number_of_reviews,\n",
    "qq.avg_rating\n",
    "FROM books AS b\n",
    "RIGHT JOIN qq ON b.book_id = qq.book_id\n",
    "\"\"\"\n",
    "pd.io.sql.read_sql(query, con = engine)"
   ]
  },
  {
   "cell_type": "markdown",
   "metadata": {},
   "source": [
    "### Определите издательство, которое выпустило наибольшее число книг толще 50 страниц — так вы исключите из анализа брошюры"
   ]
  },
  {
   "cell_type": "code",
   "execution_count": 10,
   "metadata": {
    "scrolled": true
   },
   "outputs": [
    {
     "data": {
      "text/html": [
       "<div>\n",
       "<style scoped>\n",
       "    .dataframe tbody tr th:only-of-type {\n",
       "        vertical-align: middle;\n",
       "    }\n",
       "\n",
       "    .dataframe tbody tr th {\n",
       "        vertical-align: top;\n",
       "    }\n",
       "\n",
       "    .dataframe thead th {\n",
       "        text-align: right;\n",
       "    }\n",
       "</style>\n",
       "<table border=\"1\" class=\"dataframe\">\n",
       "  <thead>\n",
       "    <tr style=\"text-align: right;\">\n",
       "      <th></th>\n",
       "      <th>publisher</th>\n",
       "    </tr>\n",
       "  </thead>\n",
       "  <tbody>\n",
       "    <tr>\n",
       "      <th>0</th>\n",
       "      <td>Penguin Books</td>\n",
       "    </tr>\n",
       "  </tbody>\n",
       "</table>\n",
       "</div>"
      ],
      "text/plain": [
       "       publisher\n",
       "0  Penguin Books"
      ]
     },
     "execution_count": 10,
     "metadata": {},
     "output_type": "execute_result"
    }
   ],
   "source": [
    "query = \"\"\"WITH\n",
    "b AS (SELECT publisher_id\n",
    "FROM books\n",
    "WHERE num_pages > 50\n",
    "GROUP BY publisher_id\n",
    "ORDER BY COUNT(book_id) DESC\n",
    "LIMIT 1)\n",
    "\n",
    "SELECT publisher\n",
    "FROM publishers as p\n",
    "RIGHT JOIN b ON b.publisher_id = p.publisher_id\n",
    "\"\"\"\n",
    "pd.io.sql.read_sql(query, con = engine)"
   ]
  },
  {
   "cell_type": "markdown",
   "metadata": {},
   "source": [
    "### Определите автора с самой высокой средней оценкой книг — учитывайте только книги с 50 и более оценками"
   ]
  },
  {
   "cell_type": "code",
   "execution_count": 16,
   "metadata": {
    "scrolled": true
   },
   "outputs": [
    {
     "data": {
      "text/html": [
       "<div>\n",
       "<style scoped>\n",
       "    .dataframe tbody tr th:only-of-type {\n",
       "        vertical-align: middle;\n",
       "    }\n",
       "\n",
       "    .dataframe tbody tr th {\n",
       "        vertical-align: top;\n",
       "    }\n",
       "\n",
       "    .dataframe thead th {\n",
       "        text-align: right;\n",
       "    }\n",
       "</style>\n",
       "<table border=\"1\" class=\"dataframe\">\n",
       "  <thead>\n",
       "    <tr style=\"text-align: right;\">\n",
       "      <th></th>\n",
       "      <th>author</th>\n",
       "      <th>avg</th>\n",
       "    </tr>\n",
       "  </thead>\n",
       "  <tbody>\n",
       "    <tr>\n",
       "      <th>0</th>\n",
       "      <td>J.K. Rowling/Mary GrandPré</td>\n",
       "      <td>4.283844</td>\n",
       "    </tr>\n",
       "  </tbody>\n",
       "</table>\n",
       "</div>"
      ],
      "text/plain": [
       "                       author       avg\n",
       "0  J.K. Rowling/Mary GrandPré  4.283844"
      ]
     },
     "execution_count": 16,
     "metadata": {},
     "output_type": "execute_result"
    }
   ],
   "source": [
    "query = \"\"\"WITH\n",
    "b AS (SELECT book_id,\n",
    "COUNT(rating) as number_of_ratings,\n",
    "AVG(rating) as avg_rating\n",
    "FROM ratings\n",
    "GROUP BY book_id\n",
    "HAVING COUNT(rating) >= 50)\n",
    "\n",
    "SELECT author,\n",
    "AVG(avg_rating)\n",
    "FROM b\n",
    "LEFT JOIN books ON b.book_id = books.book_id\n",
    "LEFT JOIN authors as a ON books.author_id = a.author_id\n",
    "GROUP BY author\n",
    "ORDER BY avg DESC\n",
    "LIMIT 1\n",
    "\"\"\"\n",
    "pd.io.sql.read_sql(query, con = engine)"
   ]
  },
  {
   "cell_type": "markdown",
   "metadata": {},
   "source": [
    "### Посчитайте среднее количество обзоров от пользователей, которые поставили больше 50 оценок"
   ]
  },
  {
   "cell_type": "code",
   "execution_count": 12,
   "metadata": {},
   "outputs": [
    {
     "data": {
      "text/html": [
       "<div>\n",
       "<style scoped>\n",
       "    .dataframe tbody tr th:only-of-type {\n",
       "        vertical-align: middle;\n",
       "    }\n",
       "\n",
       "    .dataframe tbody tr th {\n",
       "        vertical-align: top;\n",
       "    }\n",
       "\n",
       "    .dataframe thead th {\n",
       "        text-align: right;\n",
       "    }\n",
       "</style>\n",
       "<table border=\"1\" class=\"dataframe\">\n",
       "  <thead>\n",
       "    <tr style=\"text-align: right;\">\n",
       "      <th></th>\n",
       "      <th>avg</th>\n",
       "    </tr>\n",
       "  </thead>\n",
       "  <tbody>\n",
       "    <tr>\n",
       "      <th>0</th>\n",
       "      <td>24.333333</td>\n",
       "    </tr>\n",
       "  </tbody>\n",
       "</table>\n",
       "</div>"
      ],
      "text/plain": [
       "         avg\n",
       "0  24.333333"
      ]
     },
     "execution_count": 12,
     "metadata": {},
     "output_type": "execute_result"
    }
   ],
   "source": [
    "query = \"\"\"WITH\n",
    "ra AS (SELECT username,\n",
    "COUNT(rating) AS number_of_ratings\n",
    "FROM ratings\n",
    "GROUP BY username\n",
    "HAVING COUNT(rating) > 50),\n",
    "\n",
    "re AS (SELECT username,\n",
    "COUNT(review_id)number_of_reviews\n",
    "FROM reviews\n",
    "GROUP BY username)\n",
    "\n",
    "SELECT AVG(number_of_reviews)\n",
    "FROM ra\n",
    "LEFT JOIN re ON ra.username = re.username\n",
    "\n",
    "\"\"\"\n",
    "pd.io.sql.read_sql(query, con = engine)"
   ]
  }
 ],
 "metadata": {
  "ExecuteTimeLog": [
   {
    "duration": 651,
    "start_time": "2022-04-18T07:03:19.848Z"
   },
   {
    "duration": 9923,
    "start_time": "2022-04-18T07:28:25.789Z"
   },
   {
    "duration": 54,
    "start_time": "2022-04-18T07:31:44.072Z"
   },
   {
    "duration": 224,
    "start_time": "2022-04-18T07:32:24.991Z"
   },
   {
    "duration": 20,
    "start_time": "2022-04-18T07:32:44.527Z"
   },
   {
    "duration": 166,
    "start_time": "2022-04-18T07:32:59.889Z"
   },
   {
    "duration": 20,
    "start_time": "2022-04-18T07:33:05.912Z"
   },
   {
    "duration": 16,
    "start_time": "2022-04-18T07:36:02.380Z"
   },
   {
    "duration": 1073,
    "start_time": "2022-04-18T07:41:03.340Z"
   },
   {
    "duration": 17,
    "start_time": "2022-04-18T07:41:36.501Z"
   },
   {
    "duration": 301,
    "start_time": "2022-04-18T07:42:53.486Z"
   },
   {
    "duration": 170,
    "start_time": "2022-04-18T07:43:06.591Z"
   },
   {
    "duration": 186,
    "start_time": "2022-04-18T07:43:11.934Z"
   },
   {
    "duration": 10,
    "start_time": "2022-04-18T07:43:25.350Z"
   },
   {
    "duration": 27,
    "start_time": "2022-04-18T07:43:47.272Z"
   },
   {
    "duration": 11,
    "start_time": "2022-04-18T07:43:49.117Z"
   },
   {
    "duration": 216,
    "start_time": "2022-04-18T07:44:01.600Z"
   },
   {
    "duration": 245,
    "start_time": "2022-04-18T07:44:34.145Z"
   },
   {
    "duration": 212,
    "start_time": "2022-04-18T07:44:51.571Z"
   },
   {
    "duration": 199,
    "start_time": "2022-04-18T07:44:55.362Z"
   },
   {
    "duration": 6,
    "start_time": "2022-04-18T07:46:12.866Z"
   },
   {
    "duration": 8,
    "start_time": "2022-04-18T07:46:52.148Z"
   },
   {
    "duration": 6,
    "start_time": "2022-04-18T07:48:27.766Z"
   },
   {
    "duration": 5,
    "start_time": "2022-04-18T07:48:55.910Z"
   },
   {
    "duration": 5,
    "start_time": "2022-04-18T07:49:27.327Z"
   },
   {
    "duration": 190,
    "start_time": "2022-04-18T07:49:57.985Z"
   },
   {
    "duration": 194,
    "start_time": "2022-04-18T07:50:08.369Z"
   },
   {
    "duration": 30,
    "start_time": "2022-04-18T07:51:08.507Z"
   },
   {
    "duration": 180,
    "start_time": "2022-04-18T07:51:10.714Z"
   },
   {
    "duration": 3,
    "start_time": "2022-04-18T07:53:35.045Z"
   },
   {
    "duration": 190,
    "start_time": "2022-04-18T07:53:56.990Z"
   },
   {
    "duration": 4,
    "start_time": "2022-04-18T07:54:28.191Z"
   },
   {
    "duration": 6,
    "start_time": "2022-04-18T07:54:34.078Z"
   },
   {
    "duration": 5,
    "start_time": "2022-04-18T07:55:02.895Z"
   },
   {
    "duration": 6,
    "start_time": "2022-04-18T07:55:50.081Z"
   },
   {
    "duration": 7,
    "start_time": "2022-04-18T07:56:23.032Z"
   },
   {
    "duration": 199,
    "start_time": "2022-04-18T07:56:39.017Z"
   },
   {
    "duration": 191,
    "start_time": "2022-04-18T07:56:48.786Z"
   },
   {
    "duration": 6,
    "start_time": "2022-04-18T07:57:27.089Z"
   },
   {
    "duration": 4,
    "start_time": "2022-04-18T07:57:36.666Z"
   },
   {
    "duration": 4,
    "start_time": "2022-04-18T07:57:39.466Z"
   },
   {
    "duration": 4,
    "start_time": "2022-04-18T07:57:45.330Z"
   },
   {
    "duration": 5,
    "start_time": "2022-04-18T07:57:49.258Z"
   },
   {
    "duration": 6,
    "start_time": "2022-04-18T07:57:56.699Z"
   },
   {
    "duration": 230,
    "start_time": "2022-04-18T07:58:29.445Z"
   },
   {
    "duration": 173,
    "start_time": "2022-04-18T07:58:39.709Z"
   },
   {
    "duration": 205,
    "start_time": "2022-04-18T07:59:07.113Z"
   },
   {
    "duration": 373,
    "start_time": "2022-04-18T07:59:36.014Z"
   },
   {
    "duration": 391,
    "start_time": "2022-04-18T07:59:49.577Z"
   },
   {
    "duration": 209,
    "start_time": "2022-04-18T08:00:26.247Z"
   },
   {
    "duration": 5,
    "start_time": "2022-04-18T08:00:53.681Z"
   },
   {
    "duration": 9,
    "start_time": "2022-04-18T08:01:07.880Z"
   },
   {
    "duration": 7,
    "start_time": "2022-04-18T08:01:15.408Z"
   },
   {
    "duration": 193,
    "start_time": "2022-04-18T08:03:45.165Z"
   },
   {
    "duration": 20,
    "start_time": "2022-04-18T08:04:21.997Z"
   },
   {
    "duration": 22,
    "start_time": "2022-04-18T08:06:28.754Z"
   },
   {
    "duration": 17,
    "start_time": "2022-04-18T08:06:32.360Z"
   },
   {
    "duration": 16,
    "start_time": "2022-04-18T08:06:37.793Z"
   },
   {
    "duration": 17,
    "start_time": "2022-04-18T08:06:40.273Z"
   },
   {
    "duration": 18,
    "start_time": "2022-04-18T08:06:42.610Z"
   },
   {
    "duration": 4,
    "start_time": "2022-04-18T08:08:30.837Z"
   },
   {
    "duration": 162,
    "start_time": "2022-04-18T08:11:38.353Z"
   },
   {
    "duration": 18,
    "start_time": "2022-04-18T08:11:43.360Z"
   },
   {
    "duration": 226,
    "start_time": "2022-04-18T08:18:39.122Z"
   },
   {
    "duration": 202,
    "start_time": "2022-04-18T08:21:12.534Z"
   },
   {
    "duration": 185,
    "start_time": "2022-04-18T08:24:19.683Z"
   },
   {
    "duration": 212,
    "start_time": "2022-04-18T08:25:12.331Z"
   },
   {
    "duration": 204,
    "start_time": "2022-04-18T08:25:34.596Z"
   },
   {
    "duration": 16,
    "start_time": "2022-04-18T08:25:47.742Z"
   },
   {
    "duration": 16,
    "start_time": "2022-04-18T08:26:15.765Z"
   },
   {
    "duration": 169,
    "start_time": "2022-04-18T08:26:18.653Z"
   },
   {
    "duration": 15,
    "start_time": "2022-04-18T08:26:30.901Z"
   },
   {
    "duration": 16,
    "start_time": "2022-04-18T08:26:57.582Z"
   },
   {
    "duration": 14,
    "start_time": "2022-04-18T08:28:47.946Z"
   },
   {
    "duration": 14,
    "start_time": "2022-04-18T08:28:53.929Z"
   },
   {
    "duration": 15,
    "start_time": "2022-04-18T08:28:59.105Z"
   },
   {
    "duration": 18,
    "start_time": "2022-04-18T08:29:03.521Z"
   },
   {
    "duration": 16,
    "start_time": "2022-04-18T08:29:08.000Z"
   },
   {
    "duration": 513,
    "start_time": "2022-04-18T10:24:06.715Z"
   },
   {
    "duration": 10773,
    "start_time": "2022-04-18T10:24:07.230Z"
   },
   {
    "duration": 251,
    "start_time": "2022-04-18T10:24:18.005Z"
   },
   {
    "duration": 78,
    "start_time": "2022-04-18T10:24:18.259Z"
   },
   {
    "duration": 73,
    "start_time": "2022-04-18T10:24:18.338Z"
   },
   {
    "duration": 73,
    "start_time": "2022-04-18T10:24:18.413Z"
   },
   {
    "duration": 72,
    "start_time": "2022-04-18T10:24:18.487Z"
   },
   {
    "duration": 72,
    "start_time": "2022-04-18T10:24:18.561Z"
   },
   {
    "duration": 72,
    "start_time": "2022-04-18T10:32:27.103Z"
   },
   {
    "duration": 7,
    "start_time": "2022-04-18T10:33:39.489Z"
   },
   {
    "duration": 9,
    "start_time": "2022-04-18T10:35:16.771Z"
   },
   {
    "duration": 85,
    "start_time": "2022-04-18T10:35:31.131Z"
   },
   {
    "duration": 82,
    "start_time": "2022-04-18T10:37:55.023Z"
   },
   {
    "duration": 172,
    "start_time": "2022-04-18T10:44:17.769Z"
   },
   {
    "duration": 186,
    "start_time": "2022-04-18T10:45:51.089Z"
   },
   {
    "duration": 182,
    "start_time": "2022-04-18T10:47:53.646Z"
   },
   {
    "duration": 202,
    "start_time": "2022-04-18T10:49:48.000Z"
   },
   {
    "duration": 1064,
    "start_time": "2022-04-18T10:50:34.387Z"
   },
   {
    "duration": 172,
    "start_time": "2022-04-18T10:51:03.084Z"
   },
   {
    "duration": 227,
    "start_time": "2022-04-18T10:51:52.762Z"
   },
   {
    "duration": 198,
    "start_time": "2022-04-18T10:51:57.515Z"
   },
   {
    "duration": 171,
    "start_time": "2022-04-18T10:52:13.403Z"
   },
   {
    "duration": 172,
    "start_time": "2022-04-18T10:52:52.227Z"
   },
   {
    "duration": 233,
    "start_time": "2022-04-18T10:53:06.365Z"
   },
   {
    "duration": 171,
    "start_time": "2022-04-18T10:53:10.916Z"
   },
   {
    "duration": 176,
    "start_time": "2022-04-18T10:53:14.802Z"
   },
   {
    "duration": 75,
    "start_time": "2022-04-18T10:54:12.493Z"
   },
   {
    "duration": 180,
    "start_time": "2022-04-18T10:55:33.231Z"
   },
   {
    "duration": 199,
    "start_time": "2022-04-18T10:55:41.000Z"
   },
   {
    "duration": 180,
    "start_time": "2022-04-18T10:55:45.520Z"
   },
   {
    "duration": 534,
    "start_time": "2022-04-18T10:56:05.760Z"
   },
   {
    "duration": 181,
    "start_time": "2022-04-18T10:56:26.418Z"
   },
   {
    "duration": 80,
    "start_time": "2022-04-18T11:00:24.468Z"
   },
   {
    "duration": 650,
    "start_time": "2022-04-18T11:00:47.712Z"
   },
   {
    "duration": 83,
    "start_time": "2022-04-18T11:01:12.253Z"
   },
   {
    "duration": 80,
    "start_time": "2022-04-18T11:01:50.321Z"
   },
   {
    "duration": 78,
    "start_time": "2022-04-18T11:02:56.571Z"
   },
   {
    "duration": 79,
    "start_time": "2022-04-18T11:05:10.375Z"
   },
   {
    "duration": 85,
    "start_time": "2022-04-18T11:05:38.515Z"
   },
   {
    "duration": 78,
    "start_time": "2022-04-18T11:05:49.258Z"
   },
   {
    "duration": 71,
    "start_time": "2022-04-18T11:06:21.286Z"
   },
   {
    "duration": 87,
    "start_time": "2022-04-18T11:06:58.818Z"
   },
   {
    "duration": 79,
    "start_time": "2022-04-18T11:07:38.345Z"
   },
   {
    "duration": 86,
    "start_time": "2022-04-18T11:07:51.761Z"
   },
   {
    "duration": 73,
    "start_time": "2022-04-18T11:07:55.306Z"
   },
   {
    "duration": 71,
    "start_time": "2022-04-18T11:07:58.394Z"
   },
   {
    "duration": 78,
    "start_time": "2022-04-18T11:08:04.426Z"
   },
   {
    "duration": 80,
    "start_time": "2022-04-18T11:11:36.616Z"
   },
   {
    "duration": 79,
    "start_time": "2022-04-18T11:12:46.786Z"
   },
   {
    "duration": 78,
    "start_time": "2022-04-18T11:15:42.614Z"
   },
   {
    "duration": 79,
    "start_time": "2022-04-18T11:15:59.807Z"
   },
   {
    "duration": 79,
    "start_time": "2022-04-18T11:16:57.387Z"
   },
   {
    "duration": 126,
    "start_time": "2022-04-18T11:22:42.729Z"
   },
   {
    "duration": 78,
    "start_time": "2022-04-18T11:23:30.204Z"
   },
   {
    "duration": 772,
    "start_time": "2022-04-18T11:25:57.461Z"
   },
   {
    "duration": 192,
    "start_time": "2022-04-18T11:27:01.839Z"
   },
   {
    "duration": 73,
    "start_time": "2022-04-18T11:27:13.296Z"
   },
   {
    "duration": 74,
    "start_time": "2022-04-18T11:27:47.071Z"
   },
   {
    "duration": 168,
    "start_time": "2022-04-18T11:33:23.928Z"
   },
   {
    "duration": 164,
    "start_time": "2022-04-18T11:33:41.800Z"
   },
   {
    "duration": 163,
    "start_time": "2022-04-18T11:33:52.385Z"
   },
   {
    "duration": 79,
    "start_time": "2022-04-18T11:34:51.250Z"
   },
   {
    "duration": 174,
    "start_time": "2022-04-18T11:35:51.924Z"
   },
   {
    "duration": 176,
    "start_time": "2022-04-18T11:36:03.445Z"
   },
   {
    "duration": 610,
    "start_time": "2022-04-18T11:36:19.628Z"
   },
   {
    "duration": 172,
    "start_time": "2022-04-18T11:37:54.343Z"
   },
   {
    "duration": 89,
    "start_time": "2022-04-18T11:38:14.719Z"
   },
   {
    "duration": 157,
    "start_time": "2022-04-18T11:38:46.599Z"
   },
   {
    "duration": 84,
    "start_time": "2022-04-18T11:39:04.512Z"
   },
   {
    "duration": 218,
    "start_time": "2022-04-18T11:40:10.018Z"
   },
   {
    "duration": 83,
    "start_time": "2022-04-18T11:40:26.011Z"
   },
   {
    "duration": 84,
    "start_time": "2022-04-18T11:40:41.049Z"
   },
   {
    "duration": 84,
    "start_time": "2022-04-18T11:41:18.747Z"
   },
   {
    "duration": 1763,
    "start_time": "2022-04-18T11:41:29.563Z"
   },
   {
    "duration": 2023,
    "start_time": "2022-04-18T11:42:16.596Z"
   },
   {
    "duration": 231,
    "start_time": "2022-04-18T11:42:41.733Z"
   },
   {
    "duration": 175,
    "start_time": "2022-04-18T11:43:24.774Z"
   },
   {
    "duration": 70,
    "start_time": "2022-04-18T11:43:27.758Z"
   },
   {
    "duration": 184,
    "start_time": "2022-04-18T11:45:26.722Z"
   },
   {
    "duration": 70,
    "start_time": "2022-04-18T11:47:11.685Z"
   },
   {
    "duration": 610,
    "start_time": "2022-04-18T11:48:49.702Z"
   },
   {
    "duration": 224,
    "start_time": "2022-04-18T11:49:24.096Z"
   },
   {
    "duration": 170,
    "start_time": "2022-04-18T11:49:32.592Z"
   },
   {
    "duration": 160,
    "start_time": "2022-04-18T11:49:50.743Z"
   },
   {
    "duration": 165,
    "start_time": "2022-04-18T11:51:14.626Z"
   },
   {
    "duration": 179,
    "start_time": "2022-04-18T11:52:19.971Z"
   },
   {
    "duration": 165,
    "start_time": "2022-04-18T11:52:32.420Z"
   },
   {
    "duration": 189,
    "start_time": "2022-04-18T11:53:17.572Z"
   },
   {
    "duration": 167,
    "start_time": "2022-04-18T11:56:32.386Z"
   },
   {
    "duration": 172,
    "start_time": "2022-04-18T11:57:41.893Z"
   },
   {
    "duration": 188,
    "start_time": "2022-04-18T11:57:46.547Z"
   },
   {
    "duration": 1991,
    "start_time": "2022-04-18T11:58:13.037Z"
   },
   {
    "duration": 172,
    "start_time": "2022-04-18T11:58:25.980Z"
   },
   {
    "duration": 176,
    "start_time": "2022-04-18T11:59:15.101Z"
   },
   {
    "duration": 166,
    "start_time": "2022-04-18T11:59:19.109Z"
   },
   {
    "duration": 89,
    "start_time": "2022-04-18T12:00:25.662Z"
   },
   {
    "duration": 158,
    "start_time": "2022-04-18T12:00:43.679Z"
   },
   {
    "duration": 175,
    "start_time": "2022-04-18T12:01:13.024Z"
   },
   {
    "duration": 167,
    "start_time": "2022-04-18T12:01:31.416Z"
   },
   {
    "duration": 83,
    "start_time": "2022-04-18T12:01:38.265Z"
   },
   {
    "duration": 178,
    "start_time": "2022-04-18T12:03:00.428Z"
   },
   {
    "duration": 83,
    "start_time": "2022-04-18T12:03:09.708Z"
   },
   {
    "duration": 184,
    "start_time": "2022-04-18T12:03:17.386Z"
   },
   {
    "duration": 79,
    "start_time": "2022-04-18T12:03:52.422Z"
   },
   {
    "duration": 74,
    "start_time": "2022-04-18T12:04:27.101Z"
   },
   {
    "duration": 182,
    "start_time": "2022-04-18T12:05:37.511Z"
   },
   {
    "duration": 177,
    "start_time": "2022-04-18T12:05:59.665Z"
   },
   {
    "duration": 167,
    "start_time": "2022-04-18T12:09:11.532Z"
   },
   {
    "duration": 158,
    "start_time": "2022-04-18T12:09:18.932Z"
   },
   {
    "duration": 199,
    "start_time": "2022-04-18T12:09:22.229Z"
   },
   {
    "duration": 72,
    "start_time": "2022-04-18T12:10:00.662Z"
   },
   {
    "duration": 73,
    "start_time": "2022-04-18T12:10:17.398Z"
   },
   {
    "duration": 176,
    "start_time": "2022-04-18T12:10:34.055Z"
   },
   {
    "duration": 83,
    "start_time": "2022-04-18T12:14:05.437Z"
   },
   {
    "duration": 74,
    "start_time": "2022-04-18T12:14:19.971Z"
   },
   {
    "duration": 72,
    "start_time": "2022-04-18T12:14:40.980Z"
   },
   {
    "duration": 72,
    "start_time": "2022-04-18T12:15:12.061Z"
   },
   {
    "duration": 117,
    "start_time": "2022-04-18T12:16:11.974Z"
   },
   {
    "duration": 72,
    "start_time": "2022-04-18T12:16:30.958Z"
   },
   {
    "duration": 71,
    "start_time": "2022-04-18T12:16:47.503Z"
   },
   {
    "duration": 171,
    "start_time": "2022-04-18T12:30:34.639Z"
   },
   {
    "duration": 96,
    "start_time": "2022-04-18T12:31:12.270Z"
   },
   {
    "duration": 74,
    "start_time": "2022-04-18T12:32:20.639Z"
   },
   {
    "duration": 75,
    "start_time": "2022-04-18T12:33:14.040Z"
   },
   {
    "duration": 79,
    "start_time": "2022-04-18T12:33:20.831Z"
   },
   {
    "duration": 73,
    "start_time": "2022-04-18T12:33:29.912Z"
   },
   {
    "duration": 73,
    "start_time": "2022-04-18T12:33:38.281Z"
   },
   {
    "duration": 198,
    "start_time": "2022-04-18T12:44:18.282Z"
   },
   {
    "duration": 72,
    "start_time": "2022-04-18T12:44:24.138Z"
   },
   {
    "duration": 75,
    "start_time": "2022-04-18T12:46:22.269Z"
   },
   {
    "duration": 74,
    "start_time": "2022-04-18T12:49:53.458Z"
   },
   {
    "duration": 79,
    "start_time": "2022-04-18T12:51:14.470Z"
   },
   {
    "duration": 168,
    "start_time": "2022-04-18T12:52:36.622Z"
   },
   {
    "duration": 196,
    "start_time": "2022-04-18T12:53:25.994Z"
   },
   {
    "duration": 75,
    "start_time": "2022-04-18T12:53:48.792Z"
   },
   {
    "duration": 161,
    "start_time": "2022-04-18T12:55:07.586Z"
   },
   {
    "duration": 79,
    "start_time": "2022-04-18T12:55:55.308Z"
   },
   {
    "duration": 86,
    "start_time": "2022-04-18T12:57:07.406Z"
   },
   {
    "duration": 174,
    "start_time": "2022-04-18T12:58:38.217Z"
   },
   {
    "duration": 164,
    "start_time": "2022-04-18T12:59:50.906Z"
   },
   {
    "duration": 79,
    "start_time": "2022-04-18T13:00:02.508Z"
   },
   {
    "duration": 81,
    "start_time": "2022-04-18T13:02:18.525Z"
   },
   {
    "duration": 80,
    "start_time": "2022-04-18T13:03:33.880Z"
   },
   {
    "duration": 81,
    "start_time": "2022-04-18T13:03:38.336Z"
   },
   {
    "duration": 75,
    "start_time": "2022-04-18T13:04:37.858Z"
   },
   {
    "duration": 77,
    "start_time": "2022-04-18T13:05:02.730Z"
   },
   {
    "duration": 75,
    "start_time": "2022-04-18T13:05:15.882Z"
   },
   {
    "duration": 78,
    "start_time": "2022-04-18T13:05:40.882Z"
   },
   {
    "duration": 163,
    "start_time": "2022-04-18T13:07:07.245Z"
   },
   {
    "duration": 195,
    "start_time": "2022-04-18T13:07:46.039Z"
   },
   {
    "duration": 168,
    "start_time": "2022-04-18T13:07:54.486Z"
   },
   {
    "duration": 75,
    "start_time": "2022-04-18T13:08:00.870Z"
   },
   {
    "duration": 600,
    "start_time": "2022-04-19T07:36:37.122Z"
   },
   {
    "duration": 8856,
    "start_time": "2022-04-19T07:36:37.725Z"
   },
   {
    "duration": 327,
    "start_time": "2022-04-19T07:36:46.583Z"
   },
   {
    "duration": 87,
    "start_time": "2022-04-19T07:36:46.912Z"
   },
   {
    "duration": 94,
    "start_time": "2022-04-19T07:36:47.002Z"
   },
   {
    "duration": 93,
    "start_time": "2022-04-19T07:36:47.098Z"
   },
   {
    "duration": 93,
    "start_time": "2022-04-19T07:36:47.193Z"
   },
   {
    "duration": 91,
    "start_time": "2022-04-19T07:36:47.288Z"
   },
   {
    "duration": 106,
    "start_time": "2022-04-19T07:36:47.381Z"
   },
   {
    "duration": 93,
    "start_time": "2022-04-19T07:36:47.488Z"
   },
   {
    "duration": 102,
    "start_time": "2022-04-19T07:36:47.583Z"
   },
   {
    "duration": 101,
    "start_time": "2022-04-19T07:40:38.851Z"
   },
   {
    "duration": 334,
    "start_time": "2022-04-19T07:41:41.932Z"
   },
   {
    "duration": 103,
    "start_time": "2022-04-19T07:42:04.631Z"
   },
   {
    "duration": 251,
    "start_time": "2022-04-19T07:42:23.031Z"
   },
   {
    "duration": 82,
    "start_time": "2022-04-19T07:42:45.918Z"
   },
   {
    "duration": 257,
    "start_time": "2022-04-19T07:49:01.820Z"
   },
   {
    "duration": 291,
    "start_time": "2022-04-19T07:49:12.663Z"
   },
   {
    "duration": 260,
    "start_time": "2022-04-19T07:49:20.628Z"
   },
   {
    "duration": 260,
    "start_time": "2022-04-19T07:49:25.218Z"
   },
   {
    "duration": 99,
    "start_time": "2022-04-19T07:51:40.073Z"
   },
   {
    "duration": 103,
    "start_time": "2022-04-19T07:52:12.050Z"
   },
   {
    "duration": 92,
    "start_time": "2022-04-19T07:52:45.330Z"
   },
   {
    "duration": 148,
    "start_time": "2022-04-19T08:17:11.537Z"
   },
   {
    "duration": 130,
    "start_time": "2022-04-19T08:23:00.474Z"
   },
   {
    "duration": 258,
    "start_time": "2022-04-19T08:27:00.848Z"
   },
   {
    "duration": 275,
    "start_time": "2022-04-19T08:27:04.352Z"
   },
   {
    "duration": 251,
    "start_time": "2022-04-19T08:27:08.330Z"
   },
   {
    "duration": 241,
    "start_time": "2022-04-19T08:27:18.234Z"
   },
   {
    "duration": 110,
    "start_time": "2022-04-19T08:27:37.345Z"
   },
   {
    "duration": 234,
    "start_time": "2022-04-19T08:28:23.466Z"
   },
   {
    "duration": 259,
    "start_time": "2022-04-19T08:28:27.824Z"
   },
   {
    "duration": 249,
    "start_time": "2022-04-19T08:28:31.978Z"
   },
   {
    "duration": 241,
    "start_time": "2022-04-19T08:28:34.522Z"
   },
   {
    "duration": 127,
    "start_time": "2022-04-19T08:28:52.929Z"
   },
   {
    "duration": 129,
    "start_time": "2022-04-19T08:29:25.118Z"
   },
   {
    "duration": 142,
    "start_time": "2022-04-19T08:31:35.159Z"
   },
   {
    "duration": 542,
    "start_time": "2022-04-19T11:43:57.975Z"
   },
   {
    "duration": 7363,
    "start_time": "2022-04-19T11:43:58.519Z"
   },
   {
    "duration": 210,
    "start_time": "2022-04-19T11:44:05.883Z"
   },
   {
    "duration": 62,
    "start_time": "2022-04-19T11:44:06.095Z"
   },
   {
    "duration": 63,
    "start_time": "2022-04-19T11:44:06.159Z"
   },
   {
    "duration": 62,
    "start_time": "2022-04-19T11:44:06.224Z"
   },
   {
    "duration": 62,
    "start_time": "2022-04-19T11:44:06.288Z"
   },
   {
    "duration": 61,
    "start_time": "2022-04-19T11:44:06.352Z"
   },
   {
    "duration": 95,
    "start_time": "2022-04-19T11:44:06.415Z"
   },
   {
    "duration": 64,
    "start_time": "2022-04-19T11:44:06.512Z"
   },
   {
    "duration": 66,
    "start_time": "2022-04-19T11:44:06.577Z"
   },
   {
    "duration": 66,
    "start_time": "2022-04-19T11:44:06.644Z"
   },
   {
    "duration": 96,
    "start_time": "2022-04-19T11:44:50.829Z"
   },
   {
    "duration": 94,
    "start_time": "2022-04-19T11:45:03.980Z"
   },
   {
    "duration": 67,
    "start_time": "2022-04-19T11:45:21.597Z"
   },
   {
    "duration": 65,
    "start_time": "2022-04-19T11:45:28.120Z"
   }
  ],
  "kernelspec": {
   "display_name": "Python 3",
   "language": "python",
   "name": "python3"
  },
  "language_info": {
   "codemirror_mode": {
    "name": "ipython",
    "version": 3
   },
   "file_extension": ".py",
   "mimetype": "text/x-python",
   "name": "python",
   "nbconvert_exporter": "python",
   "pygments_lexer": "ipython3",
   "version": "3.8.8"
  },
  "toc": {
   "base_numbering": 1,
   "nav_menu": {},
   "number_sections": false,
   "sideBar": true,
   "skip_h1_title": false,
   "title_cell": "Table of Contents",
   "title_sidebar": "Contents",
   "toc_cell": false,
   "toc_position": {},
   "toc_section_display": true,
   "toc_window_display": true
  }
 },
 "nbformat": 4,
 "nbformat_minor": 2
}
