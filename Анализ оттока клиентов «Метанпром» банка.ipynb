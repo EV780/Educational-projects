{
 "cells": [
  {
   "cell_type": "markdown",
   "id": "593816e4",
   "metadata": {},
   "source": [
    "**Задача:**\n",
    "\n",
    "Проанализируйте клиентов регионального банка и выделите портрет клиентов, которые склонны уходить из банка.\n",
    "\n",
    "- Проведите исследовательский анализ данных\n",
    "- Выделите портреты клиентов, которые склонны уходить из банка\n",
    "- Сформулируйте и проверьте статистические гипотезы"
   ]
  },
  {
   "cell_type": "markdown",
   "id": "13e09ce7",
   "metadata": {},
   "source": [
    "**Описание датасета**\n",
    "\n",
    "Датасет содержит данные о клиентах банка «Метанпром». Банк располагается в Ярославле и областных городах: Ростов Великий и Рыбинск.\n",
    "\n",
    "Колонки:\n",
    "\n",
    "- `userid` — идентификатор пользователя,\n",
    "- `score` — баллы кредитного скоринга,\n",
    "- `City` — город,\n",
    "- `Gender` — пол,\n",
    "- `Age` — возраст,\n",
    "- `Objects` — количество объектов в собственности,\n",
    "- `Balance` — баланс на счёте,\n",
    "- `Products` — количество продуктов, которыми пользуется клиент,\n",
    "- `CreditCard` — есть ли кредитная карта,\n",
    "- `Loyalty` — активный клиент,\n",
    "- `estimated_salary` — заработная плата клиента,\n",
    "- `Churn` — ушёл или нет."
   ]
  },
  {
   "cell_type": "markdown",
   "id": "4b444d6c",
   "metadata": {},
   "source": [
    "## Загрузка данных и изучение общей информации"
   ]
  },
  {
   "cell_type": "code",
   "execution_count": 1,
   "id": "9731bbbf",
   "metadata": {},
   "outputs": [],
   "source": [
    "import pandas as pd\n",
    "import seaborn as sns\n",
    "import matplotlib.pyplot as plt\n",
    "from scipy import stats as st\n",
    "import numpy as np"
   ]
  },
  {
   "cell_type": "code",
   "execution_count": 2,
   "id": "396f96e1",
   "metadata": {},
   "outputs": [
    {
     "name": "stdout",
     "output_type": "stream",
     "text": [
      "<class 'pandas.core.frame.DataFrame'>\n",
      "RangeIndex: 10000 entries, 0 to 9999\n",
      "Data columns (total 12 columns):\n",
      " #   Column            Non-Null Count  Dtype  \n",
      "---  ------            --------------  -----  \n",
      " 0   userid            10000 non-null  int64  \n",
      " 1   score             10000 non-null  int64  \n",
      " 2   City              10000 non-null  object \n",
      " 3   Gender            10000 non-null  object \n",
      " 4   Age               10000 non-null  int64  \n",
      " 5   Objects           10000 non-null  int64  \n",
      " 6   Balance           6383 non-null   float64\n",
      " 7   Products          10000 non-null  int64  \n",
      " 8   CreditCard        10000 non-null  int64  \n",
      " 9   Loyalty           10000 non-null  int64  \n",
      " 10  estimated_salary  10000 non-null  float64\n",
      " 11  Churn             10000 non-null  int64  \n",
      "dtypes: float64(2), int64(8), object(2)\n",
      "memory usage: 937.6+ KB\n"
     ]
    },
    {
     "data": {
      "text/html": [
       "<div>\n",
       "<style scoped>\n",
       "    .dataframe tbody tr th:only-of-type {\n",
       "        vertical-align: middle;\n",
       "    }\n",
       "\n",
       "    .dataframe tbody tr th {\n",
       "        vertical-align: top;\n",
       "    }\n",
       "\n",
       "    .dataframe thead th {\n",
       "        text-align: right;\n",
       "    }\n",
       "</style>\n",
       "<table border=\"1\" class=\"dataframe\">\n",
       "  <thead>\n",
       "    <tr style=\"text-align: right;\">\n",
       "      <th></th>\n",
       "      <th>userid</th>\n",
       "      <th>score</th>\n",
       "      <th>City</th>\n",
       "      <th>Gender</th>\n",
       "      <th>Age</th>\n",
       "      <th>Objects</th>\n",
       "      <th>Balance</th>\n",
       "      <th>Products</th>\n",
       "      <th>CreditCard</th>\n",
       "      <th>Loyalty</th>\n",
       "      <th>estimated_salary</th>\n",
       "      <th>Churn</th>\n",
       "    </tr>\n",
       "  </thead>\n",
       "  <tbody>\n",
       "    <tr>\n",
       "      <th>0</th>\n",
       "      <td>15677338</td>\n",
       "      <td>619</td>\n",
       "      <td>Ярославль</td>\n",
       "      <td>Ж</td>\n",
       "      <td>42</td>\n",
       "      <td>2</td>\n",
       "      <td>NaN</td>\n",
       "      <td>1</td>\n",
       "      <td>1</td>\n",
       "      <td>1</td>\n",
       "      <td>101348.88</td>\n",
       "      <td>1</td>\n",
       "    </tr>\n",
       "    <tr>\n",
       "      <th>1</th>\n",
       "      <td>15690047</td>\n",
       "      <td>608</td>\n",
       "      <td>Рыбинск</td>\n",
       "      <td>Ж</td>\n",
       "      <td>41</td>\n",
       "      <td>1</td>\n",
       "      <td>83807.86</td>\n",
       "      <td>1</td>\n",
       "      <td>0</td>\n",
       "      <td>1</td>\n",
       "      <td>112542.58</td>\n",
       "      <td>0</td>\n",
       "    </tr>\n",
       "    <tr>\n",
       "      <th>2</th>\n",
       "      <td>15662040</td>\n",
       "      <td>502</td>\n",
       "      <td>Ярославль</td>\n",
       "      <td>Ж</td>\n",
       "      <td>42</td>\n",
       "      <td>8</td>\n",
       "      <td>159660.80</td>\n",
       "      <td>3</td>\n",
       "      <td>1</td>\n",
       "      <td>0</td>\n",
       "      <td>113931.57</td>\n",
       "      <td>1</td>\n",
       "    </tr>\n",
       "    <tr>\n",
       "      <th>3</th>\n",
       "      <td>15744090</td>\n",
       "      <td>699</td>\n",
       "      <td>Ярославль</td>\n",
       "      <td>Ж</td>\n",
       "      <td>39</td>\n",
       "      <td>1</td>\n",
       "      <td>NaN</td>\n",
       "      <td>2</td>\n",
       "      <td>0</td>\n",
       "      <td>0</td>\n",
       "      <td>93826.63</td>\n",
       "      <td>0</td>\n",
       "    </tr>\n",
       "    <tr>\n",
       "      <th>4</th>\n",
       "      <td>15780624</td>\n",
       "      <td>850</td>\n",
       "      <td>Рыбинск</td>\n",
       "      <td>Ж</td>\n",
       "      <td>43</td>\n",
       "      <td>2</td>\n",
       "      <td>125510.82</td>\n",
       "      <td>1</td>\n",
       "      <td>1</td>\n",
       "      <td>1</td>\n",
       "      <td>79084.10</td>\n",
       "      <td>0</td>\n",
       "    </tr>\n",
       "  </tbody>\n",
       "</table>\n",
       "</div>"
      ],
      "text/plain": [
       "     userid  score       City Gender  Age  Objects    Balance  Products  \\\n",
       "0  15677338    619  Ярославль      Ж   42        2        NaN         1   \n",
       "1  15690047    608    Рыбинск      Ж   41        1   83807.86         1   \n",
       "2  15662040    502  Ярославль      Ж   42        8  159660.80         3   \n",
       "3  15744090    699  Ярославль      Ж   39        1        NaN         2   \n",
       "4  15780624    850    Рыбинск      Ж   43        2  125510.82         1   \n",
       "\n",
       "   CreditCard  Loyalty  estimated_salary  Churn  \n",
       "0           1        1         101348.88      1  \n",
       "1           0        1         112542.58      0  \n",
       "2           1        0         113931.57      1  \n",
       "3           0        0          93826.63      0  \n",
       "4           1        1          79084.10      0  "
      ]
     },
     "execution_count": 2,
     "metadata": {},
     "output_type": "execute_result"
    }
   ],
   "source": [
    "df = pd.read_csv('/datasets/bank_dataset.csv')\n",
    "df.info()\n",
    "df.head()"
   ]
  },
  {
   "cell_type": "markdown",
   "id": "cac5dab8",
   "metadata": {},
   "source": [
    "**Выводы:**\n",
    "- Типы данных корректны\n",
    "- Присутствуют многочисленные пропуски в колонке `Balance`"
   ]
  },
  {
   "cell_type": "markdown",
   "id": "41f9e604",
   "metadata": {},
   "source": [
    "## Предобработка данных"
   ]
  },
  {
   "cell_type": "code",
   "execution_count": 3,
   "id": "ae6859fb",
   "metadata": {
    "scrolled": true
   },
   "outputs": [
    {
     "data": {
      "text/plain": [
       "0"
      ]
     },
     "execution_count": 3,
     "metadata": {},
     "output_type": "execute_result"
    }
   ],
   "source": [
    "# Приведем названия колонок к нижнему регистру\n",
    "\n",
    "df.columns = map(str.lower, df.columns)\n",
    "\n",
    "# Подсчитаем количество явных дубликатов\n",
    "\n",
    "df.duplicated().sum()"
   ]
  },
  {
   "cell_type": "code",
   "execution_count": 4,
   "id": "0a9c6728",
   "metadata": {
    "scrolled": false
   },
   "outputs": [
    {
     "data": {
      "text/plain": [
       "0"
      ]
     },
     "execution_count": 4,
     "metadata": {},
     "output_type": "execute_result"
    }
   ],
   "source": [
    "# Подсчитаем количество дубликатов в колонке 'userid'\n",
    "\n",
    "df['userid'].duplicated().sum()"
   ]
  },
  {
   "cell_type": "code",
   "execution_count": 5,
   "id": "88093731",
   "metadata": {},
   "outputs": [
    {
     "data": {
      "text/plain": [
       "array(['Ярославль', 'Рыбинск', 'Ростов Великий'], dtype=object)"
      ]
     },
     "execution_count": 5,
     "metadata": {},
     "output_type": "execute_result"
    }
   ],
   "source": [
    "# Проверка на наличие неявных дубликатов в колонке 'city'\n",
    "\n",
    "df['city'].unique()"
   ]
  },
  {
   "cell_type": "markdown",
   "id": "6a8f129f",
   "metadata": {},
   "source": [
    "Проверим, отличаются ли средние значения у клиентов с пропусками в колонке `balance` от всех остальных"
   ]
  },
  {
   "cell_type": "code",
   "execution_count": 6,
   "id": "a547650d",
   "metadata": {},
   "outputs": [
    {
     "data": {
      "text/plain": [
       "score                 649.452861\n",
       "age                    38.434891\n",
       "objects                 5.071330\n",
       "balance                      NaN\n",
       "products                1.784628\n",
       "creditcard              0.716616\n",
       "loyalty                 0.517832\n",
       "estimated_salary    98983.559549\n",
       "churn                   0.138236\n",
       "dtype: float64"
      ]
     },
     "execution_count": 6,
     "metadata": {},
     "output_type": "execute_result"
    }
   ],
   "source": [
    "df.drop(columns=['userid'])[df['balance'].isna()].mean()"
   ]
  },
  {
   "cell_type": "code",
   "execution_count": 7,
   "id": "391e81d5",
   "metadata": {},
   "outputs": [
    {
     "data": {
      "text/plain": [
       "score                  650.528800\n",
       "age                     38.921800\n",
       "objects                  5.012800\n",
       "balance             119827.493793\n",
       "products                 1.530200\n",
       "creditcard               0.705500\n",
       "loyalty                  0.515100\n",
       "estimated_salary    100090.239881\n",
       "churn                    0.203700\n",
       "dtype: float64"
      ]
     },
     "execution_count": 7,
     "metadata": {},
     "output_type": "execute_result"
    }
   ],
   "source": [
    "df.drop(columns=['userid']).mean()"
   ]
  },
  {
   "cell_type": "markdown",
   "id": "7429cfd8",
   "metadata": {},
   "source": [
    "Клиенты с пропусками в `balance` менее склонны к оттоку и в среднем пользуются несколько большим количеством продуктов, но различие не слишком значительное"
   ]
  },
  {
   "cell_type": "code",
   "execution_count": 8,
   "id": "70c117d3",
   "metadata": {
    "scrolled": false
   },
   "outputs": [
    {
     "data": {
      "image/png": "[encoded data removed]",
      "text/plain": [
       "<Figure size 1008x288 with 2 Axes>"
      ]
     },
     "metadata": {
      "needs_background": "light"
     },
     "output_type": "display_data"
    }
   ],
   "source": [
    "plt.subplots(figsize = (14, 4))\n",
    "sns.histplot(df['city'], bins=3, ax = plt.subplot(1, 2, 1))\n",
    "plt.title(f'Распределение по городам всех клиентов')\n",
    "sns.histplot(df[df['balance'].isna()]['city'], bins=3, ax = plt.subplot(1, 2, 2))\n",
    "plt.title(f'Распределение по городам клиентов с пропусками в balance')\n",
    "plt.show()"
   ]
  },
  {
   "cell_type": "markdown",
   "id": "98a4b4af",
   "metadata": {},
   "source": [
    "Пропуски в колонке `balance` наблюдаются только у клиентов из Рыбинска и Ярославля, однако данная информация не поможет в обработке пропущенных значений\n",
    "\n",
    "Подсчитаем количество клиентов с нулевым балансом на счёте"
   ]
  },
  {
   "cell_type": "code",
   "execution_count": 9,
   "id": "4ac24624",
   "metadata": {
    "scrolled": true
   },
   "outputs": [
    {
     "data": {
      "text/plain": [
       "0"
      ]
     },
     "execution_count": 9,
     "metadata": {},
     "output_type": "execute_result"
    }
   ],
   "source": [
    "df[df['balance'] == 0]['userid'].count()"
   ]
  },
  {
   "cell_type": "markdown",
   "id": "6157ae22",
   "metadata": {},
   "source": [
    "**Выводы:**\n",
    "- Названия колонок приведены к нижнему регистру\n",
    "- Дубликатов не найдено\n",
    "- Присутствие многочисленных пропусков в колонке `balance` вероятно связано с отсутствием у клиента дебетового счета, в кредитной организации не могли потерять столь важную информацию"
   ]
  },
  {
   "cell_type": "markdown",
   "id": "9b987ef6",
   "metadata": {},
   "source": [
    "## Исследовательский анализ данных"
   ]
  },
  {
   "cell_type": "markdown",
   "id": "9526675c",
   "metadata": {},
   "source": [
    "### Более детально изучим датасет"
   ]
  },
  {
   "cell_type": "code",
   "execution_count": 10,
   "id": "1538de2f",
   "metadata": {},
   "outputs": [
    {
     "data": {
      "text/html": [
       "<div>\n",
       "<style scoped>\n",
       "    .dataframe tbody tr th:only-of-type {\n",
       "        vertical-align: middle;\n",
       "    }\n",
       "\n",
       "    .dataframe tbody tr th {\n",
       "        vertical-align: top;\n",
       "    }\n",
       "\n",
       "    .dataframe thead th {\n",
       "        text-align: right;\n",
       "    }\n",
       "</style>\n",
       "<table border=\"1\" class=\"dataframe\">\n",
       "  <thead>\n",
       "    <tr style=\"text-align: right;\">\n",
       "      <th></th>\n",
       "      <th>score</th>\n",
       "      <th>age</th>\n",
       "      <th>objects</th>\n",
       "      <th>balance</th>\n",
       "      <th>products</th>\n",
       "      <th>creditcard</th>\n",
       "      <th>loyalty</th>\n",
       "      <th>estimated_salary</th>\n",
       "      <th>churn</th>\n",
       "    </tr>\n",
       "  </thead>\n",
       "  <tbody>\n",
       "    <tr>\n",
       "      <th>count</th>\n",
       "      <td>10000.000000</td>\n",
       "      <td>10000.000000</td>\n",
       "      <td>10000.000000</td>\n",
       "      <td>6383.000000</td>\n",
       "      <td>10000.000000</td>\n",
       "      <td>10000.00000</td>\n",
       "      <td>10000.000000</td>\n",
       "      <td>10000.000000</td>\n",
       "      <td>10000.000000</td>\n",
       "    </tr>\n",
       "    <tr>\n",
       "      <th>mean</th>\n",
       "      <td>650.528800</td>\n",
       "      <td>38.921800</td>\n",
       "      <td>5.012800</td>\n",
       "      <td>119827.493793</td>\n",
       "      <td>1.530200</td>\n",
       "      <td>0.70550</td>\n",
       "      <td>0.515100</td>\n",
       "      <td>100090.239881</td>\n",
       "      <td>0.203700</td>\n",
       "    </tr>\n",
       "    <tr>\n",
       "      <th>std</th>\n",
       "      <td>96.653299</td>\n",
       "      <td>10.487806</td>\n",
       "      <td>2.892174</td>\n",
       "      <td>30095.056462</td>\n",
       "      <td>0.581654</td>\n",
       "      <td>0.45584</td>\n",
       "      <td>0.499797</td>\n",
       "      <td>57510.492818</td>\n",
       "      <td>0.402769</td>\n",
       "    </tr>\n",
       "    <tr>\n",
       "      <th>min</th>\n",
       "      <td>350.000000</td>\n",
       "      <td>18.000000</td>\n",
       "      <td>0.000000</td>\n",
       "      <td>3768.690000</td>\n",
       "      <td>1.000000</td>\n",
       "      <td>0.00000</td>\n",
       "      <td>0.000000</td>\n",
       "      <td>11.580000</td>\n",
       "      <td>0.000000</td>\n",
       "    </tr>\n",
       "    <tr>\n",
       "      <th>25%</th>\n",
       "      <td>584.000000</td>\n",
       "      <td>32.000000</td>\n",
       "      <td>3.000000</td>\n",
       "      <td>100181.975000</td>\n",
       "      <td>1.000000</td>\n",
       "      <td>0.00000</td>\n",
       "      <td>0.000000</td>\n",
       "      <td>51002.110000</td>\n",
       "      <td>0.000000</td>\n",
       "    </tr>\n",
       "    <tr>\n",
       "      <th>50%</th>\n",
       "      <td>652.000000</td>\n",
       "      <td>37.000000</td>\n",
       "      <td>5.000000</td>\n",
       "      <td>119839.690000</td>\n",
       "      <td>1.000000</td>\n",
       "      <td>1.00000</td>\n",
       "      <td>1.000000</td>\n",
       "      <td>100193.915000</td>\n",
       "      <td>0.000000</td>\n",
       "    </tr>\n",
       "    <tr>\n",
       "      <th>75%</th>\n",
       "      <td>718.000000</td>\n",
       "      <td>44.000000</td>\n",
       "      <td>7.000000</td>\n",
       "      <td>139512.290000</td>\n",
       "      <td>2.000000</td>\n",
       "      <td>1.00000</td>\n",
       "      <td>1.000000</td>\n",
       "      <td>149388.247500</td>\n",
       "      <td>0.000000</td>\n",
       "    </tr>\n",
       "    <tr>\n",
       "      <th>max</th>\n",
       "      <td>850.000000</td>\n",
       "      <td>92.000000</td>\n",
       "      <td>10.000000</td>\n",
       "      <td>250898.090000</td>\n",
       "      <td>4.000000</td>\n",
       "      <td>1.00000</td>\n",
       "      <td>1.000000</td>\n",
       "      <td>199992.480000</td>\n",
       "      <td>1.000000</td>\n",
       "    </tr>\n",
       "  </tbody>\n",
       "</table>\n",
       "</div>"
      ],
      "text/plain": [
       "              score           age       objects        balance      products  \\\n",
       "count  10000.000000  10000.000000  10000.000000    6383.000000  10000.000000   \n",
       "mean     650.528800     38.921800      5.012800  119827.493793      1.530200   \n",
       "std       96.653299     10.487806      2.892174   30095.056462      0.581654   \n",
       "min      350.000000     18.000000      0.000000    3768.690000      1.000000   \n",
       "25%      584.000000     32.000000      3.000000  100181.975000      1.000000   \n",
       "50%      652.000000     37.000000      5.000000  119839.690000      1.000000   \n",
       "75%      718.000000     44.000000      7.000000  139512.290000      2.000000   \n",
       "max      850.000000     92.000000     10.000000  250898.090000      4.000000   \n",
       "\n",
       "        creditcard       loyalty  estimated_salary         churn  \n",
       "count  10000.00000  10000.000000      10000.000000  10000.000000  \n",
       "mean       0.70550      0.515100     100090.239881      0.203700  \n",
       "std        0.45584      0.499797      57510.492818      0.402769  \n",
       "min        0.00000      0.000000         11.580000      0.000000  \n",
       "25%        0.00000      0.000000      51002.110000      0.000000  \n",
       "50%        1.00000      1.000000     100193.915000      0.000000  \n",
       "75%        1.00000      1.000000     149388.247500      0.000000  \n",
       "max        1.00000      1.000000     199992.480000      1.000000  "
      ]
     },
     "execution_count": 10,
     "metadata": {},
     "output_type": "execute_result"
    }
   ],
   "source": [
    "df.drop(columns=['userid']).describe()"
   ]
  },
  {
   "cell_type": "markdown",
   "id": "7117cc01",
   "metadata": {},
   "source": [
    "Никаких явных аномалий в данных не наблюдается"
   ]
  },
  {
   "cell_type": "markdown",
   "id": "67b15634",
   "metadata": {},
   "source": [
    "### Изучим средние значения в двух группах — тех, кто ушел в отток и тех, кто остался"
   ]
  },
  {
   "cell_type": "code",
   "execution_count": 11,
   "id": "f932a0e6",
   "metadata": {
    "scrolled": true
   },
   "outputs": [
    {
     "data": {
      "text/html": [
       "<div>\n",
       "<style scoped>\n",
       "    .dataframe tbody tr th:only-of-type {\n",
       "        vertical-align: middle;\n",
       "    }\n",
       "\n",
       "    .dataframe tbody tr th {\n",
       "        vertical-align: top;\n",
       "    }\n",
       "\n",
       "    .dataframe thead th {\n",
       "        text-align: right;\n",
       "    }\n",
       "</style>\n",
       "<table border=\"1\" class=\"dataframe\">\n",
       "  <thead>\n",
       "    <tr style=\"text-align: right;\">\n",
       "      <th></th>\n",
       "      <th>score</th>\n",
       "      <th>age</th>\n",
       "      <th>objects</th>\n",
       "      <th>balance</th>\n",
       "      <th>products</th>\n",
       "      <th>creditcard</th>\n",
       "      <th>loyalty</th>\n",
       "      <th>estimated_salary</th>\n",
       "    </tr>\n",
       "    <tr>\n",
       "      <th>churn</th>\n",
       "      <th></th>\n",
       "      <th></th>\n",
       "      <th></th>\n",
       "      <th></th>\n",
       "      <th></th>\n",
       "      <th></th>\n",
       "      <th></th>\n",
       "      <th></th>\n",
       "    </tr>\n",
       "  </thead>\n",
       "  <tbody>\n",
       "    <tr>\n",
       "      <th>0</th>\n",
       "      <td>651.853196</td>\n",
       "      <td>37.408389</td>\n",
       "      <td>5.033279</td>\n",
       "      <td>119535.864270</td>\n",
       "      <td>1.544267</td>\n",
       "      <td>0.707146</td>\n",
       "      <td>0.554565</td>\n",
       "      <td>99738.391772</td>\n",
       "    </tr>\n",
       "    <tr>\n",
       "      <th>1</th>\n",
       "      <td>645.351497</td>\n",
       "      <td>44.837997</td>\n",
       "      <td>4.932744</td>\n",
       "      <td>120746.971132</td>\n",
       "      <td>1.475209</td>\n",
       "      <td>0.699067</td>\n",
       "      <td>0.360825</td>\n",
       "      <td>101465.677531</td>\n",
       "    </tr>\n",
       "  </tbody>\n",
       "</table>\n",
       "</div>"
      ],
      "text/plain": [
       "            score        age   objects        balance  products  creditcard  \\\n",
       "churn                                                                         \n",
       "0      651.853196  37.408389  5.033279  119535.864270  1.544267    0.707146   \n",
       "1      645.351497  44.837997  4.932744  120746.971132  1.475209    0.699067   \n",
       "\n",
       "        loyalty  estimated_salary  \n",
       "churn                              \n",
       "0      0.554565      99738.391772  \n",
       "1      0.360825     101465.677531  "
      ]
     },
     "execution_count": 11,
     "metadata": {},
     "output_type": "execute_result"
    }
   ],
   "source": [
    "df.drop(columns=['userid']).groupby('churn').mean()"
   ]
  },
  {
   "cell_type": "markdown",
   "id": "3f2a8227",
   "metadata": {},
   "source": [
    "В среднем менее активные клиенты и клиенты старшего возраста более склонны к оттоку"
   ]
  },
  {
   "cell_type": "markdown",
   "id": "0960ef19",
   "metadata": {},
   "source": [
    "### Построим гистограммы для тех, кто ушёл (отток) и тех, кто остался (не попали в отток)"
   ]
  },
  {
   "cell_type": "code",
   "execution_count": 12,
   "id": "7ab10e3e",
   "metadata": {
    "scrolled": true
   },
   "outputs": [
    {
     "data": {
      "image/png": "[encoded data removed]",
      "text/plain": [
       "<Figure size 1008x288 with 2 Axes>"
      ]
     },
     "metadata": {
      "needs_background": "light"
     },
     "output_type": "display_data"
    },
    {
     "data": {
      "image/png": "[encoded data removed]",
      "text/plain": [
       "<Figure size 1008x288 with 2 Axes>"
      ]
     },
     "metadata": {
      "needs_background": "light"
     },
     "output_type": "display_data"
    },
    {
     "data": {
      "image/png": "[encoded data removed]",
      "text/plain": [
       "<Figure size 1008x288 with 2 Axes>"
      ]
     },
     "metadata": {
      "needs_background": "light"
     },
     "output_type": "display_data"
    },
    {
     "data": {
      "image/png": "[encoded data removed]",
      "text/plain": [
       "<Figure size 1008x288 with 2 Axes>"
      ]
     },
     "metadata": {
      "needs_background": "light"
     },
     "output_type": "display_data"
    },
    {
     "data": {
      "image/png": "[encoded data removed]",
      "text/plain": [
       "<Figure size 1008x288 with 2 Axes>"
      ]
     },
     "metadata": {
      "needs_background": "light"
     },
     "output_type": "display_data"
    },
    {
     "data": {
      "image/png": "[encoded data removed]",
      "text/plain": [
       "<Figure size 1008x288 with 2 Axes>"
      ]
     },
     "metadata": {
      "needs_background": "light"
     },
     "output_type": "display_data"
    },
    {
     "data": {
      "image/png": "[encoded data removed]",
      "text/plain": [
       "<Figure size 1008x288 with 2 Axes>"
      ]
     },
     "metadata": {
      "needs_background": "light"
     },
     "output_type": "display_data"
    },
    {
     "data": {
      "image/png": "[encoded data removed]",
      "text/plain": [
       "<Figure size 1008x288 with 2 Axes>"
      ]
     },
     "metadata": {
      "needs_background": "light"
     },
     "output_type": "display_data"
    },
    {
     "data": {
      "image/png": "[encoded data removed]",
      "text/plain": [
       "<Figure size 1008x288 with 2 Axes>"
      ]
     },
     "metadata": {
      "needs_background": "light"
     },
     "output_type": "display_data"
    },
    {
     "data": {
      "image/png": "[encoded data removed]",
      "text/plain": [
       "<Figure size 1008x288 with 2 Axes>"
      ]
     },
     "metadata": {
      "needs_background": "light"
     },
     "output_type": "display_data"
    }
   ],
   "source": [
    "for feature in df.drop(columns=['userid', 'churn']):\n",
    "    plt.subplots(figsize = (14, 4))\n",
    "    sns.histplot(df.query('churn == 0')[feature], bins=10, ax = plt.subplot(1, 2, 1))\n",
    "    plt.title(f'Те кто остался по признаку {feature}')\n",
    "    sns.histplot(df.query('churn == 1')[feature], bins=10, ax = plt.subplot(1, 2, 2))\n",
    "    plt.title(f'Те кто ушел по признаку {feature}')\n",
    "    plt.show()"
   ]
  },
  {
   "cell_type": "markdown",
   "id": "e4bc0b29",
   "metadata": {},
   "source": [
    "- Заметно больший отток, по сравнению с другими городами, наблюдается в городе Ростов Великий\n",
    "- Клиенты женского пола более склонны к оттоку\n",
    "- Ушедшие клиенты, в большинстве своем, пользовались всего 1 продуктом"
   ]
  },
  {
   "cell_type": "markdown",
   "id": "c2f392c1",
   "metadata": {},
   "source": [
    "### Построим матрицу корреляций"
   ]
  },
  {
   "cell_type": "code",
   "execution_count": 13,
   "id": "9ec5d39f",
   "metadata": {
    "scrolled": true
   },
   "outputs": [
    {
     "data": {
      "image/png": "[encoded data removed]",
      "text/plain": [
       "<Figure size 1008x1008 with 2 Axes>"
      ]
     },
     "metadata": {
      "needs_background": "light"
     },
     "output_type": "display_data"
    }
   ],
   "source": [
    "cm = df.drop(columns=['userid']).corr()\n",
    "\n",
    "plt.figure(figsize=(14, 14))\n",
    "sns.heatmap(cm, annot=True, square=True)\n",
    "plt.show()"
   ]
  },
  {
   "cell_type": "markdown",
   "id": "4fc5ba1a",
   "metadata": {},
   "source": [
    "Можно заметить слабую корреляцию с целевой переменной `churn` у признаков `age` и `loyalty`"
   ]
  },
  {
   "cell_type": "markdown",
   "id": "7c4cc0e8",
   "metadata": {},
   "source": [
    "### Рассмотрим средние значения для каждого города"
   ]
  },
  {
   "cell_type": "code",
   "execution_count": 14,
   "id": "4094bce3",
   "metadata": {
    "scrolled": false
   },
   "outputs": [
    {
     "data": {
      "text/html": [
       "<div>\n",
       "<style scoped>\n",
       "    .dataframe tbody tr th:only-of-type {\n",
       "        vertical-align: middle;\n",
       "    }\n",
       "\n",
       "    .dataframe tbody tr th {\n",
       "        vertical-align: top;\n",
       "    }\n",
       "\n",
       "    .dataframe thead th {\n",
       "        text-align: right;\n",
       "    }\n",
       "</style>\n",
       "<table border=\"1\" class=\"dataframe\">\n",
       "  <thead>\n",
       "    <tr style=\"text-align: right;\">\n",
       "      <th></th>\n",
       "      <th>score</th>\n",
       "      <th>age</th>\n",
       "      <th>objects</th>\n",
       "      <th>balance</th>\n",
       "      <th>products</th>\n",
       "      <th>creditcard</th>\n",
       "      <th>loyalty</th>\n",
       "      <th>estimated_salary</th>\n",
       "      <th>churn</th>\n",
       "    </tr>\n",
       "    <tr>\n",
       "      <th>city</th>\n",
       "      <th></th>\n",
       "      <th></th>\n",
       "      <th></th>\n",
       "      <th></th>\n",
       "      <th></th>\n",
       "      <th></th>\n",
       "      <th></th>\n",
       "      <th></th>\n",
       "      <th></th>\n",
       "    </tr>\n",
       "  </thead>\n",
       "  <tbody>\n",
       "    <tr>\n",
       "      <th>Ростов Великий</th>\n",
       "      <td>651.453567</td>\n",
       "      <td>39.771622</td>\n",
       "      <td>5.009964</td>\n",
       "      <td>119730.116134</td>\n",
       "      <td>1.519729</td>\n",
       "      <td>0.713830</td>\n",
       "      <td>0.497409</td>\n",
       "      <td>101113.435102</td>\n",
       "      <td>0.324432</td>\n",
       "    </tr>\n",
       "    <tr>\n",
       "      <th>Рыбинск</th>\n",
       "      <td>651.333872</td>\n",
       "      <td>38.890997</td>\n",
       "      <td>5.032297</td>\n",
       "      <td>119814.985923</td>\n",
       "      <td>1.539362</td>\n",
       "      <td>0.694792</td>\n",
       "      <td>0.529673</td>\n",
       "      <td>99440.572281</td>\n",
       "      <td>0.166734</td>\n",
       "    </tr>\n",
       "    <tr>\n",
       "      <th>Ярославль</th>\n",
       "      <td>649.668329</td>\n",
       "      <td>38.511767</td>\n",
       "      <td>5.004587</td>\n",
       "      <td>119927.765597</td>\n",
       "      <td>1.530913</td>\n",
       "      <td>0.706621</td>\n",
       "      <td>0.516753</td>\n",
       "      <td>99899.180814</td>\n",
       "      <td>0.161548</td>\n",
       "    </tr>\n",
       "  </tbody>\n",
       "</table>\n",
       "</div>"
      ],
      "text/plain": [
       "                     score        age   objects        balance  products  \\\n",
       "city                                                                       \n",
       "Ростов Великий  651.453567  39.771622  5.009964  119730.116134  1.519729   \n",
       "Рыбинск         651.333872  38.890997  5.032297  119814.985923  1.539362   \n",
       "Ярославль       649.668329  38.511767  5.004587  119927.765597  1.530913   \n",
       "\n",
       "                creditcard   loyalty  estimated_salary     churn  \n",
       "city                                                              \n",
       "Ростов Великий    0.713830  0.497409     101113.435102  0.324432  \n",
       "Рыбинск           0.694792  0.529673      99440.572281  0.166734  \n",
       "Ярославль         0.706621  0.516753      99899.180814  0.161548  "
      ]
     },
     "execution_count": 14,
     "metadata": {},
     "output_type": "execute_result"
    }
   ],
   "source": [
    "df.drop(columns=['userid']).groupby('city').mean()"
   ]
  },
  {
   "cell_type": "markdown",
   "id": "93c6ae53",
   "metadata": {},
   "source": [
    "В средних значениях разных городов не наблюдается значимых различий, но в городе Ростов Великий коэффициент оттока почти в 2 раза выше"
   ]
  },
  {
   "cell_type": "markdown",
   "id": "04dbdaf1",
   "metadata": {},
   "source": [
    "## Формулировка и проверка статистических гипотез"
   ]
  },
  {
   "cell_type": "markdown",
   "id": "6fe56440",
   "metadata": {},
   "source": [
    "### Проверка гипотезы различия дохода между теми клиентами, которые ушли и теми, которые остались"
   ]
  },
  {
   "cell_type": "markdown",
   "id": "d6fa5a2d",
   "metadata": {},
   "source": [
    "Так как в колонке с данными о заработной плате клиентов не обнаружено выбросов, для проверки гипотезы будет использован параметрический метод `st.ttest_ind()`"
   ]
  },
  {
   "cell_type": "code",
   "execution_count": 15,
   "id": "a6353985",
   "metadata": {},
   "outputs": [
    {
     "name": "stdout",
     "output_type": "stream",
     "text": [
      "3295401414.9183965\n"
     ]
    },
    {
     "data": {
      "text/plain": [
       "3353848166.8070116"
      ]
     },
     "execution_count": 15,
     "metadata": {},
     "output_type": "execute_result"
    }
   ],
   "source": [
    "sample_1 = df.query('churn == 0')\n",
    "sample_2 = df.query('churn == 1')\n",
    "\n",
    "# Сравним дисперсии двух выборок\n",
    "print(np.var(sample_1['estimated_salary'], ddof=1))\n",
    "np.var(sample_2['estimated_salary'], ddof=1)"
   ]
  },
  {
   "cell_type": "markdown",
   "id": "33b637cc",
   "metadata": {},
   "source": [
    "Разница меджу дисперсиями двух выброрк незначительна, Параметр equal_var будет выставлен по умолчанию\n",
    "\n",
    "Проверим двустороннюю (ненаправленную) гипотезу. Если уровень значимости (p-value) окажется меньше критического уровеня в 0.05, гипотеза о равенстве двух выборок ($H_0$) будет отвегрнута\n",
    "\n",
    "$H_0$ - Отсутствует статистически значимое различие в средних значениях двух выборок\n",
    "\n",
    "$H_1$ - Различие в средних значениях между выбороками статистически значимо"
   ]
  },
  {
   "cell_type": "code",
   "execution_count": 16,
   "id": "36079ef1",
   "metadata": {},
   "outputs": [
    {
     "name": "stdout",
     "output_type": "stream",
     "text": [
      "p-значение: 0.22644042802223346\n",
      "Не получилось отвергнуть нулевую гипотезу\n"
     ]
    }
   ],
   "source": [
    "alpha = 0.05\n",
    "results = st.ttest_ind(sample_1['estimated_salary'],\n",
    "sample_2['estimated_salary'])\n",
    "\n",
    "print('p-значение:', results.pvalue)\n",
    "\n",
    "if results.pvalue < alpha:\n",
    "    print('Отвергаем нулевую гипотезу')\n",
    "else:\n",
    "    print('Не получилось отвергнуть нулевую гипотезу') "
   ]
  },
  {
   "cell_type": "markdown",
   "id": "07898b59",
   "metadata": {},
   "source": [
    "Различие в доходах между ушедшими и оставшимися клиентами не является статистически значимым"
   ]
  },
  {
   "cell_type": "markdown",
   "id": "c0792ad5",
   "metadata": {},
   "source": [
    "### Проверка гипотезы о разнице в возрасте между теми клиентами, которые ушли и теми, которые остались"
   ]
  },
  {
   "cell_type": "code",
   "execution_count": 17,
   "id": "80be356b",
   "metadata": {},
   "outputs": [
    {
     "name": "stdout",
     "output_type": "stream",
     "text": [
      "102.52297408041709\n"
     ]
    },
    {
     "data": {
      "text/plain": [
       "95.28808400195597"
      ]
     },
     "execution_count": 17,
     "metadata": {},
     "output_type": "execute_result"
    }
   ],
   "source": [
    "# Сравним дисперсии двух выборок\n",
    "print(np.var(sample_1['age'], ddof=1))\n",
    "np.var(sample_2['age'], ddof=1)"
   ]
  },
  {
   "cell_type": "markdown",
   "id": "7d443ec3",
   "metadata": {},
   "source": [
    "Разница меджу дисперсиями двух выброрк незначительна, Параметр equal_var будет выставлен по умолчанию\n",
    "\n",
    "Проверим двустороннюю (ненаправленную) гипотезу. Если уровень значимости (p-value) окажется меньше критического уровеня в 0.05, гипотеза о равенстве двух выборок ($H_0$) будет отвегрнута\n",
    "\n",
    "$H_0$ - Отсутствует статистически значимое различие в средних значениях двух выборок\n",
    "\n",
    "$H_1$ - Различие в средних значениях между выбороками статистически значимо"
   ]
  },
  {
   "cell_type": "code",
   "execution_count": 18,
   "id": "3ef7cecf",
   "metadata": {},
   "outputs": [
    {
     "name": "stdout",
     "output_type": "stream",
     "text": [
      "p-значение: 1.2399313093427738e-186\n",
      "Отвергаем нулевую гипотезу\n"
     ]
    }
   ],
   "source": [
    "results = st.ttest_ind(sample_1['age'],\n",
    "sample_2['age'])\n",
    "\n",
    "print('p-значение:', results.pvalue)\n",
    "\n",
    "if results.pvalue < alpha:\n",
    "    print('Отвергаем нулевую гипотезу')\n",
    "else:\n",
    "    print('Не получилось отвергнуть нулевую гипотезу') "
   ]
  },
  {
   "cell_type": "markdown",
   "id": "359092d2",
   "metadata": {},
   "source": [
    "Нулевая гипотеза отвергнута, разнице в возрасте между ушедшими и оставшимися клиентами статистически значима"
   ]
  },
  {
   "cell_type": "markdown",
   "id": "ac7f2791",
   "metadata": {},
   "source": [
    "## Общие выводы"
   ]
  },
  {
   "cell_type": "markdown",
   "id": "bbf885b6",
   "metadata": {},
   "source": [
    "**Выводы:**\n",
    "- Ушедшие клиенты, в большинстве своем, пользовались всего 1 продуктом\n",
    "- Наиболее склонны к оттоку клиенты старшего возраста и неактивные клиенты\n",
    "- Заметно больший отток, по сравнению с другими городами, наблюдается в городе Ростов Великий\n",
    "\n",
    "**Рекомендации:**\n",
    "\n",
    "Для увеличения коэффициента удержания клиентам старшего возраста можно предложить следующие продукты:\n",
    "- Дебетовые карты системы «Мир» с кэшбэком на покупки в аптеках (получать пенсии и соц. выплаты в России можно только на карты системы «Мир»)\n",
    "- Специальные банковские вклады для пенсионеров с более высокими, по сравнению с обычными, ставками, либо с другими полезными преференциями (более низкую минимальную сумму вклада или досрочное закрытие на льготных условиях)\n",
    "\n",
    "Также можно попытаться сократить число неактивных клиентов предлагая им кредитные карты\n",
    "\n",
    "В городе Ростов Великий следует провести проверку качества обслуживания клиентов банка"
   ]
  },
  {
   "cell_type": "markdown",
   "id": "3c50152d",
   "metadata": {},
   "source": [
    "## Дополнительные материалы"
   ]
  },
  {
   "cell_type": "markdown",
   "id": "b88df7bc",
   "metadata": {},
   "source": [
    "[Ссылка на дашборд](https://public.tableau.com/views/_16495764149410/Dashboard1?:language=en-US&:display_count=n&:origin=viz_share_link)\n",
    "\n",
    "[Ссылка на презентацию](https://drive.google.com/file/d/13mOKGa99Ydgg_7ugcrRUQEm5IKkFLoB_/view?usp=sharing)"
   ]
  }
 ],
 "metadata": {
  "ExecuteTimeLog": [
   {
    "duration": 107,
    "start_time": "2022-04-09T15:09:02.836Z"
   },
   {
    "duration": 90,
    "start_time": "2022-04-09T15:12:05.220Z"
   },
   {
    "duration": 85,
    "start_time": "2022-04-09T15:13:10.431Z"
   },
   {
    "duration": 81,
    "start_time": "2022-04-09T15:13:37.573Z"
   },
   {
    "duration": 1464,
    "start_time": "2022-04-09T16:14:58.575Z"
   },
   {
    "duration": 170,
    "start_time": "2022-04-09T16:15:02.807Z"
   },
   {
    "duration": 52,
    "start_time": "2022-04-09T16:18:19.894Z"
   },
   {
    "duration": 3,
    "start_time": "2022-04-09T16:19:09.790Z"
   },
   {
    "duration": 45,
    "start_time": "2022-04-09T16:19:09.795Z"
   },
   {
    "duration": 10,
    "start_time": "2022-04-09T16:19:09.842Z"
   },
   {
    "duration": 4,
    "start_time": "2022-04-09T16:19:09.854Z"
   },
   {
    "duration": 5,
    "start_time": "2022-04-09T16:19:09.860Z"
   },
   {
    "duration": 45,
    "start_time": "2022-04-09T16:19:09.866Z"
   },
   {
    "duration": 47,
    "start_time": "2022-04-09T16:19:09.913Z"
   },
   {
    "duration": 254,
    "start_time": "2022-04-09T16:19:09.962Z"
   },
   {
    "duration": 6,
    "start_time": "2022-04-09T16:19:10.219Z"
   },
   {
    "duration": 35,
    "start_time": "2022-04-09T16:19:10.227Z"
   },
   {
    "duration": 39,
    "start_time": "2022-04-09T16:19:10.263Z"
   },
   {
    "duration": 2710,
    "start_time": "2022-04-09T16:19:10.304Z"
   },
   {
    "duration": 937,
    "start_time": "2022-04-09T16:19:13.017Z"
   },
   {
    "duration": 11,
    "start_time": "2022-04-09T16:19:13.956Z"
   },
   {
    "duration": 5,
    "start_time": "2022-04-09T16:19:13.969Z"
   },
   {
    "duration": 6,
    "start_time": "2022-04-09T16:19:13.976Z"
   },
   {
    "duration": 5,
    "start_time": "2022-04-09T16:19:13.984Z"
   },
   {
    "duration": 24,
    "start_time": "2022-04-09T16:19:13.991Z"
   },
   {
    "duration": 1825,
    "start_time": "2022-04-11T07:19:14.728Z"
   },
   {
    "duration": 186,
    "start_time": "2022-04-11T07:19:16.557Z"
   },
   {
    "duration": 16,
    "start_time": "2022-04-11T07:19:16.745Z"
   },
   {
    "duration": 5,
    "start_time": "2022-04-11T07:19:16.763Z"
   },
   {
    "duration": 17,
    "start_time": "2022-04-11T07:19:16.771Z"
   },
   {
    "duration": 24,
    "start_time": "2022-04-11T07:19:16.790Z"
   },
   {
    "duration": 122,
    "start_time": "2022-04-11T07:19:16.816Z"
   },
   {
    "duration": 398,
    "start_time": "2022-04-11T07:19:16.940Z"
   },
   {
    "duration": 7,
    "start_time": "2022-04-11T07:19:17.340Z"
   },
   {
    "duration": 67,
    "start_time": "2022-04-11T07:19:17.349Z"
   },
   {
    "duration": 21,
    "start_time": "2022-04-11T07:19:17.418Z"
   },
   {
    "duration": 5231,
    "start_time": "2022-04-11T07:19:17.441Z"
   },
   {
    "duration": 1287,
    "start_time": "2022-04-11T07:19:22.674Z"
   },
   {
    "duration": 15,
    "start_time": "2022-04-11T07:19:23.964Z"
   },
   {
    "duration": 8,
    "start_time": "2022-04-11T07:19:23.984Z"
   },
   {
    "duration": 10,
    "start_time": "2022-04-11T07:19:23.994Z"
   },
   {
    "duration": 9,
    "start_time": "2022-04-11T07:19:24.005Z"
   },
   {
    "duration": 30,
    "start_time": "2022-04-11T07:19:24.016Z"
   },
   {
    "duration": 2133,
    "start_time": "2022-04-11T07:32:30.512Z"
   },
   {
    "duration": 1247,
    "start_time": "2022-04-11T07:34:34.745Z"
   },
   {
    "duration": 18,
    "start_time": "2022-04-11T08:15:26.130Z"
   },
   {
    "duration": 496,
    "start_time": "2022-04-11T08:16:27.215Z"
   },
   {
    "duration": 481,
    "start_time": "2022-04-11T08:17:16.608Z"
   },
   {
    "duration": 546,
    "start_time": "2022-04-11T08:33:41.044Z"
   },
   {
    "duration": 1140,
    "start_time": "2022-04-11T08:39:49.005Z"
   },
   {
    "duration": 698,
    "start_time": "2022-04-11T08:40:14.426Z"
   },
   {
    "duration": 815,
    "start_time": "2022-04-11T08:40:45.970Z"
   },
   {
    "duration": 670,
    "start_time": "2022-04-11T08:41:13.187Z"
   },
   {
    "duration": 683,
    "start_time": "2022-04-11T08:41:18.835Z"
   },
   {
    "duration": 708,
    "start_time": "2022-04-11T08:41:25.748Z"
   },
   {
    "duration": 839,
    "start_time": "2022-04-11T08:41:37.307Z"
   },
   {
    "duration": 744,
    "start_time": "2022-04-11T08:42:31.902Z"
   },
   {
    "duration": 759,
    "start_time": "2022-04-11T08:45:15.226Z"
   },
   {
    "duration": 675,
    "start_time": "2022-04-11T08:45:22.449Z"
   },
   {
    "duration": 469,
    "start_time": "2022-04-11T08:47:24.813Z"
   },
   {
    "duration": 504,
    "start_time": "2022-04-11T08:47:53.583Z"
   },
   {
    "duration": 478,
    "start_time": "2022-04-11T08:48:03.710Z"
   },
   {
    "duration": 566,
    "start_time": "2022-04-11T08:49:07.263Z"
   },
   {
    "duration": 456,
    "start_time": "2022-04-11T08:49:15.710Z"
   },
   {
    "duration": 154,
    "start_time": "2022-04-11T08:55:22.512Z"
   },
   {
    "duration": 269,
    "start_time": "2022-04-11T08:55:37.396Z"
   },
   {
    "duration": 252,
    "start_time": "2022-04-11T08:56:01.665Z"
   },
   {
    "duration": 247,
    "start_time": "2022-04-11T08:56:16.803Z"
   },
   {
    "duration": 171,
    "start_time": "2022-04-11T08:57:07.995Z"
   },
   {
    "duration": 246,
    "start_time": "2022-04-11T08:57:21.204Z"
   },
   {
    "duration": 196,
    "start_time": "2022-04-11T08:58:22.213Z"
   },
   {
    "duration": 261,
    "start_time": "2022-04-11T08:58:33.285Z"
   },
   {
    "duration": 447,
    "start_time": "2022-04-11T08:59:57.529Z"
   },
   {
    "duration": 548,
    "start_time": "2022-04-11T09:01:07.528Z"
   },
   {
    "duration": 454,
    "start_time": "2022-04-11T09:01:44.025Z"
   },
   {
    "duration": 464,
    "start_time": "2022-04-11T09:03:31.444Z"
   },
   {
    "duration": 141,
    "start_time": "2022-04-11T09:33:14.153Z"
   },
   {
    "duration": 272,
    "start_time": "2022-04-11T09:33:41.874Z"
   },
   {
    "duration": 8,
    "start_time": "2022-04-11T09:48:27.569Z"
   },
   {
    "duration": 10,
    "start_time": "2022-04-11T09:48:39.111Z"
   },
   {
    "duration": 13,
    "start_time": "2022-04-11T09:49:10.374Z"
   },
   {
    "duration": 11,
    "start_time": "2022-04-11T09:49:12.503Z"
   },
   {
    "duration": 165,
    "start_time": "2022-04-11T09:50:24.937Z"
   },
   {
    "duration": 113,
    "start_time": "2022-04-11T09:50:48.970Z"
   },
   {
    "duration": 11,
    "start_time": "2022-04-11T09:52:47.137Z"
   },
   {
    "duration": 19,
    "start_time": "2022-04-11T09:52:49.213Z"
   },
   {
    "duration": 10,
    "start_time": "2022-04-11T09:53:06.509Z"
   },
   {
    "duration": 8,
    "start_time": "2022-04-11T09:53:09.276Z"
   },
   {
    "duration": 12,
    "start_time": "2022-04-11T09:54:01.638Z"
   },
   {
    "duration": 11,
    "start_time": "2022-04-11T09:54:03.206Z"
   },
   {
    "duration": 114,
    "start_time": "2022-04-11T09:54:21.610Z"
   },
   {
    "duration": 167,
    "start_time": "2022-04-11T09:57:33.595Z"
   },
   {
    "duration": 273,
    "start_time": "2022-04-11T10:01:19.601Z"
   },
   {
    "duration": 191,
    "start_time": "2022-04-11T10:05:04.856Z"
   },
   {
    "duration": 175,
    "start_time": "2022-04-11T10:05:18.942Z"
   },
   {
    "duration": 172,
    "start_time": "2022-04-11T10:05:54.527Z"
   },
   {
    "duration": 168,
    "start_time": "2022-04-11T10:06:24.208Z"
   },
   {
    "duration": 174,
    "start_time": "2022-04-11T10:06:32.256Z"
   },
   {
    "duration": 168,
    "start_time": "2022-04-11T10:08:40.446Z"
   },
   {
    "duration": 179,
    "start_time": "2022-04-11T10:12:58.915Z"
   },
   {
    "duration": 23,
    "start_time": "2022-04-11T10:50:21.735Z"
   },
   {
    "duration": 154,
    "start_time": "2022-04-11T10:53:27.984Z"
   },
   {
    "duration": 181,
    "start_time": "2022-04-11T10:56:09.188Z"
   },
   {
    "duration": 85,
    "start_time": "2022-04-11T10:56:35.435Z"
   },
   {
    "duration": 179,
    "start_time": "2022-04-11T10:56:47.357Z"
   },
   {
    "duration": 174,
    "start_time": "2022-04-11T10:56:58.139Z"
   },
   {
    "duration": 264,
    "start_time": "2022-04-11T10:58:49.694Z"
   },
   {
    "duration": 285,
    "start_time": "2022-04-11T11:10:41.207Z"
   },
   {
    "duration": 184,
    "start_time": "2022-04-11T11:19:29.283Z"
   },
   {
    "duration": 485,
    "start_time": "2022-04-11T11:29:09.419Z"
   },
   {
    "duration": 565,
    "start_time": "2022-04-11T11:29:16.165Z"
   },
   {
    "duration": 18,
    "start_time": "2022-04-11T11:29:39.924Z"
   },
   {
    "duration": 573,
    "start_time": "2022-04-11T11:29:55.958Z"
   },
   {
    "duration": 441,
    "start_time": "2022-04-11T11:32:07.824Z"
   },
   {
    "duration": 576,
    "start_time": "2022-04-11T11:32:26.745Z"
   },
   {
    "duration": 420,
    "start_time": "2022-04-11T11:33:25.867Z"
   },
   {
    "duration": 12,
    "start_time": "2022-04-11T11:35:02.109Z"
   },
   {
    "duration": 15,
    "start_time": "2022-04-11T11:35:35.197Z"
   },
   {
    "duration": 15,
    "start_time": "2022-04-11T11:36:04.893Z"
   },
   {
    "duration": 23,
    "start_time": "2022-04-11T11:36:19.869Z"
   },
   {
    "duration": 192,
    "start_time": "2022-04-11T11:37:23.439Z"
   },
   {
    "duration": 187,
    "start_time": "2022-04-11T11:37:54.816Z"
   },
   {
    "duration": 376,
    "start_time": "2022-04-11T11:41:26.556Z"
   },
   {
    "duration": 224,
    "start_time": "2022-04-11T11:44:31.434Z"
   },
   {
    "duration": 392,
    "start_time": "2022-04-11T11:44:50.723Z"
   },
   {
    "duration": 400,
    "start_time": "2022-04-11T11:46:07.292Z"
   },
   {
    "duration": 5,
    "start_time": "2022-04-11T12:04:59.817Z"
   },
   {
    "duration": 81,
    "start_time": "2022-04-11T12:04:59.825Z"
   },
   {
    "duration": 16,
    "start_time": "2022-04-11T12:04:59.908Z"
   },
   {
    "duration": 8,
    "start_time": "2022-04-11T12:04:59.927Z"
   },
   {
    "duration": 26,
    "start_time": "2022-04-11T12:04:59.939Z"
   },
   {
    "duration": 36,
    "start_time": "2022-04-11T12:04:59.984Z"
   },
   {
    "duration": 102,
    "start_time": "2022-04-11T12:05:00.023Z"
   },
   {
    "duration": 399,
    "start_time": "2022-04-11T12:05:00.128Z"
   },
   {
    "duration": 8,
    "start_time": "2022-04-11T12:05:00.529Z"
   },
   {
    "duration": 77,
    "start_time": "2022-04-11T12:05:00.539Z"
   },
   {
    "duration": 21,
    "start_time": "2022-04-11T12:05:00.618Z"
   },
   {
    "duration": 4852,
    "start_time": "2022-04-11T12:05:00.642Z"
   },
   {
    "duration": 1199,
    "start_time": "2022-04-11T12:05:05.498Z"
   },
   {
    "duration": 24,
    "start_time": "2022-04-11T12:05:06.699Z"
   },
   {
    "duration": 17,
    "start_time": "2022-04-11T12:05:06.725Z"
   },
   {
    "duration": 43,
    "start_time": "2022-04-11T12:05:06.744Z"
   },
   {
    "duration": 11,
    "start_time": "2022-04-11T12:05:06.789Z"
   },
   {
    "duration": 8,
    "start_time": "2022-04-11T12:05:06.802Z"
   },
   {
    "duration": 1151,
    "start_time": "2022-04-12T09:53:09.767Z"
   },
   {
    "duration": 58,
    "start_time": "2022-04-12T09:53:10.921Z"
   },
   {
    "duration": 16,
    "start_time": "2022-04-12T09:53:12.188Z"
   },
   {
    "duration": 5,
    "start_time": "2022-04-12T09:53:13.079Z"
   },
   {
    "duration": 4,
    "start_time": "2022-04-12T09:53:13.388Z"
   },
   {
    "duration": 14,
    "start_time": "2022-04-12T09:53:14.330Z"
   },
   {
    "duration": 44,
    "start_time": "2022-04-12T09:53:14.619Z"
   },
   {
    "duration": 221,
    "start_time": "2022-04-12T09:53:15.177Z"
   },
   {
    "duration": 5,
    "start_time": "2022-04-12T09:53:15.978Z"
   },
   {
    "duration": 45,
    "start_time": "2022-04-12T09:53:17.369Z"
   },
   {
    "duration": 13,
    "start_time": "2022-04-12T09:53:18.057Z"
   },
   {
    "duration": 3230,
    "start_time": "2022-04-12T09:53:18.758Z"
   },
   {
    "duration": 1155,
    "start_time": "2022-04-12T09:53:21.990Z"
   },
   {
    "duration": 17,
    "start_time": "2022-04-12T09:53:23.146Z"
   },
   {
    "duration": 11,
    "start_time": "2022-04-12T09:53:23.165Z"
   },
   {
    "duration": 5,
    "start_time": "2022-04-12T09:53:23.178Z"
   },
   {
    "duration": 6,
    "start_time": "2022-04-12T09:53:23.338Z"
   },
   {
    "duration": 5,
    "start_time": "2022-04-12T09:53:23.758Z"
   }
  ],
  "kernelspec": {
   "display_name": "Python 3",
   "language": "python",
   "name": "python3"
  },
  "language_info": {
   "codemirror_mode": {
    "name": "ipython",
    "version": 3
   },
   "file_extension": ".py",
   "mimetype": "text/x-python",
   "name": "python",
   "nbconvert_exporter": "python",
   "pygments_lexer": "ipython3",
   "version": "3.8.8"
  },
  "toc": {
   "base_numbering": 1,
   "nav_menu": {},
   "number_sections": true,
   "sideBar": true,
   "skip_h1_title": true,
   "title_cell": "Table of Contents",
   "title_sidebar": "Contents",
   "toc_cell": false,
   "toc_position": {},
   "toc_section_display": true,
   "toc_window_display": true
  }
 },
 "nbformat": 4,
 "nbformat_minor": 5
}
